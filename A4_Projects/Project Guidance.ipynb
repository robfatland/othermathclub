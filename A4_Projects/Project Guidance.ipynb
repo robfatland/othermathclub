{
 "cells": [
  {
   "cell_type": "markdown",
   "id": "22f5b41b-401d-4337-b096-894ebad6a93e",
   "metadata": {},
   "source": [
    "# Introduction to Code Projects\n",
    "\n",
    "\n",
    "There are three dangers of project-building we plan to avoid.\n",
    "\n",
    "\n",
    "- Chosing a project that is too ambitious (difficult)\n",
    "- Treating the project like a homework assignment\n",
    "- Forgetting to take care of *communication*\n",
    "\n",
    "\n",
    "We avoid these dangers by following the **project recipe**. \n",
    "\n",
    "\n",
    "\n",
    "### Project recipe in several steps\n",
    "\n",
    "\n",
    "#### Part 1 Get to know your coach\n",
    "\n",
    "\n",
    "We are going for first name basis this year. \n",
    "Coaches will wear name tags, students will too. \n",
    "As a student you can start the project conversation with your coach\n",
    "if you like. If you'd prefer not to, no worries: A coach will introduce \n",
    "themself and say \"Let's talk about a first project!\" and off you go.\n",
    "\n",
    "\n",
    "#### Part 2 Build up a basic Python vocabulary\n",
    "\n",
    "\n",
    "Here is the vocabulary you'll need: \n",
    "\n",
    "\n",
    "- the variable model: Every variable has three parts\n",
    "    - variable name: begins with underscore or letter\n",
    "    - variable type: `int`, `float`, `str`ing, `bool`, `list`, `tuple`, `range`, `dict`\n",
    "    - variable value: `3` as an integer, `3` as a string, and so on\n",
    "- flow model (code execution: top down with loops and functions)\n",
    "- `while` loop\n",
    "- `for` loop\n",
    "- `if / elif / else` conditionals\n",
    "- built-in functions\n",
    "    - `input()`\n",
    "    - `print()`\n",
    "    - `len()`\n",
    "- code nesting `for i in range(len(b))`\n",
    "- nesting loops\n",
    "- random number generators\n",
    "    - `import randint`, `randint(1,2)`\n",
    "- functions `def a(b):`, calling functions `a(3)`\n",
    "- seven operators `+ - * / % ** //`\n",
    "- drawing using turtles\n",
    "\n",
    "\n"
   ]
  },
  {
   "cell_type": "code",
   "execution_count": 2,
   "id": "b8818d45-7041-4b1b-b1d4-b8eb5fb34c91",
   "metadata": {},
   "outputs": [
    {
     "name": "stdout",
     "output_type": "stream",
     "text": [
      "6\n",
      "14\n"
     ]
    }
   ],
   "source": [
    "a = [0, 2, 4, 5, 3, 1]\n",
    "b = 'alligator pear'\n",
    "print(len(a))\n",
    "print(len(b))"
   ]
  },
  {
   "cell_type": "markdown",
   "id": "aaf584f7-bcd0-40c1-9309-b1939a54c74c",
   "metadata": {},
   "source": [
    "#### Part 3 Agree with your coach on an easy project\n",
    "\n",
    "\n",
    "- The baseline project is called Choser-Guesser\n",
    "- Another (slight more advanced) project is called Prime Generator\n",
    "    - One version is called Case By Case\n",
    "    - Another version is called Sieve of Eratosthenes\n",
    "- An even more advanced project is Bertrand's Postulate Tester\n",
    "\n",
    "\n",
    "#### Part 4 Write and test the code\n",
    "\n",
    "\n",
    "#### Part 5 Write and practice your presentation\n",
    "\n",
    "\n",
    "#### Part 6 Present your project\n",
    "\n",
    "\n",
    "#### Part 7 Talk to your coach about how it went"
   ]
  },
  {
   "cell_type": "code",
   "execution_count": 1,
   "id": "bf3371d0-6e11-4979-95d4-2ae8f600bc9d",
   "metadata": {},
   "outputs": [
    {
     "data": {
      "text/plain": [
       "2464"
      ]
     },
     "execution_count": 1,
     "metadata": {},
     "output_type": "execute_result"
    }
   ],
   "source": [
    "16*154"
   ]
  }
 ],
 "metadata": {
  "kernelspec": {
   "display_name": "Python 3 (ipykernel)",
   "language": "python",
   "name": "python3"
  },
  "language_info": {
   "codemirror_mode": {
    "name": "ipython",
    "version": 3
   },
   "file_extension": ".py",
   "mimetype": "text/x-python",
   "name": "python",
   "nbconvert_exporter": "python",
   "pygments_lexer": "ipython3",
   "version": "3.13.4"
  }
 },
 "nbformat": 4,
 "nbformat_minor": 5
}
