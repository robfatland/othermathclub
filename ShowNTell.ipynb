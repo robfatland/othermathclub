{
 "cells": [
  {
   "cell_type": "markdown",
   "id": "8e6b8e2b-9c76-4a18-887a-f73b9c4ed7c0",
   "metadata": {},
   "source": [
    "# Show N Tell"
   ]
  },
  {
   "cell_type": "markdown",
   "id": "e9ca68a3-dd61-4012-be5e-43b8e0856715",
   "metadata": {},
   "source": [
    "Q: What workable speed is faster than the speed of light? \n",
    "\n",
    "\n",
    "A: The speed of shadow. "
   ]
  },
  {
   "cell_type": "markdown",
   "id": "83e2c014-22b7-4ae4-8668-ecd3f61fa12e",
   "metadata": {},
   "source": [
    "> It is our responsibility as scientists, knowing the great progress which comes\n",
    "> from **a satisfactory philosophy of ignorance**, the great progress which is\n",
    "> the fruit of freedom of thought, to proclaim the value of this freedom; to teach\n",
    "> how doubt is not to be feared but welcomed and discussed; and to demand this\n",
    "> freedom as our duty to all coming generations. <BR>\n",
    "> (Feynman, in 'What Do You Care What Other People Think?')"
   ]
  },
  {
   "cell_type": "markdown",
   "id": "123b72e2-61f2-4e2a-9ba8-8f7eaee92c8a",
   "metadata": {},
   "source": [
    "A thought to rival the Fermi paradox...\n",
    "\n",
    "\n",
    "$$\\textrm{Where is everybody?}$$\n",
    "\n",
    "\n",
    "Where is the unshakeable majority of people who understand that the \n",
    "human-built world of technology depends upon the systematic reliability \n",
    "of science? Why do we even *know* that there are flat-earthers, anti-vaxxers,\n",
    "and creationists who regularly drive cars, watch television programs and\n",
    "allow blood draws?\n",
    "\n",
    "\n",
    "The resolution of this mystery I think is articulated in the following interview."
   ]
  },
  {
   "cell_type": "code",
   "execution_count": null,
   "id": "1b99fe62-c94c-4359-aa14-1131c6192c5f",
   "metadata": {},
   "outputs": [],
   "source": [
    "from IPython.display import Image, YouTubeVideo"
   ]
  },
  {
   "cell_type": "code",
   "execution_count": null,
   "id": "a19f47c0-b23f-41d3-b412-cfded285e9b2",
   "metadata": {},
   "outputs": [],
   "source": [
    "def xor(a, b): return 1 if (a and not b) or (b and not a) else 0\n",
    "    \n",
    "def MyPrint(u, s=''):\n",
    "    for i in range(len(u)): s += '  ' if u[i] == 0 else 'X '\n",
    "    print(s); return\n",
    "        \n",
    "u = [0]*33 + [1] + [0]*34\n",
    "MyPrint(u, \"-  \")\n",
    "for g in 'abcdefghijklmnopqrstuvwxyz0123456':\n",
    "    v = [xor(u[i-1], u[i+1]) for i in range(0, len(u)-1)]; v.append(u[-1])\n",
    "    u = v.copy()\n",
    "    MyPrint(u, g + \"  \")"
   ]
  },
  {
   "cell_type": "code",
   "execution_count": null,
   "id": "52c3a1fd-72ff-4a4c-a9c0-bc7bf68a6ce0",
   "metadata": {},
   "outputs": [],
   "source": [
    "YouTubeVideo('f9A_qFM9IAk')"
   ]
  },
  {
   "cell_type": "code",
   "execution_count": 2,
   "id": "3790222e-3ff0-4229-be10-eabc587b15f7",
   "metadata": {},
   "outputs": [
    {
     "data": {
      "text/plain": [
       "[<matplotlib.lines.Line2D at 0x7f5c7970f5f0>]"
      ]
     },
     "execution_count": 2,
     "metadata": {},
     "output_type": "execute_result"
    },
    {
     "data": {
      "image/png": "[encoded data removed]",
      "text/plain": [
       "<Figure size 640x480 with 1 Axes>"
      ]
     },
     "metadata": {},
     "output_type": "display_data"
    }
   ],
   "source": [
    "from showntell import DrawPerson\n",
    "ax = DrawPerson(7, 30, 60)\n",
    "ax = DrawPerson(50, 30, 40)\n",
    "ax.plot([0,72,74,90], [27, 27, 32, 32])"
   ]
  },
  {
   "cell_type": "code",
   "execution_count": null,
   "id": "7d77cf78-0e43-43dd-a7c2-49a77da6f940",
   "metadata": {},
   "outputs": [],
   "source": [
    "fig"
   ]
  },
  {
   "cell_type": "markdown",
   "id": "0d54951b-326d-42ee-a9a6-e61e95da0a35",
   "metadata": {},
   "source": [
    "# Concept Space\n",
    "\n",
    "\n",
    "Suppose some middle schoolers showed up at your door demanding to be taught Python\n",
    "so they could apply for jobs at facebook: What would you do? \n",
    "\n",
    "\n",
    "One option is to start by lying to them as follows: \"Absolutely! Let's learn Python; \n",
    "for facebook developers (the ones who are paid a lot) often run into the following\n",
    "problem: A duck finds itself at the center of a circular pond. It is only capable of\n",
    "taking flight when it is standing on solid ground; but there is a wolf circling the \n",
    "permiter of the pond and it seems to be salivating. The wolf runs at a speed of \n",
    "4 meters per second and the duck swims at a rate of 1 meter per second. Is there a\n",
    "strategy by means of which the duck can safely reach the edge of the pond and \n",
    "thereby fly away? Let us reason together about this problem to increase your \n",
    "readiness to work at facebook.\"\n",
    "\n",
    "\n",
    "\n",
    "## Framework / Themes\n",
    "\n",
    "\n",
    "- The Unreliable Narrator (versus the Trust Contract in K12)\n",
    "- Climb It metaphor: Perception of the unknown as impossible\n",
    "- Curse of knowledge\n",
    "- Spirals: Ulam, Fibonacci, bugs, *Conus textile*\n",
    "- Incongruous thoughts: The Hilbert hotel, $\\pi$ knows where my keys are, and more \n",
    "- Deconstructing the familiar: Rainbows, interstellar space, ribosomes (kinesthetics)\n",
    "- Cellular automata (and neurotoxins)\n",
    "- Logic\n",
    "- Metrics\n",
    "- Paradoxical ideas... like for example the speed of dark\n",
    "\n",
    "\n",
    "## Problems\n",
    "\n",
    "\n",
    "- Chocolate bar\n",
    "- Hiker\n",
    "- Chaos game\n",
    "- Four Bugs\n",
    "- The Duck and the Wolf\n",
    "- Poker Chips\n",
    "- Gold Key Escape\n",
    "- XOR Universe\n",
    "- Flipping Locks\n",
    "- 4 Prisoners 4 Hats\n",
    "- $2^n-1$ L-tiling proof\n",
    "- Ring of Numbers\n",
    "- Calculate $\\pi$ with darts\n",
    "- Graph theory: Maps of not-graph-y things (gallon puzzles, hexahexaflexagons)\n",
    "- Ms Halfway\n",
    "\n",
    "\n",
    "## Coding\n",
    "\n",
    "\n",
    "- What is the \"launch pad\" space of Python coding?\n",
    "- What aspects of coding are big enthusiasm generators?\n"
   ]
  },
  {
   "cell_type": "code",
   "execution_count": null,
   "id": "0d53e7e1-3e58-4404-b84b-11a8fade4d59",
   "metadata": {},
   "outputs": [],
   "source": []
  }
 ],
 "metadata": {
  "kernelspec": {
   "display_name": "Python 3 (ipykernel)",
   "language": "python",
   "name": "python3"
  },
  "language_info": {
   "codemirror_mode": {
    "name": "ipython",
    "version": 3
   },
   "file_extension": ".py",
   "mimetype": "text/x-python",
   "name": "python",
   "nbconvert_exporter": "python",
   "pygments_lexer": "ipython3",
   "version": "3.12.2"
  }
 },
 "nbformat": 4,
 "nbformat_minor": 5
}
