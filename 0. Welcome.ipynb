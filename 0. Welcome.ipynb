{
 "cells": [
  {
   "cell_type": "markdown",
   "metadata": {},
   "source": [
    "Click on the next cell, hold down Shift, press Enter..."
   ]
  },
  {
   "cell_type": "code",
   "execution_count": 1,
   "metadata": {
    "collapsed": false
   },
   "outputs": [
    {
     "data": {
      "text/html": [
       "<img src=\"images/Alice.jpg\" width=400 height=100/>"
      ],
      "text/plain": [
       "<IPython.core.display.HTML object>"
      ]
     },
     "execution_count": 1,
     "metadata": {},
     "output_type": "execute_result"
    }
   ],
   "source": [
    "# Welcome! We begin with some \"web\" code that shows you our famous picture of Alice...\n",
    "from IPython.core.display import HTML\n",
    "HTML('<img src=\"images/Alice.jpg\" width=400 height=100/>')"
   ]
  },
  {
   "cell_type": "markdown",
   "metadata": {},
   "source": [
    "## Welcome to the Python Notebook for the Other Math Club \n",
    "\n",
    "#### What are we doing here?\n",
    "\n",
    "'Mathematics is exploration of patterns using imagination and reason.'\n",
    "\n",
    "These notebooks are available to Tyee students to explore math. They use the Python programming language. You are invited to modify this code to try out ideas."
   ]
  },
  {
   "cell_type": "markdown",
   "metadata": {},
   "source": [
    "#### Charter\n",
    "\n",
    "October 19, 2016\n",
    "\n",
    "The club is about mathematics such as one might find in a book by Martin Gardner: Mathematics that is interesting, challenging and rewarding but easy to get started with.\n",
    "\n",
    "We emphasize fun with other students. We also encourage sitting down somewhere quiet with your notebook and an interesting problem.\n",
    "\n",
    "Everyone has a mathematics map. 4 is near 5 and division is close to multiplication. Map-building expands that map: How is probability close to combinatorics???\n",
    " \n",
    "While students may move forwards through time emit hguorht sdrawkcab sevom flesti bulc ehT.\n",
    "\n",
    "The name of the club changes periodically based on whim. \n",
    "\n",
    "One day I was writing a beautiful poem down when I was interrupted by a visitor from Porlock. I lost my train of thought and lost the poem. I learn: When I am with other mathematicians I will think and remain silent... until it is ok to share. I will not be disruptive. I will avoid becoming the visitor from Porlock.\n",
    "\n",
    "Homework is the important thing. If I am having trouble focusing during Other Math Club I will move to a quiet corner and work on homework. If this is a consistent pattern I may want to go to the library."
   ]
  },
  {
   "cell_type": "markdown",
   "metadata": {},
   "source": [
    "#### Using this notebook\n",
    "\n",
    "The text rectangles (like this one) are 'markdown': Easy to read. You just read them.\n",
    "\n",
    "Other rectangles are Python, a computer language. You run Python and it does stuff.\n",
    "\n",
    "To run Python cells:\n",
    "\n",
    "1. Click on it.\n",
    "2. Hold down the Shift key and press Enter. \n",
    "\n",
    "If all goes well... something will happen. Sometimes you need to run several cells in a row to get to the end result. Sometimes a cell runs instantly; sometimes it can take a minute or two.\n",
    "\n",
    "If you change something in a Python cell you have to re-run it to see what the new results are."
   ]
  },
  {
   "cell_type": "markdown",
   "metadata": {},
   "source": [
    "#### Printing and loop example\n",
    "\n",
    "Try to run the cell below. Then change the '5' to '10' and re-run it."
   ]
  },
  {
   "cell_type": "code",
   "execution_count": 2,
   "metadata": {
    "collapsed": false
   },
   "outputs": [
    {
     "name": "stdout",
     "output_type": "stream",
     "text": [
      "Hi\n",
      "Hi\n",
      "Hi\n",
      "Hi\n",
      "Hi\n"
     ]
    }
   ],
   "source": [
    "def printHi():\n",
    "    print \"Hi\"\n",
    "\n",
    "for x in range(5):\n",
    "    printHi()\n"
   ]
  },
  {
   "cell_type": "markdown",
   "metadata": {},
   "source": []
  },
  {
   "cell_type": "code",
   "execution_count": 4,
   "metadata": {
    "collapsed": false
   },
   "outputs": [
    {
     "data": {
      "text/latex": [
       "\\begin{eqnarray}\\large{e^{i\\pi}+1=0}\\end{eqnarray}"
      ],
      "text/plain": [
       "<IPython.core.display.Latex object>"
      ]
     },
     "execution_count": 4,
     "metadata": {},
     "output_type": "execute_result"
    }
   ],
   "source": [
    "# We can also generate LaTeX equations in Python cells\n",
    "from IPython.display import Latex\n",
    "\n",
    "# I think this is unnecessarily complicated! But it sure is pretty...\n",
    "Latex(r\"\"\"\\begin{eqnarray}\\large{e^{i\\pi}+1=0}\\end{eqnarray}\"\"\")\n"
   ]
  },
  {
   "cell_type": "code",
   "execution_count": null,
   "metadata": {
    "collapsed": true
   },
   "outputs": [],
   "source": []
  },
  {
   "cell_type": "code",
   "execution_count": null,
   "metadata": {
    "collapsed": true
   },
   "outputs": [],
   "source": []
  }
 ],
 "metadata": {
  "kernelspec": {
   "display_name": "Python 2",
   "language": "python",
   "name": "python2"
  },
  "language_info": {
   "codemirror_mode": {
    "name": "ipython",
    "version": 2
   },
   "file_extension": ".py",
   "mimetype": "text/x-python",
   "name": "python",
   "nbconvert_exporter": "python",
   "pygments_lexer": "ipython2",
   "version": "2.7.11"
  }
 },
 "nbformat": 4,
 "nbformat_minor": 0
}
