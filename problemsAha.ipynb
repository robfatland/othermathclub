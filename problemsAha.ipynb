{
 "cells": [
  {
   "cell_type": "markdown",
   "metadata": {},
   "source": [
    "# Aha Problems\n",
    "\n",
    "### Friendly introduction\n",
    "\n",
    "'Aha!' problems were explained by Martin Gardner as requiring a leap of intuition. That's when you shout 'Aha!'\n",
    "\n",
    "One of the worst feelings in the world is looking at a math problem and feeling stuck. That why we have a lot of \n",
    "problems here to think about: You can always find a new problem if you feel stuck... although sometimes it is \n",
    "necessary to just push and fight your way through stuck-ness. One way of doing that is to know that there is some\n",
    "sort of *Aha!* built into the problem. \n",
    "\n",
    "\n",
    "Meanwhile another theme we have is to not simply solve a problem and move on. Rather we hope to be able to dig\n",
    "deeper and connect with our map of the mathematical landscape. When I have found ways of doing this for *Aha!* \n",
    "problems I place the notes for the continuation in the **Extra** section immediately following. For example when\n",
    "I wrote this I was just about to add the *Extra* section after the problem about the fishing kid. \n"
   ]
  },
  {
   "cell_type": "markdown",
   "metadata": {},
   "source": [
    "### Counter Jump\n",
    "\n",
    "This is an 'Aha!' problem: There is a realization that can make it much easier to get the answer.\n",
    "\n",
    "Draw a rectangular grid of 30 dots that is 6 dots across by 5 dots up and down.\n",
    "\n",
    "\n",
    "```\n",
    "                  \n",
    "*   *   *   *   *   o   \n",
    "\n",
    "*   *   *   *   o   o   \n",
    "\n",
    "*   *   *   o   o   o   \n",
    "\n",
    "*   *   o   o   o   o   \n",
    "\n",
    "*   o   o   o   o   o\n",
    "  \n",
    "```\n",
    "\n",
    "Now color in all the dots in the upper left half. I used the '*' to show where:\n",
    "In the top row going from left to right color in\n",
    "five dots. In the second row from left to right color in four dots; and so on. In the bottom row \n",
    "you color in only the left-most dot. Let's say these are all pennies and the unmarked dots are empty.\n",
    "The goal is to determine if you can move all of the pennies from where they start to the lower\n",
    "right corner using a jumping rule. \n",
    "\n",
    "\n",
    "You can only jump pennies horizontally or vertically; not on diagonals.\n",
    "Each penny must move two spaces by jumping over a penny next to it.\n",
    "\n",
    "\n",
    "- Can all fifteen pennies be moved from where they start (*) to the fifteen empty spots (o)?\n",
    "- If you remove one penny from the start is it possible? \n",
    "- If you remove two pennies from the start is it possible? \n",
    "- If you remove three pennies from the start is it possible? \n"
   ]
  },
  {
   "cell_type": "markdown",
   "metadata": {},
   "source": [
    "### Don't Take the Bee Train\n",
    "\n",
    "A train departs from Chicago heading towards Peoria 100 miles away. It travels at a constant speed of 25 miles per hour. A second train departs from Peoria towards Chicago on the same track at the same time at the same speed. Uh oh... it seems that they will eventually crash into one another. Meanwhile a little bee who can fly very quickly flies back and forth between the two trains along the track. She flies at 150 miles per hour. She begins this back-and-forth flight path just as the two trains start off. Now the two trains will eventually collide but happily they are automated trains with nobody on board so nobody gets hurt. At the last instant the bee flies upwards so she is not hurt either. Whew. But the question is: Between the trains starting off and colliding how far does the little bee fly? "
   ]
  },
  {
   "cell_type": "markdown",
   "metadata": {},
   "source": [
    "### Four travellers\n",
    "\n",
    "Four travellers $A$, $B$, $C$, and $D$ move at constant (non-zero) speed in straight lines across an infinite flat plane. \n",
    "Their speeds, directions, and locations at any moment are arbitrary (they could be *any* speed and *any* direction).\n",
    "Let's assume that all four of their paths are different. \n",
    "Now one more detail must be noted: The four travelers experience certain *meetings*. A *meeting*\n",
    "is where two travelers arrive at the same point at the same time. Each continues on his or her way from there. \n",
    "Here are the meetings: $A$ meets $B$, $C$ and $D$. $B$ meets $A$ of course; and $B$ also meets $C$ and $D$. \n",
    "\n",
    "Problem: Does $C$ meet $D$? \n",
    "\n",
    "This problem is also stated at [a math website](http://cut-the-knot.org) like this: \n",
    "\n",
    "> Four roads on a plane, each a straight line, are in general position. \n",
    "> Along each road walks a traveler at a constant speed. Their speeds, however, \n",
    "> may not be the same. It's known that traveler #1 met with Travelers #2, #3, \n",
    "> and #4. #2, in turn, met #3 and #4 and, of course, #1. \n",
    "> Show that #3 and #4 have also met. "
   ]
  },
  {
   "cell_type": "markdown",
   "metadata": {},
   "source": [
    "### Hole in sphere\n",
    "\n",
    "A plastic sphere has a perfect cylindrical hole drilled all the way through it, through the center. What remains is a ring of material. When placed flat on a table this ring of material is found to be 2 cm in height. What is the volume of this ring of material?\n",
    "\n",
    "Extra credit if you learn calculus to solve this.\n",
    "\n",
    "Extra credit if you do not use calculus to solve this problem."
   ]
  },
  {
   "cell_type": "markdown",
   "metadata": {},
   "source": [
    "### Fishing Kid\n",
    "\n",
    "A kid attempts to get on a bus carrying a five foot long fishing pole. The driver says \n",
    "\"Sorry you may not ride while carrying an object with any dimension bigger than three feet.\" \n",
    "Frustrated with the hidebound process Isabella thinks for a moment and realizes she has a course \n",
    "of action. She runs into a nearby full service Post Office, makes one purchase for $5 and hastily \n",
    "returns to the bus. She is permitted by the same bus driver to board the bus with her fishing pole. \n",
    "How did she manage this? \n",
    "\n",
    "#### Extra\n",
    "\n",
    "If you have read _A Wrinkle In Time_ you may recall the *tesseract*, a folding of space that enables\n",
    "one to traverse great distances. Mrs. Whatsit casually says to Meg's mother 'By the way, there *is*\n",
    "such a thing as a tesseract.' This **Extra** section is about just that.\n",
    "\n",
    "\n",
    "This problem of the fishing kid uses an idea from geometry called the pythagorean theorem. Notice that \n",
    "the fishing pole represents an object that is one-dimensional. It has only length. We inhabit three \n",
    "dimensions so we are accustomed to one-dimensional objects residing in three-dimensional space; and we are \n",
    "accustomed to writing on paper so we have a sense of two dimensions as well. Now: Suppose that \n",
    "you were to write down the pythagorean theorem for one, two and three dimensions. What would these \n",
    "different versions look like? What would it look like for more than three dimensions, say $n$ \n",
    "dimensions? \n",
    "\n",
    "\n",
    "That is all I will say for the moment. Take a look at the **Topology** subject track, specifically\n",
    "Part 3, to read the complete fishing kid problem solution and to read more about what comes next. "
   ]
  },
  {
   "cell_type": "markdown",
   "metadata": {},
   "source": [
    "### Poker chip game\n",
    "\n",
    "You have a large supply of circular poker chips, as does your friend. A circular poker table is at hand and your \n",
    "friend says \"Let's play a game: We will alternate placing poker chips flat on this table, no stacking or leaning. \n",
    "The first person who has no place to put a poker chip loses. You may choose if you go first or second.\" \n",
    "\n",
    "You both play with perfect precision. Do you go first or second, and what strategy do you adopt? "
   ]
  },
  {
   "cell_type": "markdown",
   "metadata": {},
   "source": [
    "### Parole\n",
    "\n",
    "A warden of a prison decides to follow a procedure for granting some of the prisoners parole. The prison \n",
    "cells are numbered 1, 2, 3, 4, ... , N and each contains one prisoner. So there are N prisoners; we can\n",
    "assume N is some reasonable number like 200. N is not infinite! This is not Professor Hilbert's hotel.\n",
    "By the way: Everyone in this particular prison is serving time for chewing gum in class. \n",
    "\n",
    "\n",
    "Here is the warden's parole procedure.\n",
    "\n",
    "\n",
    "First the warden will start at cell 1 and flip the lock from locked to unlocked. He does this for cells\n",
    "2, 3, 4, ... all the way to cell N. Then he goes back to the beginning but now starting at cell 2 he\n",
    "again flips the locks: All unlocked cells become locked again. (Notice that he does not visit cell 1\n",
    "again so it remains unlocked.) After this second pass the warden returns and goes through again, this time\n",
    "starting from cell 3. He continues the process until at last he starts at cell N and flips that lock. \n",
    "\n",
    "\n",
    "Now anyone whose cell is unlocked is released on parole. They go free but must give their word not to\n",
    "chew gum in class anymore. \n",
    "\n",
    "\n",
    "The question is: What is the pattern? Which prisoners are given parole?"
   ]
  },
  {
   "cell_type": "markdown",
   "metadata": {},
   "source": [
    "### Nickels in the dark\n",
    "\n",
    "\n",
    "You are are seated at a table wearing a blindfold. On the left half of table there are 400 nickels: 20 of them \n",
    "are tails up and the rest are heads up. How do you divide the coins into two sets that have the same number of \n",
    "tails up coins in each? You may obviously move coins, pick them up, flip them over, slide them across the table.\n",
    "The solution does not involve putting coins on the floor; they all stay on the table.\n",
    "No stacking / leaning; no other coins in the room; no peaking; you can not tell\n",
    "heads from tails by touch; etcetera. \n"
   ]
  },
  {
   "cell_type": "markdown",
   "metadata": {},
   "source": [
    "### A Sequence Problem\n",
    "\n",
    "What is next in the following sequence: \n",
    "\n",
    "1\n",
    "\n",
    "11\n",
    "\n",
    "21\n",
    "\n",
    "1211\n",
    "\n",
    "111221\n",
    "\n",
    "312211\n",
    "\n",
    "13112221\n",
    "\n",
    "Matthew solved this and we talked about it at Other Math Club. It is called the \"Look and Say\" sequence.\n",
    "\n",
    "The extension idea is: Do larger patterns emerge? I think they do... but it would take some\n",
    "computer programs to investigate this further (probably). This would be a computer programming project.\n"
   ]
  },
  {
   "cell_type": "code",
   "execution_count": null,
   "metadata": {
    "collapsed": true
   },
   "outputs": [],
   "source": []
  }
 ],
 "metadata": {
  "kernelspec": {
   "display_name": "Python 3 (ipykernel)",
   "language": "python",
   "name": "python3"
  },
  "language_info": {
   "codemirror_mode": {
    "name": "ipython",
    "version": 3
   },
   "file_extension": ".py",
   "mimetype": "text/x-python",
   "name": "python",
   "nbconvert_exporter": "python",
   "pygments_lexer": "ipython3",
   "version": "3.8.5"
  }
 },
 "nbformat": 4,
 "nbformat_minor": 2
}
