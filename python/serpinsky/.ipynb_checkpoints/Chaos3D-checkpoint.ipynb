{
 "cells": [
  {
   "cell_type": "markdown",
   "id": "fe5ce612-374f-4427-be8d-ccb1d340ff2f",
   "metadata": {},
   "source": [
    "# Chaos 3D\n",
    "\n",
    "This notebook is inspired by a [Numberphile video about finding additional dimension\n",
    "within the chaos game](https://youtu.be/FnRhnZbDprE?si=9Y7gUmI9Sl5vN61U). (The next \n",
    "cell will play this video if you change `False` to `True`.)"
   ]
  },
  {
   "cell_type": "code",
   "execution_count": 1,
   "id": "2230ced8-138f-40ef-a8ad-69c41f7fb2e7",
   "metadata": {},
   "outputs": [],
   "source": [
    "if False: \n",
    "    from IPython.display import Image, YouTubeVideo\n",
    "    YouTubeVideo('FnRhnZbDprE')"
   ]
  },
  {
   "cell_type": "code",
   "execution_count": 7,
   "id": "d62c3cba-d3ac-46f2-8553-37e7593cb781",
   "metadata": {},
   "outputs": [
    {
     "data": {
      "application/vnd.jupyter.widget-view+json": {
       "model_id": "e97eeb550d64491ea1b8a91384826eab",
       "version_major": 2,
       "version_minor": 0
      },
      "text/plain": [
       "interactive(children=(FloatSlider(value=90.0, description='theta', min=-10.0), FloatSlider(value=28.0, descrip…"
      ]
     },
     "metadata": {},
     "output_type": "display_data"
    },
    {
     "data": {
      "text/plain": [
       "<function __main__.ThreeDee(theta, phi)>"
      ]
     },
     "execution_count": 7,
     "metadata": {},
     "output_type": "execute_result"
    }
   ],
   "source": [
    "import numpy as np\n",
    "from random import randint, random\n",
    "import matplotlib.pyplot as plt\n",
    "from mpl_toolkits.mplot3d import Axes3D\n",
    "from ipywidgets import interact, widgets\n",
    "\n",
    "vx = [0.00, 1.00, 0.50, 0.50]                # locations of 4 \"paint can\" vertices in 3 dimensions\n",
    "vy = [0.00, 0.00, 0.86, 0.33]                # This is a triangular base (z = 0) plus a vertix (z = 1)\n",
    "vz = [0.00, 0.00, 0.00, 1.00]                #   or in other words a tetrahedron (pyramid) shape.\n",
    "\n",
    "x, y, z = [], [], []                         # empty collection of dots in 3 dimensions\n",
    "xe, ye, ze = random(), random(), random()    # Egon's current location in 3 dimensions\n",
    "ndots = 10000                                # how many dots to draw\n",
    "\n",
    "for i in range(ndots):             # Fill in a collection of dots\n",
    "    can = randint(0, 3)            # choose a paint can at random... \n",
    "    xe  += (vx[can] - xe)/2    #   ...go halfway there\n",
    "    ye  += (vy[can] - ye)/2\n",
    "    ze  += (vz[can] - ze)/2\n",
    "    x.append(xe); y.append(ye); z.append(ze)     # add this dot\n",
    "    \n",
    "def ThreeDee(theta, phi):\n",
    "    '''Draw dots in three dimensions. theta and phi are two viewing angles'''\n",
    "    fig = plt.figure(figsize=(8,12))\n",
    "    ax = fig.add_subplot(111, projection='3d')       # prepare a 3D drawing space\n",
    "    ax.view_init(elev=phi, azim=theta)\n",
    "    ax.scatter(x, y, z, c='b', marker='o', s=1.5)      # draw the dots (very small: s = 1)   \n",
    "\n",
    "\n",
    "interact(ThreeDee, theta=widgets.FloatSlider(min=-10.,max=100.,step=.1,value=90.),\n",
    "                   phi=widgets.FloatSlider(min=-30.,max=120.,step=.1,value=28.))"
   ]
  },
  {
   "cell_type": "markdown",
   "id": "0180c08a-b725-4de1-a686-28497a9a45f9",
   "metadata": {},
   "source": [
    "## Additional\n",
    "\n",
    "\n",
    "The `ThreeDee()` function can include: \n",
    "\n",
    "- `ax.set_xlabel('X Axis')` etcetera\n",
    "- `plt.show()`\n",
    "\n",
    "\n",
    "The `interact()` is a library method that allows us to attach slider controls to\n",
    "the `ThreeDee()` drawing function. Every time the sliders are moved: `ThreeDee()` \n",
    "runs again to draw the view from the new perspective. This is by means of the\n",
    "two viewing angles `theta` and `phi`.\n",
    " "
   ]
  }
 ],
 "metadata": {
  "kernelspec": {
   "display_name": "Python 3 (ipykernel)",
   "language": "python",
   "name": "python3"
  },
  "language_info": {
   "codemirror_mode": {
    "name": "ipython",
    "version": 3
   },
   "file_extension": ".py",
   "mimetype": "text/x-python",
   "name": "python",
   "nbconvert_exporter": "python",
   "pygments_lexer": "ipython3",
   "version": "3.12.2"
  }
 },
 "nbformat": 4,
 "nbformat_minor": 5
}
