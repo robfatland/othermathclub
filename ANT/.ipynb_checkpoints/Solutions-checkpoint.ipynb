{
 "cells": [
  {
   "cell_type": "markdown",
   "id": "8149f340-c1aa-46ee-b1a6-893bd6b792cd",
   "metadata": {},
   "source": [
    "# I-to-ANT Solutions\n",
    "\n",
    "## Chapter 1\n",
    "\n",
    "## Chapter 2"
   ]
  },
  {
   "cell_type": "markdown",
   "id": "bb775b69-4231-49fb-8ede-ab44466a3a53",
   "metadata": {},
   "source": [
    "### 2.1\n",
    "\n",
    "Find $n$ for which \n",
    "\n",
    "(a) $\\varphi(n) = \\frac{n}{2}$\n",
    "\n",
    "For $n>2$ we know $\\varphi(n)$ is even so $\\varphi(n)=2^s\\cdot d$ \n",
    "for some $s \\ge 1$ with $d$ odd. $(2^s, d) = 1$ so\n",
    "$\\varphi(n)=\\varphi(2^s)\\cdot\\varphi(d)=2^{s-1}\\cdot\\varphi(d)=n/2.$\n",
    "Hence $n=2^s \\cdot d = 2^s \\varphi(d)$. This means $d = \\varphi(d)$; and this is\n",
    "the case only when $d=1$.\n",
    "The complete set for $n$ is $\\{ 2, 4, 8, \\dots \\}$.\n",
    "\n",
    "(b) $\\varphi(n) = \\varphi(2n)$ \n",
    "\n",
    "Again taking $n=2^s\\cdot d$ we want $n$ for which $\\varphi(n) = \\varphi(2n)$.\n",
    "This becomes $\\varphi(2^s)\\cdot\\varphi(d)=\\varphi(2^{s+1})\\cdot\\varphi(d)$.\n",
    "\n",
    "(c) $\\varphi(n) = 12$"
   ]
  },
  {
   "cell_type": "markdown",
   "id": "6c1dc056-e646-4b43-af82-d5b6d5f09a1e",
   "metadata": {},
   "source": [
    "### 2.2"
   ]
  },
  {
   "cell_type": "markdown",
   "id": "8af96a51-ea97-4b7d-9e1a-73412cf5c063",
   "metadata": {},
   "source": [
    "### 2.3"
   ]
  },
  {
   "cell_type": "markdown",
   "id": "43913ba4-9d73-4d1c-8f96-9362a2b3a452",
   "metadata": {},
   "source": [
    "### 2.4"
   ]
  },
  {
   "cell_type": "markdown",
   "id": "aae405e1-3e27-437c-9eae-f2fc6ec1b42c",
   "metadata": {},
   "source": [
    "### 2.5\n",
    "\n",
    "Show the Dirichlet product $f = \\mu * \\nu$ is 0 or 1 where $\\nu(n)$ is the number of distinct prime factors of $n \\; (\\nu(1)=0)$. \n",
    "\n",
    "\n",
    "Define an alternating-sign weighted sum of binomial coefficients $A_a(k) = \\sum_{i = 0}^{k} {-1}^i \\cdot \\binom k i \\cdot i^a$. \n",
    "Then\n",
    "\n",
    "\\begin{equation}\n",
    "A_0(k) = \\sum_{i=0}^{k} {-1}^i \\cdot \\binom k i\n",
    "\\end{equation}\n",
    "\n",
    "\\begin{equation}\n",
    "A_1(k) = \\sum_{i=0}^{k} {-1}^i \\cdot \\binom k i \\cdot i\n",
    "\\end{equation}\n",
    "\n",
    "\n",
    "Evaluating: $A_0(1) = A_1(1) = 1$ and $A_0(k>1) = A_1(k>1) = 0$.\n",
    "\n",
    "\n",
    "With $f(1) = 0$ we consider $n > 1$ with the usual $n = \\prod_{i=1}^{k \\ge 1} {p_i}^{a_i}$.\n",
    "\n",
    "\n",
    "\n",
    "Define $m$ to be the number of prime factors of $n$ that have $a_i \\ge 2$.\n",
    "For example $360 = 2^3 \\cdot 3^2 \\cdot 5^1$ has $m=2$. \n",
    "This parameter is motivated by terms in the Dirichlet convolution sum where \n",
    "the divisor $d$ includes a\n",
    "prime factor ${p_i}^1$ that has $a_i \\ge 2$ so that $p_i$ is also present in\n",
    "the complementary divisor $\\frac{n}{d}$.\n",
    "The $m$ primes contribute to both $\\mu(d)$ and $\\nu(n/d)$.\n",
    "The $\\mu * \\nu$ sum over divisors $d|n$ \n",
    "contributes only when $d$ is square-free, i.e. the terms in\n",
    "\n",
    "\\begin{equation}\n",
    "\\prod_{i=1}^{k}(1+p_i)=1 + p_1 + p_2 + \\dots + p_k + p_1 \\cdot p_2 + \\dots + p_{k-1} \\cdot p_{k} + \\dots + p_1 \\cdot p_2 \\cdot p_3 \\cdots p_k.\n",
    "\\end{equation}\n",
    "\n",
    "\n",
    "This sum can be grouped by 'number of prime factors in $d$': $G = \\{ 0, 1, 2, ..., k \\} = \\{ g_i \\}$ with\n",
    "corresponding number of terms in each group $\\binom k {{g}_i}$.\n",
    "\n",
    "\n",
    "\\begin{equation}\n",
    "f = \\mu * \\nu = \\sum_{i=0}^{k} \\sum_{j=1}^{\\binom k i} \\mu(d_{ij}) \\cdot \\nu(\\frac{n}{d_{ij}}) \n",
    "\\end{equation}\n",
    "\n",
    "\n",
    "When $m = 0$ the number $n$ is the product of a set of distinct primes. In this case the value\n",
    "of $\\nu(n/d)$ will be a constant $(k - i)$ for group $i$ and the above sum becomes\n",
    "\n",
    "\n",
    "\\begin{equation}\n",
    "f = \\mu * \\nu = \\sum_{i=0}^{k} {\\binom k i} \\cdot ({-1}^i) \\cdot (k - i) \n",
    "\\end{equation}\n"
   ]
  },
  {
   "cell_type": "markdown",
   "id": "59acccb9-5200-441d-994e-5ec8c64ec743",
   "metadata": {},
   "source": [
    "With $k = 1$: $n$ is prime and $f(p) = (1 \\cdot 1 \\cdot 1) + (1 \\cdot -1 \\cdot 0) = 1$. This corresponds to\n",
    "the special case for $A_1$ mentioned above. \n",
    "\n",
    "\n",
    "With $k > 1$ and $m$ still $0$ we have equivalence by symmetry to $A_1$:\n",
    "\n",
    "\\begin{equation}\n",
    "f = \\mu * \\nu = \\sum_{i=0}^{k} {\\binom k i} \\cdot ({-1}^i) \\cdot (k - i) = \\sum_{i=0}^{k} {-1}^i \\cdot {\\binom k i} \\cdot i = 0.\n",
    "\\end{equation}\n",
    "\n",
    "\n",
    "When $m$ is greater than $0$ the value of $\\nu(\\frac{n}{d})$ varies from one group term to another depending on ..."
   ]
  },
  {
   "cell_type": "code",
   "execution_count": null,
   "id": "810ad333-c9c4-410c-b4a9-1494e04be5ce",
   "metadata": {},
   "outputs": [],
   "source": []
  }
 ],
 "metadata": {
  "kernelspec": {
   "display_name": "Python 3 (ipykernel)",
   "language": "python",
   "name": "python3"
  },
  "language_info": {
   "codemirror_mode": {
    "name": "ipython",
    "version": 3
   },
   "file_extension": ".py",
   "mimetype": "text/x-python",
   "name": "python",
   "nbconvert_exporter": "python",
   "pygments_lexer": "ipython3",
   "version": "3.8.5"
  }
 },
 "nbformat": 4,
 "nbformat_minor": 5
}
