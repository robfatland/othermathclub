{
 "cells": [
  {
   "cell_type": "markdown",
   "id": "2b334279-5ad4-4854-9861-1d2d5c594ae6",
   "metadata": {},
   "source": [
    "# Forms\n",
    "\n",
    "**Forms** is beginning with some idea and creating or translating it to a drawing, a pattern, a shape. We could go further and say the form could be a sound or a movement."
   ]
  }
 ],
 "metadata": {
  "kernelspec": {
   "display_name": "Python 3 (ipykernel)",
   "language": "python",
   "name": "python3"
  },
  "language_info": {
   "codemirror_mode": {
    "name": "ipython",
    "version": 3
   },
   "file_extension": ".py",
   "mimetype": "text/x-python",
   "name": "python",
   "nbconvert_exporter": "python",
   "pygments_lexer": "ipython3",
   "version": "3.13.4"
  }
 },
 "nbformat": 4,
 "nbformat_minor": 5
}
