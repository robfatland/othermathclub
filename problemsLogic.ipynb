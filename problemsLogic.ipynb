{
 "cells": [
  {
   "cell_type": "markdown",
   "metadata": {},
   "source": [
    "# Logic Problems"
   ]
  },
  {
   "cell_type": "code",
   "execution_count": null,
   "metadata": {
    "collapsed": true
   },
   "outputs": [],
   "source": []
  },
  {
   "cell_type": "markdown",
   "metadata": {},
   "source": [
    "*caption*\n",
    "\n",
    "### Friendly introduction\n",
    "\n",
    "\n",
    "Here are a few more logic problems.\n",
    "\n",
    "\n",
    "### More knights and knaves\n",
    "\n",
    "Professor Smullyan has given us problems about Knights and Knaves. Knights always tell the truth. Knaves always lie.\n",
    "The quality of being a knight or a knave is a person's *type*. \n",
    "These interesting people live on an island that you happen to be visiting. As you are walking along the road you \n",
    "happen upon two residents A and B who make the following statements:\n",
    "\n",
    "```\n",
    "A: B is a knave.\n",
    "B: I am a knight. \n",
    "```\n",
    "\n",
    "Are A and B of the same type? \n",
    "\n",
    "\n",
    "#### Solution\n",
    "\n",
    "The word 'if' comes in handy; or you may prefer the word 'suppose'... \n",
    "\n",
    "A is either a knight or a knave. Suppose A is a knight. Then B is indeed a \n",
    "knave; which means that he would be lying when he speaks. B claims to be a knight so in this case everything\n",
    "is consistent.  \n",
    "\n",
    "Suppose A is a knave.   Then B must be a knight since A is lying. B claims to be a knight which is also \n",
    "consistent. Conclusion: A can be either a knight or a knave but B must be of the opposite type.\n",
    "\n",
    "Notice that the two statements contradict one another. When this happens (on this island) we know one speaker\n",
    "is a knave and the other a knight. We continue with more selections from Professor Smullyan's\n",
    "book _What Is The Name Of This Book?_. They are introduced on the subject track concerning **Logic**."
   ]
  },
  {
   "cell_type": "code",
   "execution_count": null,
   "metadata": {
    "collapsed": true
   },
   "outputs": [],
   "source": []
  }
 ],
 "metadata": {
  "kernelspec": {
   "display_name": "Python [conda env:notebook] *",
   "language": "python",
   "name": "conda-env-notebook-py"
  },
  "language_info": {
   "codemirror_mode": {
    "name": "ipython",
    "version": 3
   },
   "file_extension": ".py",
   "mimetype": "text/x-python",
   "name": "python",
   "nbconvert_exporter": "python",
   "pygments_lexer": "ipython3",
   "version": "3.6.7"
  }
 },
 "nbformat": 4,
 "nbformat_minor": 2
}
