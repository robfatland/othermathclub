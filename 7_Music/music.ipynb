{
 "cells": [
  {
   "cell_type": "markdown",
   "id": "a8bfb83f-1ba6-4523-a073-254d6f4ad7a8",
   "metadata": {},
   "source": [
    "To compose and play back music in Python we need two elements: A composition library\n",
    "(we will use `music21`) and a piano playback resource (we will use \n",
    "a browser-based player called [Midiano](`https://app.midiano.com/`)).\n",
    "\n",
    "\n",
    "- Step 1: Install the Python package `music21`\n",
    "\n",
    "\n",
    "`conda install music21`\n",
    "\n",
    "\n",
    "- Step 2: Write and then run the code below:\n",
    "\n",
    "\n",
    "```\n",
    "import music21 as m21\n",
    "s = m21.stream.Stream()\n",
    "s.append(m21.note.Note('C4'))\n",
    "s.append(m21.note.Note('D4'))\n",
    "s.append(m21.note.Note('E4'))\n",
    "s.write('midi', 'robsmusic.mid')\n",
    "```\n",
    "\n",
    "- Step 3: Relocate the above `.mid` MIDI file if necessary to where you can open it from your browser\n",
    "- Step 4: In a browser go to `https://app.midiano.com'\n",
    "- Step 5: Open the MIDI file from above and click the play button\n",
    "\n",
    "\n",
    "This should play back three notes as if they were played on a piano. "
   ]
  },
  {
   "cell_type": "code",
   "execution_count": 5,
   "id": "472e7ad5-6f82-495a-95d7-1d259a6ca326",
   "metadata": {},
   "outputs": [],
   "source": [
    "import music21 as m21"
   ]
  },
  {
   "cell_type": "code",
   "execution_count": 25,
   "id": "6f8f1a5b-985b-484d-a5d6-922fc38e01d3",
   "metadata": {},
   "outputs": [
    {
     "data": {
      "text/plain": [
       "'./../../../D/music2.mid'"
      ]
     },
     "execution_count": 25,
     "metadata": {},
     "output_type": "execute_result"
    }
   ],
   "source": [
    "!rm ./../../../D/music1.mid\n",
    "\n",
    "# this code shows linear placement of notes, chords and rests\n",
    "# it also uses .insert() to place notes at a given offset from start \n",
    "\n",
    "s = m21.stream.Stream()\n",
    "s.append(m21.tempo.MetronomeMark(120))\n",
    "\n",
    "c = m21.chord.Chord(['C2', 'G3', 'E4'])\n",
    "c.duration.quarterLength = .5\n",
    "s.append(c)\n",
    "\n",
    "r = m21.note.Rest(quarterLength=3.5)\n",
    "s.append(r)\n",
    "\n",
    "s.append(m21.note.Note('G3'))\n",
    "s.append(m21.note.Note('E4'))\n",
    "s.append(m21.note.Note('C4'))\n",
    "s.append(m21.note.Note('A3'))\n",
    "s.append(m21.note.Note('F4'))\n",
    "s.append(m21.note.Note('D4'))\n",
    "s.append(m21.note.Note('B3'))\n",
    "s.append(m21.note.Note('G4'))\n",
    "s.append(m21.note.Note('E4'))\n",
    "s.append(m21.note.Note('C4'))\n",
    "s.append(m21.note.Note('A4'))\n",
    "s.append(m21.note.Note('F4'))\n",
    "\n",
    "c = m21.chord.Chord(['D4', 'B4', 'G4']);\n",
    "c.duration.quarterLength = 4.0\n",
    "s.append(c)\n",
    "\n",
    "n = m21.note.Note(\"G1\")\n",
    "n.volume.velocity = 10      # value from 0 to 127\n",
    "s.insert(17.0, n)\n",
    "n = m21.note.Note(\"G2\")\n",
    "n.volume.velocity = 127\n",
    "s.insert(18.0, n)\n",
    "\n",
    "# add a note of duration given in quarter notes\n",
    "# n = m21.note.Note(\"F4\")\n",
    "# n.duration.quarterLength = 4.0\n",
    "# s.append(n)\n",
    "\n",
    "s.write('midi', './../../../D/music2.mid')"
   ]
  },
  {
   "cell_type": "code",
   "execution_count": 23,
   "id": "48ae8180-2245-4980-aa36-e81749f496fd",
   "metadata": {},
   "outputs": [
    {
     "data": {
      "text/plain": [
       "<music21.note.Note C>"
      ]
     },
     "execution_count": 23,
     "metadata": {},
     "output_type": "execute_result"
    }
   ],
   "source": [
    "m21.note.Note()"
   ]
  },
  {
   "cell_type": "code",
   "execution_count": 27,
   "id": "287adede-c2c7-488b-a049-251536d28589",
   "metadata": {},
   "outputs": [
    {
     "data": {
      "text/plain": [
       "15"
      ]
     },
     "execution_count": 27,
     "metadata": {},
     "output_type": "execute_result"
    }
   ],
   "source": [
    "3*5"
   ]
  }
 ],
 "metadata": {
  "kernelspec": {
   "display_name": "Python 3 (ipykernel)",
   "language": "python",
   "name": "python3"
  },
  "language_info": {
   "codemirror_mode": {
    "name": "ipython",
    "version": 3
   },
   "file_extension": ".py",
   "mimetype": "text/x-python",
   "name": "python",
   "nbconvert_exporter": "python",
   "pygments_lexer": "ipython3",
   "version": "3.13.4"
  }
 },
 "nbformat": 4,
 "nbformat_minor": 5
}
