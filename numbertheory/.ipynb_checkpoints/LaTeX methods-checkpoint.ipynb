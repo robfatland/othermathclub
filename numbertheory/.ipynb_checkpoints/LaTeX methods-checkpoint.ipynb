{
 "cells": [
  {
   "cell_type": "markdown",
   "id": "af81ff0a-6934-4914-9d00-4b7ccea22544",
   "metadata": {},
   "source": [
    "### Watrices\n",
    "\n",
    "\n",
    "$\n",
    "A=\\left[{\\begin{array}{cc}\n",
    "   a & b \\\\\n",
    "   c & d \\\\\n",
    "  \\end{array}}\\right]\n",
    "\\; \\; \\; $\n",
    "has an inverse\n",
    "$\\; \\; \\; A^{-1} = \\frac{1}{det A} \\cdot \\left[{\\begin{array}{cc}\n",
    "   d & -b \\\\\n",
    "   -c & a \\\\\n",
    "  \\end{array} }\\right]$. \n",
    "  \n",
    "  \n",
    "  Writing $x$ and $y$ as a column vector\n",
    "$\\tilde{v}=\\left[{\\begin{array}{c}x\\\\y\\end{array}}\\right]$\n",
    "and the result of the transform as\n",
    "$\\tilde{k}=\\left[{\\begin{array}{c}m\\\\n\\end{array}}\\right]$\n",
    "we have $A \\tilde{v} = \\tilde{k}$ and $\\tilde{v}=A^{-1}\\tilde{k}$."
   ]
  },
  {
   "cell_type": "markdown",
   "id": "38cffc6f-5b84-4a83-81b0-ba2584b99e9e",
   "metadata": {},
   "source": [
    "$(c, d)=1.\\;\\;$ &#x2610;"
   ]
  },
  {
   "cell_type": "markdown",
   "id": "39e3dbed-b575-4251-8675-81f7dd0c1244",
   "metadata": {
    "tags": []
   },
   "source": [
    "$a \\nmid b$ the anti-gzinta."
   ]
  },
  {
   "cell_type": "markdown",
   "id": "3787403f-9c1c-443b-a268-8accbae519c4",
   "metadata": {},
   "source": [
    "${\\Huge \\ngtr} {\\Huge \\infty}$"
   ]
  },
  {
   "cell_type": "markdown",
   "id": "cd0147d7-f82e-4b26-bd7d-e945557991a5",
   "metadata": {},
   "source": [
    "The numbers $a$ and $b$ can be built by a decomposition of each\n",
    "$\\alpha_{i}$ prime exponent of $n$ as \n",
    "$2 \\cdot \\lfloor {\\alpha_i/2} \\rfloor + \\alpha_{i} \\; mod \\; 2$.\n",
    "We then have $a=\\prod p_i^{\\lfloor {\\alpha_i/2} \\rfloor} \\textrm{ and }\n",
    "b=\\prod p_i^{\\alpha_{i} \\; mod \\; 2}$ so that $n=a^2b.\\;\\;$ &#x2610;"
   ]
  },
  {
   "cell_type": "markdown",
   "id": "ec7a3674-29b5-4c48-9b21-89d3d9f7f41f",
   "metadata": {
    "tags": []
   },
   "source": [
    "Show that if $(a, b)=1 \\;\\; \\exists \\;\\; x > 0, y > 0 \\;\\;\\backepsilon\\;\\; ax-by=1$"
   ]
  },
  {
   "cell_type": "markdown",
   "id": "baf2657e-be8c-4438-8881-6e3dc7fa76b1",
   "metadata": {
    "tags": []
   },
   "source": [
    "$\\neg funny$"
   ]
  },
  {
   "cell_type": "code",
   "execution_count": null,
   "id": "76fd0343-cfad-44e5-a58f-581f72a11acf",
   "metadata": {},
   "outputs": [],
   "source": []
  }
 ],
 "metadata": {
  "kernelspec": {
   "display_name": "Python 3 (ipykernel)",
   "language": "python",
   "name": "python3"
  },
  "language_info": {
   "codemirror_mode": {
    "name": "ipython",
    "version": 3
   },
   "file_extension": ".py",
   "mimetype": "text/x-python",
   "name": "python",
   "nbconvert_exporter": "python",
   "pygments_lexer": "ipython3",
   "version": "3.11.4"
  }
 },
 "nbformat": 4,
 "nbformat_minor": 5
}
