{
 "cells": [
  {
   "cell_type": "markdown",
   "id": "65e12bbe",
   "metadata": {},
   "source": [
    "The time had come for Kid Pipkin's annual birthday party; and seeing as how she was turning 18\n",
    "this was considered a momentous event; and so everyone came, even those she had not heard from\n",
    "in quite some time. Of course the celebration was at Fyz Byzkyn's farmhouse; and as it was to\n",
    "be quite an event Kid Pipkin showed up an hour early to help with preparations. \n",
    "\n",
    "'Oh I'm so glad you came early' said Fyz Byzkyn. The horses have not been watered yet and today\n",
    "they happen to need precisely seven gallons of water. \n",
    "\n",
    "Kid Pipkin arrived at the watering trough but found only a nine and a five gallong container. \n",
    "How does she proceed?\n",
    "\n",
    "Coming back in she said 'Your horses seemed to be in very good spirits.' \n",
    "\n",
    "'Yes' said Fyz Byzkyn, 'I got them some new hay fresh in from the fields... and I think they \n",
    "have been nibbling blackberries at the fence.'\n",
    "\n",
    "There was a knock at the door, and Kid Pipkin went to welcome... who would it be? It proved to\n",
    "be Alibasi, recently escaped from prison yet again and sporting lovely diamond earings, while\n",
    "up the drive were seen walking Abcdefghijklmnopqrstuvwxyz and Zyxwvutsrqponmlkjihgfedcba, who had\n",
    "stepped away from their easels at the beach for the occasion.\n",
    "\n",
    "Soon they were joined by George Dyson, and both Curious George and the Man with the Yellow Hat.\n",
    "They had flown in from somewhere in Africa. Not far behind came Horst Borskin. Surveying the \n",
    "gathered throng Kid Pipkin thought to herself of how familiar and how beloved they all were, \n",
    "that while years that had gone by this seemed to have not had the slightest impact: Everyone \n",
    "was chatting and laughing as if they were picking up conversations from just the day before. \n",
    "\n",
    "The bell rang again and at last it was the girl with the skirt of many different colors, and lastly\n",
    "behind her Put Bunkin (whose real name was Bisaella, and whose *real* real name was Isabella) \n",
    "carrying a large box. \n",
    "\n",
    "Soon they sat down to dinner, prepared by Fyz Byzkyn in a flurry of smoke and odors both mysterious\n",
    "and burning. First he brought out the cake with 18 lit candles, and according to custom they all\n",
    "sang Happy Birthday before she blew them out. The cake proved to be a Backwards Cake with three \n",
    "very thick layers made of frosting, with a think sliver of cake separating them, and more cake \n",
    "formed in a cylinder around the outside and covering the top. Fyz Byzkyn seemed so pleased with \n",
    "his invention that nobody bothered to mention that a cake made mostly of frosting was a bit on the \n",
    "rich side. After cake was finished it was time for the main course (crab and brussels sprouts), \n",
    "and then finally a salad and at last appetizers.\n",
    "\n",
    "\"This is much like the Backwards Dinners we used to get in the Army\" observed Horst Borskyn.\n",
    "\n",
    "\"Oh ho\" said Fyz Byzkyn, his eyes shining in triumph, \"It is not *like* a Backwards Dinner Horst Borskyn,\n",
    "it *is*\" (and here he drew out the word 'is' for about eight seconds) \"...a Backwards Dinner. And now I\n",
    "should like to ask, How did you enjoy it Kid Pipkin??\"\n",
    "\n",
    "'Well of course it was ever so much the most splendid birthday dinner I've ever had, and the best you \n",
    "have ever cooked!' she responded with a grand \n",
    "smile spreading across her face, but then just as suddenly her countenance fell.  Everyone grew quiet \n",
    "and she said in a small voice 'I wish we could begin with this dinner and keep going backwards \n",
    "just so, ever so quickly, to the day when\n",
    "I met you all, all those years back, so that we might go out upon our adventures all over again.'\n",
    "And she burst into tears. Nobody spoke but they all stood and gathered about her and created\n",
    "the biggest group hug any of them could remember, and there was a great deal of sniffling and \n",
    "wiping of faces and noses among everyone. "
   ]
  }
 ],
 "metadata": {
  "kernelspec": {
   "display_name": "Python 3 (ipykernel)",
   "language": "python",
   "name": "python3"
  },
  "language_info": {
   "codemirror_mode": {
    "name": "ipython",
    "version": 3
   },
   "file_extension": ".py",
   "mimetype": "text/x-python",
   "name": "python",
   "nbconvert_exporter": "python",
   "pygments_lexer": "ipython3",
   "version": "3.9.7"
  }
 },
 "nbformat": 4,
 "nbformat_minor": 5
}
