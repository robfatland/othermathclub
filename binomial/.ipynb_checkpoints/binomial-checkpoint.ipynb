{
 "cells": [
  {
   "cell_type": "markdown",
   "id": "2322d1f4-9cfd-46ee-88ef-d4c6d36a367b",
   "metadata": {},
   "source": [
    "# The Binomial Theorem\n",
    "\n",
    "\n",
    "Consider ${( \\alpha  +  \\beta )}^n$.\n",
    "\n",
    "\n",
    "$\\alpha$ can be anything we like.\n",
    "$\\beta$ as well.\n",
    "$n$ will be an integer that is not negative, so one of $0, 1, 2, 3, \\dots$ and so on.\n",
    "The idea is to expand this product.\n",
    "\n",
    "\n",
    "For example: $(\\alpha + \\beta)^2 = \\alpha^2 \\ + \\ 2 \\cdot \\alpha \\cdot \\beta \\ + \\ \\beta^2$.\n",
    "\n",
    "\n",
    "If $n$ is larger, like 3 or 4, the result becomes more complicated.\n",
    "\n",
    "\n",
    "This notebook is a stub!"
   ]
  },
  {
   "cell_type": "code",
   "execution_count": null,
   "id": "9d9504b4-615b-4bc8-9f91-19a7fdf60dd0",
   "metadata": {},
   "outputs": [],
   "source": []
  }
 ],
 "metadata": {
  "kernelspec": {
   "display_name": "Python 3 (ipykernel)",
   "language": "python",
   "name": "python3"
  },
  "language_info": {
   "codemirror_mode": {
    "name": "ipython",
    "version": 3
   },
   "file_extension": ".py",
   "mimetype": "text/x-python",
   "name": "python",
   "nbconvert_exporter": "python",
   "pygments_lexer": "ipython3",
   "version": "3.11.4"
  }
 },
 "nbformat": 4,
 "nbformat_minor": 5
}
