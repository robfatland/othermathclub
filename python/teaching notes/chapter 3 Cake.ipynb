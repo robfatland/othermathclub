{
 "cells": [
  {
   "cell_type": "markdown",
   "id": "894d4acd-ce8a-4291-9175-65be6ef829b1",
   "metadata": {},
   "source": [
    "# Chapter 3: Cake\n",
    "\n",
    "\n",
    "## Overview\n",
    "\n",
    "\n",
    "**Cake** as defined in chapter 0 is the fun cool exciting stuff that has brought us into the \n",
    "world of science and technology. We have three slices of cake to get through before the \n",
    "winter break:\n",
    "\n",
    "\n",
    "1. **`Requests`** is a dialog between the student and the web... that morphs into a puzzle game\n",
    "    - It introduces the student to being part of a larger ecosystem beyond their own laptop\n",
    "2. **`Kandinsky`** is an exploration of footprints left along a random track. It builds on part 1.\n",
    "3. **`Julia`**? **`XOR-U`**? "
   ]
  }
 ],
 "metadata": {
  "kernelspec": {
   "display_name": "Python 3 (ipykernel)",
   "language": "python",
   "name": "python3"
  },
  "language_info": {
   "codemirror_mode": {
    "name": "ipython",
    "version": 3
   },
   "file_extension": ".py",
   "mimetype": "text/x-python",
   "name": "python",
   "nbconvert_exporter": "python",
   "pygments_lexer": "ipython3",
   "version": "3.12.3"
  }
 },
 "nbformat": 4,
 "nbformat_minor": 5
}
