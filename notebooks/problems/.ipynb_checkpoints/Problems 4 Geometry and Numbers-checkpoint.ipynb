{
 "cells": [
  {
   "cell_type": "markdown",
   "metadata": {},
   "source": [
    "# Geometry and Number problems"
   ]
  },
  {
   "cell_type": "code",
   "execution_count": null,
   "metadata": {
    "collapsed": true
   },
   "outputs": [],
   "source": []
  },
  {
   "cell_type": "markdown",
   "metadata": {},
   "source": [
    "*kilroy caption*\n",
    "\n",
    "\n",
    "### Friendly introduction\n",
    "\n",
    "\n",
    "We have four notebooks on Geometry and four notebooks on the theory of Numbers. This page carries over some \n",
    "problems that would not fit... problems that live somewhere in those two subjects. "
   ]
  },
  {
   "cell_type": "markdown",
   "metadata": {},
   "source": [
    "### A problem about a point in a square\n",
    "\n",
    "\n",
    "This is from the competition math club. Specifically from **AMC 10a 2011 Problem # 25** courtesy of Tristan.\n",
    "The problem is challenging! I present it in its original language and then in a friendlier way.\n",
    "\n",
    "\n",
    "**Original version of the problem** Let $R$ be a square region and $n >= 4$ an integer. A point $X$ in the interior of $R$ is called n-ray partitional if there are rays emanating from $X$ that divide $R$ into $n$ triangles of equal area. How many points are 100-ray partitional but not 60-ray partitional?\n",
    "\n",
    "\n",
    "**Friendly version of the problem** Suppose you have a square (call it **R**) which is one unit on a side. We shall\n",
    "place it on the xy-plane because we will need a coordinate system for what follows. Let's choose the point $X\\;=\\;(1/2,\\; 1/2)$\n",
    "which is in the center of the square; and let's draw four diagonals from $X$ to the four corners of the square. \n",
    "\n",
    "\n",
    "(kilroy image)\n",
    "\n",
    "\n",
    "What we have done here is we have cut the square into four triangles that all have the same area. This is called \n",
    "a *partition* of the square **R**. Notice that we drew four rays and this gave us four partitions. We'll call\n",
    "that a 4-partition. If we added four more lines out from $X$ to the centers of each side of the square we would\n",
    "have an 8-partition. We could continue in this way to make other partitions. We could also relocate $X$ from\n",
    "the center to somewhere else inside the square. \n",
    "\n",
    "\n",
    "Suppose you have some number $n$ that is 4 or larger: $n\\;>=\\;4$. A \n",
    "point $X$ is placed at some location inside the square (not necessarily at the center) \n",
    "in such a way that $n$ lines can be drawn outward from $X$ to the perimeter of the square\n",
    "to make an $n$-partition. That is, all $n$ triangles have the same area. $X$ is \n",
    "called *n-ray partitional*.\n",
    "\n",
    "\n",
    "Here at last is the question: \n",
    "\n",
    "\n",
    "How many 100-ray partitional points are *not* also 60-ray partitional points? \n",
    "\n",
    "\n",
    "**To make this more clear:** Take a point $X$ at (0.45, 0.62), inside the unit square. \n",
    "Suppose it is possible to draw $100$ lines from that point to the sides of the square that cut the \n",
    "square into triangles all with the same area. Then $X$ is a 100-ray partitional point.\n",
    "\n",
    "\n",
    "Now suppose that the same point $X$ is *not* 60-ray partitional. Then $X$ counts. \n",
    "On the other hand we *can* partition the square into 60 equal-area triangles: \n",
    "Then $X$ *is* 60-ray partitional. It does *not* count towards the answer.\n",
    "\n",
    "\n",
    "The problem is to count the number of such points inside the square. \n",
    "\n",
    "\n",
    "Whew!\n"
   ]
  },
  {
   "cell_type": "markdown",
   "metadata": {},
   "source": [
    "### Solution\n",
    "\n",
    "My original solution was 56. But I made a mistake. Tristan solved it. I tried to follow his reasoning and\n",
    "in so doing I realized he was right and I had been in error. So I agree with his solution.\n",
    "\n",
    "\n",
    "Here is the start of a solution...\n",
    "\n",
    "\n",
    "Let's place the square $R$ at the origin in the first quadrant.\n",
    "\n",
    "\n",
    "Place $(x,\\;y)=X$ within $R$.\n",
    "\n",
    "\n",
    "Draw rays from $X$ to the four corners dividing $R$ into four regions $A$, $B$, $C$ and $D$.\n",
    "Those rays must be part of the solution; otherwise we would include corners in our partition\n",
    "and those would not be triangles.\n",
    "\n",
    "\n",
    "Count $a$ rays from $X$ to evenly spaced points along the bottom of $R$ not including the final diagonal to $(1,\\;0)$.\n",
    "\n",
    "\n",
    "Continue around counter-clockwise through regions $D$, $B$ and $C$ with ray counts $d$, $b$, $c$. Now if this \n",
    "is an $n$-ray partition then $a+b+c+d=n$. Furthermore all of the triangles must have the same area across\n",
    "those four edges of $R$. \n",
    "\n",
    "\n",
    "Assert: The location of the coordinate $y$ is independent of the location of $x$. Why? \n"
   ]
  },
  {
   "cell_type": "markdown",
   "metadata": {},
   "source": [
    "### Dr. VanderPlas has written an incredibly small computer program\n",
    "\n",
    "It is in the cell below. See if you can guess what it does..."
   ]
  },
  {
   "cell_type": "code",
   "execution_count": 1,
   "metadata": {},
   "outputs": [
    {
     "name": "stdout",
     "output_type": "stream",
     "text": [
      "327894561465132978918765423589216734643978215172543896794651382856327149231489657\n",
      "327894561465132978918765423589216734643978215271543896794651382856327149132489657\n",
      "327894561645132978918765423589216734463978215172543896794651382856327149231489657\n",
      "327894561645132978918765423589216734463978215271543896794651382856327149132489657\n"
     ]
    }
   ],
   "source": [
    "# http://jakevdp.github.io/blog/2013/04/15/code-golf-in-python-sudoku/\n",
    "def S(p):i=p.find('0');return[(s for v in set(`5**18`)-{(i-j)%9*(i/9^j/9)*(i/27^j/27|\\\n",
    "    i%9/3^j%9/3)or p[j]for j in range(81)}for s in S(p[:i]+v+p[i+1:])),[p]][i<0]\n",
    "\n",
    "puz=\"027800061000030008910005420500016030000970200070000096700000080006027000030480007\"\n",
    "for s in S(puz):\n",
    "    print(s)"
   ]
  },
  {
   "cell_type": "code",
   "execution_count": null,
   "metadata": {
    "collapsed": true
   },
   "outputs": [],
   "source": []
  }
 ],
 "metadata": {
  "anaconda-cloud": {},
  "kernelspec": {
   "display_name": "Python [conda root]",
   "language": "python",
   "name": "conda-root-py"
  },
  "language_info": {
   "codemirror_mode": {
    "name": "ipython",
    "version": 3
   },
   "file_extension": ".py",
   "mimetype": "text/x-python",
   "name": "python",
   "nbconvert_exporter": "python",
   "pygments_lexer": "ipython3",
   "version": "3.6.6"
  }
 },
 "nbformat": 4,
 "nbformat_minor": 2
}
