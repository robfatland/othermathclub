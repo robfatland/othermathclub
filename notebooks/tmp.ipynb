{
 "cells": [
  {
   "cell_type": "markdown",
   "metadata": {
    "collapsed": true
   },
   "source": [
    "# ${\\Large \\infty}$ Infinity 3\n",
    "\n",
    "This page includes Other Math Club meeting math from October 16, 2017."
   ]
  },
  {
   "cell_type": "code",
   "execution_count": 2,
   "metadata": {},
   "outputs": [
    {
     "execution_count": 2,
     "metadata": {},
     "output_type": "execute_result"
    }
   ],
   "source": [
    "import kilroy\n",
    "kilroy.Show('topology', 'mobius_infinity.png', 400, 180)"
   ]
  },
  {
   "cell_type": "markdown",
   "metadata": {},
   "source": [
    "*mobius strip infinity*\n",
    "\n",
    "\n",
    "### Friendly introduction\n",
    "\n",
    "\n",
    "Let's list the views of infinity we have had so far...\n",
    "\n",
    "\n",
    "- Infinity of square roots inside of square roots\n",
    "- Infinity of fractions under fractions\n",
    "- Huge numbers of possible proteins and super small chance of guessing them \n",
    "- Professor Euler tells us that an infinite sum of fractions can be a finite number\n",
    "- Adding up powers of $\\frac{1}{2}$... Professor Euler seems to be correct \n",
    "- Professor Hilbert's hotel (in the **extra** section)\n",
    "- Countable infinities: Professor Euler numbers the streets of Cynosure with your help\n",
    "- Infinite random digits in $\\pi$\n",
    "\n",
    "\n",
    "So now let's return to Professor Euler's sums of infinite numbers of fractions. We saw this on\n",
    "page **1 A Infinity**. Now this time we \n",
    "take matters much more seriously. So: Grim and serious expressions on our faces, please. \n",
    "This problem will turn into a hike into the wilderness... from which we may never return. \n",
    "Maybe we should pack a fishing pole in case we get hungry. "
   ]
  },
  {
   "cell_type": "markdown",
   "metadata": {
    "collapsed": true
   },
   "source": [
    "### Terms \n",
    "\n",
    "- **Recursion**: A thing that refers to itself, where the referring-to-self can repeat many times\n",
    "- **Fractal**: A structure with fine details that resemble its larger-scale self"
   ]
  },
  {
   "cell_type": "markdown",
   "metadata": {},
   "source": [
    "### Fractals, infinity, and $x$ inside of $x$\n",
    "\n",
    "\n",
    "We are on the path to fractals. These are mathematical structures that are very complicated but they are built\n",
    "using simple steps. \n",
    "\n",
    "\n",
    "Fractals have a sort of infinite smallness; think of a jigsaw puzzle with different size pieces.\n",
    "The smaller pieces look like the bigger pieces. The really tiny pieces look like the small pieces.\n",
    "Mathematicians like to quote a little poem about fleas whenever this subject comes up so I will\n",
    "share it with you. But first you should know that *ad infinitum* is Latin for 'towards forever'.\n",
    "\n",
    "\n",
    "> Big fleas have little fleas,<br>\n",
    "> Upon their backs to bite 'em,<br>\n",
    "> And little fleas have lesser fleas,<br>\n",
    "> and so, ad infinitum.<br>\n",
    "><br>\n",
    "> But great fleas themselves in turn<br>\n",
    "> Have greater fleas to go on;<br>\n",
    "> While these again have greater still,<br>\n",
    "> And greater still, and so on.<br>\n",
    ">\n",
    "\n",
    "Let's look first at the Sphinx, a simple shape made from\n",
    "equilateral triangles."
   ]
  },
  {
   "cell_type": "code",
   "execution_count": 3,
   "metadata": {},
   "outputs": [
     "execution_count": 3,
     "metadata": {},
     "output_type": "execute_result"
   ],
   "source": [
    "kilroy.Show('geometry', 'sphinx.png', 400, 200)"
   ]
  },
  {
   "cell_type": "markdown",
   "metadata": {},
   "source": [
    "*sphinx constructed with compass and straight edge; made from (guess how many) equilateral triangles*\n",
    "\n",
    "\n",
    "<br>${\\Huge \\infty}$\n",
    "\n",
    "Can you decompose this Sphinx into four identical smaller sphinxes of the same shape? \n",
    "\n",
    "\n",
    "**Solution**  To avoid showing you the answer I placed it further down on the page. \n",
    "\n",
    "\n",
    "So we see one sphinx $S$ is equal to four quarter-sized sphinxes: $S = 4\\cdot \\frac{1}{4}S$. \n",
    "At an Other Math Club meeting someone pointed out that the smaller sphinxes could be decomposed\n",
    "into still-smaller ones; so $S = 16 \\cdot \\frac{1}{16}S$.\n",
    "\n",
    "\n",
    "Now we do similarly by walking from the origin $0$ towards the point $1$.\n",
    " \n",
    " "
   ]
  },
  {
   "cell_type": "markdown",
   "metadata": {},
   "source": [
    "### Mister Zeno\n",
    "\n",
    "\n",
    "This will be similar to the sum of powers of $1/2$ from *Figure B* of Notebook **1 A Infinity**.\n",
    "There we cut a square one unit on a side into smaller and smaller bits, noticing that eventually the sum\n",
    "of all the bits would be close to $1$.\n",
    "\n",
    "\n",
    "This discussion tries to distract you by saying that there is a bubble tea shop located at $1$ on the\n",
    "number line... and everyone starts out at $0$... so it becomes a quest for bubble tea.\n",
    "\n",
    "\n",
    "This time let's imagine a certain Mister Zeno who begins on the number line at \n",
    "zero and moves towards $1$ as follows: First he looks ahead to $1$ and then he moves forward half that distance. \n",
    "This forward move is a *leg* of his journey. \n",
    "Mister Zeno first goes to $1/2$, the first leg. At $1/2$ he has $1/2$ to go; so he moves \n",
    "half that distance: $1/2 \\cdot 1/2$ or $1/4$. Now he is at $3/4$ after his second leg. \n",
    " \n",
    " \n",
    "The word *of* in the previous sentence in this context means *multiplied by*. \n",
    " \n",
    " \n",
    "Mister Zeno continues for an infinite number of legs, each half as long as the previous leg. "
   ]
  },
  {
   "cell_type": "markdown",
   "metadata": {},
   "source": [
    "<br>${\\Huge \\infty}$\n",
    "\n",
    "\n",
    "Write down your thoughts: 'Does Mister Zeno ever actually get to $1$?' \n",
    " \n",
    "\n",
    "Let's *imagine* he eventually gets *somewhere* and let's call that location $x$, an unknown coordinate.\n",
    "After the first leg $x = 1/2$. After two legs $x=3/4$. After three legs $x=7/8$. $x$ is apparently \n",
    "a sum of many fractions.\n",
    "\n",
    "\n",
    "$$x\\;=\\;\\frac{1}{2}\\;\\;+\\;\\;\\frac{1}{2}\\cdot\\frac{1}{2}\\;\\;+\\;\\;\\frac{1}{2}\\cdot\\frac{1}{2}\\cdot\\frac{1}{2}\\;\\;+\\;\\;\\frac{1}{2}\\cdot\\frac{1}{2}\\cdot\\frac{1}{2}\\cdot\\frac{1}{2}\\;\\;+\\;\\;\\cdots$$\n",
    "\n",
    "\n",
    "where the three dots mean 'and so on forever'. We can re-write $x$ like this:\n",
    "\n",
    "\n",
    "$$x=\\frac{1}{2}+\\frac{1}{4}+\\frac{1}{8}+\\frac{1}{16}+\\cdots$$\n",
    "\n",
    "\n",
    "<br>${\\Huge \\infty}$\n",
    "\n",
    "\n",
    "And now here is the riddle of the Sphinx: Do you see a smaller version of $x$ inside of $x$?\n",
    "\n",
    "\n",
    "<br>${\\Huge \\infty}$\n",
    "\n",
    "\n",
    "Write out $1/2 \\cdot x$ as a sum of fractions."
   ]
  },
  {
   "cell_type": "markdown",
   "metadata": {},
   "source": [
    "**Solution**\n",
    "\n",
    "\n",
    "$$\\frac{1}{2}x =\\frac{1}{4} + \\frac{1}{8} + \\frac{1}{16}+\\cdots$$\n",
    "\n",
    "\n",
    "Now we have not one but two cases where the 'and so on forever' dots appear: One for $x$ and one for $\\frac{1}{2}x$. \n",
    "But perhaps this isn't so bad.\n",
    "Look carefully at the equations for $x$ and $\\frac{1}{2}x$ above. \n",
    "The expression for $\\frac{1}{2}x$ appears *inside* the \n",
    "expression for $x$. Let's make use of this. First we re-copy the upper equation for $x$...\n",
    "\n",
    "\n",
    "$$x\\;\\;=\\;\\;\\frac{1}{2}\\;\\;+\\;\\;\\underbrace{\\frac{1}{4}+\\frac{1}{8}+\\frac{1}{16}+\\cdots}_{{\\large \\text{This is } \\frac{1}{2}x}}$$\n",
    "\n",
    "\n",
    "...therefore voila...\n",
    "\n",
    "\n",
    "$$x \\;\\; = \\;\\; \\frac{1}{2} \\;\\; + \\;\\; \\frac{1}{2}x$$\n",
    "\n",
    "\n",
    "What happened to the 'and so on forever' dots? They are gone. By noticing that $x$ could be found \n",
    "within itself we make the infinity of fractions fold up and vanish. What is left is a simple equation \n",
    "for $x$ that you can guess the solution to. "
   ]
  },
  {
   "cell_type": "markdown",
   "metadata": {},
   "source": [
    "<br>${\\Huge \\infty}$\n",
    "\n",
    "\n",
    "What is $x$?\n",
    "\n",
    "<br>\n",
    "<br>\n",
    "<br>\n",
    "\n",
    "Let's use the little program below to add up several of the fractions of $x$. Click on the cell and run it\n",
    "by holding down Shift and pressing Enter.\n",
    "\n",
    "You should have a little slider (set to 1) that controls how many fractions we will add together.\n",
    "The first fraction is $1/2$ so this gives us a sum of $0.5000000000000000$. \n",
    "Use the slider to increase the number of fractions. Each new fraction is the next leg of the journey."
   ]
  },
  {
   "cell_type": "code",
   "execution_count": 7,
   "metadata": {},
   "outputs": [
    {
     "data": {
      "application/vnd.jupyter.widget-view+json": {
       "model_id": "2fc343f1ee7c41de88ed7b18e648f465",
       "version_major": 2,
       "version_minor": 0
      },
      "text/plain": [
       "A Jupyter Widget"
      ]
     },
     "metadata": {},
     "output_type": "display_data"
    },
    {
     "data": {
      "text/plain": [
       "<function __main__.f>"
      ]
     },
     "execution_count": 7,
     "metadata": {},
     "output_type": "execute_result"
    }
   ],
   "source": [
    "from ipywidgets import *\n",
    "from traitlets import dlink\n",
    "import numpy as np\n",
    "def f(n_Legs): \n",
    "    sum = 0.0\n",
    "    for i in range(1,n_Legs+1): sum += np.power(0.5, float(i))\n",
    "    if n_Legs == 1: return 'Just the first leg of x gets us to '  + \"%.1f\" % sum \n",
    "    return 'Adding ' + str(n_Legs) + ' of the x fractions gives us ' + \"%.16f\" % sum \n",
    "interact(f, n_Legs=widgets.IntSlider(min=1,max=50,step=1,value=1))"
   ]
  },
  {
   "cell_type": "markdown",
   "metadata": {},
   "source": [
    "### Mister Halfway\n",
    "\n",
    "\n",
    "Mister Halfway leads a more complicated life than Mister Zeno because \n",
    "he suffers from being indecisive. While Mister Zeno kept going towards the Bubble Tea shop at $1$\n",
    "Mister Halfway keeps changing his mind about which direction to head. \n",
    "\n",
    "\n",
    "<br>${\\Huge \\infty}$\n",
    "\n",
    "\n",
    "Remember $x$ is where someone ends up after an infinite number of steps. Solve for $x$ for Mister Halfway.\n",
    "If you get stuck: Read on. We will break the problem down and solve it; but I wanted you to have a chance\n",
    "to solve it on your own first. Remember that unlike Mister Zeno: For Mister Halfway each new leg is in\n",
    "the opposite direction of the previous leg.\n",
    "\n",
    "<br>\n",
    "<br>\n",
    "<br>\n",
    "<br>\n",
    "<br>"
   ]
  },
  {
   "cell_type": "code",
   "execution_count": 5,
   "metadata": {},
   "outputs": [
    {
     "data": {
      "image/png": "iVBORw0KGgoAAAANSUhEUgAAAZAAAADICAIAAABJdyC1AACluklEQVR4nOz9V6xkSZYgiJ1j4ipX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\nTEzcQoeDAAAAAElFTkSuQmCC\n",
      "text/plain": [
       "<PIL.Image.Image image mode=RGB size=400x200 at 0x7F903168A650>"
      ]
     },
     "execution_count": 5,
     "metadata": {},
     "output_type": "execute_result"
    }
   ],
   "source": [
    "kilroy.Show('geometry', 'sphinx_2.png', 400, 200)"
   ]
  },
  {
   "cell_type": "markdown",
   "metadata": {},
   "source": [
    "*as promised this is the Sphinx broken down into four quarter-sphinxes (see above)*"
   ]
  },
  {
   "cell_type": "markdown",
   "metadata": {},
   "source": [
    "<br>${\\Huge \\infty}$\n",
    "\n",
    "\n",
    "Mister $1/2$ walks half way to his goal, stops, turns around and sets his new goal as the last\n",
    "place he stopped. Write down his first five stopping locations if he starts at $0$ and makes his first \n",
    "goal $1$. \n",
    "\n",
    "\n",
    "**Solution**\n",
    "\n",
    "\n",
    "> First leg stops at $1/2$.<br>\n",
    "> Second leg stops at $1/4$.<br>\n",
    "> Third leg stops at $3/8$.<br>\n",
    "> Fourth leg stops at $5/16$.<br>\n",
    "> Fifth leg stops at $11/32$.<br>"
   ]
  },
  {
   "cell_type": "markdown",
   "metadata": {},
   "source": [
    "<br>${\\Huge \\infty}$\n",
    "\n",
    "Write $x$ for Mister Halfway as a sum of fractions.\n",
    "\n",
    "<br>\n",
    "\n",
    "**Solution**\n",
    "\n",
    "$$x \\; = \\; \\frac{1}{2}\\;\\;-\\;\\;\\frac{1}{4}\\;\\;+\\;\\;\\frac{1}{8}\\;\\;-\\;\\;\\frac{1}{16}\\;\\;+\\;\\;\\frac{1}{32}\\;\\;\\cdots$$\n",
    "\n",
    "<br>${\\Huge \\infty}$\n",
    "\n",
    "Find $x$ within itself as we did with Mister Zeno; and write this as a sum of fractions.\n",
    "\n",
    "<br>\n",
    "\n",
    "**Solution**\n",
    "\n",
    "$$-\\frac{1}{2}x \\; = \\; -\\frac{1}{4}\\;\\;+\\;\\;\\frac{1}{8}\\;\\;-\\;\\;\\frac{1}{16}\\;\\;+\\;\\;\\frac{1}{32}\\;\\;\\cdots$$"
   ]
  },
  {
   "cell_type": "markdown",
   "metadata": {},
   "source": [
    "<br>${\\Huge \\infty}$\n",
    "\n",
    "\n",
    "Write the fraction sum for $x$ and then write this again replacing all but one of the fractions with $-\\frac{1}{2}x$.\n",
    "\n",
    "<br>\n",
    "\n",
    "**Solution**\n",
    "\n",
    "\n",
    "$$x\\;\\;=\\;\\;\\frac{1}{2}\\;\\;\\;\\underbrace{-\\;\\frac{1}{4}+\\frac{1}{8}-\\frac{1}{16}+\\cdots}_{{\\large \\text{This is } -\\frac{1}{2}x}}$$\n",
    "\n",
    "\n",
    "$$x \\;\\; = \\;\\; \\frac{1}{2} \\;\\; - \\;\\; \\frac{1}{2}x$$\n",
    "\n",
    "\n",
    "<br>${\\Huge \\infty}$\n",
    "\n",
    "\n",
    "Solve for $x$, the location Mister Halfway winds up.\n",
    "\n",
    "<br>\n",
    "<br>\n",
    "<br>\n",
    "\n",
    "Now run the cell below to get a new experiment. Just like the previous experiment\n",
    "you use the slider to determine how many fractions are added up. You can use this \n",
    "to check your answer for $x$ in the above problem. It adds up precisely the fractions\n",
    "of Mister Halfway's walk.\n"
   ]
  },
  {
   "cell_type": "code",
   "execution_count": 1,
   "metadata": {},
   "outputs": [
    {
     "data": {
      "application/vnd.jupyter.widget-view+json": {
       "model_id": "7321d029dd044751be7742797c314683",
       "version_major": 2,
       "version_minor": 0
      },
      "text/plain": [
       "A Jupyter Widget"
      ]
     },
     "metadata": {},
     "output_type": "display_data"
    },
    {
     "data": {
      "text/plain": [
       "<function __main__.f>"
      ]
     },
     "execution_count": 1,
     "metadata": {},
     "output_type": "execute_result"
    }
   ],
   "source": [
    "from ipywidgets import *\n",
    "from traitlets import dlink\n",
    "import numpy as np\n",
    "def f(n_Legs): \n",
    "    sum = 0.0\n",
    "    for i in range(1,n_Legs+1): sum += (2*(i%2)-1)*np.power(0.5, float(i))\n",
    "    if n_Legs == 1: return 'Just the first leg of x gets us to '  + \"%.1f\" % sum \n",
    "    return 'Adding ' + str(n_Legs) + ' of the x fractions gives us ' + \"%.16f\" % sum \n",
    "interact(f, n_Legs=widgets.IntSlider(min=1,max=50,step=1,value=1))"
   ]
  },
  {
   "cell_type": "markdown",
   "metadata": {},
   "source": [
    "In both experiments above: ***We did not need to solve for $x$... we just used the fraction\n",
    "formula to calculate $x$.*** This demonstrates the usefulness of computation provided we\n",
    "don't have to do the arithmetic ourselves. So thanks to the computers for that.\n",
    "\n",
    "\n",
    "<br>${\\Huge \\infty}$\n",
    "\n",
    "\n",
    "Once Mister Halfway arrives at $1/3$: He has walked a total distance going back and forth. \n",
    "How far has he walked? To be clear: Whether he walks in the positive or the negative direction he always\n",
    "travels a *positive* distance. Distances are either always positive (unless you don't move in \n",
    "which case they are zero.)\n",
    "\n",
    "\n",
    "Solution: The cell below calculates how far he walks by simply adding up the fractions. You can check your solution\n",
    "by increasing the number of fractions that are added up."
   ]
  },
  {
   "cell_type": "code",
   "execution_count": 3,
   "metadata": {},
   "outputs": [
    {
     "data": {
      "application/vnd.jupyter.widget-view+json": {
       "model_id": "adcf7ed03622457b8792d033d0810182",
       "version_major": 2,
       "version_minor": 0
      },
      "text/plain": [
       "A Jupyter Widget"
      ]
     },
     "metadata": {},
     "output_type": "display_data"
    },
    {
     "data": {
      "text/plain": [
       "<function __main__.f>"
      ]
     },
     "execution_count": 3,
     "metadata": {},
     "output_type": "execute_result"
    }
   ],
   "source": [
    "from ipywidgets import *\n",
    "from traitlets import dlink\n",
    "import numpy as np\n",
    "def f(n_Legs): \n",
    "    sum = 0.0\n",
    "    for i in range(1,n_Legs+1): sum += np.power(0.5, float(i))\n",
    "    if n_Legs == 1: return 'Just the first leg gets us to '  + \"%.1f\" % sum \n",
    "    return 'Adding ' + str(n_Legs) + ' of the legs gives us ' + \"%.16f\" % sum \n",
    "interact(f, n_Legs=widgets.IntSlider(min=1,max=50,step=1,value=1))"
   ]
  },
  {
   "cell_type": "markdown",
   "metadata": {},
   "source": [
    "### Mister a/b\n",
    "\n",
    "\n",
    "Now we can go from Mister Halfway to the more abstract question of Mister a/b. This is pronounced\n",
    "'Mister aiy over bee'. \n",
    "\n",
    "\n",
    "Mister a/b is indecisive just like Mister Halfway... he always travels $\\frac{a}{b}$ \n",
    "of the distance to his goal; and then he turns around; and his new goal becomes the \n",
    "location he just left from on the previous leg. \n",
    "\n",
    "\n",
    "Notice that Mister Halfway is a special case of Mister a/b with $a=1$ and $b=2$.\n",
    "\n",
    "\n",
    "For the moment $a$ and $b$ must be positive integers with $a<b$. Therefore $a/b$ is a \n",
    "rational number, in fact a fraction greater than zero and less than one.  "
   ]
  },
  {
   "cell_type": "markdown",
   "metadata": {},
   "source": [
    "<br>${\\Huge \\infty}$\n",
    "\n",
    "\n",
    "Please speculate: What would happen if $a$ was greater than $b$? That is, what would Mister a/b's journey\n",
    "look like?\n",
    "\n",
    "\n",
    "\n",
    "Solution: Use the following cell with three sliders. One selects $a$, the other selects $b$, and the third \n",
    "selects how many steps along the journey. Mister a/b always starts at $0$ and his first goal is always $1$."
   ]
  },
  {
   "cell_type": "code",
   "execution_count": null,
   "metadata": {
    "collapsed": true
   },
   "outputs": [],
   "source": [
    "def f(a, b, n_Legs): \n",
    "    sum = 0.0\n",
    "    a_over_b = float(a)/float(b)\n",
    "    for i in range(1,n_Legs+1): sum += np.power(0.5, float(i))\n",
    "    if n_Legs == 1: return 'Just the first leg gets us to '  + \"%.1f\" % sum \n",
    "    return 'Adding ' + str(n_Legs) + ' of the legs gives us ' + \"%.16f\" % sum \n",
    "\n",
    "interact(f, a=widgets.IntSlider(min=2,max=17,step=1,value=3),\n",
    "            b=widgets.IntSlider(min=1,max=16,step=1,value=2),\n",
    "            n_Legs=widgets.IntSlider(min=1,max=50,step=1,value=1)\n",
    "        )"
   ]
  },
  {
   "cell_type": "markdown",
   "metadata": {},
   "source": [
    "<br>${\\Huge \\infty}$\n",
    "\n",
    "\n",
    "For this question remember that $a$ is indeed less than $b$. Therefore the fraction\n",
    "$a/b$ is less than one. After an infinite number of legs of his indecisive journeywhere does Mister $a/b$ end up? \n",
    "\n",
    "\n",
    "What is important to understand here is that you are *generalizing* a specific problem.\n",
    "The specific problem is the question of $x$ for Mister Halfway. Now however you are asked\n",
    "to solve the problem for *any* fraction $\\frac{a}{b}$... which means that the answer\n",
    "you get will be a kind of formula that includes both $a$ and $b$. If it did not include\n",
    "$a$ for example then that would be the same as saying 'it doesn't matter what $a$ is; \n",
    "the answer does not depend on that'. However in this case the answer *does* depend on\n",
    "both $a$ and $b$ as you you might guess.\n",
    "\n",
    "\n",
    "A solution to this problem is outlined below. Try it out on your own first; and if you \n",
    "get stuck then work through this solution. Remember to write in your notebook."
   ]
  },
  {
   "cell_type": "markdown",
   "metadata": {},
   "source": [
    "**Solution**\n",
    "\n",
    "\n",
    "As before we set $x$ equal to the location of Mister a/b after some number of legs. \n",
    "\n",
    "\n",
    "After the first leg \n",
    "\n",
    "\n",
    "$$x=\\frac{a}{b}$$ \n",
    "\n",
    "\n",
    "After the second leg (Mister a/b turns around and heads back towards zero) we have \n",
    "\n",
    "\n",
    "$$x=\\left(\\frac{a}{b}\\right)\\;\\;-\\;\\;\\left(\\frac{a}{b}\\right)\\cdot\\left(\\frac{a}{b}\\right)$$\n",
    "\n",
    "\n",
    "After the third leg we have\n",
    "\n",
    "\n",
    "$$x=\\left(\\frac{a}{b}\\right)\\;\\;-\\;\\;\\left(\\frac{a}{b}\\right)\\cdot\\left(\\frac{a}{b}\\right)\\;\\;+\\;\\;\n",
    "\\left(\\frac{a}{b}\\right)\\cdot\\left(\\frac{a}{b}\\right)\\cdot\\left(\\frac{a}{b}\\right)$$\n",
    "\n",
    "\n",
    "Following this pattern it seems that after an infinite number of legs...\n",
    "\n",
    "\n",
    "$$x=\\left(\\frac{a}{b}\\right)\\;\\;-\\;\\;\\left(\\frac{a}{b}\\right)\\cdot\\left(\\frac{a}{b}\\right)\\;\\;+\\;\\;\n",
    "\\left(\\frac{a}{b}\\right)\\cdot\\left(\\frac{a}{b}\\right)\\cdot\\left(\\frac{a}{b}\\right)\\;\\;-\\;\\;\n",
    "\\left(\\frac{a}{b}\\right)\\cdot\\left(\\frac{a}{b}\\right)\\cdot\\left(\\frac{a}{b}\\right)\\cdot\\left(\\frac{a}{b}\\right)\n",
    "\\;\\;+\\;\\;\\cdots$$\n",
    "\n",
    "\n",
    "To put this in terms of exponents (powers of the fraction $\\frac{a}{b}$): \n",
    "\n",
    "\n",
    "$$x\\;=\\;\\left(\\frac{a}{b}\\right)^1\\;-\\;\\left(\\frac{a}{b}\\right)^2\\;+\\;\\left(\\frac{a}{b}\\right)^3\\;-\n",
    "\\;\\left(\\frac{a}{b}\\right)^4\\;+\\;\\left(\\frac{a}{b}\\right)^5\\;-\\;\\cdots$$"
   ]
  },
  {
   "cell_type": "markdown",
   "metadata": {},
   "source": [
    "<br>${\\Huge \\infty}$\n",
    "\n",
    "\n",
    "Using the method of *finding $x$ inside of $x$* see if you can arrive at this equation:\n",
    "\n",
    "\n",
    "$$x\\;\\;=\\;\\;\\frac{a}{b}\\;\\;-\\;\\;\\frac{a}{b}\\cdot x$$\n",
    "\n",
    "\n",
    "<br>${\\Huge \\infty}$\n",
    "\n",
    "\n",
    "Verify that $x\\;=\\;{\\large \\frac{a}{a+b}}$ makes the previous equation true.\n",
    "\n",
    "\n",
    "Incidentally: You may be new to moving symbols around like this. It is often called *algebra* but\n",
    "really it is more like arithmetic with letters instead of numbers. If it is unfamiliar: Don't worry; \n",
    "this is not the important part of the hike and you can give it a glance and continue onwards.\n",
    "\n",
    "\n",
    "**Solution**\n",
    "\n",
    "\n",
    "${\\large \\frac{a}{a+b}\\;\\;\\stackrel{?}{=}\\;\\;\\frac{a}{b}\\;\\;-\\;\\;\\frac{a}{b}\\cdot \\frac{a}{a+b}}$\n",
    "\n",
    "<br>\n",
    "\n",
    "${\\large\\frac{b}{b}\\cdot\\frac{a}{a+b}\\;\\;\\stackrel{?}{=}\\;\\;\\frac{a}{b}\\cdot\\frac{a+b}{a+b}\\;\\;-\\;\\;\\frac{a}{b}\\cdot \\frac{a}{a+b}}$\n",
    "\n",
    "<br>\n",
    "\n",
    "${\\large\\frac{a\\cdot b}{b\\cdot(a+b)}\\;\\;\\stackrel{?}{=}\\;\\;\\frac{a^2\\;+\\;a\\cdot b\\; -\\; a^2}{b\\cdot(a+b)}}$\n",
    "\n",
    "<br>\n",
    "\n",
    "Indeed this is true so let's change the question mark *?* to an exclamation mark *!* meaning 'True!'\n",
    "\n",
    "<br>\n",
    "\n",
    "${\\large\\frac{a\\cdot b}{b\\cdot(a+b)}\\;\\;\\stackrel{!}{=}\\;\\;\\frac{a\\cdot b}{b\\cdot(a+b)}}$\n",
    "\n"
   ]
  },
  {
   "cell_type": "markdown",
   "metadata": {},
   "source": [
    "<br>${\\Huge \\infty}$\n",
    "\n",
    "\n",
    "Write down your thoughts on this solution. Include a check: Does this formula work properly\n",
    "for Mister Halfway? In other words does it work if you set $a=1$ and $b=2$?\n",
    "\n",
    "\n",
    "<br>${\\Huge \\infty}$\n",
    "\n",
    "\n",
    "What are the smallest and largest possible values of $x$ for Mister a/b? \n",
    "\n",
    "\n",
    "<br>${\\Huge \\infty}$\n",
    " \n",
    " \n",
    "Describe the journey of Mister a/b if we permit $a$ and $b$ to both be equal to $1$.\n",
    "What does the formula have to say about $x$? Reflect on this in your notebook. \n",
    "\n",
    "\n",
    "<br>${\\Huge \\infty}$\n",
    " \n",
    "\n",
    "What if we allow $a>b$? For example what happens to Mister $2/1$?"
   ]
  },
  {
   "cell_type": "markdown",
   "metadata": {},
   "source": [
    "\n",
    "### Extra\n",
    "\n",
    "- Decompose the Sphinx into six equal-sized equilateral triangles.\n",
    "- Can you come up with another shape made from smaller copies of itself?"
   ]
  },
  {
   "cell_type": "code",
   "execution_count": null,
   "metadata": {
    "collapsed": true
   },
   "outputs": [],
   "source": []
  }
 ],
 "metadata": {
  "kernelspec": {
   "display_name": "Python 2",
   "language": "python",
   "name": "python2"
  },
  "language_info": {
   "codemirror_mode": {
    "name": "ipython",
    "version": 2
   },
   "file_extension": ".py",
   "mimetype": "text/x-python",
   "name": "python",
   "nbconvert_exporter": "python",
   "pygments_lexer": "ipython2",
   "version": "2.7.14"
  }
 },
 "nbformat": 4,
 "nbformat_minor": 2
}
