{
 "cells": [
  {
   "cell_type": "markdown",
   "id": "db36dd83-650f-42ed-831d-95c59af56370",
   "metadata": {},
   "source": [
    "# Counting\n",
    "\n",
    "\n",
    "This chapter is about counting things. It includes instructions on how to count to infinity (but not beyond).\n",
    "\n",
    "\n",
    "In the language of Python: We will learn about counting in code using *loops*. This example \n",
    "takes a nine-letter word \"Argentina\" and uses it to count to 9; counting by letters. Every time \n",
    "the program counts off a new letter it also makes up a number at random. \n",
    "\n",
    "\n",
    "See if this code makes sense: "
   ]
  },
  {
   "cell_type": "code",
   "execution_count": 3,
   "id": "9222df9f-8298-4584-92b8-60af0dfd33f6",
   "metadata": {},
   "outputs": [
    {
     "name": "stdout",
     "output_type": "stream",
     "text": [
      "A\n",
      "10\n",
      "r\n",
      "11\n",
      "g\n",
      "12\n",
      "e\n",
      "10\n",
      "n\n",
      "13\n",
      "t\n",
      "13\n",
      "i\n",
      "12\n",
      "n\n",
      "13\n",
      "a\n",
      "13\n"
     ]
    }
   ],
   "source": [
    "from random import randint\n",
    "\n",
    "for c in 'Argentina':\n",
    "    print(c)\n",
    "    print(randint(10,13))"
   ]
  },
  {
   "cell_type": "markdown",
   "id": "85b15c2e-569d-4c41-a8d9-014be06bc080",
   "metadata": {},
   "source": [
    "Take a moment to connect the code to the output in your mind. This is the first\n",
    "step in learning any language: Start guessing at the *meaning* of things. \n",
    "\n",
    "\n",
    "### How to count to infinity\n",
    "\n",
    "\n",
    "Is infinity a number? \n",
    "\n",
    "\n",
    "Notice the title above '*How to count to infinity*' uses the word infinity *as if* it was a number. \n",
    "Let's define infinity as something that is boundless. Now a number is bounded; for example $4$ is less\n",
    "than $5$. So infinity not a number. But infinity is an idea that we can think about *in relation to\n",
    "numbers*. We just have to remember that infinity is unbounded.\n",
    "\n",
    "\n",
    "Let's begin with a story.\n",
    "\n",
    "\n",
    "Professor David Hilbert purchased a hotel with proceeds from a book he wrote. Upon visiting the hotel\n",
    "for the first time he was surprised to find that it had an infinite number of rooms. They were numbered\n",
    "room 1, room 2, room 3, room 4 and so on. He was *further* surprised to find that in the front office\n",
    "was a microphone that was connected to a speaker in each room. The one condition all the guests agreed\n",
    "to upon checking in to this hotel was that if they were asked (by the speaker) to change rooms they\n",
    "would immediately do as directed without complaining. \n",
    "\n",
    "\n",
    "On this particular day the hotel was full. There were an infinite number of guests, one in each room.\n",
    "But at 7PM a new person entered the hotel office and said to Professor Hilbert 'I see your sign out \n",
    "front says No Vacancy but I wonder if you might have a room available for me. I am very tired!'\n",
    "\n",
    "\n",
    "What can Professor Hilbert do to accommodate this new guest?\n",
    "\n",
    "\n",
    "\n",
    "### The second type of loop\n",
    "\n",
    "\n",
    "Python has two built in names for logical values: `True` and `False`. See what happens when\n",
    "you run this code: "
   ]
  },
  {
   "cell_type": "code",
   "execution_count": null,
   "id": "c5720b1d-02ec-4d67-bb9f-37115262245a",
   "metadata": {},
   "outputs": [],
   "source": [
    "if True:\n",
    "    print(\"Looks like it was True!\")\n",
    "\n",
    "if False:\n",
    "    print(\"Looks like it was False!\")"
   ]
  },
  {
   "cell_type": "markdown",
   "id": "af143adc-383e-499a-a8bb-0e86f63e8547",
   "metadata": {},
   "source": [
    "Now substitute `3 < 10` for `True` and `3 > 10` for `False`. Predict what will happen\n",
    "and then check it by running the code. \n",
    "\n",
    "\n",
    "### the `while` loop\n",
    "\n",
    "\n",
    "Now create / predict / run this code:\n",
    "\n",
    "\n",
    "```\n",
    "a = 4\n",
    "while a > 0:\n",
    "    print(a)\n",
    "    a = a - 1\n",
    "```\n",
    "\n",
    "\n",
    "Explain to your neighbor what is happening. Then write code that counts from 3 to 19.\n",
    "Then write code that counts from 50 to 60 by twos: 50, 52, 54 etcetera.\n",
    "\n",
    "\n",
    "Now that we have the `while` loop working: Go up and compare it to the `for` loop from above.\n",
    "\n",
    "\n",
    "\n",
    "Challenge: Rewrite this code using `while` instead of `for`:\n",
    "\n",
    "\n",
    "```\n",
    "for i in [1, 2, 3, 4, 5, 6, 7, 8, 9, 10, 11, 12]:\n",
    "    print(i)\n",
    "```\n",
    "\n",
    "\n",
    "The new words for this lesson include *`print`*, *`for`*, *`while`*, *`loop`*, *`randint`*, *`True`*, *`False`* and *`if`*.\n",
    "\n",
    "\n",
    "There are two more words to add to finish up: *`variable`* and *`assign`*. A variable is a\n",
    "computer's version of a bucket: It has a label on the outside and it carries around some \n",
    "sort of number or other data. We can create a variable by assigning it a value:\n",
    "\n",
    "\n",
    "```\n",
    "a = 7\n",
    "\n",
    "agd = 7.2\n",
    "\n",
    "agooddog = \"woof\"\n",
    "\n",
    "print(a, agd, agooddog)\n",
    "\n",
    "a = a + 2\n",
    "\n",
    "agd = agd + 2.8\n",
    "\n",
    "agooddog = agooddog + \"woofwoof give me a treat\"\n",
    "\n",
    "print(a, agd, agooddog)\n",
    "```\n"
   ]
  },
  {
   "cell_type": "code",
   "execution_count": null,
   "id": "ffb2ae63-e724-40a8-b5d9-5d36864d2075",
   "metadata": {},
   "outputs": [],
   "source": [
    "a = 7\n",
    "\n",
    "agd = 7.2\n",
    "\n",
    "agooddog = \"woof\"\n",
    "\n",
    "print(a)\n",
    "print(agd)\n",
    "print(agooddog)\n",
    "\n",
    "a = a + 2\n",
    "\n",
    "agd = agd + 2.8\n",
    "\n",
    "agooddog = agooddog + \"woofwoof give me a treat\"\n",
    "\n",
    "print(a, agd, agooddog)"
   ]
  },
  {
   "cell_type": "markdown",
   "id": "2855a0d3-8f52-49e1-8461-e9a4b872a4b0",
   "metadata": {},
   "source": [
    "Again read through the code and compare it to what is printed when you run it. \n",
    "Welcome to Python programming!\n",
    "\n",
    "\n",
    "### The narrator\n",
    "\n",
    "\n",
    "Someone is writing these words. When we go to class there is often a teacher who directs\n",
    "our activities. We hear stories from special guest speakers. This note is to mention that\n",
    "there is a general term for such a person: We can say that they are the *teacher*, *speaker*,\n",
    "*author*, or what have you; but here we use a general term: **narrator**.\n",
    "\n",
    "\n",
    "As a rule we assume what the narrator says is correct and helpful. \n",
    "\n",
    "\n",
    "Onward!"
   ]
  },
  {
   "cell_type": "markdown",
   "id": "65072138-0262-463b-8377-5c4d55c3a2af",
   "metadata": {},
   "source": [
    "# Counting 2\n",
    "\n",
    "\n",
    "Here are some Python programs to write and test. They will make use of the for-loop, \n",
    "the while-loop, variables, assignment, if-statements, logic (`True` and `False`) and of\n",
    "course the `print()` function so we can see what is happening. \n",
    "\n",
    "\n"
   ]
  },
  {
   "cell_type": "markdown",
   "id": "e0434c8d-7892-4097-b13f-b7b280e65987",
   "metadata": {},
   "source": [
    "Earlier there was a heading **How To Count To Infinity**. Here is your first *thinking + Python*\n",
    "challenge: Write a Python program that counts to infinity. (Notice that whenever you write and\n",
    "play around with Python code: **You** become the narrator."
   ]
  },
  {
   "cell_type": "code",
   "execution_count": null,
   "id": "f5dad9a2-4914-4f2a-bd40-a59028788049",
   "metadata": {},
   "outputs": [],
   "source": [
    "14711*12\n"
   ]
  }
 ],
 "metadata": {
  "kernelspec": {
   "display_name": "Python 3 (ipykernel)",
   "language": "python",
   "name": "python3"
  },
  "language_info": {
   "codemirror_mode": {
    "name": "ipython",
    "version": 3
   },
   "file_extension": ".py",
   "mimetype": "text/x-python",
   "name": "python",
   "nbconvert_exporter": "python",
   "pygments_lexer": "ipython3",
   "version": "3.13.4"
  }
 },
 "nbformat": 4,
 "nbformat_minor": 5
}
