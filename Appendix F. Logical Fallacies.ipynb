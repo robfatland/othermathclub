{
 "cells": [
  {
   "cell_type": "markdown",
   "metadata": {},
   "source": [
    "## Appendix F. Logical Fallacies\n",
    "\n",
    "The purpose of this Notebook is to understand the process of argument in relation to logic. \n",
    "\n",
    "If you are going to convince someone of an idea in mathematics you will have to choose between methods of argument. Let's create some bad examples to see how you can completely fail to convince me that you are correct!"
   ]
  },
  {
   "cell_type": "markdown",
   "metadata": {},
   "source": [
    "I would like to convince you that the area of a circle with a radius of 1 is pi. Fortunately I do not have to come up with a mathematical argument because this result has been known since the time of the ancient Greek mathematicians. In particular the mathematician Getos of Agrippa wrote a book on why this is true that has survived until today. "
   ]
  },
  {
   "cell_type": "code",
   "execution_count": null,
   "metadata": {
    "collapsed": true
   },
   "outputs": [],
   "source": []
  }
 ],
 "metadata": {
  "kernelspec": {
   "display_name": "Python 2",
   "language": "python",
   "name": "python2"
  },
  "language_info": {
   "codemirror_mode": {
    "name": "ipython",
    "version": 2
   },
   "file_extension": ".py",
   "mimetype": "text/x-python",
   "name": "python",
   "nbconvert_exporter": "python",
   "pygments_lexer": "ipython2",
   "version": "2.7.11"
  }
 },
 "nbformat": 4,
 "nbformat_minor": 0
}
