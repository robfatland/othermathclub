{
 "cells": [
  {
   "cell_type": "markdown",
   "id": "2e5935fb-79c6-422a-b123-89ef5b805aac",
   "metadata": {},
   "source": [
    "## The Other Math Club also known as Python Bytes\n",
    "\n",
    "\n",
    "This repository is essentially a book of material for exploring math and\n",
    "Python programming. The target audience is Middle School to High School\n",
    "students.\n",
    "\n",
    "\n",
    "### Links\n",
    "\n",
    "\n",
    "- This [other math club](https://github.com/robfatland/othermathclub) project on GitHub\n",
    "- [Rob's GitHub page](https://github.com/robfatland)\n",
    "\n",
    "\n",
    "### Other math and python bytes\n",
    "\n",
    "\n",
    "The Other Math Club began at a Bellevue Washington middle school in 2017 as an exploration \n",
    "of interesting, accessible ideas. After two years it transformed into more of a computer \n",
    "programming club (hence \"Python Bytes\") without the intensity of a competition-oriented club.\n",
    "\n",
    "\n",
    "![sodium_flame](https://github.com/user-attachments/assets/5c2e40d3-e73d-4fd4-b8ca-67ae2cc30add)\n",
    "\n",
    "\n",
    "A club that meets but once per week (with skips for school calendar events) will necessarily\n",
    "have continuity challenges. Over time we have tried to include more structure in response. \n",
    " \n",
    "\n",
    "\n",
    "### Framework\n",
    "\n",
    "\n",
    "![ClubPlan](https://github.com/user-attachments/assets/238549f4-197d-4dab-990e-de6712e7c4b9)\n",
    "\n",
    "\n",
    "- Begin with ideas (not Python syntax)\n",
    "- We ponder the ideas until we come up with some sort of calculation\n",
    "- This calculation is then translated into code\n",
    "- Once the code is working we use it to experiment\n",
    "- Ideally the experiments give us a sense of insight into the ideas we started with\n",
    "\n",
    "\n",
    "We learn Python syntax along the way; and we also practice communicating our ideas\n",
    "and our progress. The students are on their way to meet a peculiarly interesting \n",
    "world out there; so we try and emphasize engagement with and support from our\n",
    "Minders back home.\n",
    "\n",
    "\n",
    "![glacier_terminus](https://github.com/user-attachments/assets/fcc5eef9-a74e-4b89-a7ca-2c410c841d94)\n",
    "\n",
    "\n"
   ]
  }
 ],
 "metadata": {
  "kernelspec": {
   "display_name": "Python 3 (ipykernel)",
   "language": "python",
   "name": "python3"
  },
  "language_info": {
   "codemirror_mode": {
    "name": "ipython",
    "version": 3
   },
   "file_extension": ".py",
   "mimetype": "text/x-python",
   "name": "python",
   "nbconvert_exporter": "python",
   "pygments_lexer": "ipython3",
   "version": "3.13.4"
  }
 },
 "nbformat": 4,
 "nbformat_minor": 5
}
