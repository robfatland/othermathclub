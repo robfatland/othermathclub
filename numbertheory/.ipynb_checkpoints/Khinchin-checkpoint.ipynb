{
 "cells": [
  {
   "cell_type": "markdown",
   "id": "78d28908-6f90-469b-9c61-e1643b67f3df",
   "metadata": {},
   "source": [
    "# Khinchin Three Pearls of Number Theory\n",
    "\n",
    "\n",
    "Assume variables are integers unless noted.\n",
    "\n",
    "\n",
    "Define an arithmetic progression of length $n$ as ${ a, a + b, a + 2b, \\dots , a + (n-1)b }$.\n",
    "\n",
    "\n",
    "Imagine partitioning the natural numbers into two sets by some arbitrary means; for example\n",
    "even / odd or prime / composite. The conjecture originated: \n",
    "\"Can one then assert that arithmetic progressions of arbitrary\n",
    "length can be found in at least one of these parts?\" The Hollander \n",
    "[van der Waerden](https://en.wikipedia.org/wiki/Bartel_Leendert_van_der_Waerden)\n",
    "is cited as having provided a first proof. Khinchin provides an elementary\n",
    "(though not simple) proof in his book **Three pearls of number theory** (1952).\n",
    "\n",
    "\n",
    "Let's begin by taking a careful transcription of the rules of the game, so to speak, \n",
    "starting by citing the Wikipedia article on \n",
    "[van der Waerden's theorem](https://en.wikipedia.org/wiki/Van_der_Waerden%27s_theorem).\n",
    "\n",
    "\n",
    "Distilled from page 12 of TPONT: van der Waerden assumes the natural numbers are\n",
    "partitioned into not $2$ but $k$ sets. Then we have this notion of *improvement*\n",
    "on the original premise above where the entirety of the natural numbers are \n",
    "partitioned in some way. Rather: only a finite extent of natural numbers need\n",
    "be classified into these $k$ sets to guarantee the existence of an arithmetic \n",
    "progression of arbitrary length within at least one of these sets.\n",
    "\n",
    "\n",
    "\n",
    "\n",
    "\n",
    "\n",
    "\n",
    "\n",
    "\n",
    "\n"
   ]
  },
  {
   "cell_type": "code",
   "execution_count": null,
   "id": "664d96dc-ca6f-43d0-9079-a1619e2a4aef",
   "metadata": {},
   "outputs": [],
   "source": []
  }
 ],
 "metadata": {
  "kernelspec": {
   "display_name": "Python 3 (ipykernel)",
   "language": "python",
   "name": "python3"
  },
  "language_info": {
   "codemirror_mode": {
    "name": "ipython",
    "version": 3
   },
   "file_extension": ".py",
   "mimetype": "text/x-python",
   "name": "python",
   "nbconvert_exporter": "python",
   "pygments_lexer": "ipython3",
   "version": "3.9.7"
  }
 },
 "nbformat": 4,
 "nbformat_minor": 5
}
