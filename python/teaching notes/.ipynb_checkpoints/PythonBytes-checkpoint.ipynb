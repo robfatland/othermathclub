{
 "cells": [
  {
   "cell_type": "markdown",
   "id": "0767f213-4849-4a3c-be18-93549878fb90",
   "metadata": {},
   "source": [
    "# Python Bytes\n",
    "\n",
    "Python Bytes (PB) is a middle school coding club that focuses on exploring\n",
    "the relationship between ideas and computation. The operation of the club\n",
    "has been a learning journey and these notes (written August 2024) attempt\n",
    "to summarize aspects of that journey.\n",
    "\n",
    "\n",
    "Before getting into the details of the club experience, I'd like to provide\n",
    "a personal remark on motivation. Before I became aware of calculators and\n",
    "computers (in late 1976) I was immersed in a personal drama: I could see \n",
    "an ordinary world around me, the world 'as it was' -- cars and notebooks and grocery stores --\n",
    "but then occasionally I was getting hints and signs that there was more going on. \n",
    "And this *more going on* was not *magic* per se, like spells one reads about in \n",
    "fantasy books; but it had *similarities* to magic. Sometimes this world-beyond was \n",
    "clearly in sight: We had after all journeyed to the moon several times. And just as often \n",
    "I found evidence of *more going on* to be elusive, beyond my view. Perhaps\n",
    "a mirror could in fact dissolve and one could step through to the room on the\n",
    "other side. \n",
    "\n",
    "\n",
    "So I gradually developed a personal compass that would point towards the\n",
    "*more going on* world. One of the big milestones was finding out about computers \n",
    "and programmable calculators. Another was discovering the Mathematical Games \n",
    "column in Scientific American. By the time these pieces were added in my\n",
    "compass had a pretty clear label, and that label was **mathematics**. \n",
    "\n",
    "\n",
    "## Club history and skill tiers\n",
    "\n",
    "The Python Bytes (non-competitive) computing club has run each year at Tyee\n",
    "Middle School in Bellevue Washington since 2018. Until last year (the 2023-24 \n",
    "school year) the club ran on two 'tiers': Tier 1 was intended to serve students \n",
    "who were completely new to coding and tier 2 was oriented towards students who \n",
    "already had some coding experience. \n",
    "\n",
    "In this most recent year the distinction was abandoned because it tended to \n",
    "dilute our limited teaching resources. The new assumption tried in 2023 was \n",
    "that all students are essentially beginning coders. This helped in the \n",
    "shift of focus to ideas, described below.\n",
    "\n",
    "\n",
    "## Language dichotomy\n",
    "\n",
    "We tend to learn languages on multiple levels and Python as a programming \n",
    "language follows this pattern. With limited time (90 minutes once per week)\n",
    "PB must address the challenge of learning coding mechanics -- how does \n",
    "execution flow work? What is a variable? What is syntax? -- with content that\n"
   ]
  }
 ],
 "metadata": {
  "kernelspec": {
   "display_name": "Python 3 (ipykernel)",
   "language": "python",
   "name": "python3"
  },
  "language_info": {
   "codemirror_mode": {
    "name": "ipython",
    "version": 3
   },
   "file_extension": ".py",
   "mimetype": "text/x-python",
   "name": "python",
   "nbconvert_exporter": "python",
   "pygments_lexer": "ipython3",
   "version": "3.12.3"
  }
 },
 "nbformat": 4,
 "nbformat_minor": 5
}
