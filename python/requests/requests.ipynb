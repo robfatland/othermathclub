{
 "cells": [
  {
   "cell_type": "code",
   "execution_count": 1,
   "id": "9f55de2c-53b1-420f-a5be-3bcd5a053dac",
   "metadata": {
    "tags": []
   },
   "outputs": [
    {
     "name": "stdout",
     "output_type": "stream",
     "text": [
      "      May 2024\n",
      "Mo Tu We Th Fr Sa Su\n",
      "       1  2  3  4  5\n",
      " 6  7  8  9 10 11 12\n",
      "13 14 15 16 17 18 19\n",
      "20 21 22 23 24 25 26\n",
      "27 28 29 30 31\n",
      "\n"
     ]
    }
   ],
   "source": [
    "import calendar\n",
    "import datetime\n",
    "\n",
    "now = datetime.datetime.now()\n",
    "print(calendar.month(now.year, now.month))"
   ]
  },
  {
   "cell_type": "code",
   "execution_count": 31,
   "id": "742737b8-1e23-4731-8324-5b05a07344d3",
   "metadata": {},
   "outputs": [],
   "source": [
    "import requests\n",
    "response = requests.get(\"https://api.github.com\")"
   ]
  },
  {
   "cell_type": "code",
   "execution_count": 32,
   "id": "a24d83d7-e46d-493e-88bd-cee223bf03e5",
   "metadata": {
    "tags": []
   },
   "outputs": [
    {
     "data": {
      "text/plain": [
       "<Response [200]>"
      ]
     },
     "execution_count": 32,
     "metadata": {},
     "output_type": "execute_result"
    }
   ],
   "source": [
    "response"
   ]
  },
  {
   "cell_type": "code",
   "execution_count": 33,
   "id": "728a92f4-7d17-422d-bcc5-eae83032c765",
   "metadata": {
    "tags": []
   },
   "outputs": [
    {
     "data": {
      "text/plain": [
       "200"
      ]
     },
     "execution_count": 33,
     "metadata": {},
     "output_type": "execute_result"
    }
   ],
   "source": [
    "response.status_code"
   ]
  },
  {
   "cell_type": "code",
   "execution_count": 34,
   "id": "7b05477a-fea5-4a8d-ad6a-aab623e6897c",
   "metadata": {
    "tags": []
   },
   "outputs": [
    {
     "data": {
      "text/plain": [
       "'{\"current_user_url\":\"https://api.github.com/user\",\"current_user_authorizations_html_url\":\"https://github.com/settings/connections/applications{/client_id}\",\"authorizations_url\":\"https://api.github.com/authorizations\",\"code_search_url\":\"https://api.github.com/search/code?q={query}{&page,per_page,sort,order}\",\"commit_search_url\":\"https://api.github.com/search/commits?q={query}{&page,per_page,sort,order}\",\"emails_url\":\"https://api.github.com/user/emails\",\"emojis_url\":\"https://api.github.com/emojis\",\"events_url\":\"https://api.github.com/events\",\"feeds_url\":\"https://api.github.com/feeds\",\"followers_url\":\"https://api.github.com/user/followers\",\"following_url\":\"https://api.github.com/user/following{/target}\",\"gists_url\":\"https://api.github.com/gists{/gist_id}\",\"hub_url\":\"https://api.github.com/hub\",\"issue_search_url\":\"https://api.github.com/search/issues?q={query}{&page,per_page,sort,order}\",\"issues_url\":\"https://api.github.com/issues\",\"keys_url\":\"https://api.github.com/user/keys\",\"label_search_url\":\"https://api.github.com/search/labels?q={query}&repository_id={repository_id}{&page,per_page}\",\"notifications_url\":\"https://api.github.com/notifications\",\"organization_url\":\"https://api.github.com/orgs/{org}\",\"organization_repositories_url\":\"https://api.github.com/orgs/{org}/repos{?type,page,per_page,sort}\",\"organization_teams_url\":\"https://api.github.com/orgs/{org}/teams\",\"public_gists_url\":\"https://api.github.com/gists/public\",\"rate_limit_url\":\"https://api.github.com/rate_limit\",\"repository_url\":\"https://api.github.com/repos/{owner}/{repo}\",\"repository_search_url\":\"https://api.github.com/search/repositories?q={query}{&page,per_page,sort,order}\",\"current_user_repositories_url\":\"https://api.github.com/user/repos{?type,page,per_page,sort}\",\"starred_url\":\"https://api.github.com/user/starred{/owner}{/repo}\",\"starred_gists_url\":\"https://api.github.com/gists/starred\",\"topic_search_url\":\"https://api.github.com/search/topics?q={query}{&page,per_page}\",\"user_url\":\"https://api.github.com/users/{user}\",\"user_organizations_url\":\"https://api.github.com/user/orgs\",\"user_repositories_url\":\"https://api.github.com/users/{user}/repos{?type,page,per_page,sort}\",\"user_search_url\":\"https://api.github.com/search/users?q={query}{&page,per_page,sort,order}\"}'"
      ]
     },
     "execution_count": 34,
     "metadata": {},
     "output_type": "execute_result"
    }
   ],
   "source": [
    "response.text"
   ]
  },
  {
   "cell_type": "code",
   "execution_count": 6,
   "id": "9078b454-d75d-4f7c-87c6-36dfa612baa2",
   "metadata": {
    "tags": []
   },
   "outputs": [
    {
     "data": {
      "text/plain": [
       "{'current_user_url': 'https://api.github.com/user',\n",
       " 'current_user_authorizations_html_url': 'https://github.com/settings/connections/applications{/client_id}',\n",
       " 'authorizations_url': 'https://api.github.com/authorizations',\n",
       " 'code_search_url': 'https://api.github.com/search/code?q={query}{&page,per_page,sort,order}',\n",
       " 'commit_search_url': 'https://api.github.com/search/commits?q={query}{&page,per_page,sort,order}',\n",
       " 'emails_url': 'https://api.github.com/user/emails',\n",
       " 'emojis_url': 'https://api.github.com/emojis',\n",
       " 'events_url': 'https://api.github.com/events',\n",
       " 'feeds_url': 'https://api.github.com/feeds',\n",
       " 'followers_url': 'https://api.github.com/user/followers',\n",
       " 'following_url': 'https://api.github.com/user/following{/target}',\n",
       " 'gists_url': 'https://api.github.com/gists{/gist_id}',\n",
       " 'hub_url': 'https://api.github.com/hub',\n",
       " 'issue_search_url': 'https://api.github.com/search/issues?q={query}{&page,per_page,sort,order}',\n",
       " 'issues_url': 'https://api.github.com/issues',\n",
       " 'keys_url': 'https://api.github.com/user/keys',\n",
       " 'label_search_url': 'https://api.github.com/search/labels?q={query}&repository_id={repository_id}{&page,per_page}',\n",
       " 'notifications_url': 'https://api.github.com/notifications',\n",
       " 'organization_url': 'https://api.github.com/orgs/{org}',\n",
       " 'organization_repositories_url': 'https://api.github.com/orgs/{org}/repos{?type,page,per_page,sort}',\n",
       " 'organization_teams_url': 'https://api.github.com/orgs/{org}/teams',\n",
       " 'public_gists_url': 'https://api.github.com/gists/public',\n",
       " 'rate_limit_url': 'https://api.github.com/rate_limit',\n",
       " 'repository_url': 'https://api.github.com/repos/{owner}/{repo}',\n",
       " 'repository_search_url': 'https://api.github.com/search/repositories?q={query}{&page,per_page,sort,order}',\n",
       " 'current_user_repositories_url': 'https://api.github.com/user/repos{?type,page,per_page,sort}',\n",
       " 'starred_url': 'https://api.github.com/user/starred{/owner}{/repo}',\n",
       " 'starred_gists_url': 'https://api.github.com/gists/starred',\n",
       " 'topic_search_url': 'https://api.github.com/search/topics?q={query}{&page,per_page}',\n",
       " 'user_url': 'https://api.github.com/users/{user}',\n",
       " 'user_organizations_url': 'https://api.github.com/user/orgs',\n",
       " 'user_repositories_url': 'https://api.github.com/users/{user}/repos{?type,page,per_page,sort}',\n",
       " 'user_search_url': 'https://api.github.com/search/users?q={query}{&page,per_page,sort,order}'}"
      ]
     },
     "execution_count": 6,
     "metadata": {},
     "output_type": "execute_result"
    }
   ],
   "source": [
    "response_dictionary = response.json()\n",
    "response_dictionary"
   ]
  },
  {
   "cell_type": "code",
   "execution_count": 7,
   "id": "43fad0e5-1d42-4a92-910d-cf72fa26b2e2",
   "metadata": {
    "tags": []
   },
   "outputs": [
    {
     "data": {
      "text/plain": [
       "{'Server': 'GitHub.com', 'Date': 'Thu, 23 May 2024 15:53:05 GMT', 'Content-Type': 'application/json; charset=utf-8', 'Cache-Control': 'public, max-age=60, s-maxage=60', 'Vary': 'Accept, Accept-Encoding, Accept, X-Requested-With', 'ETag': 'W/\"4f825cc84e1c733059d46e76e6df9db557ae5254f9625dfe8e1b09499c449438\"', 'X-GitHub-Media-Type': 'github.v3; format=json', 'x-github-api-version-selected': '2022-11-28', 'Access-Control-Expose-Headers': 'ETag, Link, Location, Retry-After, X-GitHub-OTP, X-RateLimit-Limit, X-RateLimit-Remaining, X-RateLimit-Used, X-RateLimit-Resource, X-RateLimit-Reset, X-OAuth-Scopes, X-Accepted-OAuth-Scopes, X-Poll-Interval, X-GitHub-Media-Type, X-GitHub-SSO, X-GitHub-Request-Id, Deprecation, Sunset', 'Access-Control-Allow-Origin': '*', 'Strict-Transport-Security': 'max-age=31536000; includeSubdomains; preload', 'X-Frame-Options': 'deny', 'X-Content-Type-Options': 'nosniff', 'X-XSS-Protection': '0', 'Referrer-Policy': 'origin-when-cross-origin, strict-origin-when-cross-origin', 'Content-Security-Policy': \"default-src 'none'\", 'Content-Encoding': 'gzip', 'X-RateLimit-Limit': '60', 'X-RateLimit-Remaining': '59', 'X-RateLimit-Reset': '1716483193', 'X-RateLimit-Resource': 'core', 'X-RateLimit-Used': '1', 'Accept-Ranges': 'bytes', 'Content-Length': '510', 'X-GitHub-Request-Id': '7C13:B21C8:B546AA7:13AD6266:664F6669'}"
      ]
     },
     "execution_count": 7,
     "metadata": {},
     "output_type": "execute_result"
    }
   ],
   "source": [
    "response_headers = response.headers\n",
    "response_headers"
   ]
  },
  {
   "cell_type": "code",
   "execution_count": 8,
   "id": "4737f1d8-92cf-4a37-a6dd-31cd89a95638",
   "metadata": {
    "tags": []
   },
   "outputs": [
    {
     "name": "stdout",
     "output_type": "stream",
     "text": [
      "30 repositories in play\n",
      "\n",
      "Name: langchain\n",
      "Description: 🦜🔗 Build context-aware reasoning applications\n",
      "Stars: 85653\n",
      "\n",
      "Name: models\n",
      "Description: Models and examples built with TensorFlow\n",
      "Stars: 76651\n",
      "\n",
      "Name: flask\n",
      "Description: The Python micro framework for building web applications.\n",
      "Stars: 66607\n",
      "\n"
     ]
    }
   ],
   "source": [
    "# Search GitHub's repositories for popular Python projects\n",
    "import requests\n",
    "\n",
    "response = requests.get(\n",
    "    \"https://api.github.com/search/repositories\",\n",
    "    params={\"q\": \"language:python\", \"sort\": \"stars\", \"order\": \"desc\"},\n",
    ")\n",
    "\n",
    "# Inspect some attributes of the first three repositories\n",
    "json_response = response.json()\n",
    "popular_repositories = json_response[\"items\"]\n",
    "print(str(len(popular_repositories)) + \" repositories in play\\n\") \n",
    "for repo in popular_repositories[:3]:\n",
    "    print(f\"Name: {repo['name']}\")\n",
    "    print(f\"Description: {repo['description']}\")\n",
    "    print(f\"Stars: {repo['stargazers_count']}\")\n",
    "    print()"
   ]
  },
  {
   "cell_type": "code",
   "execution_count": 9,
   "id": "3591b065-c192-444b-b4d7-9affbcd808ea",
   "metadata": {
    "tags": []
   },
   "outputs": [
    {
     "data": {
      "text/plain": [
       "'<https://api.github.com/search/repositories?q=language%3Apython&sort=stars&order=desc&page=2>; rel=\"next\", <https://api.github.com/search/repositories?q=language%3Apython&sort=stars&order=desc&page=34>; rel=\"last\"'"
      ]
     },
     "execution_count": 9,
     "metadata": {},
     "output_type": "execute_result"
    }
   ],
   "source": [
    "response.headers[\"link\"]"
   ]
  },
  {
   "cell_type": "code",
   "execution_count": 10,
   "id": "8067ba55-f625-41cf-a3ee-9553cdbf9526",
   "metadata": {
    "tags": []
   },
   "outputs": [
    {
     "name": "stdout",
     "output_type": "stream",
     "text": [
      "30 repositories in play from page 2\n",
      "\n",
      "Name: openpilot\n",
      "Description: openpilot is an open source driver assistance system. openpilot performs the functions of Automated Lane Centering and Adaptive Cruise Control for 250+ supported car makes and models.\n",
      "Stars: 48218\n",
      "\n",
      "Name: yolov5\n",
      "Description: YOLOv5 🚀 in PyTorch > ONNX > CoreML > TFLite\n",
      "Stars: 47546\n",
      "\n",
      "Name: DeepFaceLab\n",
      "Description: DeepFaceLab is the leading software for creating deepfakes.\n",
      "Stars: 45770\n",
      "\n"
     ]
    }
   ],
   "source": [
    "response2 = requests.get(\n",
    "    \"https://api.github.com/search/repositories\",\n",
    "    params={\"q\": \"language:python\", \"sort\": \"stars\", \"order\": \"desc\", \"page\": \"2\"},\n",
    ")\n",
    "\n",
    "json_response = response2.json()\n",
    "popular_repositories = json_response[\"items\"]\n",
    "print(str(len(popular_repositories)) + \" repositories in play from page 2\\n\") \n",
    "for repo in popular_repositories[:3]:\n",
    "    print(f\"Name: {repo['name']}\")\n",
    "    print(f\"Description: {repo['description']}\")\n",
    "    print(f\"Stars: {repo['stargazers_count']}\")\n",
    "    print()"
   ]
  },
  {
   "cell_type": "code",
   "execution_count": 38,
   "id": "b5047bf5-0f17-4299-ae8c-8a2c5b172f39",
   "metadata": {
    "tags": []
   },
   "outputs": [
    {
     "name": "stdout",
     "output_type": "stream",
     "text": [
      "The mass of carbon is 12.011 Daltons\n"
     ]
    }
   ],
   "source": [
    "import requests\n",
    "response = requests.get(\"https://rob5-atomic-portal.azurewebsites.net/api/lookup/\", params={\"name\": \"Carbon\"})\n",
    "print(\"The mass of carbon is \" + str(response.json()[0][\"AtomicMass\"]) + \" Daltons\")"
   ]
  },
  {
   "cell_type": "code",
   "execution_count": 39,
   "id": "725a6b7d-2b04-4306-be2f-41a126503d49",
   "metadata": {},
   "outputs": [
    {
     "name": "stdout",
     "output_type": "stream",
     "text": [
      "Provide an element, honey..\n"
     ]
    }
   ],
   "source": [
    "import requests\n",
    "from pprint import pprint\n",
    "base_url = 'https://rob5-atomic-portal.azurewebsites.net/api/lookup'\n",
    "response = requests.get(base_url + \"/\")\n",
    "print(response.text)"
   ]
  },
  {
   "cell_type": "code",
   "execution_count": 40,
   "id": "f754013b-2e96-47e2-b3c3-202a3f79a5ae",
   "metadata": {
    "tags": []
   },
   "outputs": [
    {
     "name": "stdout",
     "output_type": "stream",
     "text": [
      "[{'AtomicMass': 55.84,\n",
      "  'AtomicNumber': 26,\n",
      "  'AtomicRadius': 194.0,\n",
      "  'BoilingPoint': 3134.0,\n",
      "  'Density': 7.874,\n",
      "  'Discoverer': 'Prehistoric',\n",
      "  'Electronegativity': 1.83,\n",
      "  'Element': 'Iron',\n",
      "  'Group': '8',\n",
      "  'MeltingPoint': 1811.0,\n",
      "  'Metal': True,\n",
      "  'Metalloid': False,\n",
      "  'Natural': True,\n",
      "  'Nonmetal': False,\n",
      "  'NumberOfElectrons': 26,\n",
      "  'NumberOfNeutrons': 30,\n",
      "  'NumberOfProtons': 26,\n",
      "  'NumberOfShells': 4,\n",
      "  'NumberOfValence': 2.0,\n",
      "  'Period': 4,\n",
      "  'Phase': 'Solid',\n",
      "  'Radioactive': False,\n",
      "  'SpecificHeat': 0.449,\n",
      "  'Symbol': 'Fe',\n",
      "  'Type': 'Transition Metal',\n",
      "  'id': 'Iron',\n",
      "  'ionizationEnergy': 7.9024,\n",
      "  'stableIsotopes': 4}]\n"
     ]
    }
   ],
   "source": [
    "response = requests.get(base_url + \"?name=Iron\")\n",
    "pprint(response.json())"
   ]
  },
  {
   "cell_type": "code",
   "execution_count": null,
   "id": "24818610-ae0a-4500-9656-b5571e9c85e6",
   "metadata": {},
   "outputs": [],
   "source": []
  },
  {
   "cell_type": "code",
   "execution_count": null,
   "id": "7c4b5ca1-b713-4cd8-af63-6b02e7688f70",
   "metadata": {},
   "outputs": [],
   "source": []
  }
 ],
 "metadata": {
  "kernelspec": {
   "display_name": "Python 3 (ipykernel)",
   "language": "python",
   "name": "python3"
  },
  "language_info": {
   "codemirror_mode": {
    "name": "ipython",
    "version": 3
   },
   "file_extension": ".py",
   "mimetype": "text/x-python",
   "name": "python",
   "nbconvert_exporter": "python",
   "pygments_lexer": "ipython3",
   "version": "3.11.4"
  }
 },
 "nbformat": 4,
 "nbformat_minor": 5
}
