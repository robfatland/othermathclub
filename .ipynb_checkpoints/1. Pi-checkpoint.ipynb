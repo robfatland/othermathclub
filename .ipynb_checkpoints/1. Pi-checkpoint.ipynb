{
 "cells": [
  {
   "cell_type": "markdown",
   "metadata": {},
   "source": [
    "## A Piece of Pi\n",
    "\n",
    "This notebook has three sections. \n",
    "\n",
    "The upper section is advanced. It concerns series expansion for a complex exponential, specifically for e raised to the i times pi over 2. We hope the cosine of pi over 2 turns out to be zero and the sine is one.\n",
    "\n",
    "The middle section looks for a sequence of digits that you pick inside the first one million digits of pi.\n",
    "\n",
    "The lower section calculates pi using random numbers. Imagine a square dart board with a circle inscribed that touches the four edges. We throw random darts at the board and count how many end up inside the circle. The ratio of inside the circle to total number of darts should give us the ratio of the area of the circle to the area of the square. Since we know the area of the square we can get the area of the circle; and we believe that is pi times the radius squared (which we also know); so we can solve for pi."
   ]
  },
  {
   "cell_type": "markdown",
   "metadata": {},
   "source": [
    "#### Section 1 Series\n",
    "\n",
    "Go ahead and skip this section for now! "
   ]
  },
  {
   "cell_type": "code",
   "execution_count": 28,
   "metadata": {
    "collapsed": false
   },
   "outputs": [
    {
     "name": "stdout",
     "output_type": "stream",
     "text": [
      "pi is 3.14159265359\n",
      "0.0199689577649\n"
     ]
    }
   ],
   "source": [
    "import numpy as np\n",
    "pi = np.pi\n",
    "print 'pi is', pi\n",
    "\n",
    "# let's add up the even-numbered terms... 0, 2, 4... we hope they equal 0 \n",
    "evenSum = 1 - pi*pi/8 + (pi*pi*pi*pi)/(2*2*2*2)/(4*3*2*1)\n",
    "print evenSum"
   ]
  },
  {
   "cell_type": "code",
   "execution_count": 29,
   "metadata": {
    "collapsed": false
   },
   "outputs": [
    {
     "name": "stdout",
     "output_type": "stream",
     "text": [
      "1.00452485553\n"
     ]
    }
   ],
   "source": [
    "# let's add up the odd-numbered terms... 1, 3, 5... we hope they equal 1\n",
    "oddSum = pi/2 - (pi*pi*pi)/48 + (pi*pi*pi*pi*pi)/(2*2*2*2*2)/120\n",
    "print oddSum"
   ]
  },
  {
   "cell_type": "code",
   "execution_count": 30,
   "metadata": {
    "collapsed": false
   },
   "outputs": [
    {
     "name": "stdout",
     "output_type": "stream",
     "text": [
      "numpy is numpy\n"
     ]
    }
   ],
   "source": [
    "print \"numpy is numpy\""
   ]
  },
  {
   "cell_type": "code",
   "execution_count": 31,
   "metadata": {
    "collapsed": true
   },
   "outputs": [],
   "source": [
    "def IsOdd(number):\n",
    "    if number % 2 == 0: return False\n",
    "    else: return True"
   ]
  },
  {
   "cell_type": "code",
   "execution_count": 32,
   "metadata": {
    "collapsed": true
   },
   "outputs": [],
   "source": [
    "def Factorial(number):\n",
    "    if number == 0: return 1\n",
    "    if number == 1: return 1\n",
    "    if number > 1:\n",
    "        factorial = 1\n",
    "        for j in range(number):\n",
    "            factorial = factorial * (j+1)\n",
    "        return factorial"
   ]
  },
  {
   "cell_type": "code",
   "execution_count": 33,
   "metadata": {
    "collapsed": true
   },
   "outputs": [],
   "source": [
    "def Numerator(number, power):\n",
    "    return np.power(number, power)"
   ]
  },
  {
   "cell_type": "code",
   "execution_count": 34,
   "metadata": {
    "collapsed": true
   },
   "outputs": [],
   "source": [
    "def ThisEvenTerm(x, term):\n",
    "    termOverTwo = term/2\n",
    "    if IsOdd(termOverTwo):\n",
    "        thisSign = -1\n",
    "    else:\n",
    "        thisSign = 1\n",
    "    return thisSign*Numerator(x, term)/Factorial(term)"
   ]
  },
  {
   "cell_type": "code",
   "execution_count": 35,
   "metadata": {
    "collapsed": true
   },
   "outputs": [],
   "source": [
    "def ThisOddTerm(x, term):\n",
    "    termMinusOne = term - 1\n",
    "    termMinusOneOverTwo = termMinusOne/2\n",
    "    if IsOdd(termMinusOneOverTwo):\n",
    "        thisSign = -1\n",
    "    else:\n",
    "        thisSign = 1\n",
    "    return thisSign*Numerator(x, term)/Factorial(term)"
   ]
  },
  {
   "cell_type": "code",
   "execution_count": 36,
   "metadata": {
    "collapsed": false
   },
   "outputs": [
    {
     "name": "stdout",
     "output_type": "stream",
     "text": [
      "0\n",
      "1\n",
      "2\n",
      "3\n",
      "4\n",
      "5\n",
      "6\n",
      "7\n",
      "8\n",
      "9\n",
      "10\n",
      "11\n",
      "12\n",
      "13\n",
      "14\n",
      "15\n",
      "16\n",
      "even sum: 0.0\n",
      "odd sum: 1.0\n"
     ]
    }
   ],
   "source": [
    "oddSum = 0.0\n",
    "evenSum = 0.0\n",
    "x = pi/2\n",
    "for term in range(17):\n",
    "    print term\n",
    "    if IsOdd(term):\n",
    "        oddSum = oddSum + ThisOddTerm(x, term)\n",
    "    else:\n",
    "        evenSum = evenSum + ThisEvenTerm(x, term)\n",
    "\n",
    "print 'even sum:', round(evenSum, 8)\n",
    "print 'odd sum:', round(oddSum, 8)"
   ]
  },
  {
   "cell_type": "markdown",
   "metadata": {},
   "source": [
    "#### Section 2 Search pi for a sequence of digits"
   ]
  },
  {
   "cell_type": "code",
   "execution_count": 37,
   "metadata": {
    "collapsed": true
   },
   "outputs": [],
   "source": [
    "# Just run this cell once\n",
    "def iter_file(filename, chunksize=100000):\n",
    "    with open(filename) as f:\n",
    "        while True:\n",
    "            substring = f.read(chunksize)\n",
    "            if not substring:\n",
    "                return\n",
    "            # for Python 3\n",
    "            # yield from substring\n",
    "            # for Python 2\n",
    "            for char in substring:\n",
    "                yield char"
   ]
  },
  {
   "cell_type": "code",
   "execution_count": 38,
   "metadata": {
    "collapsed": true
   },
   "outputs": [],
   "source": [
    "from toolz import sliding_window\n",
    "\n",
    "def look_for_sequence(filename, sequence):\n",
    "    s = iter_file(filename)\n",
    "\n",
    "    for i, group in enumerate(sliding_window(len(sequence), s)):\n",
    "        if ''.join(group) == sequence:\n",
    "            print ('found {0} at {1}'.format(sequence, i))\n",
    "            break\n",
    "            "
   ]
  },
  {
   "cell_type": "code",
   "execution_count": 40,
   "metadata": {
    "collapsed": false
   },
   "outputs": [
    {
     "name": "stdout",
     "output_type": "stream",
     "text": [
      "found 12345 at 49703\n"
     ]
    }
   ],
   "source": [
    "# use this version to search the first one million digits of pi (fast)\n",
    "look_for_sequence('data/pi.txt', '12345')"
   ]
  },
  {
   "cell_type": "code",
   "execution_count": 42,
   "metadata": {
    "collapsed": false
   },
   "outputs": [
    {
     "name": "stdout",
     "output_type": "stream",
     "text": [
      "found 09090909 at 146499245\n"
     ]
    }
   ],
   "source": [
    "# this version searches the first billion digits of pi\n",
    "# it will take a minute or two to find an eight-digit sequence\n",
    "look_for_sequence('data/pi-billion.txt', '09090909')"
   ]
  },
  {
   "cell_type": "markdown",
   "metadata": {},
   "source": [
    "#### Section 3 Calculate Pi\n",
    "\n",
    "We will not be able to calculate pi very accurately using these ideas; but approximate will do. Even when pi isn't very good... its still pretty good!\n",
    "\n",
    "First we calculate pi using random darts. Then we use a more exhaustive method that counts up little squares."
   ]
  },
  {
   "cell_type": "markdown",
   "metadata": {},
   "source": [
    "This cell calculates pi using random numbers."
   ]
  },
  {
   "cell_type": "code",
   "execution_count": 43,
   "metadata": {
    "collapsed": false
   },
   "outputs": [
    {
     "name": "stdout",
     "output_type": "stream",
     "text": [
      "3.141451\n"
     ]
    }
   ],
   "source": [
    "# This cell takes about 15 seconds to run.\n",
    "# It throws 4 million darts at a dart board. If they land inside a circle they \"count\"\n",
    "# At the end it uses the number of hits to calculate pi.\n",
    "\n",
    "import numpy as np\n",
    "import random as r\n",
    "\n",
    "hits = 0.0\n",
    "nDarts = 4000000\n",
    "fDarts = float(nDarts)\n",
    "for i in range(nDarts):\n",
    "    x = r.random()\n",
    "    y = r.random()\n",
    "    if np.sqrt(x*x+y*y) <= 1.0: hits += 1.0\n",
    "\n",
    "print 4.0*hits/fDarts \n",
    "    "
   ]
  },
  {
   "cell_type": "markdown",
   "metadata": {},
   "source": [
    "This cell calculates pi more methodically using an exhaustion of little squares."
   ]
  },
  {
   "cell_type": "code",
   "execution_count": 26,
   "metadata": {
    "collapsed": false
   },
   "outputs": [
    {
     "name": "stdout",
     "output_type": "stream",
     "text": [
      "1000\n",
      "3.14552000001\n"
     ]
    }
   ],
   "source": [
    "# count up little squares to get pi\n",
    "\n",
    "import numpy as np\n",
    "\n",
    "# Change this value to see how it affects the result.\n",
    "# If you make it very small (less than 0.001) it could take a long time to finish!\n",
    "size_of_square = 0.001\n",
    "\n",
    "how_many_squares = int(1.0 / size_of_square)\n",
    "\n",
    "print how_many_squares\n",
    "\n",
    "area_of_little_square = size_of_square * size_of_square\n",
    "\n",
    "area = 0.0\n",
    "\n",
    "for x in np.arange(0.0, 1.0, size_of_square):\n",
    "    for y in np.arange(0.0, 1.0, size_of_square):\n",
    "        dist = np.sqrt(x*x+y*y)\n",
    "        if dist < 1.0:\n",
    "            area = area + area_of_little_square\n",
    "\n",
    "area = area * 4\n",
    "\n",
    "print area"
   ]
  },
  {
   "cell_type": "code",
   "execution_count": 27,
   "metadata": {
    "collapsed": true
   },
   "outputs": [],
   "source": [
    "# with sq 0.025 got 3.2325\n",
    "# with sq 0.005 got 3.1602\n",
    "# with sq 0.001 got 3.14552\n",
    "# with sq 0.0005 got 3.143579\n",
    "# with sq 0.0001 got 3.14199016\n",
    "# with sq 0.00001 got 3.14163274808"
   ]
  },
  {
   "cell_type": "markdown",
   "metadata": {
    "collapsed": true
   },
   "source": [
    "It would be pleasant to calculate the volume of a sphere and the area of a sphere."
   ]
  },
  {
   "cell_type": "code",
   "execution_count": null,
   "metadata": {
    "collapsed": true
   },
   "outputs": [],
   "source": []
  }
 ],
 "metadata": {
  "kernelspec": {
   "display_name": "Python 2",
   "language": "python",
   "name": "python2"
  },
  "language_info": {
   "codemirror_mode": {
    "name": "ipython",
    "version": 2
   },
   "file_extension": ".py",
   "mimetype": "text/x-python",
   "name": "python",
   "nbconvert_exporter": "python",
   "pygments_lexer": "ipython2",
   "version": "2.7.11"
  }
 },
 "nbformat": 4,
 "nbformat_minor": 0
}
