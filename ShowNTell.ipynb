{
 "cells": [
  {
   "cell_type": "markdown",
   "id": "8e6b8e2b-9c76-4a18-887a-f73b9c4ed7c0",
   "metadata": {},
   "source": [
    "# Show N Tell"
   ]
  },
  {
   "cell_type": "markdown",
   "id": "e9ca68a3-dd61-4012-be5e-43b8e0856715",
   "metadata": {},
   "source": [
    "Q: What workable speed is faster than the speed of light? \n",
    "\n",
    "\n",
    "A: The speed of shadow. "
   ]
  },
  {
   "cell_type": "markdown",
   "id": "83e2c014-22b7-4ae4-8668-ecd3f61fa12e",
   "metadata": {},
   "source": [
    "> It is our responsibility as scientists, knowing the great progress which comes\n",
    "> from **a satisfactory philosophy of ignorance**, the great progress which is\n",
    "> the fruit of freedom of thought, to proclaim the value of this freedom; to teach\n",
    "> how doubt is not to be feared but welcomed and discussed; and to demand this\n",
    "> freedom as our duty to all coming generations. <BR>\n",
    "> Feynman (What Do You Care What Other People Think?)"
   ]
  },
  {
   "cell_type": "markdown",
   "id": "123b72e2-61f2-4e2a-9ba8-8f7eaee92c8a",
   "metadata": {},
   "source": [
    "A thought to rival the Fermi paradox...\n",
    "\n",
    "\n",
    "$$\\textrm{Where is everybody?}$$"
   ]
  },
  {
   "cell_type": "code",
   "execution_count": 6,
   "id": "1b99fe62-c94c-4359-aa14-1131c6192c5f",
   "metadata": {},
   "outputs": [],
   "source": [
    "from IPython.display import Image, YouTubeVideo"
   ]
  },
  {
   "cell_type": "code",
   "execution_count": 38,
   "id": "a19f47c0-b23f-41d3-b412-cfded285e9b2",
   "metadata": {},
   "outputs": [
    {
     "name": "stdout",
     "output_type": "stream",
     "text": [
      "-                                                      X                                                       \n",
      "a                                                    X   X                                                     \n",
      "b                                                  X       X                                                   \n",
      "c                                                X   X   X   X                                                 \n",
      "d                                              X               X                                               \n",
      "e                                            X   X           X   X                                             \n",
      "f                                          X       X       X       X                                           \n",
      "g                                        X   X   X   X   X   X   X   X                                         \n",
      "h                                      X                               X                                       \n",
      "i                                    X   X                           X   X                                     \n",
      "j                                  X       X                       X       X                                   \n",
      "k                                X   X   X   X                   X   X   X   X                                 \n",
      "l                              X               X               X               X                               \n",
      "m                            X   X           X   X           X   X           X   X                             \n",
      "n                          X       X       X       X       X       X       X       X                           \n",
      "o                        X   X   X   X   X   X   X   X   X   X   X   X   X   X   X   X                         \n",
      "p                      X                                                               X                       \n",
      "q                    X   X                                                           X   X                     \n",
      "r                  X       X                                                       X       X                   \n",
      "s                X   X   X   X                                                   X   X   X   X                 \n",
      "t              X               X                                               X               X               \n",
      "u            X   X           X   X                                           X   X           X   X             \n",
      "v          X       X       X       X                                       X       X       X       X           \n",
      "w        X   X   X   X   X   X   X   X                                   X   X   X   X   X   X   X   X         \n",
      "x      X                               X                               X                               X       \n",
      "y    X   X                           X   X                           X   X                           X   X     \n",
      "z  X       X                       X       X                       X       X                       X       X   \n"
     ]
    }
   ],
   "source": [
    "def xor(a, b): return 1 if (a and not b) or (b and not a) else 0\n",
    "    \n",
    "def MyPrint(u, s=''):\n",
    "    for i in range(len(u)): s += '  ' if u[i] == 0 else 'X '\n",
    "    print(s); return\n",
    "        \n",
    "u = [0]*26 + [1] + [0]*27\n",
    "MyPrint(u, \"-  \")\n",
    "for g in 'abcdefghijklmnopqrstuvwxyz':\n",
    "    v = [xor(u[i-1], u[i+1]) for i in range(0, len(u)-1)]; v.append(u[-1])\n",
    "    u = v.copy()\n",
    "    MyPrint(u, g + \"  \")"
   ]
  },
  {
   "cell_type": "code",
   "execution_count": 5,
   "id": "52c3a1fd-72ff-4a4c-a9c0-bc7bf68a6ce0",
   "metadata": {},
   "outputs": [
    {
     "data": {
      "image/jpeg": "[encoded data removed]",
      "text/html": [
       "\n",
       "        <iframe\n",
       "            width=\"400\"\n",
       "            height=\"300\"\n",
       "            src=\"https://www.youtube.com/embed/f9A_qFM9IAk\"\n",
       "            frameborder=\"0\"\n",
       "            allowfullscreen\n",
       "            \n",
       "        ></iframe>\n",
       "        "
      ],
      "text/plain": [
       "<IPython.lib.display.YouTubeVideo at 0x7f43b70580b0>"
      ]
     },
     "execution_count": 5,
     "metadata": {},
     "output_type": "execute_result"
    }
   ],
   "source": [
    "YouTubeVideo('f9A_qFM9IAk')"
   ]
  },
  {
   "cell_type": "code",
   "execution_count": null,
   "id": "3790222e-3ff0-4229-be10-eabc587b15f7",
   "metadata": {},
   "outputs": [],
   "source": [
    "def Person(x, y, h):\n",
    "    from math import cos, sin, pi\n",
    "    px, py = [x], [y]\n",
    "    px.append(x+h/4); py.append(y+4*h/9)\n",
    "    px.append(x+h/2); py.append(y)\n",
    "    px.append(x+h/4); py.append(y+4*h/9)\n",
    "    px.append(x+h/4); py.append(y+(4/9 + 1/6)*h)\n",
    "    px.append(x);     py.append(y+(4/9 + 1/6)*h)\n",
    "    px.append(x+h/2); py.append(y+(4/9 + 1/6)*h)\n",
    "    px.append(x+h/4); py.append(y+(4/9 + 1/6)*h)\n",
    "    px.append(x+h/4); py.append(y+(4/9 + 1/3)*h)\n",
    "    return px, py\n",
    "\n",
    "from matplotlib import pyplot as plt\n",
    "ax = plt.subplot()\n",
    "x, y = Person(7, 30, 60)\n",
    "ax.plot(x, y)\n",
    "plt.axis(\"equal\")"
   ]
  }
 ],
 "metadata": {
  "kernelspec": {
   "display_name": "Python 3 (ipykernel)",
   "language": "python",
   "name": "python3"
  },
  "language_info": {
   "codemirror_mode": {
    "name": "ipython",
    "version": 3
   },
   "file_extension": ".py",
   "mimetype": "text/x-python",
   "name": "python",
   "nbconvert_exporter": "python",
   "pygments_lexer": "ipython3",
   "version": "3.12.2"
  }
 },
 "nbformat": 4,
 "nbformat_minor": 5
}
