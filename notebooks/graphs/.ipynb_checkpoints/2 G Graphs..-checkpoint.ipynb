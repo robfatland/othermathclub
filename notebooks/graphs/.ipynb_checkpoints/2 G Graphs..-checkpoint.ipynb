{
 "cells": [
  {
   "cell_type": "markdown",
   "metadata": {},
   "source": [
    "# Graphs 2\n",
    "\n",
    "<BR>\n",
    "<img src=\"../../images/graphs/graphs0002.png\" style=\"float: left;\" alt=\"drawing\" width=\"600\"/>\n",
    "<div style=\"clear: left\"><BR>\n",
    "\n",
    "*Our friend the bison, a connected planar graph with no loops and no multiple edges*\n",
    "\n",
    "\n",
    "### Friendly introduction\n",
    "\n",
    "\n",
    "You have finished the first page on *graphs* so now onward, in two directions: \n",
    "First logical problems that seem to be about other things can turn out to be about graphs. \n",
    "Second in our travels: Graphs will pop out of the paper into three dimensions.\n",
    "\n",
    "\n",
    "Let's begin with a bit of both: The Boring Worm problem (which also appears on the **Problems** page about **Stories**). \n",
    "    \n",
    "<BR>\n",
    "<img src=\"../../images/geometry/cube_27.png\" style=\"float: left;\" alt=\"drawing\" width=\"400\"/>\n",
    "<div style=\"clear: left\"><BR>"
   ]
  },
  {
   "cell_type": "markdown",
   "metadata": {},
   "source": [
    "${\\Huge \\infty}$\n",
    "\n",
    "\n",
    "Imagine a cube made from 27 smaller identical wooden cubes as in the figure above. \n",
    "There is a single small cube at the center surrounded by the remaining 26.\n",
    "A certain worm named Digger likes to chew a path through wood of this sort.\n",
    "He begins a journey through the big cube by entering one of the small cubes from the outside. \n",
    "Once inside Digger goes from one small cube to another through their touching faces. \n",
    "Digger never goes through edges or corners of the small cubes. He continues from one to another \n",
    "until he has visited all 27 small cubes once. His path stays *inside* the big cube. \n",
    "Can Digger arrive at the center cube last?\n",
    "\n",
    "\n",
    "Now you have a problem to work on; so let us continue to terminology; and from there we will walk through\n",
    "a solution.  "
   ]
  },
  {
   "cell_type": "markdown",
   "metadata": {},
   "source": [
    "### Terms\n",
    "\n",
    "Two tasks for our vocabulary. First: Copy out the boldface terms from the list below into your notebook. Second: Convince yourself that you understand the other terms by explaining them successfully to another person. You can partner up for this and take turns if you like. \n",
    "\n",
    "\n",
    "- **connected**: a graph with a path from every vertex to every other vertex\n",
    "- **planar**: a graph which *can* be drawn on a flat plane with no edges crossing one another\n",
    "- **Leonhard Euler**: A mathematician who lived in the 1700s.\n",
    "- **graph**: A set of vertices and a set of edges connecting vertices\n",
    "- vertex: A dot\n",
    "- edge: Some sort of line connecting two vertices\n",
    "- **face**: A region of a planar graph surrounded by edges (including the *everything else*) face\n",
    "- **Euler's formula for planar graphs**: Vertices plus faces equals edges plus two.\n",
    "- **complete graph**: A graph with $n$ vertices with an edge between every pair of vertices\n",
    "\n",
    "\n"
   ]
  },
  {
   "cell_type": "markdown",
   "metadata": {},
   "source": [
    "### Complete graph\n",
    "\n",
    "A complete graph is not a planar graph. Planar graphs can be drawn without edges crossing. Complete graphs\n",
    "are usually not planar because they contain *all possible edges* for some number $n$ of vertices. Complete\n",
    "graphs are sometimes called $K_n$ for short.\n",
    "\n",
    "Here is the complete planar graph for $n=1$\n",
    "\n",
    "\n",
    "```\n",
    "  o\n",
    "```\n",
    "\n",
    "So that is one vertex and zero edges.\n",
    "\n",
    "Here is the complete planar graph for $n=2$\n",
    "\n",
    "```\n",
    "o-------------------o\n",
    "```\n",
    "\n",
    "That is two vertices and one edge. So, ok, I admit those are both planar. \n",
    "<br>\n",
    "<br>\n",
    "<br>\n",
    "\n",
    "\n",
    "${\\Huge \\infty}$\n",
    "\n",
    "\n",
    "How many complete graphs are planar graphs? \n",
    "\n",
    "\n",
    "How many edges are there in $K_3$, $K_4$ and $K_5$?\n",
    "\n",
    "\n",
    "Below is a computer program that draws $K_n$ where you can specify what $n$ is.\n",
    "Run the next cell once (the one that has one line starting **!conda**). Then run the cell below that\n",
    "as often as you like. You can modify the number of vertices $n$."
   ]
  },
  {
   "cell_type": "code",
   "execution_count": 37,
   "metadata": {},
   "outputs": [
    {
     "name": "stdout",
     "output_type": "stream",
     "text": [
      "Fetching package metadata .........\n",
      "Solving package specifications: .\n",
      "\n",
      "# All requested packages already installed.\n",
      "# packages in environment at /home/nbcommon/anaconda2_410:\n",
      "#\n",
      "networkx                  1.11                     py27_0  \n"
     ]
    }
   ],
   "source": [
    "!conda install networkx -y\n",
    "%matplotlib inline\n",
    "import numpy as np\n",
    "import matplotlib.pyplot as plt\n",
    "import networkx as nx"
   ]
  },
  {
   "cell_type": "code",
   "execution_count": 48,
   "metadata": {},
   "outputs": [
    {
     "data": {
      "image/png": "[encoded data removed]",
      "text/plain": [
       "<matplotlib.figure.Figure at 0x7f3a456d7cd0>"
      ]
     },
     "metadata": {},
     "output_type": "display_data"
    }
   ],
   "source": [
    "n = 3\n",
    "nx.draw_circular(nx.complete_graph(n), node_color='r', node_size=40, with_labels=False)\n",
    "plt.axis('equal')\n",
    "plt.show()"
   ]
  },
  {
   "cell_type": "markdown",
   "metadata": {},
   "source": [
    "### Boring Worm solution\n",
    "\n",
    "Don't read any further until you have worked on the problem given above, about Digger the worm eating through\n",
    "the cube made of 27 smaller cubes. Below is most of (but not quite all) the solution...\n",
    "\n",
    "<br>\n",
    "<br>\n",
    "<br>\n",
    "<br>\n",
    "<br>\n",
    "<br>\n",
    "<br>\n",
    "<br>\n",
    "<br>\n",
    "<br>\n",
    "<br>\n",
    "<br>\n",
    "<br>\n",
    "<br>\n",
    "\n",
    "\n",
    "Suppose we notice, upon reading the problem through a few times, that there are really four types of \n",
    "small cubes:\n",
    "\n",
    "- The corner cubes (there are eight) that have three exposed sides\n",
    "- The edge cubes, between corners (there are twelve) with two exposed sides\n",
    "- The face-center cubes, at the center of each of the six sides of the cube (so there are six)\n",
    "- The center cube (there is only one)\n",
    "\n",
    "\n",
    "Now if Digger is in a corner cube his next cube must be an edge cube. \n",
    "If Digger is in a face-center cube his next cube must be an edge cube... \n",
    "unless he is done with all the outer cubes and is ready to go to the center.\n",
    "If Digger is in an edge cube then his next cube must be either a corner or a face-center. \n",
    "\n",
    "\n",
    "That is, there are really three sets of small cubes: { edge cubes }, { corners and face-centers }, { the center cube }.\n",
    "\n",
    "\n",
    "Suppose you design a path for Digger that you hope will end in the center cube at the end. You could \n",
    "line up all of the first set vertically; and the second set vertically; and the rule is you start \n",
    "in either set and you must alternate between them. This is following the rule above: edge cubes\n",
    "alternate with either corners or face-center cubes. \n",
    "\n",
    "With this information you should be able to reach a definite conclusion on whether or not the task is possible.\n",
    "\n",
    "\n",
    "Once you have a solution: Draw it as a graph. Problems that can be drawn as graphs are surprisingly common.\n",
    "The *graph* can sometimes be a *problem diagram* that makes the problem easier to solve. \n"
   ]
  },
  {
   "cell_type": "markdown",
   "metadata": {},
   "source": [
    "### Euler's Formula\n",
    "\n",
    "\n",
    "Euler began thinking about planar graphs. These graphs can be drawn on a flat surface \n",
    "without any of the edges crossing one another. Some graphs are planar; \n",
    "others are not. To understand the formula Euler found we first need to know how to identify and count\n",
    "the *faces* of a graph. Here is a graph with five faces."
   ]
  },
  {
   "cell_type": "code",
   "execution_count": 11,
   "metadata": {},
   "outputs": [
    {
     "data": {
      "image/png": "[encoded data removed]",
      "text/plain": [
       "<PIL.Image.Image image mode=P size=500x300 at 0x7F3A70077AD0>"
      ]
     },
     "execution_count": 11,
     "metadata": {},
     "output_type": "execute_result"
    }
   ],
   "source": [
    "!curl https://raw.githubusercontent.com/robfatland/othermathclub/master/images/graphs/graphs0005.png -o /home/nbuser/graphs0005.png -s\n",
    "from PIL import Image\n",
    "Image.open(\"/home/nbuser/graphs0005.png\").resize((500,300),Image.ANTIALIAS)"
   ]
  },
  {
   "cell_type": "markdown",
   "metadata": {},
   "source": [
    "*A planar graph with five faces; the six vertices are labeled **a** through **f***\n",
    "\n",
    "A *face* is a closed region defined by vertices and edges; like a country on a map.\n",
    "Going from the left, then top down: **a-b-c-a** gives face 1. **a-c-e-a** gives us face 2. **a-e-f-a** gives face 3. \n",
    "Then **a-b-f-a** is face 4. Why five faces? Because there is all of the space around the outside of the graph\n",
    "that we also count as a single face. We can say that face five is defined by **c-e-f-b-c**. Notice vertex **d**\n",
    "is in some sense *floating inside* this fifth face.\n",
    "\n",
    "\n",
    "Therefore we have five faces, six vertices and nine edges. \n",
    "\n",
    "\n",
    "The number of vertices plus the number of faces equals 11.  Notice that the number of edges plus\n",
    "two is also 11. This is Euler's formula for planar graphs: Count the vertices, the edges and the faces and\n",
    "the sum of vertices and faces will equal the number of edges plus two. \n",
    "<br>\n",
    "<br>\n",
    "<br>\n",
    "\n",
    "${\\Huge \\infty}$\n",
    "\n",
    " \n",
    "Write down in your notebook: Why does vertex **d** in the above graph *not* contribute to the total number of faces?\n",
    "\n",
    "\n",
    "Describe how you would add six more vertices to this graph without changing the number of faces, which is five. \n",
    "Draw such a graph.\n",
    "\n",
    "\n",
    "Try drawing a planar graph that does not follow Euler's formula. \n",
    "Remember that your planar graph must be *connected*, all one thing. \n",
    "That is, there must be paths along edges from each vertex to every other vertex.\n",
    "\n",
    "\n",
    "### Moving to three dimensions\n",
    "\n",
    "\n",
    "**A planar graph composed of vertices $\\{ V \\}$ and edges $\\{ E \\}$ produces a set of faces $\\{ F \\}$.** \n",
    "\n",
    "\n",
    "A plane is a flat surface. Flat flat flat... like a piece of paper. \n",
    "A huge flat sheet of paper extending off to infinity would be nice to have but it is a little beyond\n",
    "practical. We might also consider wrapping paper around surfaces like donuts or bagels. Or we could\n",
    "go simpler and wrap our piece of paper around a ball. A sphere. If our paper was more like a big sheet\n",
    "of rubber this would be simpler. Actually we'll *imagine* we have rubber paper and we can wrap it \n",
    "around simple shapes. The simplest three dimensional shape without any sharp edges is a sphere and \n",
    "the simplest three dimensional shape with sharp edges is called a tetrahedron. This is what it looks like..."
   ]
  },
  {
   "cell_type": "code",
   "execution_count": null,
   "metadata": {
    "collapsed": true,
    "jupyter": {
     "outputs_hidden": true
    }
   },
   "outputs": [],
   "source": []
  },
  {
   "cell_type": "markdown",
   "metadata": {},
   "source": [
    "Here is the plan: In order to move from two dimensions (a flat piece of paper) to three dimensions (a sphere) \n",
    "we are going to invent a particular graph; and then we will draw it very small on the surface of a sphere.\n",
    "This will be nice because at a very small scale on a sphere things look quite flat. For example we are told \n",
    "that the earth is a sphere but it seems locally quite flat, particularly if you take the ferry on a calm day.\n",
    "\n",
    "\n",
    "Next we take advantage of the idea that graphs can be drawn any which way as long as they keep all their\n",
    "vertices and edges connected the same. We could draw a small graph bigger, for example. The bigger version\n",
    "will be the same graph because the size of the drawing does not matter. So in our case our graph will \n",
    "gradually get larger and larger on the sphere. Finally it will get so large that the curved surface of \n",
    "the sphere will be noticeable compared to the size of the graph. \n",
    "\n",
    "\n",
    "This is our strategy for going from two to three dimensions. It may seem rather goofy but let's \n",
    "begin with a challenging problem to set the tone. Rather than tell you what the *particular graph* is\n",
    "I will ask you to invent it. \n",
    "\n",
    "<br>\n",
    "<br>\n",
    "<br>\n",
    "${\\Huge \\infty}$\n",
    "\n",
    "Imagine a planar graph where each face has the same number of sides, namely three. Also this graph\n",
    "must have four and only four such faces\n",
    "\n",
    "- Calculate how many edges this graph must have\n",
    "- Verify that this graph follows Euler's formula\n",
    "- Draw this graph\n",
    "\n",
    "\n",
    "Mr. Kilroy needs to complete this section -- including illustrations -- for going from the graph in the\n",
    "problem above to a 3D extension of that graph around a sphere. \n",
    "\n"
   ]
  },
  {
   "cell_type": "markdown",
   "metadata": {},
   "source": [
    "### From here down...\n",
    "\n",
    "...was an older version; must rewrite according to this outline\n",
    "\n",
    "- suggest there are more platonic solids\n",
    "- provide a path for deriving them that involves constant degree $d$ and edges per face $n$\n",
    "- go through the extensions to 3D\n",
    "- include **Extras** as two paths\n",
    "  - first what if your graph was allowed pentagons and hexagons?\n",
    "  - second what if you began with a tree? a forest? on a torus? loops? multiple edges? "
   ]
  },
  {
   "cell_type": "code",
   "execution_count": 49,
   "metadata": {},
   "outputs": [
    {
     "data": {
      "image/png": "[encoded data removed]",
      "text/plain": [
       "<PIL.PngImagePlugin.PngImageFile image mode=RGB size=440x424 at 0x7F3A4ABE2790>"
      ]
     },
     "execution_count": 49,
     "metadata": {},
     "output_type": "execute_result"
    }
   ],
   "source": [
    "!curl https://raw.githubusercontent.com/robfatland/othermathclub/master/images/graphs/graphs2_001_tree.png -o /home/nbuser/graphs2_001_tree.png -s\n",
    "from PIL import Image\n",
    "Image.open(\"/home/nbuser/graphs2_001_tree.png\")"
   ]
  },
  {
   "cell_type": "markdown",
   "metadata": {},
   "source": [
    "### Trees and a proof of Euler's formula\n",
    "\n",
    "\n",
    "Take a look at the above figure. It *sort of* looks like a tree... anyway in graph theory it *is* a tree. A tree is \n",
    "a connected graph that contains no circuits, no loops, no cycles. A tree graph has just one face (see above) which is\n",
    "the global *everything else* face. There is a path between every vertex and every other vertex and since paths are\n",
    "not permitted to double back on themselves: There is precisely *one* path between every pair of vertices in a tree. \n",
    "\n",
    "\n",
    "The first question we might ask is: How many distinct paths are there in a tree? This is a counting problem so not\n",
    "surprisingly the answer is from combinatorics: The number of distinct paths $P$ in a tree with $V$ vertices does\n",
    "not depend on the arrangement of the edges; it is just 'V choose 2':\n",
    "\n",
    "\n",
    "$$P = \\binom{V}{2} = \\frac{V\\cdot(V-1)}{2!}=\\frac{1}{2}(V^2-V)$$\n",
    "\n",
    "\n",
    "Trees can be further refined depending on what we would like to use them for. It is commone, for example, to find \n",
    "trees with oriented edges (the edges are drawn as arrows) that indicate a path direction. The idea is that you \n",
    "are allowed to follow paths that go in the direction of the arrows. \n",
    "\n",
    "\n",
    "There are also directed graphs that are *not* trees. When such graphs do not allow you to wind up back where \n",
    "you started because of the arrows they are called *acyclic* meaning 'no cycles'. In fact these graphs are called \n",
    "**Directed Acyclic Graphs** or **DAGs** for short and they are very important in information theory. \n",
    "\n",
    "\n",
    "Back to trees now: Trees can be used in a proof of Euler's formula for planar graphs. Let's sketch this out briefly.\n",
    "\n",
    "\n",
    "Suppose you have a connected planar graph and you wish to establish Euler's formula, as given above. Let's assume\n",
    "that this graph has $V$ vertices and that it has $E$ edges and $F$ faces. Let's temporarily erase edges according\n",
    "to this rule: Pick an edge. If it is part of a cycle (a closed path that surrounds a face) you can remove it; but\n",
    "remember where it was. Notice that every edge we remove in this manner breaks a single face into two faces but it\n",
    "does not disconnect the graph: Everything is still connected. Removing such an edge\n",
    "decreases the total number of faces by one.\n",
    "\n",
    "\n",
    "You continue this erasing process until no cycles remain in the graph. You have to now\n",
    "convince yourself that you have arrived at a tree. This tree has fewer edges than the original graph but it is \n",
    "still a connected graph. There is now only one path between any pair of vertices. If there is more than one path\n",
    "between two vertices you have a cycle and you did not remove enough edges. If there are no paths between a pair \n",
    "of vertices then you have created a disconnected graph... you removed too many edges. \n",
    "\n",
    "\n",
    "Assuming everything went well your reduced graph is now a tree with $V$ vertices and one face. Notice that \n",
    "there are $V-1$ edges and that Euler's formula works just fine: \n",
    "\n",
    "\n",
    "$$V + 1 = (V-1) + 2$$ \n",
    "\n",
    "\n",
    "In other words: The $V$ vertices plus $1$ face is equal to the number of edges ($V-1$) plus 2. This is just an\n",
    "observation about trees that is true for any tree: There is one face, there are $V$ vertices and there are $V-1$ edges\n",
    "in a tree. Really it is more concise to write this as\n",
    "\n",
    "\n",
    "$$number\\;of\\;vertices\\;=\\;number\\;of\\;edges\\;plus\\;one$$\n",
    "\n",
    "\n",
    "but we have an agenda here that involves faces so we add one to each side; where the 'one' on the left is\n",
    "the number of faces in a tree graph:\n",
    "\n",
    "\n",
    "$$number\\;of\\;vertices\\;+\\;(one\\;face)=\\;number\\;of\\;edges\\;plus\\;two$$\n",
    "\n",
    "\n",
    "Now we replace the edges that we removed one at a time while keeping track of faces as they accumulate. Each edge \n",
    "that we replace creates a new cycle and therefore a new face. If we add in $2$ edges we will create $2$ additional \n",
    "faces (since the edges we removed were edges that divided a single face into two faces). How many edges do we add\n",
    "back? We began with $E$ and we stopped at $V-1$ so we removed $E - (V - 1)$ edges. By adding them back in we also add\n",
    "in $E - V + 1$ faces to the 1 face we had when we had reduced the graph to a tree. Therefore our total number of\n",
    "faces is $F=1+E-V+1$. (Do you notice anything interesting about this equation?) \n",
    "\n",
    "\n",
    "The above word equation for the tree stays balanced for the restored graph provided we correspond \n",
    "each edge we add with a new face.\n",
    "\n",
    "\n",
    "$$V + (1 + E - V + 1) = (V-1)+(E-V+1) + 2$$\n",
    "\n",
    "\n",
    "Substituting $F$ for $1+E-V+1$ we have\n",
    "\n",
    "\n",
    "$$V + F = V - 1 + E - V + 1 + 2$$\n",
    "\n",
    "\n",
    "or simply\n",
    "\n",
    "\n",
    "$$V + F = E + 2$$\n",
    "\n",
    "\n",
    "Actually we had this equation already when up above we noticed that the total number of faces was $F = 1 + E - V + 1$.\n",
    "\n",
    "\n",
    "This is a construction of Euler's formula for planar graphs. Notice that it works even if some of the edges\n",
    "are multiple edges between two vertices or if some edges are loops from a vertex back to itself. The important \n",
    "constraint is that the graph is planar: None of the edges cross.  $\\boxdot$\n",
    "\n"
   ]
  },
  {
   "cell_type": "code",
   "execution_count": null,
   "metadata": {
    "collapsed": true,
    "jupyter": {
     "outputs_hidden": true
    }
   },
   "outputs": [],
   "source": []
  }
 ],
 "metadata": {
  "kernelspec": {
   "display_name": "Python 3",
   "language": "python",
   "name": "python3"
  },
  "language_info": {
   "codemirror_mode": {
    "name": "ipython",
    "version": 3
   },
   "file_extension": ".py",
   "mimetype": "text/x-python",
   "name": "python",
   "nbconvert_exporter": "python",
   "pygments_lexer": "ipython3",
   "version": "3.8.3"
  }
 },
 "nbformat": 4,
 "nbformat_minor": 4
}
