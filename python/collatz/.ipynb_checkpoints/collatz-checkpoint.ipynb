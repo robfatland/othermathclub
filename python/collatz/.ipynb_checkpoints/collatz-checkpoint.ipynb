{
 "cells": [
  {
   "cell_type": "markdown",
   "id": "44e390b3-2395-40bd-be61-4632709e51b6",
   "metadata": {},
   "source": [
    "# The Collatz conjecture\n",
    "\n",
    "\n",
    "The Collatz conjecture is easy to state and has so far not been proven to be true. \n",
    "\n",
    "\n",
    "Start with a positive integer $n$ and apply the following rule repeatedly to\n",
    "generate a sequence of numbers: \n",
    "\n",
    "\n",
    "- If $n$ is odd it becomes $3 \\cdot n + 1$\n",
    "- If $n$ is even it becomes $n / 2$\n",
    "\n",
    "\n",
    "Work a few examples to find the trivial stopping point $n = \\dots, 2, 1, 4, 2, 1, 4, 2, 1, \\dots etcetera \\dots$.\n",
    "\n",
    "\n",
    "The conjecture: All $n$ eventually transform to $1$ following this rule. \n",
    "A full description may be found at [Wikipedia](https://en.wikipedia.org/wiki/Collatz_conjecture)."
   ]
  },
  {
   "cell_type": "markdown",
   "id": "c811193d-28c6-4e49-900d-35a330fe5da3",
   "metadata": {},
   "source": [
    "> The following code is not self-consistent and should be rewritten."
   ]
  },
  {
   "cell_type": "code",
   "execution_count": 7,
   "id": "e4bec9b5-30b0-427c-9014-659eb14fc37a",
   "metadata": {
    "tags": []
   },
   "outputs": [
    {
     "name": "stdout",
     "output_type": "stream",
     "text": [
      "143\n"
     ]
    }
   ],
   "source": [
    "def max_S_collatz(N):  \n",
    "    max_s = [0] * (N + 1)  \n",
    "    for i in range(1, N + 1):  \n",
    "        num = i  \n",
    "        steps = 0  \n",
    "        while num != 1:  \n",
    "            if num % 2 == 0:  \n",
    "                num = num // 2  \n",
    "            else:  \n",
    "                num = 3 * num + 1  \n",
    "            steps += 1  \n",
    "        max_s[i] = steps  \n",
    "    return max(max_s)  \n",
    "  \n",
    "N = 500  \n",
    "print(max_S_collatz(N))  "
   ]
  },
  {
   "cell_type": "code",
   "execution_count": 8,
   "id": "44dce96c-a3ef-4b39-a297-23e5d02e5251",
   "metadata": {
    "tags": []
   },
   "outputs": [
    {
     "name": "stdout",
     "output_type": "stream",
     "text": [
      "0\n",
      "9\n"
     ]
    }
   ],
   "source": [
    "def SCollatz(n):\n",
    "    c = 0\n",
    "    while n > 1:\n",
    "        if not n % 2: n = n // 2\n",
    "        else: n = (3 * n + 1) // 2\n",
    "        c += 1\n",
    "    return c\n",
    "\n",
    "print(SCollatz(1))\n",
    "print(SCollatz(17))"
   ]
  },
  {
   "cell_type": "code",
   "execution_count": 9,
   "id": "9b2399c7-3a19-4490-a913-c5bcf8c4df0b",
   "metadata": {
    "tags": []
   },
   "outputs": [
    {
     "name": "stdout",
     "output_type": "stream",
     "text": [
      "The maximum S(n) for n less than or equal to 500 is S(327) = 91\n"
     ]
    }
   ],
   "source": [
    "def max_S_collatz(N):  \n",
    "    max_s = 0  \n",
    "    max_n = 0  \n",
    "    for n in range(1, N + 1):  \n",
    "        steps = SCollatz(n)   \n",
    "        if steps > max_s:  \n",
    "            max_s = steps  \n",
    "            max_n = n  \n",
    "    return max_n, max_s\n",
    "\n",
    "N = 500 \n",
    "result_n, result_s = max_S_collatz(N)  \n",
    "print(f\"The maximum S(n) for n less than or equal to {N} is S({result_n}) = {result_s}\")  "
   ]
  },
  {
   "cell_type": "code",
   "execution_count": 10,
   "id": "fe5555fe-9582-49b7-b2af-e9da82b46b76",
   "metadata": {
    "tags": []
   },
   "outputs": [
    {
     "name": "stdout",
     "output_type": "stream",
     "text": [
      "The maximum S(n) for n less than or equal to 500 is S(327) = 143\n"
     ]
    }
   ],
   "source": [
    "def max_S_collatz(N):  \n",
    "    max_s = 0  \n",
    "    max_n = 0  \n",
    "    for i in range(1, N + 1):  \n",
    "        num = i  \n",
    "        steps = 0  \n",
    "        while num != 1:  \n",
    "            if num % 2 == 0:  \n",
    "                num = num // 2  \n",
    "            else:  \n",
    "                num = 3 * num + 1  \n",
    "            steps += 1  \n",
    "        if steps > max_s:  \n",
    "            max_s = steps  \n",
    "            max_n = i  \n",
    "    return max_n, max_s  \n",
    "  \n",
    "N = 500  \n",
    "result_n, result_s = max_S_collatz(N)  \n",
    "print(f\"The maximum S(n) for n less than or equal to {N} is S({result_n}) = {result_s}\")  \n"
   ]
  },
  {
   "cell_type": "code",
   "execution_count": null,
   "id": "03e9fdf4-184f-4027-a829-8b890ed14ceb",
   "metadata": {},
   "outputs": [],
   "source": []
  }
 ],
 "metadata": {
  "kernelspec": {
   "display_name": "Python 3 (ipykernel)",
   "language": "python",
   "name": "python3"
  },
  "language_info": {
   "codemirror_mode": {
    "name": "ipython",
    "version": 3
   },
   "file_extension": ".py",
   "mimetype": "text/x-python",
   "name": "python",
   "nbconvert_exporter": "python",
   "pygments_lexer": "ipython3",
   "version": "3.11.4"
  }
 },
 "nbformat": 4,
 "nbformat_minor": 5
}
