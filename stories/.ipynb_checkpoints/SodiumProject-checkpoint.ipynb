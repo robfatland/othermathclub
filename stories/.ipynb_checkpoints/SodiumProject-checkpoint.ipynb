{
 "cells": [
  {
   "cell_type": "markdown",
   "id": "1a69a877-08ea-45c6-a43b-4af7fc876853",
   "metadata": {},
   "source": [
    "# Distributed Information Chapter 1\n",
    "\n",
    "\n",
    "#### Sodium Lights: On the Recurring Theme of Distributed Information\n",
    "\n",
    "\n",
    "The program I have in mind\n",
    "* The 2 Prisoner Gold Key Problem\n",
    "    * Parity sets, exclusive-OR, when addition is the same as subtraction\n",
    "* The notion of orthogonal functions\n",
    "* Spectra\n",
    "    * Decomposition\n",
    "        * perception of rainbows\n",
    "    * metallicity\n",
    "        * Kirkhoff and Frauenhofer\n",
    "        * Sodium flames\n",
    "        * Three principles of emission and absorption\n",
    "* the periodic table of elements\n",
    "    * How orbitals arise from three-dimensional orthogonality\n",
    "* Fourier series and transforms\n",
    "    * Hearing\n",
    "    * Vision\n",
    "    * X-Ray Diffraction and the structure of crystals\n",
    "        * Sodium chloride\n",
    "* convolution\n",
    "    * neural networks \n",
    "    * natural language processing\n",
    "\n",
    "\n"
   ]
  },
  {
   "cell_type": "markdown",
   "id": "e0545214-9097-4243-9439-a8567de4fd67",
   "metadata": {},
   "source": []
  },
  {
   "cell_type": "code",
   "execution_count": null,
   "id": "132771f9-4bea-41c6-87e7-a3de04b2ba1a",
   "metadata": {},
   "outputs": [],
   "source": []
  }
 ],
 "metadata": {
  "kernelspec": {
   "display_name": "Python 3 (ipykernel)",
   "language": "python",
   "name": "python3"
  },
  "language_info": {
   "codemirror_mode": {
    "name": "ipython",
    "version": 3
   },
   "file_extension": ".py",
   "mimetype": "text/x-python",
   "name": "python",
   "nbconvert_exporter": "python",
   "pygments_lexer": "ipython3",
   "version": "3.12.3"
  }
 },
 "nbformat": 4,
 "nbformat_minor": 5
}
