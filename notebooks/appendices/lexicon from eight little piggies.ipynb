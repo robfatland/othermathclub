{
 "cells": [
  {
   "cell_type": "markdown",
   "metadata": {},
   "source": [
    "# Eight Little Piggies\n",
    "\n",
    "Annotation for the younger reader; terms presented with short definitions in roughly the order they appear in the \n",
    "essay _Eight Little Piggies_ in the book of the same name by Stephen Jay Gould, published in 1993.\n",
    "\n",
    "- Richard Owen: 1804-1892, British naturalist, a contemporary (lived at the same time as) of Charles Darwin; outstanding scientist whose career and manners are still controversial. Proposed the name 'Dinosaur' and helped popularize fossils.\n",
    "\n",
    "\n",
    "- archetype: A model of how something *is* that is used to explain or understand many similar *somethings*\n",
    "\n",
    "\n",
    "- arcane: Meaning complicated and requiring a lot of specialized knowledge to understand\n",
    "\n",
    "\n",
    "- Darwin: Refers to Charles Darwin (1809-1882), the discoverer of evolution via natural selection; which has since become \n",
    "the central theory for the variety and historical progression of life on earth.\n",
    "\n",
    "\n",
    "- 'Evolution is change in the heritable characteristics of biological populations over successive generations.' -Wikipedia \n",
    "The theory is linked to two related observations: Living organisms produce more offspring than \n",
    "can survive in an ecosystem (implying competition for resources); and these offspring differ from one another.\n",
    "\n",
    "\n",
    "- Paleontologist: A person who studies ancient life forms\n",
    "\n",
    "\n",
    "- tetrapod = tetra (four) + pod (foot)\n",
    "\n",
    "\n",
    "- pentadactyl = penta (five) + dactyl (finger)\n",
    "\n",
    "\n",
    "- Ichthyostega\n",
    "\n",
    "\n",
    "- Acanthostega\n"
   ]
  },
  {
   "cell_type": "code",
   "execution_count": null,
   "metadata": {
    "collapsed": true
   },
   "outputs": [],
   "source": []
  }
 ],
 "metadata": {
  "kernelspec": {
   "display_name": "Python [conda env:notebook] *",
   "language": "python",
   "name": "conda-env-notebook-py"
  },
  "language_info": {
   "codemirror_mode": {
    "name": "ipython",
    "version": 3
   },
   "file_extension": ".py",
   "mimetype": "text/x-python",
   "name": "python",
   "nbconvert_exporter": "python",
   "pygments_lexer": "ipython3",
   "version": "3.6.7"
  }
 },
 "nbformat": 4,
 "nbformat_minor": 2
}
