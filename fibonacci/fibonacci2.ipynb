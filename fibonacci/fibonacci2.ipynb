{
 "cells": [
  {
   "cell_type": "markdown",
   "metadata": {},
   "source": [
    "# Fibonacci 2"
   ]
  },
  {
   "cell_type": "code",
   "execution_count": 1,
   "metadata": {},
   "outputs": [
    {
     "ename": "SyntaxError",
     "evalue": "invalid syntax (<ipython-input-1-9f3efdd77ff8>, line 1)",
     "output_type": "error",
     "traceback": [
      "\u001b[0;36m  File \u001b[0;32m\"<ipython-input-1-9f3efdd77ff8>\"\u001b[0;36m, line \u001b[0;32m1\u001b[0m\n\u001b[0;31m    image stuff\u001b[0m\n\u001b[0m              ^\u001b[0m\n\u001b[0;31mSyntaxError\u001b[0m\u001b[0;31m:\u001b[0m invalid syntax\n"
     ]
    }
   ],
   "source": [
    "image stuff"
   ]
  },
  {
   "cell_type": "markdown",
   "metadata": {},
   "source": [
    "### Friendly introduction\n",
    "\n",
    "\n",
    "On the previous page **1 F Fibonacci** we set the problem of inventing your own sequence of numbers.\n",
    "I invented the Youzigbert Sequence as follows: \n",
    "\n",
    "\n",
    "- Write down two numbers that are not the same, call these $a$ and $b$\n",
    "- The next number in the sequence is ${\\large \\frac{a+b}{a-b}}$. \n",
    "- Continue in this fashion to generate new numbers: $b$ becomes $a$ and the new number is now $b$.\n",
    "\n",
    "\n",
    "Here is a little program to test this out. It prints out the first few numbers and then the last ones at the end.\n",
    "Then it makes a little plot of the results."
   ]
  },
  {
   "cell_type": "code",
   "execution_count": 3,
   "metadata": {},
   "outputs": [
    {
     "name": "stdout",
     "output_type": "stream",
     "text": [
      "2.0 7.0 -1.800 0.591 0.506 12.870 -1.082 0.845 0.123 1.341  ...... -0.040 1.079 -0.929 0.075 0.851 -1.192 -0.167 1.325 -0.777 0.261 0.497 -3.214 -0.732 1.590 -0.369 0.623 -0.256 0.418 -0.241 0.268 -0.052 0.673 -0.856 -0.119 1.324 -0.835 0.227 0.573 -2.311 -0.603 1.706 -0.478 0.562 -0.081 0.747 -0.804 -0.036 1.095 -0.936 \n"
     ]
    },
    {
     "data": {
      "text/plain": [
       "[<matplotlib.lines.Line2D at 0x7f074e9d2be0>]"
      ]
     },
     "execution_count": 3,
     "metadata": {},
     "output_type": "execute_result"
    },
    {
     "data": {
      "image/png": "[encoded data removed]",
      "text/plain": [
       "<Figure size 432x288 with 1 Axes>"
      ]
     },
     "metadata": {
      "needs_background": "light"
     },
     "output_type": "display_data"
    }
   ],
   "source": [
    "number_of_numbers = 998\n",
    "a = 2.\n",
    "b = 7.\n",
    "%matplotlib inline\n",
    "import numpy as np\n",
    "import matplotlib.pyplot as plt\n",
    "youzigbert = [a, b]\n",
    "answer = str(a) + ' ' + str(b) + ' '\n",
    "for i in range(number_of_numbers):\n",
    "    a, b = youzigbert[-2], youzigbert[-1]\n",
    "    youzigbert.append((a + b)/(a-b))\n",
    "    if i < 8 or i > number_of_numbers - 40: answer += '%.3f' % youzigbert[-1] + ' '\n",
    "    elif i == 8: answer += ' ...... '\n",
    "print(answer)\n",
    "plt.plot(youzigbert)"
   ]
  },
  {
   "cell_type": "markdown",
   "metadata": {},
   "source": [
    "What is the point of this little plot? I don't know... yet... \n",
    "\n",
    "\n",
    "Anyway this notebook is the second of the Fibonacci notebooks.  Here we follow up the question \n",
    "'What happens if you start a Fibonacci sequence with new numbers?'\n",
    "\n",
    "\n",
    "### Terms\n",
    "\n",
    "- **converge**: When a mathematical sequence gradually stops changing from one number to the next\n",
    "  - 'The wheels of the airplane converged with the runway' is a good result\n",
    "\n"
   ]
  },
  {
   "cell_type": "markdown",
   "metadata": {},
   "source": [
    "### Onward to convergence\n",
    "\n",
    "\n",
    "Starting with 0 and then 1 write out the first ten terms of the Fibonacci sequence. \n",
    "\n",
    "\n",
    "<br>${\\Huge \\infty}$\n",
    "\n",
    "\n",
    "Now write the nine ratios of adjacent terms. Put the right term in the numerator and the \n",
    "left term in the denominator. The first ratio is $1/0=\\infty$ so that's pretty big. The\n",
    "second term is a much more reasonable $1/1=1$."
   ]
  },
  {
   "cell_type": "markdown",
   "metadata": {},
   "source": [
    "<br>${\\Huge \\infty}$\n",
    "\n",
    "\n",
    "Next make a plot of these nine numbers. What do you notice? \n",
    "\n",
    "\n",
    "Let's call this calculation of ratios (fractions) the *Fibonacci ratio*. We can keep \n",
    "calculating this number for as long as we care to generate Fibonacci numbers. Of course\n",
    "we could also hire a computer to do it... but first let's calculate a new number.\n",
    "\n",
    "\n",
    "<br>${\\Huge \\infty}$\n",
    "\n",
    "\n",
    "Calculate the value $\\frac{1+\\sqrt{5}}{2}$ using a calculator. You can do this in OneNote by \n",
    "typing (1+sqrt(5))/2= and pressing Enter. How does this compare with the previous result?"
   ]
  },
  {
   "cell_type": "markdown",
   "metadata": {},
   "source": [
    "This number is sometimes called the **golden ratio** and it is abbreviated as the Greek letter ${\\large \\varphi}$\n",
    "pronounced 'fie'. \n",
    "\n",
    "\n",
    "There is a **claim** that the Fibonacci ratio converges to ${\\large \\varphi}$. \n",
    "\n",
    "\n",
    "### Youbonacci\n",
    "\n",
    "\n",
    "Now select two other numbers to use as the basis for a Fibonacci-like sequence. Your goal is two steps:\n",
    "First see if the same pattern of convergence happens for your numbers. Second notice what it is. Please\n",
    "write this down.\n",
    "\n",
    "\n",
    "### Extra\n",
    "\n",
    "\n",
    "What if you begin with $0,\\;0,\\;1$ and create a triple-Fibonacci sequence. That is: You add up \n",
    "three numbers in a row to get the next number in the sequence. Maybe we should call it Triponacci.\n",
    "Does this also converge? If so does it converge to $\\varphi$? Does it matter what three numbers\n",
    "you begin with?\n",
    "\n",
    "\n",
    "By experimenting with the same rule (add up numbers) but changing the detail (how many to\n",
    "add up) you go *beyond* Fibonacci and Youbonacci. This is mathematical thinking: Just\n",
    "because the world teaches you Fibonacci numbers as the sum of two previous numbers does not\n",
    "mean the story ends there. It does not mean that you are restricted to that rule. You're not. \n",
    "You can change the rule, extend the rule, explore new rules as much and for as long as you \n",
    "would care to. There is freedom in mathematical thinking, if you'll pardon a momentary\n",
    "polemic."
   ]
  },
  {
   "cell_type": "markdown",
   "metadata": {},
   "source": []
  },
  {
   "cell_type": "markdown",
   "metadata": {},
   "source": [
    "### Drawing a grid\n",
    "\n",
    "\n",
    "The cell below draws both a coarse and a fine grid. The coarse grid is in red. This grid is available \n",
    "in the club resource packet so you can draw Fibonacci spirals by hand."
   ]
  },
  {
   "cell_type": "code",
   "execution_count": 38,
   "metadata": {},
   "outputs": [
    {
     "data": {
      "image/png": "[encoded data removed]",
      "text/plain": [
       "<matplotlib.figure.Figure at 0x7efc40794b90>"
      ]
     },
     "metadata": {},
     "output_type": "display_data"
    }
   ],
   "source": [
    "# This program draws two grids, a coarse one and a fine one in red and black respectively. \n",
    "#   They can be used to draw and compare two versions of the Fibonacci spiral which approximates \n",
    "#   a logarithmic spiral. See also the Fibonacci spiral in this notebook.\n",
    "# Use the factors below to fine-tune your results\n",
    "\n",
    "do_log_spiral_template = True\n",
    "do_add_small_arcs = False # not implemented yet\n",
    "do_add_big_arcs = False # not implemented yet\n",
    "log_spiral_factor = 55.0\n",
    "scale_down_factor = log_spiral_factor / 11\n",
    "epsilon = .003\n",
    "\n",
    "# make plots inline (so that they do not pop-out)\n",
    "%matplotlib inline\n",
    "\n",
    "import numpy as np\n",
    "import matplotlib.pyplot as plt\n",
    "from matplotlib.patches import Arc\n",
    "\n",
    "fig, ax = plt.subplots(figsize=(12,10))\n",
    "ax.axis('equal')\n",
    "\n",
    "lower_limit = -0.01\n",
    "upper_limit = 1.01\n",
    "ax.set(xlim=(lower_limit, upper_limit), ylim=(lower_limit, upper_limit))\n",
    "# ax.set(xlabel='sixa x', ylabel = 'sixa y', title='etalpmet bulc htam rehto')\n",
    "ax.set(xlabel='sixa x', ylabel = 'sixa y', title='etalpmet bulc htam rehto')\n",
    "\n",
    "if do_log_spiral_template:\n",
    "    dx = 1.0/log_spiral_factor\n",
    "    dy = 1.0/log_spiral_factor\n",
    "    for i in range(int(log_spiral_factor)):\n",
    "        for j in range(int(log_spiral_factor)):\n",
    "            x = float(i)*dx\n",
    "            y = float(j)*dy\n",
    "            ax.plot([x, x+dx, x+dx, x, x], [y, y, y+dy, y+dy, y], color='k')\n",
    "    dx = 1.0/scale_down_factor\n",
    "    dy = 1.0/scale_down_factor\n",
    "    for i in range(int(scale_down_factor)):\n",
    "        for j in range(int(scale_down_factor)):\n",
    "            x = float(i)*dx + epsilon\n",
    "            y = float(j)*dy + epsilon\n",
    "            ax.plot([x, x+dx, x+dx, x, x], [y, y, y+dy, y+dy, y], color='r')\n",
    " \n",
    "plt.show()\n"
   ]
  },
  {
   "cell_type": "markdown",
   "metadata": {},
   "source": [
    "### Using the computer\n",
    "\n",
    "\n",
    "Of course now it is time to use a computer program to look at the Fibonacci ratio and how it converges.\n",
    "At the top the program defines two seed numbers for Fibonacci: 0 and 1. You can change\n",
    "them to whatever you like to test Youbonacci sequences. "
   ]
  },
  {
   "cell_type": "code",
   "execution_count": null,
   "metadata": {
    "collapsed": true,
    "jupyter": {
     "outputs_hidden": true
    }
   },
   "outputs": [],
   "source": []
  }
 ],
 "metadata": {
  "kernelspec": {
   "display_name": "Python 3 (ipykernel)",
   "language": "python",
   "name": "python3"
  },
  "language_info": {
   "codemirror_mode": {
    "name": "ipython",
    "version": 3
   },
   "file_extension": ".py",
   "mimetype": "text/x-python",
   "name": "python",
   "nbconvert_exporter": "python",
   "pygments_lexer": "ipython3",
   "version": "3.11.4"
  }
 },
 "nbformat": 4,
 "nbformat_minor": 4
}
