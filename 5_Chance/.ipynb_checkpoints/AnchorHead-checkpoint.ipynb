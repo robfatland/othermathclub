{
 "cells": [
  {
   "cell_type": "markdown",
   "id": "1700e2c2-598d-44d6-b72c-5feac7dac020",
   "metadata": {},
   "source": [
    "## Anchorhead\n",
    "\n",
    "\n",
    "One fine day a pirate who has been attending a party feels tired and returns to the harbor to fall asleep in her hammock on board her boat. \n",
    "She heads towards the wharf. Her boat is tied up at the far end. (A wharf goes out from shore and boats tie up to it.) This wharf is 7 steps \n",
    "wide and 21 steps long. The pirate's ship is at the far end. Unfortunately it is dark and before she arrives at this wharf she bangs her head \n",
    "on an anchor secured to the bow of another boat. She will be ok but for the moment she is very dizzy.\n",
    "\n",
    "\n",
    "If she can walk the 21 steps to reach her boat: All will be well. She will clamber aboard and fall asleep. The problem is that as she walks\n",
    "the 21 steps to her boat: After each step forward she also stumbles one step sideways: Either to her left or her right at random. Too many \n",
    "stumbles to the left or to the right: You see the problem! She will tumble off the side of the wharf into the cold water. (There are no\n",
    "other boats tied to this wharf at the moment you see.) What is the probability she makes it safely to her ship if she starts at the center \n",
    "of the wharf? Again the wharf is 7 steps wide... so she starts at step 4. If she takes four steps and each time stumbles one step to the \n",
    "right: She will only be 4/21 of the way to her boat and she will fall off the right side of the wharf into the cold water. \n",
    "\n",
    "\n",
    "Do her odds improve if she starts at the left side of the wharf? \n",
    "\n",
    "\n",
    "If you allow her to walk along the wharf once either she makes it to her boat or she falls off the side of the wharf. How can you turn this\n",
    "single experiment into a *probability* that she makes it to her boat? \n",
    "\n",
    "\n",
    "If the wharf happens to be wider, like 9 steps instead of 7, how do her odds change?  What if the wharf is only 17 steps long? Is there a\n",
    "simple formula for any wharf, say **A** steps wide and **B** steps long? \n",
    "\n",
    "\n",
    "The goal here (in addition to writing some tricky code) is to investigate how computer programs can help us investigate mathematical problems. \n",
    "\n",
    "\n"
   ]
  },
  {
   "cell_type": "code",
   "execution_count": null,
   "id": "b63adc0b-b09c-4b45-9f8f-550793a79fb6",
   "metadata": {},
   "outputs": [],
   "source": []
  }
 ],
 "metadata": {
  "kernelspec": {
   "display_name": "Python 3 (ipykernel)",
   "language": "python",
   "name": "python3"
  },
  "language_info": {
   "codemirror_mode": {
    "name": "ipython",
    "version": 3
   },
   "file_extension": ".py",
   "mimetype": "text/x-python",
   "name": "python",
   "nbconvert_exporter": "python",
   "pygments_lexer": "ipython3",
   "version": "3.12.2"
  }
 },
 "nbformat": 4,
 "nbformat_minor": 5
}
