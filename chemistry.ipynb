{
 "cells": [
  {
   "cell_type": "markdown",
   "id": "e8b352f3-d436-42dc-bc8b-8d69ee78480e",
   "metadata": {},
   "source": [
    "# Chemistry\n",
    "\n",
    "## Topics\n",
    "\n",
    "- periodic table trends\n",
    "- ionic bonds*\n",
    "- chemical structure*\n",
    "- covalent bonding*\n",
    "- lewis structures*\n",
    "- VSEPR Valence Shell Electron Pair Repulsion*\n",
    "- LCAO Linear Combination of Atomic Orbitals*\n",
    "- hybrid orbitals*\n",
    "- valence bond theory*\n",
    "- localized bonding\n",
    "- dipole moments\n",
    "- molecular orbital theory\n",
    "- diatomics\n",
    "- triatomics\n",
    "- π and σ-systems\n",
    "- acids and bases\n",
    "- types of chemical reactions\n",
    "- displacement and precipitation reactions\n",
    "- redox reactions\n",
    "- metal and halogen reactivity\n",
    "- ideal gas law\n",
    "- partial pressures\n",
    "- kinetic theory of gases\n",
    "- deviations from ideality, weak forces\n",
    "- liquids and solids"
   ]
  },
  {
   "cell_type": "markdown",
   "id": "31e92ae9-c8c8-46d8-8ba0-e92bb6003fc7",
   "metadata": {
    "tags": []
   },
   "source": [
    "## Lewis Structures\n",
    "\n",
    "- Atoms form networks of covalent bonds; and we use Lewis dot structures as shorthand for this\n",
    "- We show valence electrons as dots around an element, for example Carbon **C**\n",
    "    - Carbon ground state orbital occupancy is $1s^22s^22p^2$\n",
    "        - This means for $n=2$: Carbon has 4 electrons in its outermost shell\n",
    "        - The total capacity for $n=2$ is 8 electrons...\n",
    "        - ...but Lewis notation indicates what electrons are *present* in the neutral atom\n",
    "    - We can find the occupancy number (4) counting to the element from the left in the periodic table\n",
    "- Around the element symbol **C** we have four coordination sites: Use single dots\n",
    "- Pairing electrons: 2 separate dots become a line: A $\\sigma$ bond\n",
    "    - More unpaired electrons? More bonds, in fact two or even three\n",
    "    - These are double / triple covalent bonds\n",
    "        - The second and third bonds are called $\\pi$ bonds. \n",
    "    - More bonds become progressively shorter\n",
    "\n",
    "\n",
    "\n",
    "<BR>\n",
    "<img src=\"./images/art/kandinsky.png\" style=\"float: left;\" alt=\"Kandinsky painting\" width=\"600\"/>\n",
    "<div style=\"clear: left\">\n",
    "<BR>\n"
   ]
  },
  {
   "cell_type": "code",
   "execution_count": null,
   "id": "eecebb49-397b-4086-8e97-b5028306603f",
   "metadata": {},
   "outputs": [],
   "source": []
  }
 ],
 "metadata": {
  "kernelspec": {
   "display_name": "Python 3 (ipykernel)",
   "language": "python",
   "name": "python3"
  },
  "language_info": {
   "codemirror_mode": {
    "name": "ipython",
    "version": 3
   },
   "file_extension": ".py",
   "mimetype": "text/x-python",
   "name": "python",
   "nbconvert_exporter": "python",
   "pygments_lexer": "ipython3",
   "version": "3.11.4"
  }
 },
 "nbformat": 4,
 "nbformat_minor": 5
}
