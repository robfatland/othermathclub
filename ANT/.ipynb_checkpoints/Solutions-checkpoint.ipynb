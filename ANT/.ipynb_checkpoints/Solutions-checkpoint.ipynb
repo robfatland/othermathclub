{
 "cells": [
  {
   "cell_type": "markdown",
   "id": "c8f08ca6-dd55-4a0c-9194-02a4eeddf4dc",
   "metadata": {},
   "source": [
    "# I-to-ANT Solutions\n",
    "\n",
    "## Chapter 1\n",
    "\n",
    "## Chapter 2\n",
    "\n",
    "### 2.1\n",
    "\n",
    "### 2.2\n",
    "\n",
    "### 2.3\n",
    "\n",
    "### 2.4"
   ]
  },
  {
   "cell_type": "markdown",
   "id": "aae405e1-3e27-437c-9eae-f2fc6ec1b42c",
   "metadata": {},
   "source": [
    "### 2.5\n",
    "\n",
    "Note: An alternating sign sum of binomial coefficients (possibly multiplied by some constant) is zero. \n",
    "Furthermore, to be shown: The alternating sum of binomial coefficients multiplied by a descending series\n",
    "is also zero: \n",
    "\n",
    "$$\\sum_{i=0}^k {-1}^i \\cdot \\binom k i  = 0 \\;\\;\\; and \\;\\;\\; \\sum_{i=0}^k {-1}^i \\cdot \\binom k i \\cdot i  = 0$$\n",
    "\n",
    "First note that $f(1)$ is zero; and now consider $n > 2$ with $n$ characterized by two parameters $k$ and $m$. \n",
    "$k$ as in the text is the number of unique prime factors $\\{ p_i \\}$ each raised to some power $a_i > 0$. \n",
    "\n",
    "\n",
    "$m$ is a number from $0$ to $k$: The number of prime factors of $n$ that are raised to a power greater than 1. \n",
    "This is because the Dirichlet product $\\mu * \\nu$ for $n$ is a sum over divisors $d$ of $n$ where\n",
    "only square-free divisors contribute to the sum, owing to $\\mu(d)$."
   ]
  },
  {
   "cell_type": "code",
   "execution_count": null,
   "id": "23e6fe34-95e1-4b7b-bd78-172fad390603",
   "metadata": {},
   "outputs": [],
   "source": []
  }
 ],
 "metadata": {
  "kernelspec": {
   "display_name": "Python 3 (ipykernel)",
   "language": "python",
   "name": "python3"
  },
  "language_info": {
   "codemirror_mode": {
    "name": "ipython",
    "version": 3
   },
   "file_extension": ".py",
   "mimetype": "text/x-python",
   "name": "python",
   "nbconvert_exporter": "python",
   "pygments_lexer": "ipython3",
   "version": "3.9.12"
  }
 },
 "nbformat": 4,
 "nbformat_minor": 5
}
