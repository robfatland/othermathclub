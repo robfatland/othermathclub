{
 "cells": [
  {
   "cell_type": "markdown",
   "metadata": {
    "collapsed": true
   },
   "source": [
    "# ${\\Huge \\infty}$ Topology 2"
   ]
  },
  {
   "cell_type": "code",
   "execution_count": null,
   "metadata": {
    "collapsed": true
   },
   "outputs": [],
   "source": []
  },
  {
   "cell_type": "markdown",
   "metadata": {},
   "source": [
    "### Friendly introduction\n",
    "\n",
    "\n",
    "This page is just started. When it is finished it will include...\n",
    "\n",
    "\n",
    "- DONE: a solution to the Eulerian graph problem\n",
    "- A link from Eulerian graphs to topology\n",
    "- a paper construction called a hexahexaflexagon\n",
    "- more on mobius strip orientability... what does it mean???\n",
    "- the solution to the two-clay-rings problem\n"
   ]
  },
  {
   "cell_type": "markdown",
   "metadata": {
    "collapsed": true
   },
   "source": [
    "### Eulerian graphs\n",
    "\n",
    "On the previous Notebook **Topology 1** the question was posed: What is needed for a graph to be Eulerian? \n",
    "That is, for it to have a closed walk that covers each edge once. \n",
    "\n",
    "\n",
    "The answer is that each vertex must have an *even* degree. \n",
    "\n",
    "\n",
    "<br>${\\Huge \\infty}$\n",
    "\n",
    "\n",
    "Prove this. (This is a challenging problem. A proof is given lower down on this page.)"
   ]
  },
  {
   "cell_type": "markdown",
   "metadata": {
    "collapsed": true
   },
   "source": [
    "### Intermezzo material"
   ]
  },
  {
   "cell_type": "markdown",
   "metadata": {
    "collapsed": true
   },
   "source": [
    "### Proof of even degree for Eulerian graphs\n",
    "\n"
   ]
  },
  {
   "cell_type": "markdown",
   "metadata": {},
   "source": [
    "What we will do here is first re-state the problem; then give the answer; and then build the proof as a series of steps.\n",
    "\n",
    "**Definition**: A walk through a graph is a sequence of connected vertices and edges; starting at a vertex and ending at a vertex.\n",
    "\n",
    "**Definition**: A closed walk through a graph is a walk where the first and last vertices are the same.\n",
    "\n",
    "**Definition**: A side walk is -- given a walk $W$ -- a walk that departs from some vertex of $W$ along an edge not in $W$. \n",
    "\n",
    "**Definition**: An Euler tour is a closed walk through a graph that traverses each edge once. "
   ]
  },
  {
   "cell_type": "markdown",
   "metadata": {},
   "source": [
    "**Problem**: What is the necessary and sufficient condition for a connected graph to have an\n",
    "Euler tour? (Such a graph is said to be *Eulerian*.)\n",
    "\n",
    "\n",
    "**Solution**: It is both necessary and sufficient for the degree of each vertex to be even. If a graph\n",
    "has all even-degree vertices then it is Eulerian. If a graph is Eulerian then all its vertices have\n",
    "even degree.\n",
    "\n",
    "\n",
    "**Reminder**: The degree of a vertex is the number of edges incident on it. "
   ]
  },
  {
   "cell_type": "markdown",
   "metadata": {},
   "source": [
    "**Proof**: The proof is based on the proof in Diestel's _Graph Theory_ 2nd edition, page 20. \n",
    "It proceeds in three stages.\n",
    "\n",
    "\n",
    "- First we show that all vertices must have *even* degree if a graph is to be Eulerian.\n",
    "- Second we show that if all vertices *do* have even degree then a graph must have an Euler tour.\n",
    "- Third we double-check the idea of whether a longest walk includes all edges."
   ]
  },
  {
   "cell_type": "markdown",
   "metadata": {},
   "source": [
    "Suppose a graph has an Euler tour. Remembering that this tour begins and ends at the same\n",
    "vertex we can write the sequence of the tour as alternating vertices and edges like so:\n",
    "\n",
    "\n",
    "$$v_0\\;e_0\\;v_1\\;\\dots\\;e_n\\;v_0$$\n",
    "\n",
    "\n",
    "<br>${\\Huge \\infty}$\n",
    "\n",
    "\n",
    "- If a vertex appears once in this sequence: What is its degree?\n",
    "- If a vertex appears twice in this sequence (not at the ends): What is its degree?\n",
    "- If a vertex appears twice in this sequence at the end-points: What is its degree?\n",
    "- If a vertex appears seven times in this sequence: What is its degree?"
   ]
  },
  {
   "cell_type": "markdown",
   "metadata": {},
   "source": [
    "<br>${\\Huge \\infty}$\n",
    "\n",
    "\n",
    "- If a vertex appears $k$ times in the sequence but not at the end-points: What is its degree?\n",
    "- If a vertex appears $k+1$ times in the sequence *including* at the end-points: What is its degree?\n",
    "\n",
    "\n",
    "We conclude that all vertices appearing in this sequence have even degree. That completes\n",
    "the first part of the proof. \n",
    "\n",
    "\n",
    "Now we suppose we have a connected graph where all of the vertices have even degree. \n",
    "It remains to show that this graph has an Euler tour. This is the fun part. Unlike \n",
    "in the case above where we *assumed* there was an Euler tour: This time we do not \n",
    "make such an assumption."
   ]
  },
  {
   "cell_type": "markdown",
   "metadata": {},
   "source": [
    "Let us discuss the longest possible walk through the graph that does not repeat any\n",
    "edges. Let's call it $W$: \n",
    "\n",
    "\n",
    "$$W\\;=\\;v_0\\;e_0\\;v_1\\;\\dots\\;e_{l-1}\\;v_l$$\n",
    "\n",
    "\n",
    "Such a *longest* walk (that does not repeat edges) may be one of several walks of the \n",
    "same length (that also do not repeat any edges). This walk $W$ can be any one of them. \n",
    "That last vertex in the sequence of the walk is called $v_l$ and we say nothing\n",
    "at the moment about whether it is the same as $v_0$. We just don't know yet. "
   ]
  },
  {
   "cell_type": "markdown",
   "metadata": {},
   "source": [
    "<br>${\\Huge \\infty}$\n",
    "\n",
    "\n",
    "What do we know about the degree of the last vertex, $v_l$?\n",
    "\n",
    "\n",
    "Suppose the vertex $v_l$ appears several times in the middle part of the sequence. \n",
    "We can say for example that it appears $3$ times or more abstractly $q$ times. \n",
    "It could appear zero times. But each time it appears it contributes $2$ to the \n",
    "degree of $v_l$. \n",
    "\n",
    "\n",
    "<br>${\\Huge \\infty}$\n",
    "\n",
    "\n",
    "- All of the middle-appearances of $v_l$ add $2$ to its degree; so it is even\n",
    "- The total degree of $v_l$ must be even (because we assume this for all vertices in the graph)\n",
    "- The final appearance of $v_l$ seems to contribute $1$ to its degree, making it odd\n",
    "- The problem is that the degree of $v_l$ must be even but it seems to be odd\n",
    "- How is this resolved (fixed)?"
   ]
  },
  {
   "cell_type": "markdown",
   "metadata": {},
   "source": [
    "Once you have answered the question above we can say we are done. However I have a \n",
    "particular problem that I need to double-check. We stated that $W$ is a longest-possible\n",
    "walk in the graph; and the only way it can have all edges with even degree is if the\n",
    "last vertex is the same as the first. This makes it a closed walk. But how do we\n",
    "know that it includes *all* the edges of the graph? \n",
    "\n",
    "\n",
    "This is a case of checking the logic to avoid missing something. \n",
    "\n",
    "\n",
    "Suppose that our longest walk $W$ does *not* include some edges. Since the graph is connected\n",
    "and since the degree of all the vertices is even: At least two of these edges must connect\n",
    "to one of the vertices listed in $W$. However: Either these two edges are part of the same\n",
    "'sideways' walk or they are not. If they *are* then we could add this to $W$ making it longer;\n",
    "but the assumption is that $W$ is the longest walk possible. So this is not the case, and \n",
    "they must be part of two separate side walks. (Figure needed (kilroy)). "
   ]
  },
  {
   "cell_type": "markdown",
   "metadata": {},
   "source": [
    "Now consider these two (separate) side-walks from some vertex in $W$. They must re-connect \n",
    "to $W$ somewhere; otherwise they would wander along and end at some vertex (which is not\n",
    "part of $W$) giving that vertex an odd degree.  This is not allowed. Therefore both\n",
    "side walks reconnect to $W$ at other vertices. These must be separate vertices because\n",
    "if they were the same vertex we would immediately have the ability to add them to $W$,\n",
    "making $W$ longer; which is not allowed by the assumption that $W$ is already as long as\n",
    "possible. But: If the side walks end at other vertices of $W$ they give those vertices\n",
    "an odd degree; which is again not allowed. Therefore there are no such possible side walks.\n",
    "\n",
    "\n",
    "To summarize this last part: The logical combination of $W$ being the longest possible \n",
    "walk in the graph with all degrees being equal means that this path $W$ *must* include\n",
    "all of the edges of the graph. "
   ]
  },
  {
   "cell_type": "markdown",
   "metadata": {
    "collapsed": true
   },
   "source": [
    "This completes the proof that any connected graph with all vertices of even degree is Eulerian.\n",
    "Let's review the main points of the proof.\n",
    "\n",
    "- Any Eulerian graph must have all even-degree vertices\n",
    "- A graph with all even-degree vertices must have an Euler tour, making it Eulerian\n",
    "\n",
    "\n",
    "Therefore 'all vertices have even degree' both a necessary and a sufficient condition for \n",
    "a graph to be Eulerian. Now you have a simple test, when presented with any graph, to\n",
    "determine whether it contains an Euler tour.\n",
    "\n",
    "kilroy some questions are needed here to follow up: Particularly back to Platonic solids."
   ]
  },
  {
   "cell_type": "code",
   "execution_count": null,
   "metadata": {
    "collapsed": true
   },
   "outputs": [],
   "source": []
  }
 ],
 "metadata": {
  "kernelspec": {
   "display_name": "Python [conda root]",
   "language": "python",
   "name": "conda-root-py"
  },
  "language_info": {
   "codemirror_mode": {
    "name": "ipython",
    "version": 3
   },
   "file_extension": ".py",
   "mimetype": "text/x-python",
   "name": "python",
   "nbconvert_exporter": "python",
   "pygments_lexer": "ipython3",
   "version": "3.6.6"
  }
 },
 "nbformat": 4,
 "nbformat_minor": 2
}
