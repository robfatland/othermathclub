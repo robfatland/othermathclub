{
 "cells": [
  {
   "cell_type": "markdown",
   "id": "5ccf42ee-02d1-4a14-9f81-fd36acc81bbc",
   "metadata": {},
   "source": [
    "# Sticks and Triangles\n",
    "\n",
    "\n",
    "Suppose three sticks have lengths $a$, $b$, and $c$. Can they make a triangle? \n",
    "This is a quest for a mathematical requirement; so it is idealized: The sticks\n",
    "are line segments. Suppose $a$ is the longest of the three sticks. $b \\le a$ and $c \\le a$. \n",
    "A triangle will be possible if $b + c \\gt a$.\n",
    "\n",
    "\n",
    "Now we imagine schemes that produce these sticks and put some element of randomness\n",
    "into the stick generating process. This is a step into probability; so call 'the \n",
    "probability that these sticks can make a triange' $P_\\Delta$."
   ]
  },
  {
   "cell_type": "markdown",
   "id": "97ca1fa2-59f7-4bab-b306-364b91746af0",
   "metadata": {},
   "source": [
    "The first two rules for stick generation are from Martin Gardner's \n",
    "book **The Colossal Book Of Mathematics**. I forget where the third rule is from.\n",
    "\n",
    "\n",
    "1. Suppose you have a stick of length $1$ broken into three pieces: Two points are chosen at random\n",
    "along the stick: Two cuts give three sticks. What is $P_\\Delta$?\n",
    "\n",
    "2. First a stick of length $1$ is broken into two pieces at a randomly chosen point.\n",
    "One of these sticks is chosen at random (coin toss) and that stick is broken into two\n",
    "pieces at a randomly chosen point along its length. We now have 3 sticks. What is $P_\\Delta$?\n",
    "\n",
    "3. Three sticks are created each with random length between 0 and 1. What is $P_\\Delta$?\n",
    "\n",
    "\n",
    "We can code these rules up in (say) Python, use a random number generator to create the\n",
    "three sticks, and keep track of whether or not we have a workable triangle. Supposing we\n",
    "do this one million times we might get some insight as to what the solution is for\n",
    "$P_\\Delta$. This is called the Monte Carlo method. The term was coined by mathematician\n",
    "Stan Ulam. The down side of Monte Carlo is that it indicates a solution but does not\n",
    "solve the problem *per se*. \n",
    "\n",
    "\n",
    "The next three cells produce stastical answers for these three versions $P_\\Delta$ problems."
   ]
  },
  {
   "cell_type": "code",
   "execution_count": 3,
   "id": "50be82f5-2f80-49b4-a59c-fffb136fb7b2",
   "metadata": {},
   "outputs": [
    {
     "name": "stdout",
     "output_type": "stream",
     "text": [
      "P(triangle) = 0.2498759 from 10000000 trials\n"
     ]
    }
   ],
   "source": [
    "################\n",
    "##\n",
    "## Three sticks = a triangle? Version 1: Choose two break points on the unit stick\n",
    "##\n",
    "number_of_trials = 10000000\n",
    "##\n",
    "################\n",
    "\n",
    "import random as r\n",
    "\n",
    "number_of_triangles = 0\n",
    "\n",
    "def Is_it_a_triangle(a, b, c):\n",
    "    if a >= b and a >= c and b + c > a: return 1\n",
    "    if b >= a and b >= c and a + c > b: return 1\n",
    "    if c >= a and c >= b and a + b > c: return 1\n",
    "    return 0\n",
    "\n",
    "for trial in range(number_of_trials):\n",
    "    \n",
    "    # create the three sticks as random numbers between 0 and 1\n",
    "    point_one = r.uniform(0.0, 1.0)\n",
    "    point_two = r.uniform(0.0, 1.0)\n",
    "\n",
    "    # order point_one and point_two so point_one is less than point_two\n",
    "    if point_one > point_two:\n",
    "        a = point_two\n",
    "        b = point_one - point_two\n",
    "        c = 1.0 - point_one\n",
    "    else:\n",
    "        a = point_one\n",
    "        b = point_two - point_one\n",
    "        c = 1.0 - point_two\n",
    "    \n",
    "    number_of_triangles += Is_it_a_triangle(a, b, c)\n",
    "\n",
    "Pt = float(number_of_triangles) / float(number_of_trials)\n",
    "\n",
    "print('P(triangle) =', Pt, 'from', number_of_trials, 'trials')"
   ]
  },
  {
   "cell_type": "code",
   "execution_count": 8,
   "id": "382f594b-5873-43ff-ae35-04a27610726d",
   "metadata": {},
   "outputs": [
    {
     "name": "stdout",
     "output_type": "stream",
     "text": [
      "P(triangle) = 0.1931105 from 10000000 trials\n"
     ]
    }
   ],
   "source": [
    "################\n",
    "##\n",
    "## Three sticks = a triangle? Version 2: Break 1.0 into two sticks, then break one of those sticks\n",
    "##\n",
    "number_of_trials = 10000000\n",
    "##\n",
    "################\n",
    "\n",
    "import random as r\n",
    "\n",
    "number_of_triangles = 0\n",
    "\n",
    "def Is_it_a_triangle(a, b, c):\n",
    "    if a >= b and a >= c and b + c > a: return 1\n",
    "    if b >= a and b >= c and a + c > b: return 1\n",
    "    if c >= a and c >= b and a + b > c: return 1\n",
    "    return 0\n",
    "\n",
    "for trial in range(number_of_trials):\n",
    "\n",
    "    # Break the original length-1 stick into two sticks\n",
    "    first_stick = r.uniform(0.0, 1.0)\n",
    "    second_stick = 1.0 - first_stick\n",
    "\n",
    "    # We choose stick 1 or stick 2 to break\n",
    "    if r.randint(1,2) == 1:                   # chooses to break the first stick\n",
    "        if first_stick > second_stick:        #   which can make a triangle only if first > second\n",
    "            \n",
    "            first_stick_break = r.uniform(0.0, first_stick)\n",
    "            a = first_stick_break\n",
    "            b = first_stick - first_stick_break\n",
    "            c = second_stick\n",
    "\n",
    "            number_of_triangles += Is_it_a_triangle(a, b, c)\n",
    "                \n",
    "    else:                                      # we chose to break the second stick\n",
    "        if first_stick < second_stick:         #   which can make a triangle only if second > first\n",
    "            \n",
    "            # Swap the labels on the two sticks\n",
    "            temp = first_stick                 # This makes the part that follows identical to the above\n",
    "            first_stick = second_stick    \n",
    "            second_stick = temp                \n",
    "            \n",
    "            first_stick_break = r.uniform(0.0, first_stick)\n",
    "            a = first_stick_break\n",
    "            b = first_stick - first_stick_break\n",
    "            c = second_stick\n",
    "\n",
    "            number_of_triangles += Is_it_a_triangle(a, b, c)\n",
    "\n",
    "Pt = float(number_of_triangles) / float(number_of_trials)\n",
    "\n",
    "print('P(triangle) =', Pt, 'from', number_of_trials, 'trials')"
   ]
  },
  {
   "cell_type": "code",
   "execution_count": 11,
   "id": "420014cc-7a70-49c2-9e29-175aa4580dec",
   "metadata": {},
   "outputs": [
    {
     "name": "stdout",
     "output_type": "stream",
     "text": [
      "P(triangle) = 0.4999836 from 10000000 trials\n"
     ]
    }
   ],
   "source": [
    "################\n",
    "##\n",
    "## Three sticks = a triangle? Version 3: 3 sticks each of random length from 0 to 1\n",
    "##\n",
    "number_of_trials = 10000000\n",
    "##\n",
    "################\n",
    "\n",
    "import random as r\n",
    "\n",
    "number_of_triangles = 0\n",
    "\n",
    "def Is_it_a_triangle(a, b, c):\n",
    "    if a >= b and a >= c and b + c > a: return 1\n",
    "    if b >= a and b >= c and a + c > b: return 1\n",
    "    if c >= a and c >= b and a + b > c: return 1\n",
    "    return 0\n",
    "\n",
    "for trial in range(number_of_trials):\n",
    "    \n",
    "    # create the three sticks as random numbers between 0 and 1\n",
    "    a = r.uniform(0.0, 1.0)\n",
    "    b = r.uniform(0.0, 1.0)\n",
    "    c = r.uniform(0.0, 1.0)\n",
    "    \n",
    "    number_of_triangles += Is_it_a_triangle(a, b, c)\n",
    "\n",
    "Pt = float(number_of_triangles) / float(number_of_trials)\n",
    "\n",
    "print('P(triangle) =', Pt, 'from', number_of_trials, 'trials')"
   ]
  },
  {
   "cell_type": "code",
   "execution_count": null,
   "id": "decc37b5-154a-4628-a891-56aabcc52cdd",
   "metadata": {},
   "outputs": [],
   "source": []
  }
 ],
 "metadata": {
  "kernelspec": {
   "display_name": "Python 3 (ipykernel)",
   "language": "python",
   "name": "python3"
  },
  "language_info": {
   "codemirror_mode": {
    "name": "ipython",
    "version": 3
   },
   "file_extension": ".py",
   "mimetype": "text/x-python",
   "name": "python",
   "nbconvert_exporter": "python",
   "pygments_lexer": "ipython3",
   "version": "3.12.2"
  }
 },
 "nbformat": 4,
 "nbformat_minor": 5
}
