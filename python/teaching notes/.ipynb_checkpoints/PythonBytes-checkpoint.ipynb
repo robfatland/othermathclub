{
 "cells": [
  {
   "cell_type": "markdown",
   "id": "0767f213-4849-4a3c-be18-93549878fb90",
   "metadata": {},
   "source": [
    "# Python Bytes\n",
    "\n",
    "Python Bytes (PB) is a middle school coding club that focuses on exploring\n",
    "the relationship between ideas and computation. The operation of the club\n",
    "has been a learning journey and these notes (written August 2024) attempt\n",
    "to summarize aspects of that journey.\n",
    "\n",
    "## Club history and skill tiers\n",
    "\n",
    "The Python Bytes (non-competitive) computing club has run each year at Tyee\n",
    "Middle School in Bellevue Washington since 2018. Until last year (the 2023-24 \n",
    "school year) the club ran on two 'tiers': Tier 1 was intended to serve students \n",
    "who were completely new to coding and tier 2 was oriented towards students who \n",
    "already had some coding experience. \n",
    "\n",
    "In this most recent year the distinction was abandoned because it tended to \n",
    "dilute our limited teaching resources. The new assumption tried in 2023 was \n",
    "that all students are essentially beginning coders. This helped in the \n",
    "shift of focus to ideas, described below.\n",
    "\n",
    "\n",
    "## Language dichotomy\n",
    "\n",
    "We tend to learn languages on multiple levels and Python as a programming \n",
    "language follows this pattern. With limited time (90 minutes once per week)\n",
    "PB must address the challenge of learning coding mechanics -- how does \n",
    "execution flow work? What is a variable? What is syntax? -- with content that\n"
   ]
  }
 ],
 "metadata": {
  "kernelspec": {
   "display_name": "Python 3 (ipykernel)",
   "language": "python",
   "name": "python3"
  },
  "language_info": {
   "codemirror_mode": {
    "name": "ipython",
    "version": 3
   },
   "file_extension": ".py",
   "mimetype": "text/x-python",
   "name": "python",
   "nbconvert_exporter": "python",
   "pygments_lexer": "ipython3",
   "version": "3.12.3"
  }
 },
 "nbformat": 4,
 "nbformat_minor": 5
}
