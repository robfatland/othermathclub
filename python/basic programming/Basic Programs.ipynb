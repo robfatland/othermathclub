{
 "cells": [
  {
   "cell_type": "markdown",
   "id": "e78f8add-501f-41b7-8ba3-3ce7652015c5",
   "metadata": {},
   "source": [
    "# Basic Programs\n",
    "\n",
    "This notebook contains source / reference material for basics of Python.\n",
    "Any student can read through here, and are welcome to try things out. \n",
    "The main intent is for use at club meetings; so it is not written in the\n",
    "style of a learning guide with lots of explanation.\n",
    "\n",
    "\n",
    "Incidental note: We are interested in any and all learning paths, and \n",
    "particularly those paths that are familiar to us from learning one or\n",
    "more languages, in in *very much* particular: Guessing and imitation.\n",
    "Students of Python should aim to progress in the following pathways:\n",
    "\n",
    "\n",
    "- ...guess what a program does\n",
    "- ...tell the story of what a program does as it runs, line by line\n",
    "- ...write the program\n",
    "- ...write programs that do more"
   ]
  },
  {
   "cell_type": "markdown",
   "id": "3e6426ae-168f-4d56-bdeb-301494274ec5",
   "metadata": {},
   "source": [
    "## printing"
   ]
  },
  {
   "cell_type": "code",
   "execution_count": 1,
   "id": "76658c60-d1a9-403b-8702-b0dc05b0b9cc",
   "metadata": {},
   "outputs": [
    {
     "name": "stdout",
     "output_type": "stream",
     "text": [
      "my name is Alice\n",
      "\n",
      "I live in a Palace\n",
      "\n",
      "That is...\n"
     ]
    }
   ],
   "source": [
    "print('my name is Alice')\n",
    "print()\n",
    "s = 'I live in a Palace'\n",
    "print(s)\n",
    "print()\n",
    "s = 'That is... all I have to say for now'\n",
    "print(s[0:10])                                       # last line: very mysterious"
   ]
  },
  {
   "cell_type": "markdown",
   "id": "2b3aaa44-8c97-463c-ae2f-117b8c810211",
   "metadata": {},
   "source": [
    "## input from human to program\n",
    "\n",
    "We want a two-way conversation between people and computers. `input()` is\n",
    "a built-in function that covers human-to-computer."
   ]
  },
  {
   "cell_type": "code",
   "execution_count": 2,
   "id": "455484f4-5391-4f9f-a9b2-2484184def96",
   "metadata": {},
   "outputs": [
    {
     "name": "stdin",
     "output_type": "stream",
     "text": [
      "What is your name?  asdf\n"
     ]
    },
    {
     "name": "stdout",
     "output_type": "stream",
     "text": [
      "You told me your name is asdf\n"
     ]
    },
    {
     "name": "stdin",
     "output_type": "stream",
     "text": [
      "Is that correct? yes\n"
     ]
    },
    {
     "name": "stdout",
     "output_type": "stream",
     "text": [
      "ok I am glad we agree.\n"
     ]
    }
   ],
   "source": [
    "s = input('What is your name? ')\n",
    "print('You told me your name is ' + s)\n",
    "t = input('Is that correct?')\n",
    "if t == 'no': \n",
    "    print('oh dear... there has been some mistake')\n",
    "else:\n",
    "    print('ok I am glad we agree.')"
   ]
  },
  {
   "cell_type": "markdown",
   "id": "87b01000-1659-4840-a757-8250f0c96793",
   "metadata": {},
   "source": [
    "## input numbers\n",
    "\n",
    "Using `input()` gives us a variable of type `string`. If we are interested\n",
    "in getting an `integer` we must use the `int()` function to try and convert \n",
    "the string to an integer."
   ]
  },
  {
   "cell_type": "code",
   "execution_count": 6,
   "id": "98b86547-0ba2-43fb-865e-6ae744eeb6b1",
   "metadata": {},
   "outputs": [],
   "source": [
    "# this program fails\n",
    "if False:\n",
    "    s = input('Enter your favorite number: ')\n",
    "    u = s - 5\n",
    "    print(u, 'is five less than your favorite number')"
   ]
  },
  {
   "cell_type": "code",
   "execution_count": 7,
   "id": "5fe706cc-5f68-4e28-84ae-3314508f5679",
   "metadata": {},
   "outputs": [
    {
     "name": "stdin",
     "output_type": "stream",
     "text": [
      "Enter your favorite number:  9\n"
     ]
    },
    {
     "name": "stdout",
     "output_type": "stream",
     "text": [
      "4 is five less than your favorite number\n"
     ]
    }
   ],
   "source": [
    "# this program works\n",
    "s = input('Enter your favorite number: ')\n",
    "t = int(s)\n",
    "u = t - 5\n",
    "print(u, 'is five less than your favorite number')"
   ]
  },
  {
   "cell_type": "markdown",
   "id": "ff397ea8-84b8-49d9-b9f3-46215691802d",
   "metadata": {},
   "source": [
    "## `for`-loops and `while`\n",
    "\n",
    "There are a lot of details to cover; a very high hill to climb."
   ]
  },
  {
   "cell_type": "code",
   "execution_count": 9,
   "id": "8e383a29-72bb-4c9d-893e-013bcaddd31f",
   "metadata": {},
   "outputs": [
    {
     "name": "stdout",
     "output_type": "stream",
     "text": [
      "test 0\n",
      "1 6\n",
      "2 6\n",
      "3 6\n",
      "4 6\n",
      "5 6\n",
      "6 6\n",
      "\n",
      "0 6\n",
      "1 6\n",
      "2 6\n",
      "3 6\n",
      "4 6\n",
      "5 6\n"
     ]
    }
   ],
   "source": [
    "print('test 0')\n",
    "j = 6\n",
    "for i in range(1, j+1):\n",
    "    print(i, j)\n",
    "\n",
    "print()\n",
    "\n",
    "for i in range(j):\n",
    "    print(i, j)"
   ]
  },
  {
   "cell_type": "code",
   "execution_count": 10,
   "id": "94d6a6f8-f248-4280-92a9-169b33b34632",
   "metadata": {},
   "outputs": [
    {
     "name": "stdout",
     "output_type": "stream",
     "text": [
      "test 1\n",
      "1 5\n",
      "2 4\n",
      "3 3\n",
      "4 2\n",
      "5 1\n",
      "6 0\n"
     ]
    }
   ],
   "source": [
    "print('test 1')\n",
    "j = 6\n",
    "for i in range(1, j+1):\n",
    "    j = j - 1\n",
    "    print(i, j)"
   ]
  },
  {
   "cell_type": "code",
   "execution_count": 11,
   "id": "e292397b-a3c3-44a1-a28f-eb553892e7fe",
   "metadata": {},
   "outputs": [
    {
     "name": "stdout",
     "output_type": "stream",
     "text": [
      "test 2\n",
      "1 5\n",
      "2 4\n",
      "3 3\n"
     ]
    }
   ],
   "source": [
    "print('test 2')\n",
    "j = 6\n",
    "i = 0\n",
    "while i < j:\n",
    "    i = i + 1\n",
    "    j = j - 1\n",
    "    print(i, j)"
   ]
  },
  {
   "cell_type": "code",
   "execution_count": 12,
   "id": "962e72bc-0fd7-456d-993c-01bdc80da78b",
   "metadata": {},
   "outputs": [
    {
     "name": "stdout",
     "output_type": "stream",
     "text": [
      "\n",
      "test 3\n",
      "7\n",
      "6\n",
      "5\n",
      "4\n",
      "3\n",
      "2\n"
     ]
    }
   ],
   "source": [
    "print()\n",
    "print('test 3')\n",
    "for i in range(7, 1, -1):\n",
    "    print(i)"
   ]
  },
  {
   "cell_type": "code",
   "execution_count": 13,
   "id": "90afb857-d73f-4824-95cb-ddfa37718b48",
   "metadata": {},
   "outputs": [
    {
     "name": "stdout",
     "output_type": "stream",
     "text": [
      "test 4\n",
      "my\n",
      "name\n",
      "is\n",
      "Rob\n"
     ]
    }
   ],
   "source": [
    "print('test 4')\n",
    "s = 'my name is Rob'\n",
    "t = s.split(' ')\n",
    "for c in t:\n",
    "    print(c)"
   ]
  },
  {
   "cell_type": "code",
   "execution_count": 14,
   "id": "e79569c6-cd09-4305-96b9-a0ec20a935d4",
   "metadata": {},
   "outputs": [
    {
     "name": "stdout",
     "output_type": "stream",
     "text": [
      "test 5\n",
      "1 0 0 0\n",
      "1 1 1 1\n",
      "1 2 4 8\n",
      "1 3 9 27\n",
      "1 4 16 64\n",
      "1 5 25 125\n",
      "1 6 36 216\n",
      "1 7 49 343\n",
      "1 8 64 512\n",
      "1 9 81 729\n"
     ]
    }
   ],
   "source": [
    "print('test 5')\n",
    "for i in range(10):\n",
    "    print(i**0, i**1, i**2, i**3)"
   ]
  },
  {
   "cell_type": "code",
   "execution_count": 15,
   "id": "a491804e-cfce-4670-925f-3667f78ecda6",
   "metadata": {},
   "outputs": [
    {
     "name": "stdout",
     "output_type": "stream",
     "text": [
      "test 6\n",
      "10.0\n",
      "17.320508075688775\n",
      "22.360679774997898\n",
      "26.457513110645905\n",
      "30.0\n",
      "33.166247903554\n",
      "36.05551275463989\n"
     ]
    }
   ],
   "source": [
    "print('test 6')\n",
    "from math import sqrt                          # square root\n",
    "for i in range(100, 1400, 200):\n",
    "    print(sqrt(i))"
   ]
  },
  {
   "cell_type": "markdown",
   "id": "1ae9513c-d93d-4031-9ef0-fe973c9fafec",
   "metadata": {},
   "source": [
    "## random numbers\n",
    "\n",
    "`random` is a Python library: Import it to use its functions."
   ]
  },
  {
   "cell_type": "code",
   "execution_count": 16,
   "id": "41eeeb29-1e8e-4e89-8c19-b754bf7099b6",
   "metadata": {},
   "outputs": [
    {
     "name": "stdout",
     "output_type": "stream",
     "text": [
      "ball\n",
      "ball\n",
      "glove\n",
      "ball\n",
      "glove\n"
     ]
    }
   ],
   "source": [
    "from random import random, randint, choice\n",
    "\n",
    "for i in range(5):\n",
    "    print(choice(['ball', 'bat', 'glove']))"
   ]
  },
  {
   "cell_type": "markdown",
   "id": "a1e9f4af-c0cc-4b75-880d-59d602555c92",
   "metadata": {},
   "source": [
    "## remainder"
   ]
  },
  {
   "cell_type": "code",
   "execution_count": 17,
   "id": "09028e4d-448b-4c65-af82-28abb4c37c37",
   "metadata": {},
   "outputs": [
    {
     "name": "stdout",
     "output_type": "stream",
     "text": [
      "0 % 6 gives 0\n",
      "1 % 6 gives 1\n",
      "2 % 6 gives 2\n",
      "3 % 6 gives 3\n",
      "4 % 6 gives 4\n",
      "5 % 6 gives 5\n",
      "6 % 6 gives 0\n",
      "7 % 6 gives 1\n",
      "\n",
      "to my Lou\n",
      "skip to my Lou\n",
      "skip skip to my Lou\n",
      "to my Lou\n",
      "skip to my Lou\n",
      "skip skip to my Lou\n",
      "to my Lou\n"
     ]
    }
   ],
   "source": [
    "for i in range(8):\n",
    "    remainder = i % 6\n",
    "    print(i, '% 6 gives', remainder)\n",
    "\n",
    "print()\n",
    "\n",
    "for i in range(7):\n",
    "    print(\"skip \"*(i%3) + \"to my Lou\")"
   ]
  },
  {
   "cell_type": "markdown",
   "id": "e081b428-49ba-454b-9885-e4bd8f8c6cf6",
   "metadata": {},
   "source": [
    "## `range()` counting"
   ]
  },
  {
   "cell_type": "code",
   "execution_count": 18,
   "id": "02b0e9ed-0eb1-4610-9ea8-c65a531b0dd7",
   "metadata": {},
   "outputs": [
    {
     "name": "stdout",
     "output_type": "stream",
     "text": [
      "0\n",
      "1\n",
      "2\n",
      "\n",
      "4\n",
      "5\n",
      "6\n",
      "7\n",
      "8\n",
      "\n",
      "3\n",
      "2\n",
      "1\n",
      "0\n",
      "-1\n",
      "-2\n",
      "-3\n"
     ]
    }
   ],
   "source": [
    "for i in range(3):\n",
    "    print(i)\n",
    "print()\n",
    "for i in range(4, 9):\n",
    "    print(i)\n",
    "print()\n",
    "for i in range(3, -4, -1):\n",
    "    print(i)"
   ]
  },
  {
   "cell_type": "markdown",
   "id": "bdfab29f-8c6e-4b37-be96-6c2c752d83ee",
   "metadata": {},
   "source": [
    "## logic"
   ]
  },
  {
   "cell_type": "code",
   "execution_count": 19,
   "id": "f97cff4c-27fe-4cee-949b-a1f8c1793b4c",
   "metadata": {},
   "outputs": [
    {
     "name": "stdout",
     "output_type": "stream",
     "text": [
      "a is neither equal to b nor is it equal to six\n"
     ]
    }
   ],
   "source": [
    "a = 3\n",
    "b = 4\n",
    "\n",
    "if a == b:\n",
    "    print('a and b are equal')\n",
    "elif a == 6:\n",
    "    print('a is equal to six')\n",
    "else:\n",
    "    print('a is neither equal to b nor is it equal to six')"
   ]
  },
  {
   "cell_type": "markdown",
   "id": "120b82db-3676-4a43-a54c-17d70e95cc2b",
   "metadata": {},
   "source": [
    "## time basics: sleeping"
   ]
  },
  {
   "cell_type": "code",
   "execution_count": 20,
   "id": "eacbd1f4-c3d6-4517-8660-a7e0d6031e7c",
   "metadata": {},
   "outputs": [
    {
     "name": "stdout",
     "output_type": "stream",
     "text": [
      "10\n",
      "9\n",
      "8\n",
      "7\n",
      "SIX\n",
      "FIVE\n",
      "FOUR!\n",
      "THREE!!\n",
      "TWO!!!\n",
      "ONE!!!!!\n",
      "BLAST OFF!!!!!!!!!!!!!!!!!!!!!\n",
      "             ...wow...\n",
      "                       ...look at it go!!...\n"
     ]
    }
   ],
   "source": [
    "from time import sleep\n",
    "\n",
    "countdown = [\"10\", \"9\", \"8\", \"7\", \"SIX\", \"FIVE\", \"FOUR!\", \"THREE!!\", \"TWO!!!\", \"ONE!!!!!\"]\n",
    "\n",
    "for s in countdown:\n",
    "    print(s)\n",
    "    sleep(1)\n",
    "\n",
    "print(\"BLAST OFF!!!!!!!!!!!!!!!!!!!!!\")\n",
    "sleep(4)\n",
    "print(\"             ...wow...\")\n",
    "sleep(2)\n",
    "print(\"                       ...look at it go!!...\")"
   ]
  },
  {
   "cell_type": "markdown",
   "id": "b43f08f4-de70-4ae0-b268-77c41aacd216",
   "metadata": {},
   "source": [
    "## Turtle graphics back and forth"
   ]
  },
  {
   "cell_type": "markdown",
   "id": "26f9fa28-551c-4dd5-bd7b-027ec0e9a0dc",
   "metadata": {},
   "source": [
    "This code runs in IDLE or other environments that support Turtle graphics.\n",
    "```\n",
    "from turtle import Turtle\n",
    "t = Turtle()\n",
    "t.goto(-200, 0)\n",
    "t.width(3)\n",
    "x = 60\n",
    "while x > 0:\n",
    "    color_red = (255 - x/2)/256\n",
    "    color_green = (255 - 2*x)/256\n",
    "    color_blue = x/256\n",
    "    t.pencolor(color_red, color_green, color_blue)\n",
    "    t.forward(x*4)\n",
    "    t.left(x)\n",
    "    t.forward(10-x*3)\n",
    "    x = x - 1\n",
    "\n",
    "print('done!')\n",
    "```"
   ]
  },
  {
   "cell_type": "code",
   "execution_count": null,
   "id": "2ceeac3e-a207-465d-a3fb-f8e26e7afd5e",
   "metadata": {},
   "outputs": [],
   "source": []
  }
 ],
 "metadata": {
  "kernelspec": {
   "display_name": "Python 3 (ipykernel)",
   "language": "python",
   "name": "python3"
  },
  "language_info": {
   "codemirror_mode": {
    "name": "ipython",
    "version": 3
   },
   "file_extension": ".py",
   "mimetype": "text/x-python",
   "name": "python",
   "nbconvert_exporter": "python",
   "pygments_lexer": "ipython3",
   "version": "3.12.2"
  }
 },
 "nbformat": 4,
 "nbformat_minor": 5
}
