{
 "cells": [
  {
   "cell_type": "markdown",
   "id": "e8b352f3-d436-42dc-bc8b-8d69ee78480e",
   "metadata": {},
   "source": [
    "# Chemistry\n",
    "\n",
    "## Topics\n",
    "\n",
    "- periodic table trends\n",
    "- ionic bonds*\n",
    "- chemical structure*\n",
    "- covalent bonding*\n",
    "- lewis structures*\n",
    "- VSEPR Valence Shell Electron Pair Repulsion*\n",
    "- LCAO Linear Combination of Atomic Orbitals*\n",
    "- hybrid orbitals*\n",
    "- valence bond theory*\n",
    "- localized bonding\n",
    "- dipole moments\n",
    "- molecular orbital theory\n",
    "- diatomics\n",
    "- triatomics\n",
    "- π and σ-systems\n",
    "- acids and bases\n",
    "- types of chemical reactions\n",
    "- displacement and precipitation reactions\n",
    "- redox reactions\n",
    "- metal and halogen reactivity\n",
    "- ideal gas law\n",
    "- partial pressures\n",
    "- kinetic theory of gases\n",
    "- deviations from ideality, weak forces\n",
    "- liquids and solids"
   ]
  },
  {
   "cell_type": "markdown",
   "id": "31e92ae9-c8c8-46d8-8ba0-e92bb6003fc7",
   "metadata": {
    "tags": []
   },
   "source": [
    "## Lewis Structures\n",
    "\n",
    "- Atoms form networks of covalent bonds.\n",
    "- We use Lewis dot structures to describe the rules\n",
    "- Carbon: C\n",
    "- Show valence electrons as dots around the **C**\n",
    "    - Carbon is $1s^22s^22p^2$ \n",
    "        - This means there are 4 electrons in the outermost shell (out of capacity for 8)\n",
    "    - This number (4) you can get by counting over to the element from the left in the periodic table\n",
    "    - The calculation \n",
    "- Around the element symbol **C** we have four coordination sites: Single dots\n",
    "- Pairing electrons: 2 separate dots become a line: A $\\sigma$ bond\n",
    "    - More unpaired electrons? Bond 'em up! Double or even triple covalent bonds\n",
    "    - Second and third bonds are $\\pi$ bonds. \n",
    "    - Multiple bonds in this fashion get progressively shorter\n",
    "\n",
    "\n",
    "\n",
    "<BR>\n",
    "<img src=\"./images/art/kandinsky.png\" style=\"float: left;\" alt=\"Kandinsky painting\" width=\"600\"/>\n",
    "<div style=\"clear: left\">\n",
    "<BR>\n"
   ]
  },
  {
   "cell_type": "code",
   "execution_count": null,
   "id": "eecebb49-397b-4086-8e97-b5028306603f",
   "metadata": {},
   "outputs": [],
   "source": []
  }
 ],
 "metadata": {
  "kernelspec": {
   "display_name": "Python 3 (ipykernel)",
   "language": "python",
   "name": "python3"
  },
  "language_info": {
   "codemirror_mode": {
    "name": "ipython",
    "version": 3
   },
   "file_extension": ".py",
   "mimetype": "text/x-python",
   "name": "python",
   "nbconvert_exporter": "python",
   "pygments_lexer": "ipython3",
   "version": "3.11.4"
  }
 },
 "nbformat": 4,
 "nbformat_minor": 5
}
