{
 "cells": [
  {
   "cell_type": "markdown",
   "metadata": {},
   "source": [
    "# $e^x$"
   ]
  },
  {
   "cell_type": "markdown",
   "metadata": {},
   "source": [
    "Ms Halfway travels an infinite journey **J**. \n",
    "This begins with an initial journey followed by a smaller version of itself: **J** is found within **J**.\n",
    "\n",
    "\n",
    "There is an infinite pattern of triangles built into Meru Prastarah. \n",
    "As our view of Mount Meru gets larger and larger we see the pattern repeats on larger scales as well. \n",
    "\n",
    "\n",
    "\n",
    "The function $e^x$ has two numbers going in: $e$ and $x$ with $x$ an exponent of $e$. $e$ is\n",
    "a constant (like $\\pi$) that is a little bigger than $2.7$. \n",
    "\n"
   ]
  },
  {
   "cell_type": "code",
   "execution_count": 12,
   "metadata": {},
   "outputs": [
    {
     "data": {
      "application/vnd.jupyter.widget-view+json": {
       "model_id": "165e6f64b9214b6185ba43cc2ec86a03",
       "version_major": 2,
       "version_minor": 0
      },
      "text/plain": [
       "interactive(children=(IntSlider(value=2, continuous_update=False, description='tensDigit', max=9), IntSlider(v…"
      ]
     },
     "metadata": {},
     "output_type": "display_data"
    },
    {
     "data": {
      "text/plain": [
       "<function __main__.e_to_the_x(tensDigit, onesDigit, tenthsDigit, nFractions)>"
      ]
     },
     "execution_count": 12,
     "metadata": {},
     "output_type": "execute_result"
    }
   ],
   "source": [
    "%matplotlib inline\n",
    "import numpy as np\n",
    "from ipywidgets import *\n",
    "from traitlets import dlink\n",
    "import matplotlib.pyplot as plt\n",
    "\n",
    "'''\n",
    "Use three sliders to define a number x = ab.c\n",
    "Use fourth slider to choose a number of fractions to sum using Euler's formula for e^x\n",
    "'''\n",
    "\n",
    "def factorial(n):\n",
    "    f = 1.\n",
    "    if n == 0 or n == 1: return f\n",
    "    for i in range(2, n+1):\n",
    "        f*=i\n",
    "    return f\n",
    "\n",
    "\n",
    "def e_to_the_x(tensDigit, onesDigit, tenthsDigit, nFractions):\n",
    "    top = []\n",
    "    bottom = []\n",
    "    fractions = []\n",
    "    sums = []\n",
    "    x = tensDigit * 10.0 + onesDigit + tenthsDigit/10.\n",
    "    ex = 0\n",
    "    for i in range(nFractions):\n",
    "        numerator = np.power(x, i)\n",
    "        denominator = factorial(i)\n",
    "        ex += numerator/denominator\n",
    "        top.append(numerator)\n",
    "        bottom.append(denominator)\n",
    "        fractions.append(numerator/denominator)\n",
    "        sums.append(ex)\n",
    "    print(x,ex)\n",
    "    \n",
    "    # plt.subplots returns a tuple: A general-context figure and a list of sub-plots assigned to axes\n",
    "    fig, axes = plt.subplots(2, figsize=(5,8))\n",
    "    axisTopBottom = axes[0]    \n",
    "    axisFractions = axes[1]\n",
    "    \n",
    "    axisTopBottom.plot(np.log(np.log(top)), 'b')\n",
    "    axisTopBottom.plot(np.log(np.log(bottom)), 'r')\n",
    "    axisFractions.plot(fractions, 'orange')\n",
    "    axisFractions.plot(sums, 'g')\n",
    "    \n",
    "    axisTopBottom.set(ylim=(0.0, np.log(np.log(bottom[-1]))))\n",
    "    plt.show()\n",
    "    return \n",
    "\n",
    "\n",
    "# this sets up the controls: 2 sliders plus the checkbox\n",
    "interact(e_to_the_x, \\\n",
    "         tensDigit=widgets.IntSlider(min=0,max=9,step=1,value=2,continuous_update=False),\\\n",
    "         onesDigit=widgets.IntSlider(min=0,max=9,step=1,value=2,continuous_update=False),\\\n",
    "         tenthsDigit=widgets.IntSlider(min=0,max=9,step=1,value=2,continuous_update=False),\\\n",
    "         nFractions=widgets.IntSlider(min=1,max=50,step=1,value=3,continuous_update=False)\\\n",
    "        )"
   ]
  }
 ],
 "metadata": {
  "kernelspec": {
   "display_name": "Python 3 (ipykernel)",
   "language": "python",
   "name": "python3"
  },
  "language_info": {
   "codemirror_mode": {
    "name": "ipython",
    "version": 3
   },
   "file_extension": ".py",
   "mimetype": "text/x-python",
   "name": "python",
   "nbconvert_exporter": "python",
   "pygments_lexer": "ipython3",
   "version": "3.13.4"
  }
 },
 "nbformat": 4,
 "nbformat_minor": 4
}
