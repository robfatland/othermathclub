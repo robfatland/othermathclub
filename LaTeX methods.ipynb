{
 "cells": [
  {
   "cell_type": "markdown",
   "id": "02ff6988-e068-4729-9a14-018306598702",
   "metadata": {},
   "source": [
    "# Move this content\n",
    "\n",
    "It might well go into the Preface notebook under a style heading.\n",
    "\n",
    "\n",
    "## Too Limited??\n",
    "\n",
    "\n",
    "Look into pip-installing jovian; maybe a math render package more extensive?"
   ]
  },
  {
   "cell_type": "markdown",
   "id": "3276dd5b-b0c8-4503-a441-09974c78c281",
   "metadata": {},
   "source": [
    "Paul Erd&#X00F6;s or Paul Erdös\n",
    "\n",
    "August Möbius or August M&#X00F6;bius."
   ]
  },
  {
   "cell_type": "markdown",
   "id": "af81ff0a-6934-4914-9d00-4b7ccea22544",
   "metadata": {},
   "source": [
    "### Matrix formatting\n",
    "\n",
    "\n",
    "$\n",
    "A=\\left[{\\begin{array}{cc}\n",
    "   a & b \\\\\n",
    "   c & d \\\\\n",
    "  \\end{array}}\\right]\n",
    "\\; \\; \\; $\n",
    "has an inverse\n",
    "$\\; \\; \\; A^{-1} = \\frac{1}{det A} \\cdot \\left[{\\begin{array}{cc}\n",
    "   d & -b \\\\\n",
    "   -c & a \\\\\n",
    "  \\end{array} }\\right]$. \n",
    "  \n",
    "Writing $x$ and $y$ as a column vector\n",
    "\n",
    "\n",
    "$\\tilde{v}=\\left[{\\begin{array}{c}x\\\\y\\end{array}}\\right]$\n",
    "and the result of the transform as\n",
    "$\\tilde{k}=\\left[{\\begin{array}{c}m\\\\n\\end{array}}\\right]$\n",
    "we have $A \\tilde{v} = \\tilde{k}$ and $\\tilde{v}=A^{-1}\\tilde{k}$."
   ]
  },
  {
   "cell_type": "markdown",
   "id": "603efd16-ac4a-461e-8f25-6a31439f74a5",
   "metadata": {},
   "source": [
    "#### Gallery of useful items\n",
    "\n",
    "\n",
    "$(c, d)=1.\\;\\;$ &#x2610;\n",
    "\n",
    "\n",
    "$a \\nmid b$ the anti-gzinta.\n",
    "\n",
    "\n",
    "&#x1f989;\n",
    "\n",
    "\n",
    "$\\Huge \\varphi \\backepsilon$\n",
    "\n",
    "\n",
    "A symbol of perfect logic is a circle. A negation of the circle shape using `$\\otimes$` $\\otimes$ is shorthand for 'contradiction'. \n",
    "\n",
    "\n",
    "Reaching a contradiction to complete a proof: `$\\otimes\\;$ &#x2610;`: Behold $\\otimes\\;$ &#x2610;"
   ]
  },
  {
   "cell_type": "markdown",
   "id": "8de17b2f-00c1-4721-be21-5609a486eba2",
   "metadata": {},
   "source": [
    "Using `\\substack` to place multiple condition lines under a sum: \n",
    "\n",
    "\n",
    "`$$\\sum_{\\substack{k=-5\\\\k \\neq 0}}^{5} \\pi_k$$`\n",
    "\n",
    "\n",
    "$\\begin{align}\\sum_{\\substack{k=-5\\\\k \\neq 0}}^{5} \\pi_k \\end{align}$\n",
    "\n",
    "\n",
    "Now let's vector-esque $\\pi$ (in Huge to help see it) via `\\hat{}` and so forth:\n",
    "\n",
    "\n",
    "$\\begin{align} \n",
    "{\\Huge\n",
    "\\hat{\\pi} \\; \\tilde{\\pi} \\; \\vec{\\pi}\n",
    "}\n",
    "\\end{align}$\n",
    "\n",
    "\n",
    "\n",
    "...but I am at a loss as to how to place a tilde under a symbol."
   ]
  },
  {
   "cell_type": "markdown",
   "id": "217b2fba-a4e6-4600-a765-9b5aadf28f31",
   "metadata": {},
   "source": [
    "### `$$`-style equations left-justified\n",
    "\n",
    "\n",
    "The LaTeX `$` equation delimiter is for inline; and `$$` is for standalone, in contrast. Problem with the latter is \n",
    "it is centered and this can be difficult to read; but the font is larger than inline (easier to read) and things like\n",
    "sums are formatted properly (easier to read). So we need to fix the first bit to check all the easier-to-read boxes. \n",
    "\n",
    "\n",
    "Here are multiple versions of the same expression with the desired one at the end. Notice it is left justified but is not \n",
    "compressed as the third version (inline single \\$ delimeters) is.\n",
    "\n",
    "\n",
    "\\begin{equation}\n",
    "\\prod_{i=1}^{k}(1+p_i)=1 + p_1 + p_2 + \\dots + p_k + p_1 \\cdot p_2 + \\dots + p_{k-1} \\cdot p_{k} + \\dots + p_1 \\cdot p_2 \\cdot p_3 \\cdots p_k.\n",
    "\\end{equation}\n",
    "\n",
    "\n",
    "\n",
    "$$\\prod_{i=1}^{k}(1+p_i)=1 + p_1 + p_2 + \\dots + p_k + p_1 \\cdot p_2 + \\dots + p_{k-1} \\cdot p_{k} + \\dots + p_1 \\cdot p_2 \\cdot p_3 \\cdots p_k.$$\n",
    "\n",
    "\n",
    "\n",
    "$\\prod_{i=1}^{k}(1+p_i)=1 + p_1 + p_2 + \\dots + p_k + p_1 \\cdot p_2 + \\dots + p_{k-1} \\cdot p_{k} + \\dots + p_1 \\cdot p_2 \\cdot p_3 \\cdots p_k.$\n",
    "\n",
    "\n",
    "$\n",
    "\\begin{align}\n",
    "\\prod_{i=1}^{k}(1+p_i)=1 + p_1 + p_2 + \\dots + p_k + p_1 \\cdot p_2 + \\dots + p_{k-1} \\cdot p_{k} + \\dots + p_1 \\cdot p_2 \\cdot p_3 \\cdots p_k.\n",
    "\\end{align}\n",
    "$\n",
    "\n",
    "```$\\begin{align}\\sum_{p=2,3,\\dots}^{\\infty}\\frac{1}{p}\\end{align}$``` looks like this: \n",
    "\n",
    "\n",
    "$\\begin{align}\\sum_{p=2,3,\\dots}^{\\infty}\\frac{1}{p}\\end{align}$"
   ]
  },
  {
   "cell_type": "markdown",
   "id": "e201c98e-d1a5-43d2-9769-833d0cf2d7ed",
   "metadata": {},
   "source": [
    "${\\Huge \\ngtr} {\\Huge \\infty}$\n",
    "\n",
    "\n",
    "Compartmentalize font size blocks in curly braces.\n",
    "Correct: Use a curly brace `{` followed by one of `**large**`, `**Large**`, `**LARGE**`, `**huge**`, `**Huge**` followed by content followed by close-curly `}`.\n",
    "\n",
    "\n",
    "Here are all five in ascending order: \n",
    "\n",
    "$\\begin{align} {\\large \\ngtr} \\;\\;\\;\\;\\; {\\large \\prod_{i=1}^{n}\\frac{1}{i^2}} \\;\\;\\;\\;\\;  {\\large \\infty} \\end{align}$\n",
    "\n",
    "\n",
    "$\\begin{align} {\\Large \\ngtr} \\;\\;\\;\\;\\;  {\\Large \\prod_{i=1}^{n}\\frac{1}{i^2}}  \\;\\;\\;\\;\\; {\\Large \\infty} \\end{align}$\n",
    "\n",
    "\n",
    "$\\begin{align} {\\LARGE \\ngtr} \\;\\;\\;\\;\\;  {\\LARGE \\prod_{i=1}^{n}\\frac{1}{i^2}}  \\;\\;\\;\\;\\; {\\LARGE \\infty} \\end{align}$\n",
    "\n",
    "\n",
    "$\\begin{align} {\\huge \\ngtr} \\;\\;\\;\\;\\;  {\\huge \\prod_{i=1}^{n}\\frac{1}{i^2}}  \\;\\;\\;\\;\\; {\\huge \\infty} \\end{align}$\n",
    "\n",
    "\n",
    "$\\begin{align} {\\Huge \\ngtr}  \\;\\;\\;\\;\\; {\\Huge \\prod_{i=1}^{n}\\frac{1}{i^2}}  \\;\\;\\;\\;\\; {\\Huge \\infty} \\end{align}$\n",
    "\n",
    "\n",
    "Notice these are all standalone format but left-justified as described above. Here is the \n",
    "LaTeX for the last one above:\n",
    "\n",
    "\n",
    "```$\\begin{align}{\\Huge \\ngtr}  \\;\\;\\;\\;\\; {\\Huge \\prod_{i=1}^{n}\\frac{1}{i^2}}  \\;\\;\\;\\;\\; {\\Huge \\infty}\\end{align}$```\n",
    "\n",
    "\n",
    "\n",
    "What happens if we try to nest? Answer: No such luck...\n",
    "\n",
    "\n",
    "\n",
    "$\\begin{align} \\color{red}{\\Huge {\\Huge \\prod_{i=1}^{n}\\frac{1}{i^2}}} \\end{align}$\n",
    "\n",
    "\n",
    "<BR><BR>\n",
    "    \n",
    "    \n",
    "#### Plenty of room at the bottom\n",
    "\n",
    "Let's go in the other direction as well, decreasing with `\\normalsize` (default), \n",
    "`\\small`, `\\footnotesize`, `\\scriptsize`, `\\tiny`.\n",
    "\n",
    "$\\begin{align}{\\normalsize \\ngtr}  \\;\\;\\;\\;\\; {\\normalsize \\prod_{i=1}^{n}\\frac{1}{i^2}}  \\;\\;\\;\\;\\; {\\normalsize \\infty}\\end{align}$\n",
    "\n",
    "\n",
    "\n",
    "$\\begin{align} {\\small \\ngtr}         \\;\\;\\;\\;\\; {\\small        \\prod_{i=1}^{n}\\frac{1}{i^2}}  \\;\\;\\;\\;\\; {\\small        \\infty} \\end{align}$\n",
    "\n",
    "\n",
    "\n",
    "Notice `footnotesize` does not seem to be recognized: \n",
    "\n",
    "\n",
    "\n",
    "$\\begin{align} {\\footnotesize \\ngtr}  \\;\\;\\;\\;\\; {\\footnotesize \\prod_{i=1}^{n}\\frac{1}{i^2}}  \\;\\;\\;\\;\\; {\\footnotesize \\infty} \\end{align}$\n",
    "\n",
    "\n",
    "\n",
    "$\\begin{align}{\\scriptsize \\ngtr}  \\;\\;\\;\\;\\; {\\scriptsize \\prod_{i=1}^{n}\\frac{1}{i^2}}  \\;\\;\\;\\;\\; {\\scriptsize \\infty}\\end{align}$\n",
    "\n",
    "\n",
    "\n",
    "$\\begin{align}{\\tiny \\ngtr}  \\;\\;\\;\\;\\; {\\tiny \\prod_{i=1}^{n}\\frac{1}{i^2}}  \\;\\;\\;\\;\\; {\\tiny \\infty}\\end{align}$"
   ]
  },
  {
   "cell_type": "markdown",
   "id": "4a698f9a-27f2-42f9-99df-79191dd37b71",
   "metadata": {},
   "source": [
    "#### Font color and line breaks\n",
    "\n",
    "\n",
    "Without `\\\\` line breaks: \n",
    "\n",
    "\n",
    "```$\\begin{align}\\color{blue}{\\Large \\ngtr} \\color{red}{\\small \\prod_{i=1}^{n}\\frac{1}{i^2}} \\color{green}{\\Huge \\infty} etcetera... \\end{align}$```\n",
    "\n",
    "\n",
    "$\\begin{align}\\color{blue}{\\Large \\ngtr} \\color{red}{\\small \\prod_{i=1}^{n}\\frac{1}{i^2}} \\color{green}{\\Huge \\infty} etcetera... \\end{align}$\n",
    "\n",
    "\n",
    "With line breaks and notice the entire thing is left-justified but within it is right justified. \n",
    "\n",
    "\n",
    "$\\begin{align}\\color{blue}{\\Large \\ngtr} \\\\ \\\\ \\color{red}{\\small \\prod_{i=1}^{n}\\frac{1}{i^2}} \\\\ \\\\ \\color{green}{\\Huge \\infty} \\\\ \\\\ and \\; some \\; more \\; etcetera... \\end{align}$\n",
    "\n",
    "\n"
   ]
  },
  {
   "cell_type": "markdown",
   "id": "cd0147d7-f82e-4b26-bd7d-e945557991a5",
   "metadata": {},
   "source": [
    "The numbers $a$ and $b$ can be built by a decomposition of each\n",
    "$\\alpha_{i}$ prime exponent of $n$ as \n",
    "$2 \\cdot \\lfloor {\\alpha_i/2} \\rfloor + \\alpha_{i} \\; mod \\; 2$.\n",
    "We then have $a=\\prod p_i^{\\lfloor {\\alpha_i/2} \\rfloor} \\textrm{ and }\n",
    "b=\\prod p_i^{\\alpha_{i} \\; mod \\; 2}$ so that $n=a^2b.\\;\\;$ &#x2610;"
   ]
  },
  {
   "cell_type": "markdown",
   "id": "ec7a3674-29b5-4c48-9b21-89d3d9f7f41f",
   "metadata": {
    "tags": []
   },
   "source": [
    "Show that if $(a, b)=1 \\;\\; \\exists \\;\\; x > 0, y > 0 \\;\\;\\backepsilon\\;\\; ax-by=1$"
   ]
  },
  {
   "cell_type": "markdown",
   "id": "baf2657e-be8c-4438-8881-6e3dc7fa76b1",
   "metadata": {
    "tags": []
   },
   "source": [
    "$\\neg funny$"
   ]
  },
  {
   "cell_type": "markdown",
   "id": "6240f2be-3963-4e5f-a5a6-3d6c7dc7f944",
   "metadata": {},
   "source": [
    "#### A table\n",
    "\n",
    "\n",
    "This is ok but not left-aligned: \n",
    "\n",
    "\n",
    "|  |  p:      | 2 | 3 | 5 | 7 | 11 | 13 |\n",
    "| :---| ---:| ---:| ---:| ---:| ---:| ---:| ---:|\n",
    "| **$\\alpha$:** | **1** $\\;$ | 1 | 2 | 4 | 6 | &#x1f78c;  | 12\n",
    "| | **2** $\\;$ | 2 | 6 |  &#x1f78c; | &#x1f78c;  |  &#x1f78c; |   &#x1f78c; |\n",
    "| | **3** $\\;$ | 4 |  &#x1f78c; |  &#x1f78c; |  &#x1f78c; | &#x1f78c;  |   &#x1f78c; |\n",
    "\n",
    "\n",
    "\n"
   ]
  }
 ],
 "metadata": {
  "kernelspec": {
   "display_name": "Python 3 (ipykernel)",
   "language": "python",
   "name": "python3"
  },
  "language_info": {
   "codemirror_mode": {
    "name": "ipython",
    "version": 3
   },
   "file_extension": ".py",
   "mimetype": "text/x-python",
   "name": "python",
   "nbconvert_exporter": "python",
   "pygments_lexer": "ipython3",
   "version": "3.12.3"
  }
 },
 "nbformat": 4,
 "nbformat_minor": 5
}
