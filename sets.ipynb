{
 "cells": [
  {
   "cell_type": "markdown",
   "id": "a70c7fd8-dd55-4e37-883d-05c3ce7d0e7e",
   "metadata": {},
   "source": [
    "# Derangement\n",
    "\n",
    "How many ways can an ordered set be rearranged so that no element is in its original location?\n",
    "This is called a **derangement** of the set; and the answer is a peculiar one that uses the\n",
    "factorial of the number of elements in the set. \n",
    "\n",
    "\n",
    "The code below does a recursive search for derangements in order to count them. "
   ]
  },
  {
   "cell_type": "code",
   "execution_count": 2,
   "id": "6b78c3ed-4f5f-4af9-864b-60d93eeccfc3",
   "metadata": {},
   "outputs": [
    {
     "name": "stdout",
     "output_type": "stream",
     "text": [
      "1 0 0\n",
      "2 1 1\n",
      "3 2 2\n",
      "4 9 9\n",
      "5 44 44\n",
      "6 265 265\n",
      "7 1854 1854\n",
      "8 14833 14833\n",
      "9 133496 133496\n",
      "10 1334961 1334961\n"
     ]
    }
   ],
   "source": [
    "from math import e, factorial\n",
    "\n",
    "def seek(a, m):\n",
    "    global s\n",
    "    n, d, t = len(a), a[m], a[0:m] if m > 0 else []\n",
    "    while d < n:\n",
    "        if not d in t and not d == m:\n",
    "            a[m] = d\n",
    "            if m < n - 1:\n",
    "                a[m+1] = 0\n",
    "                seek(a, m + 1)\n",
    "            else:\n",
    "                s.append(a[:])\n",
    "                a[m-1] = 0\n",
    "                return\n",
    "        d += 1\n",
    "    return\n",
    "\n",
    "for n in range(1, 11):\n",
    "    s = []\n",
    "    seek([0]*n, 0)\n",
    "    derangements = int(0.5 + factorial(n)/e)   # a derangement formula\n",
    "    print(n, len(s), derangements)"
   ]
  },
  {
   "cell_type": "code",
   "execution_count": null,
   "id": "644d44ac-ea26-4e87-a31a-efbef34e62a6",
   "metadata": {},
   "outputs": [],
   "source": []
  }
 ],
 "metadata": {
  "kernelspec": {
   "display_name": "Python 3 (ipykernel)",
   "language": "python",
   "name": "python3"
  },
  "language_info": {
   "codemirror_mode": {
    "name": "ipython",
    "version": 3
   },
   "file_extension": ".py",
   "mimetype": "text/x-python",
   "name": "python",
   "nbconvert_exporter": "python",
   "pygments_lexer": "ipython3",
   "version": "3.8.5"
  }
 },
 "nbformat": 4,
 "nbformat_minor": 5
}
