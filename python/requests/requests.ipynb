{
 "cells": [
  {
   "cell_type": "markdown",
   "id": "5efaa094-286a-4a6c-9882-75f41d14aaac",
   "metadata": {},
   "source": [
    "# Restarting an Azure service JAN-2025\n",
    "\n",
    "\n",
    "- [Tutorials (published)](https://cloudbank-project.github.io/az-serverless-tutorial/)\n",
    "- [Tutorials (source)](https://github.com/cloudbank-project/az-serverless-tutorial) > `content` > `_index.md`\n",
    "    - VMs and Workstations\n",
    "    - NoSQL Database\n",
    "    - Serverless functions and APIs \n",
    "\n",
    "```\n",
    "{\n",
    "'AtomicNumber': 11, \n",
    "'Element': 'Sodium',\n",
    "'Symbol': 'Na',\n",
    "'AtomicMass': 22.99,\n",
    "'NumberOfNeutrons': 12,\n",
    "'NumberOfProtons': 11,\n",
    "'NumberOfElectrons': 11,\n",
    "'Period': 3,\n",
    "'Group': '1',\n",
    "'Phase': 'Solid',\n",
    "'Radioactive': False,\n",
    "'Natural': True,\n",
    "'Metal': True,\n",
    "'Nonmetal': False,\n",
    "'Metalloid': False,\n",
    "'Type': 'Alkali Metal',\n",
    "'AtomicRadius': 227.0,\n",
    "'Electronegativity': 0.93,\n",
    "'ionizationEnergy': 5.1391,\n",
    "'Density': 0.97,\n",
    "'MeltingPoint': 370.95,\n",
    "'BoilingPoint': 1156.0,\n",
    "'stableIsotopes': 1,\n",
    "'Discoverer': 'Sir Humphrey Davy',\n",
    "'Year': 1807.0,\n",
    "'SpecificHeat': 1.228,\n",
    "'NumberOfShells': 3,\n",
    "'NumberOfValence': 1.0,\n",
    "'id': 'Sodium'\n",
    "}\n",
    "```"
   ]
  },
  {
   "cell_type": "code",
   "execution_count": 40,
   "id": "daef7a4e-7a16-436e-b2c1-047e7dce06e0",
   "metadata": {},
   "outputs": [
    {
     "name": "stdout",
     "output_type": "stream",
     "text": [
      "status code: 200\n",
      "Element: Sodium\n",
      "Atomic Mass: 22.99\n"
     ]
    }
   ],
   "source": [
    "import requests\n",
    "website = \"https://pythonbytes.azurewebsites.net/api/lookup?name=Sodium\"\n",
    "response = requests.get(website)\n",
    "print('status code:', response.status_code)\n",
    "rlist = response.json()\n",
    "rdict = rlist[0]\n",
    "print(\"Element:\", rdict[\"Element\"])\n",
    "print(\"Atomic Mass:\", rdict[\"AtomicMass\"])"
   ]
  },
  {
   "cell_type": "code",
   "execution_count": 41,
   "id": "b3f970d2-9b5e-4da6-9a20-d5adabcd41d2",
   "metadata": {},
   "outputs": [
    {
     "data": {
      "text/plain": [
       "{'Content-Type': 'application/json', 'Date': 'Sun, 02 Feb 2025 23:31:36 GMT', 'Server': 'Kestrel', 'Transfer-Encoding': 'chunked', 'Request-Context': 'appId=cid-v1:f3eeff37-47ab-473c-8fc6-7a2bb7dc46bb'}"
      ]
     },
     "execution_count": 41,
     "metadata": {},
     "output_type": "execute_result"
    }
   ],
   "source": [
    "# Explore further:\n",
    "response_headers = response.headers\n",
    "response_headers"
   ]
  },
  {
   "cell_type": "code",
   "execution_count": 42,
   "id": "ee619afa-46f7-45e6-9dc4-670903774741",
   "metadata": {},
   "outputs": [
    {
     "name": "stdout",
     "output_type": "stream",
     "text": [
      "Response status: 404\n",
      "Gargutron want food!!! (try adding ?food=something)\n"
     ]
    }
   ],
   "source": [
    "import requests\n",
    "website = \"https://pythonbytes.azurewebsites.net/api/Gargutron\"\n",
    "response = requests.get(website)\n",
    "print('Response status:', response.status_code)\n",
    "print(response.text)"
   ]
  },
  {
   "cell_type": "code",
   "execution_count": 43,
   "id": "e76de18f-f794-4f23-84e0-785eb5444358",
   "metadata": {},
   "outputs": [
    {
     "name": "stdout",
     "output_type": "stream",
     "text": [
      "No, sorry, Gargutron unable to eat pizza\n"
     ]
    }
   ],
   "source": [
    "website = \"https://pythonbytes.azurewebsites.net/api/Gargutron?food=pizza\"\n",
    "response = requests.get(website)\n",
    "print(response.text)"
   ]
  },
  {
   "cell_type": "markdown",
   "id": "d879c078-234f-4cbb-b834-2d5602afc255",
   "metadata": {},
   "source": [
    "## Looking at the GitHub API"
   ]
  },
  {
   "cell_type": "code",
   "execution_count": 32,
   "id": "a2d39c35-3a9b-4044-8015-ae46c7b5b639",
   "metadata": {},
   "outputs": [
    {
     "name": "stdout",
     "output_type": "stream",
     "text": [
      "\n",
      "The basic response:\n",
      "<Response [200]>\n",
      "\n",
      "status code:\n",
      "200\n",
      "\n",
      "some of the response text:\n",
      "{\n",
      "  \"current_user_url\": \"https://api.github.com/user\",\n",
      "  \"current_user_authorizations_html_url\": \"https://github.com/settings/connections/applications{/client_id}\",\n",
      "  \"authorizations_url\": \"https://api.github.com/authorizations\",\n",
      "  \"code_search_url\": \"https://api.github.com/search/code?q={query}{&pa\n",
      "\n",
      "A response dictionary entry:\n",
      "https://api.github.com/gists{/gist_id}\n"
     ]
    }
   ],
   "source": [
    "import requests\n",
    "response = requests.get(\"https://api.github.com\")\n",
    "\n",
    "print('\\nThe basic response:')\n",
    "print(response)\n",
    "print('\\nstatus code:')\n",
    "print(response.status_code)\n",
    "print('\\nsome of the response text:')\n",
    "print(response.text[:300])\n",
    "response_dictionary = response.json()\n",
    "print('\\nA response dictionary entry:')\n",
    "print(response_dictionary['gists_url'])"
   ]
  },
  {
   "cell_type": "code",
   "execution_count": 33,
   "id": "33ae8823-362b-4ea9-8b41-2ffd386ef206",
   "metadata": {},
   "outputs": [
    {
     "name": "stdout",
     "output_type": "stream",
     "text": [
      "\n",
      "The basic response:\n",
      "<Response [200]>\n",
      "\n",
      "status code:\n",
      "200\n",
      "\n",
      "some of the response text:\n",
      "{\n",
      "  \"current_user_url\": \"https://api.github.com/user\",\n",
      "  \"current_user_authorizations_html_url\": \"https://github.com/settings/connections/applications{/client_id}\",\n",
      "  \"authorizations_url\": \"https://api.github.com/authorizations\",\n",
      "  \"code_search_url\": \"https://api.github.com/search/code?q={query}{&pa\n",
      "\n",
      "A response dictionary entry:\n",
      "https://api.github.com/gists{/gist_id}\n"
     ]
    }
   ],
   "source": [
    "import requests\n",
    "response = requests.get(\"https://api.github.com\")\n",
    "\n",
    "print('\\nThe basic response:')\n",
    "print(response)\n",
    "print('\\nstatus code:')\n",
    "print(response.status_code)\n",
    "print('\\nsome of the response text:')\n",
    "print(response.text[:300])\n",
    "response_dictionary = response.json()\n",
    "print('\\nA response dictionary entry:')\n",
    "print(response_dictionary['gists_url'])"
   ]
  },
  {
   "cell_type": "code",
   "execution_count": 35,
   "id": "4737f1d8-92cf-4a37-a6dd-31cd89a95638",
   "metadata": {
    "tags": []
   },
   "outputs": [
    {
     "name": "stdout",
     "output_type": "stream",
     "text": [
      "30 repositories in play\n",
      "\n",
      "Name: public-apis\n",
      "Description: A collective list of free APIs\n",
      "Stars: 326398\n",
      "\n",
      "Name: system-design-primer\n",
      "Description: Learn how to design large-scale systems. Prep for the system design interview.  Includes Anki flashcards.\n",
      "Stars: 287846\n",
      "\n",
      "Name: awesome-python\n",
      "Description: An opinionated list of awesome Python frameworks, libraries, software and resources.\n",
      "Stars: 232561\n",
      "\n"
     ]
    }
   ],
   "source": [
    "# Search GitHub's repositories for popular Python projects\n",
    "import requests\n",
    "\n",
    "response = requests.get(\n",
    "    \"https://api.github.com/search/repositories\",\n",
    "    params={\"q\": \"language:python\", \"sort\": \"stars\", \"order\": \"desc\"},\n",
    ")\n",
    "\n",
    "# Inspect some attributes of the first three repositories\n",
    "json_response = response.json()\n",
    "popular_repositories = json_response[\"items\"]\n",
    "print(str(len(popular_repositories)) + \" repositories in play\\n\") \n",
    "for repo in popular_repositories[:3]:\n",
    "    print(f\"Name: {repo['name']}\")\n",
    "    print(f\"Description: {repo['description']}\")\n",
    "    print(f\"Stars: {repo['stargazers_count']}\")\n",
    "    print()"
   ]
  },
  {
   "cell_type": "code",
   "execution_count": 37,
   "id": "8067ba55-f625-41cf-a3ee-9553cdbf9526",
   "metadata": {
    "tags": []
   },
   "outputs": [
    {
     "name": "stdout",
     "output_type": "stream",
     "text": [
      "30 repositories in play from page 2\n",
      "\n",
      "Name: PayloadsAllTheThings\n",
      "Description: A list of useful payloads and bypass for Web Application Security and Pentest/CTF\n",
      "Stars: 62919\n",
      "\n",
      "Name: keras\n",
      "Description: Deep Learning for humans\n",
      "Stars: 62441\n",
      "\n",
      "Name: sherlock\n",
      "Description: Hunt down social media accounts by username across social networks\n",
      "Stars: 62161\n",
      "\n"
     ]
    }
   ],
   "source": [
    "response2 = requests.get(\n",
    "    \"https://api.github.com/search/repositories\",\n",
    "    params={\"q\": \"language:python\", \"sort\": \"stars\", \"order\": \"desc\", \"page\": \"2\"},\n",
    ")\n",
    "\n",
    "json_response = response2.json()\n",
    "popular_repositories = json_response[\"items\"]\n",
    "print(str(len(popular_repositories)) + \" repositories in play from page 2\\n\") \n",
    "for repo in popular_repositories[:3]:\n",
    "    print(f\"Name: {repo['name']}\")\n",
    "    print(f\"Description: {repo['description']}\")\n",
    "    print(f\"Stars: {repo['stargazers_count']}\")\n",
    "    print()"
   ]
  }
 ],
 "metadata": {
  "kernelspec": {
   "display_name": "Python 3 (ipykernel)",
   "language": "python",
   "name": "python3"
  },
  "language_info": {
   "codemirror_mode": {
    "name": "ipython",
    "version": 3
   },
   "file_extension": ".py",
   "mimetype": "text/x-python",
   "name": "python",
   "nbconvert_exporter": "python",
   "pygments_lexer": "ipython3",
   "version": "3.12.2"
  }
 },
 "nbformat": 4,
 "nbformat_minor": 5
}
