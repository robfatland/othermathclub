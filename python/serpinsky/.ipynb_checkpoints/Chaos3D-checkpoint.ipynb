{
 "cells": [
  {
   "cell_type": "markdown",
   "id": "fe5ce612-374f-4427-be8d-ccb1d340ff2f",
   "metadata": {},
   "source": [
    "# Chaos 3D\n",
    "\n",
    "This notebook is inspired by the Numberphile video on the chaos game with 4 attractor points. "
   ]
  },
  {
   "cell_type": "code",
   "execution_count": 11,
   "id": "d62c3cba-d3ac-46f2-8553-37e7593cb781",
   "metadata": {},
   "outputs": [
    {
     "data": {
      "application/vnd.jupyter.widget-view+json": {
       "model_id": "4781cd4481b649699bb9b16f0eccc6e2",
       "version_major": 2,
       "version_minor": 0
      },
      "text/plain": [
       "interactive(children=(FloatSlider(value=90.0, description='theta', min=-10.0), FloatSlider(value=28.0, descrip…"
      ]
     },
     "metadata": {},
     "output_type": "display_data"
    },
    {
     "data": {
      "text/plain": [
       "<function __main__.ThreeDee(theta, phi)>"
      ]
     },
     "execution_count": 11,
     "metadata": {},
     "output_type": "execute_result"
    }
   ],
   "source": [
    "import numpy as np\n",
    "from random import randint, random\n",
    "import matplotlib.pyplot as plt\n",
    "from mpl_toolkits.mplot3d import Axes3D\n",
    "from ipywidgets import interact, widgets\n",
    "\n",
    "vx = [0.00, 1.00, 0.50, 0.50]                # locations of 4 \"paint can\" vertices in 3 dimensions\n",
    "vy = [0.00, 0.00, 0.86, 0.33]                # This is a triangular base (z = 0) plus a vertix (z = 1)\n",
    "vz = [0.00, 0.00, 0.00, 1.00]                #   or in other words a tetrahedron (pyramid) shape.\n",
    "\n",
    "x, y, z = [], [], []                         # empty collection of dots in 3 dimensions\n",
    "xe, ye, ze = random(), random(), random()    # Egon's current location in 3 dimensions\n",
    "ndots = 10000                                # how many dots to draw\n",
    "\n",
    "for i in range(ndots):             # Fill in a collection of dots\n",
    "    can = randint(0, 3)            # choose a paint can at random... \n",
    "    xe = xe + (vx[can] - xe)/2     #   ...go halfway there\n",
    "    ye = ye + (vy[can] - ye)/2\n",
    "    ze = ze + (vz[can] - ze)/2\n",
    "    x.append(xe)                   # ...and make a dot\n",
    "    y.append(ye)\n",
    "    z.append(ze)\n",
    "    \n",
    "def ThreeDee(theta, phi):\n",
    "    '''Draw dots in three dimensions. theta and phi are two viewing angles'''\n",
    "    fig = plt.figure(figsize=(9,9))\n",
    "    ax = fig.add_subplot(111, projection='3d')       # prepare a 3D drawing space\n",
    "    ax.view_init(elev=phi, azim=theta)\n",
    "    ax.scatter(x, y, z, c='k', marker='.', s=1)      # draw the dots (very small: s = 1)   \n",
    "\n",
    "\n",
    "interact(ThreeDee, theta=widgets.FloatSlider(min=-10.,max=100.,step=.1,value=90.),\n",
    "                   phi=widgets.FloatSlider(min=-30.,max=120.,step=.1,value=28.))"
   ]
  },
  {
   "cell_type": "markdown",
   "id": "0180c08a-b725-4de1-a686-28497a9a45f9",
   "metadata": {},
   "source": [
    "## Additional\n",
    "\n",
    "\n",
    "The `ThreeDee()` function can include: \n",
    "\n",
    "- `ax.set_xlabel('X Axis')` etcetera\n",
    "- `plt.show()`\n",
    "\n",
    "\n",
    "The `interact()` is a library method that allows us to attach slider controls to\n",
    "the `ThreeDee()` drawing function. Every time the sliders are moved: `ThreeDee()` \n",
    "runs again to draw the view from the new perspective. This is by means of the\n",
    "two viewing angles `theta` and `phi`.\n",
    " "
   ]
  }
 ],
 "metadata": {
  "kernelspec": {
   "display_name": "Python 3 (ipykernel)",
   "language": "python",
   "name": "python3"
  },
  "language_info": {
   "codemirror_mode": {
    "name": "ipython",
    "version": 3
   },
   "file_extension": ".py",
   "mimetype": "text/x-python",
   "name": "python",
   "nbconvert_exporter": "python",
   "pygments_lexer": "ipython3",
   "version": "3.12.2"
  }
 },
 "nbformat": 4,
 "nbformat_minor": 5
}
