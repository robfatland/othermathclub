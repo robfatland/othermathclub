{
 "cells": [
  {
   "cell_type": "markdown",
   "metadata": {},
   "source": [
    "# Fibonacci"
   ]
  },
  {
   "cell_type": "code",
   "execution_count": 1,
   "metadata": {},
   "outputs": [
    {
     "ename": "ModuleNotFoundError",
     "evalue": "No module named 'kilroy'",
     "output_type": "error",
     "traceback": [
      "\u001b[0;31m---------------------------------------------------------------------------\u001b[0m",
      "\u001b[0;31mModuleNotFoundError\u001b[0m                       Traceback (most recent call last)",
      "Cell \u001b[0;32mIn[1], line 1\u001b[0m\n\u001b[0;32m----> 1\u001b[0m \u001b[38;5;28;01mimport\u001b[39;00m \u001b[38;5;21;01mkilroy\u001b[39;00m\n\u001b[1;32m      2\u001b[0m kilroy\u001b[38;5;241m.\u001b[39mShow(\u001b[38;5;124m'\u001b[39m\u001b[38;5;124mfibonacci\u001b[39m\u001b[38;5;124m'\u001b[39m, \u001b[38;5;124m'\u001b[39m\u001b[38;5;124mfibonacci_spiral.png\u001b[39m\u001b[38;5;124m'\u001b[39m, \u001b[38;5;241m700\u001b[39m, \u001b[38;5;241m400\u001b[39m)\n",
      "\u001b[0;31mModuleNotFoundError\u001b[0m: No module named 'kilroy'"
     ]
    }
   ],
   "source": [
    "import kilroy\n",
    "kilroy.Show('fibonacci', 'fibonacci_spiral.png', 700, 400)"
   ]
  },
  {
   "cell_type": "markdown",
   "metadata": {},
   "source": [
    "*fibonacci spiral and approximate fibonacci spiral*\n",
    "\n",
    "\n",
    "### Friendly introduction \n",
    "\n",
    "\n",
    "At some point most of us come across the Fibonacci sequence. Let's pretend we do not know what it is \n",
    "and discover it using this story:\n",
    "\n",
    "\n",
    "One day your friend convinces you to start up an ibid farm. She gives you an ibid egg which hatches immediately.\n",
    "You have zero adult ibids and one baby ibid.\n",
    "\n",
    "\n",
    "Ibids reproduce by cloning according to the following rules: \n",
    "\n",
    "\n",
    "- An ibid hatches and grows for one month to become an adult\n",
    "- Then the ibid starts to develop an egg which takes a second month\n",
    "- At the end of the second month the ibid lays the egg and it hatches immediately\n",
    "- The ibid continues to lay one new egg every month that hatches immediately\n",
    "- Ibids are immortal\n",
    "\n",
    "\n",
    "How long before you are up to your eyelids in ibids? (This is an informal question.)\n",
    "\n",
    "\n",
    "Write down a sequence of numbers: Month by month how many *adult ibids* do you have? \n",
    "The ibid must wait one month after hatching to be an *adult*. \n",
    "\n",
    "```\n",
    "month 0: 0 adults (plus one baby)\n",
    "month 1: 1 adult (baby grew up; now zero babies)\n",
    "month 2: 1 adult (plus one baby: the first adult layed an egg that hatched right away)\n",
    "month 3: 2 adults = original adult plus last month's baby grown up (plus you one new baby\n",
    "month 4: 3 adults, 2 babies\n",
    "  .\n",
    "  . \n",
    "  .\n",
    "```\n"
   ]
  },
  {
   "cell_type": "markdown",
   "metadata": {},
   "source": [
    "### The Fibonacci sequence rule\n",
    "\n",
    "\n",
    "$$Fibonacci\\;sequence\\;=\\;0,\\; 1,\\; 1,\\; 2,\\; 3,\\; 5,\\; 8,\\; 13,\\; 21,\\; 34,\\; 55,\\; \\dots$$\n",
    "\n",
    "\n",
    "The 'Fi' in 'Fibonacci' means 'son of' in Italian. Therefore whoever the guy *Fibonacci* was his *father* was \n",
    "apparently 'Bonacci'. \n"
   ]
  },
  {
   "cell_type": "markdown",
   "metadata": {},
   "source": [
    "### Spirality\n",
    "\n",
    "Now we draw Fibonacci numbers as squares. "
   ]
  },
  {
   "cell_type": "code",
   "execution_count": 2,
   "metadata": {},
   "outputs": [
    {
     "ename": "SyntaxError",
     "evalue": "unterminated string literal (detected at line 1) (3897923718.py, line 1)",
     "output_type": "error",
     "traceback": [
      "\u001b[0;36m  Cell \u001b[0;32mIn[2], line 1\u001b[0;36m\u001b[0m\n\u001b[0;31m    kilroy.Show('fibonacci', 'squares_0112358.png, 450,250)\u001b[0m\n\u001b[0m                             ^\u001b[0m\n\u001b[0;31mSyntaxError\u001b[0m\u001b[0;31m:\u001b[0m unterminated string literal (detected at line 1)\n"
     ]
    }
   ],
   "source": [
    "kilroy.Show('fibonacci', 'squares_0112358.png, 450,250)"
   ]
  },
  {
   "cell_type": "markdown",
   "metadata": {},
   "source": [
    "Next, inside of this sequence of squares draw a spiral. It will be similar\n",
    "to the figure at the top of the page. Start at the left $1$-square and \n",
    "draw a quarter circle from the upper left corner to the lower right corner, counter-clockwise.\n",
    "In the second $1$ square, the one on the right, continue the quarter circle by\n",
    "drawing another quarter circle counter-clockwise. This one goes from the lower left corner\n",
    "to the upper right corner of the square. Next draw a quarter circle in the $2$ square from lower right\n",
    "corner to the upper left corner. Continue this way through all the squares.\n",
    "\n",
    "\n",
    "Experiment by re-drawing this spiral at different scales. Use the slider control called 'limit_setter'. "
   ]
  },
  {
   "cell_type": "code",
   "execution_count": 3,
   "metadata": {},
   "outputs": [
    {
     "data": {
      "application/vnd.jupyter.widget-view+json": {
       "model_id": "a98196e3c59a410c87fff914971ca190",
       "version_major": 2,
       "version_minor": 0
      },
      "text/plain": [
       "interactive(children=(IntSlider(value=5, description='limit_setter', max=2500, min=5, step=40), Output()), _do…"
      ]
     },
     "metadata": {},
     "output_type": "display_data"
    },
    {
     "data": {
      "text/plain": [
       "<function __main__.fiboplot(limit_setter)>"
      ]
     },
     "execution_count": 3,
     "metadata": {},
     "output_type": "execute_result"
    }
   ],
   "source": [
    "%matplotlib inline\n",
    "import numpy as np\n",
    "import matplotlib.pyplot as plt\n",
    "from matplotlib.patches import Arc\n",
    "from ipywidgets import *\n",
    "from traitlets import dlink\n",
    "pi = np.pi\n",
    "\n",
    "def dtr(a): return a*pi/180.\n",
    "def rtd(a): return a*180./pi\n",
    "def DrawClosedNgon(axis, x, y, c):\n",
    "    if len(x) < 2: return\n",
    "    (xl, yl) = ([], [])\n",
    "    for i in range(len(x)):\n",
    "        xl.append(x[i])\n",
    "        yl.append(y[i])\n",
    "    xl.append(x[0])\n",
    "    yl.append(y[0])\n",
    "    axis.plot(xl, yl, color=c)\n",
    "    return\n",
    "\n",
    "# Draw a spiral of the form r = a * e^{b * theta}\n",
    "def DrawLogSpiral(axis, x0, y0, a, b, theta0, theta1, dTheta, c):\n",
    "    nThetas = int((theta1 - theta0)/dTheta + 1)\n",
    "    x=[x0]\n",
    "    y=[y0]\n",
    "    for i in range(nThetas):\n",
    "        theta = float(i)*dTheta + theta0\n",
    "        r = a*np.exp(b*theta)\n",
    "        x.append(r*np.cos(theta) + x0)\n",
    "        y.append(r*np.sin(theta) + y0)\n",
    "    axis.plot(x, y, color=c)\n",
    "    return\n",
    "\n",
    "def fiboplot(limit_setter):\n",
    "    fig, ax = plt.subplots(figsize=(12,10))\n",
    "    ax.axis('equal')\n",
    "    ax.set(xlim=(-limit_setter, limit_setter), ylim=(-limit_setter,limit_setter))\n",
    "    ax.set(xlabel='x axis', ylabel = 'y axis', title='Fibonacci spiral')\n",
    "\n",
    "    # u[perm=0,1,2,3][step=0,1,2,3],[coord=0,1 for x,y] (but never use step = 3 which just returns to start of box\n",
    "    u = [[[1,0],[0,1],[-1,0],[0,-1]],[[0,1],[-1,0],[0,-1],[1,0]],[[-1,0],[0,-1],[1,0],[0,1]],[[0,-1],[1,0],[0,1],[-1,0]]]\n",
    "    th1 = [0.0, pi/2., pi, 3.*pi/2.]\n",
    "    th2 = [pi/2., pi, 3.*pi/2., 2.*pi]\n",
    "\n",
    "    # start at (0, 1) heading down towards (0, 0). Each new square we jump ahead two vertices and increase our\n",
    "    #   heading permutation index by 1 (mod 4). \n",
    "    uperm = 3\n",
    "    nSquares = 40\n",
    "    (a, b) = (0, 1)\n",
    "    (cx, cy) = (0, 1.)\n",
    "    for i in range(nSquares):\n",
    "        (x, y) = ([cx], [cy])\n",
    "        box = b\n",
    "        for j in range(3):\n",
    "            x.append(x[j] + b*u[uperm][j][0])\n",
    "            y.append(y[j] + b*u[uperm][j][1])\n",
    "\n",
    "        # Draw the next square of the Fibonacci numbers       \n",
    "        DrawClosedNgon(ax, x, y, 'blue')\n",
    "\n",
    "        # Inscribe an arc: width=height=box makes it circular (these are diameters), angle does not matter (no ellipticity to rotate)\n",
    "        #   theta1 and theta2 define the bounds of the arc.\n",
    "        angIndex = (uperm-1)%4\n",
    "        ax.add_patch(Arc([x[3],y[3]], width=box*2, height=box*2, angle = 0.0, \\\n",
    "                         theta1=rtd(th1[angIndex]), theta2=rtd(th2[angIndex]), fill=False))\n",
    "\n",
    "        # now advance everything\n",
    "        (cx, cy) = (x[2], y[2])\n",
    "        uperm += 1\n",
    "        if uperm > 3: uperm = 0\n",
    "\n",
    "        # Calculate the next Fibonacci number. For example a = 5 and b = 8 becomes a = 8 and b = 13.\n",
    "        a_tmp = a\n",
    "        a = b\n",
    "        b = b + a_tmp\n",
    "\n",
    "    DrawLogSpiral(ax, 0.7, 1.0, 1.3131, .3063489, -pi, 12.0*pi, pi/40., 'red')\n",
    "    plt.show()\n",
    "    return\n",
    "\n",
    "interact(fiboplot, limit_setter=widgets.IntSlider(min=5,max=2500,step=40,value=5))"
   ]
  },
  {
   "cell_type": "markdown",
   "metadata": {},
   "source": [
    "Notice that in the figure above the quarter-circle arcs are drawn in black ink. There is also a curve in red ink\n",
    "that is similar. The red curve is called a logarithmic spiral. Compare this to the shell of the *chambered nautilus*,\n",
    "another sea creature that is a mollusc but not a snail."
   ]
  },
  {
   "cell_type": "code",
   "execution_count": 4,
   "metadata": {},
   "outputs": [
    {
     "ename": "NameError",
     "evalue": "name 'kilroy' is not defined",
     "output_type": "error",
     "traceback": [
      "\u001b[0;31m---------------------------------------------------------------------------\u001b[0m",
      "\u001b[0;31mNameError\u001b[0m                                 Traceback (most recent call last)",
      "Cell \u001b[0;32mIn[4], line 1\u001b[0m\n\u001b[0;32m----> 1\u001b[0m kilroy\u001b[38;5;241m.\u001b[39mShow(\u001b[38;5;124m'\u001b[39m\u001b[38;5;124mgeometry\u001b[39m\u001b[38;5;124m'\u001b[39m, \u001b[38;5;124m'\u001b[39m\u001b[38;5;124mnautilus.png\u001b[39m\u001b[38;5;124m'\u001b[39m,\u001b[38;5;241m420\u001b[39m,\u001b[38;5;241m350\u001b[39m)\n",
      "\u001b[0;31mNameError\u001b[0m: name 'kilroy' is not defined"
     ]
    }
   ],
   "source": [
    "kilroy.Show('geometry', 'nautilus.png',420,350)"
   ]
  },
  {
   "cell_type": "markdown",
   "metadata": {},
   "source": [
    "*chambered nautilus shell, cross section*\n",
    "\n",
    "Compare these spirals with those of Sue Snail shown below. Sue is (or was) both a snail and a mollusc."
   ]
  },
  {
   "cell_type": "code",
   "execution_count": 5,
   "metadata": {},
   "outputs": [
    {
     "ename": "NameError",
     "evalue": "name 'kilroy' is not defined",
     "output_type": "error",
     "traceback": [
      "\u001b[0;31m---------------------------------------------------------------------------\u001b[0m",
      "\u001b[0;31mNameError\u001b[0m                                 Traceback (most recent call last)",
      "Cell \u001b[0;32mIn[5], line 1\u001b[0m\n\u001b[0;32m----> 1\u001b[0m kilroy\u001b[38;5;241m.\u001b[39mShow(\u001b[38;5;124m'\u001b[39m\u001b[38;5;124mgeometry\u001b[39m\u001b[38;5;124m'\u001b[39m, \u001b[38;5;124m'\u001b[39m\u001b[38;5;124mconus_textile_spiral.png\u001b[39m\u001b[38;5;124m'\u001b[39m,\u001b[38;5;241m420\u001b[39m,\u001b[38;5;241m300\u001b[39m)\n",
      "\u001b[0;31mNameError\u001b[0m: name 'kilroy' is not defined"
     ]
    }
   ],
   "source": [
    "kilroy.Show('geometry', 'conus_textile_spiral.png',420,300)"
   ]
  },
  {
   "cell_type": "markdown",
   "metadata": {},
   "source": [
    "*a look inside the former home of Sue Snail featuring Sue's idea of a spiral*\n",
    "\n",
    "\n",
    "### Extra\n",
    "\n",
    "\n",
    "The Fibonacci spiral is similar to another sort of spiral called a logarithmic spiral\n",
    "(the red curve on the figure above).\n",
    "\n",
    "\n",
    "If the Fibonacci sequence approximates the *logarithmic spiral*... and the Fibonacci sequence\n",
    "approximates the *golden ratio*... does this mean that the logarithmic spiral is the same thing\n",
    "as the golden ratio? I'm not sure this is so... \n",
    "\n",
    "\n",
    "Let's return for a moment to the ibids. As an ibid farmer you know that your ibids are\n",
    "quietly wandering about the ranch munching their favorite foods which are pine cones \n",
    "and sunflowers. See *phyllotaxis*. "
   ]
  },
  {
   "cell_type": "markdown",
   "metadata": {},
   "source": [
    "- Write down two numbers that are not the same, call these $a$ and $b$\n",
    "- The next number in the sequence is ${\\large \\frac{a+b}{a-b}}$. \n",
    "- Continue in this fashion to generate new numbers: $b$ becomes $a$ and the new number is now $b$.\n",
    "\n",
    "\n",
    "Here is a little program to test this out. It prints out the first few numbers and then the last ones at the end.\n",
    "Then it makes a little plot of the results."
   ]
  },
  {
   "cell_type": "code",
   "execution_count": 6,
   "metadata": {},
   "outputs": [
    {
     "name": "stdout",
     "output_type": "stream",
     "text": [
      "2.0 7.0 -1.800 0.591 0.506 12.870 -1.082 0.845 0.123 1.341  ...... -0.040 1.079 -0.929 0.075 0.851 -1.192 -0.167 1.325 -0.777 0.261 0.497 -3.214 -0.732 1.590 -0.369 0.623 -0.256 0.418 -0.241 0.268 -0.052 0.673 -0.856 -0.119 1.324 -0.835 0.227 0.573 -2.311 -0.603 1.706 -0.478 0.562 -0.081 0.747 -0.804 -0.036 1.095 -0.936 \n"
     ]
    },
    {
     "data": {
      "text/plain": [
       "[<matplotlib.lines.Line2D at 0x7f22045489b0>]"
      ]
     },
     "execution_count": 6,
     "metadata": {},
     "output_type": "execute_result"
    },
    {
     "data": {
      "image/png": "[encoded data removed]",
      "text/plain": [
       "<Figure size 640x480 with 1 Axes>"
      ]
     },
     "metadata": {},
     "output_type": "display_data"
    }
   ],
   "source": [
    "number_of_numbers = 998\n",
    "a = 2.\n",
    "b = 7.\n",
    "%matplotlib inline\n",
    "import numpy as np\n",
    "import matplotlib.pyplot as plt\n",
    "z = [a, b]\n",
    "answer = str(a) + ' ' + str(b) + ' '\n",
    "for i in range(number_of_numbers):\n",
    "    a, b = z[-2], z[-1]\n",
    "    z.append((a + b)/(a-b))\n",
    "    if i < 8 or i > number_of_numbers - 40: answer += '%.3f' % z[-1] + ' '\n",
    "    elif i == 8: answer += ' ...... '\n",
    "print(answer)\n",
    "plt.plot(z)"
   ]
  },
  {
   "cell_type": "markdown",
   "metadata": {},
   "source": [
    "What is the point? I don't know... yet... "
   ]
  },
  {
   "cell_type": "markdown",
   "metadata": {},
   "source": [
    "### Drawing a grid\n",
    "\n",
    "\n",
    "The cell below draws both a coarse and a fine grid. "
   ]
  },
  {
   "cell_type": "code",
   "execution_count": 7,
   "metadata": {},
   "outputs": [
    {
     "data": {
      "image/png": "[encoded data removed]",
      "text/plain": [
       "<Figure size 1200x1000 with 1 Axes>"
      ]
     },
     "metadata": {},
     "output_type": "display_data"
    }
   ],
   "source": [
    "# This program draws two grids, a coarse one and a fine one in red and black respectively. \n",
    "#   They can be used to draw and compare two versions of the Fibonacci spiral which approximates \n",
    "#   a logarithmic spiral. See also the Fibonacci spiral in this notebook.\n",
    "# Use the factors below to fine-tune your results\n",
    "\n",
    "do_log_spiral_template = True\n",
    "do_add_small_arcs = False # not implemented yet\n",
    "do_add_big_arcs = False # not implemented yet\n",
    "log_spiral_factor = 55.0\n",
    "scale_down_factor = log_spiral_factor / 11\n",
    "epsilon = .003\n",
    "\n",
    "# make plots inline (so that they do not pop-out)\n",
    "%matplotlib inline\n",
    "\n",
    "import numpy as np\n",
    "import matplotlib.pyplot as plt\n",
    "from matplotlib.patches import Arc\n",
    "\n",
    "fig, ax = plt.subplots(figsize=(12,10))\n",
    "ax.axis('equal')\n",
    "\n",
    "lower_limit = -0.01\n",
    "upper_limit = 1.01\n",
    "ax.set(xlim=(lower_limit, upper_limit), ylim=(lower_limit, upper_limit))\n",
    "# ax.set(xlabel='sixa x', ylabel = 'sixa y', title='etalpmet bulc htam rehto')\n",
    "ax.set(xlabel='sixa x', ylabel = 'sixa y', title='etalpmet bulc htam rehto')\n",
    "\n",
    "if do_log_spiral_template:\n",
    "    dx = 1.0/log_spiral_factor\n",
    "    dy = 1.0/log_spiral_factor\n",
    "    for i in range(int(log_spiral_factor)):\n",
    "        for j in range(int(log_spiral_factor)):\n",
    "            x = float(i)*dx\n",
    "            y = float(j)*dy\n",
    "            ax.plot([x, x+dx, x+dx, x, x], [y, y, y+dy, y+dy, y], color='k')\n",
    "    dx = 1.0/scale_down_factor\n",
    "    dy = 1.0/scale_down_factor\n",
    "    for i in range(int(scale_down_factor)):\n",
    "        for j in range(int(scale_down_factor)):\n",
    "            x = float(i)*dx + epsilon\n",
    "            y = float(j)*dy + epsilon\n",
    "            ax.plot([x, x+dx, x+dx, x, x], [y, y, y+dy, y+dy, y], color='r')\n",
    " \n",
    "plt.show()\n"
   ]
  },
  {
   "cell_type": "code",
   "execution_count": null,
   "metadata": {},
   "outputs": [],
   "source": []
  },
  {
   "cell_type": "code",
   "execution_count": null,
   "metadata": {},
   "outputs": [],
   "source": []
  },
  {
   "cell_type": "code",
   "execution_count": null,
   "metadata": {},
   "outputs": [],
   "source": []
  }
 ],
 "metadata": {
  "kernelspec": {
   "display_name": "Python 3 (ipykernel)",
   "language": "python",
   "name": "python3"
  },
  "language_info": {
   "codemirror_mode": {
    "name": "ipython",
    "version": 3
   },
   "file_extension": ".py",
   "mimetype": "text/x-python",
   "name": "python",
   "nbconvert_exporter": "python",
   "pygments_lexer": "ipython3",
   "version": "3.12.2"
  }
 },
 "nbformat": 4,
 "nbformat_minor": 4
}
