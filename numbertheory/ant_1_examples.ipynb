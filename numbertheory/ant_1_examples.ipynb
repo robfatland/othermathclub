{
 "cells": [
  {
   "cell_type": "markdown",
   "id": "a2cbccc0-f971-4807-8e82-0eaeb0e33871",
   "metadata": {},
   "source": [
    "### Function index\n",
    "\n",
    "- bool: **even**, **odd**, **divides(a | b)**, **relativelyprime**\n",
    "- list: **factor(n)**, **exponentfactor(n)** --> (p, a) tuples, **uniquefactors** (only primes), **divisors**\n",
    "- **listproduct** should be deprecated for **prod(l)**\n",
    "- **gcd**\n",
    "- **boolkey** is just the binary version of n... isn't this a built-in???\n",
    "- **Totient**, **Mobius**, **Nu** (# of unique prime factors), **Dirichlet** (and variants: multiplication)\n",
    "- **N(n) = n, I(n) = 1, 0, 0, ..., U(n) = 1\n"
   ]
  },
  {
   "cell_type": "code",
   "execution_count": 7,
   "id": "210ebfd6-58ef-458d-831a-cb3d3f295e8d",
   "metadata": {
    "tags": []
   },
   "outputs": [],
   "source": [
    "from iant_example_module import *"
   ]
  },
  {
   "cell_type": "code",
   "execution_count": 8,
   "id": "c230e822-e926-401a-8c31-e219fceb6d07",
   "metadata": {
    "tags": []
   },
   "outputs": [
    {
     "data": {
      "text/plain": [
       "[1, 2, 3, 4]"
      ]
     },
     "execution_count": 8,
     "metadata": {},
     "output_type": "execute_result"
    }
   ],
   "source": [
    "# reminder on concatenating lists\n",
    "a = [1, 2]\n",
    "b = [3, 4]\n",
    "a+b"
   ]
  },
  {
   "cell_type": "code",
   "execution_count": 9,
   "id": "7c3a129b-7bb3-4e23-a97c-c0bf630e89f2",
   "metadata": {
    "tags": []
   },
   "outputs": [
    {
     "name": "stdout",
     "output_type": "stream",
     "text": [
      "[1, 2, 3, 4, 5, 6, 8, 9, 10, 12, 15, 16, 18, 20, 24, 25, 30, 32, 36, 40, 45, 48, 50, 60, 72, 75, 80, 90, 96, 100, 120, 125, 144, 150, 160, 180, 200, 225, 240, 250, 288, 300, 360, 375, 400, 450, 480, 500, 600, 720, 750, 800, 900, 1000, 1125, 1200, 1440, 1500, 1800, 2000, 2250, 2400, 3000, 3600, 4000, 4500, 6000, 7200, 9000, 12000, 18000, 36000]\n"
     ]
    }
   ],
   "source": [
    "# Check the divisors() function\n",
    "print(divisors(36000))              # should --> [1, 2, 3, 4, 5, 6, 8, 9, 10, 12, ..., 36000]"
   ]
  },
  {
   "cell_type": "code",
   "execution_count": 10,
   "id": "d94357cd-8188-41e2-acde-67b8d0ab4ada",
   "metadata": {
    "tags": []
   },
   "outputs": [
    {
     "name": "stdout",
     "output_type": "stream",
     "text": [
      "False but True\n",
      "False but True\n",
      "False but True\n"
     ]
    }
   ],
   "source": [
    "# 1.12 b) examples where a does not divide b but a**a divides b**b\n",
    "print(divides(4, 10), 'but', divides(4**4, 10**10))\n",
    "print(divides(9, 21), 'but', divides(9**9, 21**21))\n",
    "print(divides(25, 55), 'but', divides(25**25, 55**55))"
   ]
  },
  {
   "cell_type": "code",
   "execution_count": 11,
   "id": "6b19d06f-a953-4a45-9f01-22cc391caef1",
   "metadata": {
    "tags": []
   },
   "outputs": [
    {
     "name": "stdout",
     "output_type": "stream",
     "text": [
      "a = 2\n",
      "n = 2\n",
      "m = 5\n",
      "An and Am are: 17 4294967297\n",
      "Claim: An does not divide Am. Calculation:\n",
      "An does not divide Am\n",
      "Claim: An does divide Am - 2. Calculation:\n",
      "An divides Am-2 252645135.0 252645135\n",
      "Claim gcd is 1; calc says it is 1\n",
      "\n",
      "a = 3\n",
      "n = 2\n",
      "m = 5\n",
      "An and Am are: 82 1853020188851842\n",
      "Claim: An does not divide Am. Calculation:\n",
      "An does not divide Am\n",
      "Claim: An does divide Am - 2. Calculation:\n",
      "An divides Am-2 22597807181120.0 22597807181120\n",
      "Claim gcd is 2; calc says it is 2\n",
      "\n"
     ]
    }
   ],
   "source": [
    "# Problem 1.18 example\n",
    "# For n < m and parameter a > 1 show gcd(An, Am) is 1 or 2 for a even/odd.\n",
    "# Here Tn is defined as 2^n and An is defined as a^{Tn}\n",
    "\n",
    "n = 2\n",
    "m = 5\n",
    "avals = [2, 3]                # 4+ takes a really long time; gcd() could be optimized\n",
    "\n",
    "for a in avals:\n",
    "    print('a = ' + str(a))\n",
    "    print('n = ' + str(n))\n",
    "    print('m = ' + str(m))\n",
    "    An = a**(2**n) + 1\n",
    "    Am = a**(2**m) + 1\n",
    "    print('An and Am are:', An, Am)\n",
    "    \n",
    "    print(\"Claim: An does not divide Am. Calculation:\")\n",
    "    if divides(An, Am): print(\"An divides Am; \", Am/An, Am//An)\n",
    "    else              : print(\"An does not divide Am\")\n",
    "\n",
    "    print(\"Claim: An does divide Am - 2. Calculation:\")\n",
    "    if divides(An, Am-2): print(\"An divides Am-2\", (Am-2)/An, (Am-2)//An)\n",
    "    else                : print(\"An does not divide Am-2\")\n",
    "    \n",
    "    g = gcd(An, Am)\n",
    "    if even(a): print(\"Claim gcd is 1; calc says it is\", g)\n",
    "    else:       print(\"Claim gcd is 2; calc says it is\", g)\n",
    "    print()"
   ]
  },
  {
   "cell_type": "code",
   "execution_count": 12,
   "id": "d0ab22be-653c-42cb-b8d1-c1090c13c81d",
   "metadata": {
    "tags": []
   },
   "outputs": [
    {
     "name": "stdout",
     "output_type": "stream",
     "text": [
      "5217 zeros, 783 ones, 0 something-elses\n"
     ]
    }
   ],
   "source": [
    "# Problem 2.5: Show the Dirichlet product of Mobius(n) and Nu(n) is 1 or 0; where Nu\n",
    "#   is defined as the number of distinct prime factors of n. This is just empirical.\n",
    "\n",
    "total0, total1, totalOther, n = 0, 0, 0, 6000\n",
    "for i in range(1, n+1): \n",
    "    product = Dirichlet(Mobius, Nu, i)\n",
    "    if product == 0:   total0 += 1\n",
    "    elif product == 1: total1 += 1\n",
    "    else:              totalOther += 1\n",
    "    \n",
    "    \n",
    "print(total0, 'zeros,', total1, 'ones,', totalOther, 'something-elses')"
   ]
  },
  {
   "cell_type": "markdown",
   "id": "e398d8a4-d92a-49ce-a2a2-02d216939aa3",
   "metadata": {},
   "source": [
    "# Problem 2.13\n",
    "\n",
    "In my reading this problem is *central* or perhaps *thematic* to chapters 1 and 2 \n",
    "as it brings together several important ideas. The problem is easily solved by \n",
    "Greg Hurst in a couple of lines but I'm going to *belabor* it here.\n",
    "\n",
    "\n",
    "The problem is advertised as \"*The product form of the Mobius inversion formula*\": \n",
    "Start with a function $f(n) > 0 \\; \\forall \\; n$ and a second real-valued function $a(n)$ \n",
    "where $a(1) \\ne 0$. Show that \n",
    "\n",
    "\n",
    "$\\Large{g(n)=\\prod_{d|n}{f(d)^{a(n/d)}} \\; \\iff \\; f(n)=\\prod_{d|n}{g(d)^{a^{-1}(n/d)}}.}$\n",
    "\n",
    "\n",
    "The exponentiation is not a typo! Here $a$ and $a^{-1}$ are Dirichlet inverse functions. \n",
    "(The problem statement uses $b$ in place of $a^{-1}$.)\n",
    "\n",
    "\n",
    "***Note: Mobius inversion sets up a relationship between two functions f and g\n",
    "via the Mobius function. This is not the same thing as Dirichlet inversion \n",
    "where $f * f^{-1} = f^{-1} * f = I.$***\n",
    "\n",
    "\n",
    "Zeroth belabor: Confirm the recursive formula for the Dirichlet inverse for $f(n) = n$.\n",
    "\n",
    "\n",
    "First belabor: Demonstrate the unit function u(n) = 1 is the Dirichlet inverse of \n",
    "the Mobius function.\n",
    "\n",
    "Second belabor: The Mobius Inversion Formula presents a function's inverse\n",
    "in terms of a sum involving the Mobius function. This can be recursively substituted \n",
    "to give the function in terms of itself. Check this\n",
    "empirically using $f(n) = n$.\n",
    "\n",
    "\n",
    "Third belabor: With $f$ as above and defining the second function $a$ the same as\n",
    "$f$: $a(n)=n$: Does the product form of the Mobius Inversion Formula yield $f$ via $g$?\n"
   ]
  },
  {
   "cell_type": "code",
   "execution_count": 13,
   "id": "44490dd8-0a44-4f16-897d-c68c2eb78209",
   "metadata": {
    "tags": []
   },
   "outputs": [
    {
     "name": "stdout",
     "output_type": "stream",
     "text": [
      "Problem 2.13 on the product form of the Mobius Inversion Formula...   \n",
      "   Part 0: Show the Dirichlet inverse by recursion works properly (gives I).   \n",
      "   \n",
      "Let's use the function f(n) = N(n) = n   \n",
      "  Recall that the identity function is [1, 0, 0, 0, ...] = I   \n",
      "  The Dirichlet product of a function and its inverse gives I (commutative).   \n",
      "   \n",
      "  f-1(1) = 1/f(1); and then for n > 1:   \n",
      "  f-1(n) = -1/f(1) multiplied by S where   \n",
      "    \n",
      " S = sum over d divides n, d less than n: Of E where   \n",
      "   \n",
      " E = f(n/d) multiplied by f-1(d). Noting d < n is key to recursion.   \n",
      "   \n",
      "The list length of G should be two elements: 2\n",
      "\n",
      "Confirmation of Dirichlet inverse:\n",
      "\n",
      "The function f(n) is in list F: [1, 2, 3, 4, 5, 6, 7, 8, 9, 10, 11, 12, 13, 14, 15, 16, 17, 18, 19, 20, 21, 22, 23, 24, 25, 26, 27, 28, 29, 30, 31, 32, 33, 34, 35]\n",
      "The function f-1(n) is in list G: [1.0, -2.0, -3.0, -0.0, -5.0, 6.0, -7.0, -0.0, -0.0, 10.0, -11.0, -0.0, -13.0, 14.0, 15.0, -0.0, -17.0, -0.0, -19.0, -0.0, 21.0, 22.0, -23.0, -0.0, -0.0, 26.0, -0.0, -0.0, -29.0, -30.0, -31.0, -0.0, 33.0, 34.0, 35.0]\n",
      "\n",
      "Confirm their product is I: \n",
      "[1, 0.0, 0.0, 0.0, 0.0, 0.0, 0.0, 0.0, 0.0, 0.0, 0.0, 0.0, 0.0, 0.0, 0.0, 0.0, 0.0, 0.0, 0.0, 0.0, 0.0, 0.0, 0.0, 0.0, 0.0, 0.0, 0.0, 0.0, 0.0, 0.0, 0.0, 0.0, 0.0, 0.0, 0.0]\n",
      "[1.0, 0.0, 0.0, 0.0, 0.0, 0.0, 0.0, 0.0, 0.0, 0.0, 0.0, 0.0, 0.0, 0.0, 0.0, 0.0, 0.0, 0.0, 0.0, 0.0, 0.0, 0.0, 0.0, 0.0, 0.0, 0.0, 0.0, 0.0, 0.0, 0.0, 0.0, 0.0, 0.0, 0.0, 0.0]\n",
      "\n"
     ]
    }
   ],
   "source": [
    "# Zeroth Belabor\n",
    "\n",
    "print(\"Problem 2.13 on the product form of the Mobius Inversion Formula...   \")\n",
    "print(\"   Part 0: Show the Dirichlet inverse by recursion works properly (gives I).   \")\n",
    "print(\"   \")\n",
    "print(\"Let's use the function f(n) = N(n) = n   \")\n",
    "print(\"  Recall that the identity function is [1, 0, 0, 0, ...] = I   \")\n",
    "print(\"  The Dirichlet product of a function and its inverse gives I (commutative).   \")\n",
    "print(\"   \")\n",
    "print(\"  f-1(1) = 1/f(1); and then for n > 1:   \")\n",
    "print(\"  f-1(n) = -1/f(1) multiplied by S where   \")\n",
    "print(\"    \")\n",
    "print(\" S = sum over d divides n, d less than n: Of E where   \")\n",
    "print(\"   \")\n",
    "print(\" E = f(n/d) multiplied by f-1(d). Noting d < n is key to recursion.   \")\n",
    "print(\"   \")\n",
    "\n",
    "test_n = 35\n",
    "F      = [N(n) for n in range(test_n + 1)]      # F holds values of f in the recursive space from 1 to test_n\n",
    "                                                #   Note the list indices match n and we ignore F[0]\n",
    "G      = [0, 1/F[1]]                            # G[] will be the inverse of F built recursively, also with 'ignore 0' indexing\n",
    "    \n",
    "print('The list length of G should be two elements: ' + str(len(G)))\n",
    "print()\n",
    "\n",
    "# here the recursion formula calculates values of G.\n",
    "#   each value is a sum (so there is an inner loop)\n",
    "#   and the recursion proceeds from 1 to test_n (outer loop)\n",
    "\n",
    "G = [0]\n",
    "G.append(1/F[1])\n",
    "leading_coefficient = -1/F[1]\n",
    "for n in range(2, test_n + 1):\n",
    "    S = 0\n",
    "    for d in divisors_less_n(n): S += N(n//d)*G[d]\n",
    "    G.append(leading_coefficient * S)\n",
    "    \n",
    "print(\"Confirmation of Dirichlet inverse:\")\n",
    "print()\n",
    "print(\"The function f(n) is in list F: \" + str(F[1:]))\n",
    "print(\"The function f-1(n) is in list G: \" + str(G[1:]))\n",
    "print()\n",
    "print(\"Confirm their product is I: \")\n",
    "print(DirichletAcrossLists(F, G)[1:])\n",
    "print(DirichletAcrossLists(G, F)[1:])\n",
    "print()\n"
   ]
  },
  {
   "cell_type": "code",
   "execution_count": 14,
   "id": "7280e22c-5dd7-4e4a-a3f8-5bc5cc1887b4",
   "metadata": {
    "tags": []
   },
   "outputs": [
    {
     "name": "stdout",
     "output_type": "stream",
     "text": [
      "[1, 0, 0, 0, 0, 0, 0, 0, 0, 0, 0, 0, 0, 0, 0, 0, 0, 0, 0, 0, 0, 0, 0, 0, 0, 0, 0, 0, 0, 0, 0, 0, 0, 0, 0]\n"
     ]
    }
   ],
   "source": [
    "# First belabor: Show the unit function U and the Mobius function are Dirichlet inverses\n",
    "mu, u = [0], [0]\n",
    "for n in range(1, test_n + 1):\n",
    "    mu.append(Mobius(n))\n",
    "    u.append(U(n))\n",
    "    \n",
    "print(DirichletAcrossLists(mu, u)[1:])"
   ]
  },
  {
   "cell_type": "code",
   "execution_count": 15,
   "id": "bce694a1-1093-4687-bee7-352aff165201",
   "metadata": {
    "tags": []
   },
   "outputs": [
    {
     "name": "stdout",
     "output_type": "stream",
     "text": [
      "[1, 2, 3, 4, 5, 6, 7, 8, 9, 10, 11, 12, 13, 14, 15, 16, 17, 18, 19, 20, 21, 22, 23, 24, 25, 26, 27, 28, 29, 30, 31, 32, 33, 34, 35]\n",
      "[1, 1, 2, 2, 4, 2, 6, 4, 6, 4, 10, 4, 12, 6, 8, 8, 16, 6, 18, 8, 12, 10, 22, 8, 20, 12, 18, 12, 28, 8, 30, 16, 20, 16, 24]\n",
      "\n",
      "        (by the way that looks an awful lot like the totient...)\n",
      "\n",
      "Confirm F is recovered as N(n): \n",
      "[1, 2, 3, 4, 5, 6, 7, 8, 9, 10, 11, 12, 13, 14, 15, 16, 17, 18, 19, 20, 21, 22, 23, 24, 25, 26, 27, 28, 29, 30, 31, 32, 33, 34, 35]\n",
      "\n"
     ]
    }
   ],
   "source": [
    "# Second belabor: Show that the Mobius Inversion Formula returns f by substitution:\n",
    "#   Suppose some arithmetic function f is equal to the sum over the divisors of n of some function g(d).\n",
    "#   Then g(n) is f * mu. The plan is to calculate g and show it generates f.\n",
    "    \n",
    "GMob = [0]\n",
    "for n in range(1, test_n + 1):\n",
    "    GMob.append(Dirichlet(N, Mobius, n))\n",
    "\n",
    "FRegen = [0]\n",
    "for n in range(1, test_n + 1):\n",
    "    FRegen.append(DirichletUsingLists(GMob, u, n))\n",
    "\n",
    "print(F[1:])\n",
    "print(GMob[1:])\n",
    "print()\n",
    "print(\"        (by the way that looks an awful lot like the totient...)\")\n",
    "print()\n",
    "print(\"Confirm F is recovered as N(n): \")\n",
    "print(FRegen[1:])\n",
    "print()"
   ]
  },
  {
   "cell_type": "code",
   "execution_count": 16,
   "id": "80a6fa9a-a713-4097-9fe5-963a5461a37e",
   "metadata": {
    "tags": []
   },
   "outputs": [
    {
     "name": "stdout",
     "output_type": "stream",
     "text": [
      "0\n"
     ]
    }
   ],
   "source": [
    "# Third belabor: Demonstrate that the product form of the Mobius Inversion Formula works as advertised.\n",
    "#   First condition: f(n) > 0 for all n: Define f(n) = n as above.\n",
    "#   Second condition: a(n) is real and a(1) is not zero: Set a(n) = n\n",
    "#   Third condition: a-inv is the Dirichlet inverse of a(n): a-inv(n) = n times mu(n) (not a Dirichlet product).\n",
    "#\n",
    "#   Result to show: Define g as the product over divisors d: f(d) raised to the a(n/d); if and only if \n",
    "#       f is the product over divisors d of g(d) raised to the a-inv(n/d). \n",
    "\n",
    "def a(n): return N(n)\n",
    "\n",
    "def a_inverse(n): return N(n)*Mobius(n)\n",
    "\n",
    "print(Dirichlet(a, a_inverse, 196))      # Confirms result is I(n)"
   ]
  },
  {
   "cell_type": "markdown",
   "id": "0fff59b5-5832-4e5c-a393-24c492630856",
   "metadata": {},
   "source": [
    "#### 2.25"
   ]
  },
  {
   "cell_type": "code",
   "execution_count": 17,
   "id": "9cdd882d-cb8b-48f9-8685-2b946553db23",
   "metadata": {
    "tags": []
   },
   "outputs": [
    {
     "name": "stdout",
     "output_type": "stream",
     "text": [
      "1       1       1       1       1       1\n",
      "2       1       -1       -1       0       0\n",
      "3       2       -1       -2       0       0\n",
      "4       2       0       0       1       0\n",
      "5       4       -1       -4       0       0\n",
      "6       2       1       2       0       0\n",
      "7       6       -1       -6       0       0\n",
      "8       4       0       0       2       0\n",
      "9       6       0       0       2       0\n",
      "10       4       1       4       0       0\n",
      "11       10       -1       -10       0       0\n",
      "12       4       0       0       0       0\n",
      "13       12       -1       -12       0       0\n",
      "14       6       1       6       0       0\n",
      "15       8       1       8       0       0\n",
      "16       8       0       0       4       0\n",
      "17       16       -1       -16       0       0\n",
      "18       6       0       0       0       0\n",
      "19       18       -1       -18       0       0\n",
      "20       8       0       0       0       0\n",
      "21       12       1       12       0       0\n",
      "22       10       1       10       0       0\n",
      "23       22       -1       -22       0       0\n",
      "24       8       0       0       0       0\n",
      "25       20       0       0       4       0\n",
      "26       12       1       12       0       0\n",
      "27       18       0       0       6       0\n",
      "28       12       0       0       0       0\n",
      "29       28       -1       -28       0       0\n",
      "30       8       -1       -8       0       0\n",
      "31       30       -1       -30       0       0\n",
      "32       16       0       0       8       0\n",
      "33       20       1       20       0       0\n",
      "34       16       1       16       0       0\n",
      "35       24       1       24       0       0\n",
      "36       12       0       0       2       0\n",
      "37       36       -1       -36       0       0\n",
      "38       18       1       18       0       0\n",
      "39       24       1       24       0       0\n",
      "40       16       0       0       0       0\n",
      "41       40       -1       -40       0       0\n",
      "42       12       -1       -12       0       0\n"
     ]
    }
   ],
   "source": [
    "for n in range(1, 43):\n",
    "    t = Totient(n)\n",
    "    m = Mobius(n)\n",
    "    d = Dirichlet(TotientMobiusProduct, Totient, n)\n",
    "    I = 1 if n == 1 else 0\n",
    "    print(n, '     ', t, '     ', m, '     ', t*m, '     ', d, '     ', I)"
   ]
  },
  {
   "cell_type": "code",
   "execution_count": null,
   "id": "baca3f0e-3333-4cef-869a-64eb5291ef52",
   "metadata": {},
   "outputs": [],
   "source": []
  },
  {
   "cell_type": "code",
   "execution_count": 156,
   "id": "d3d1f8ec-15e4-4b75-aba4-7ed8a69802fb",
   "metadata": {
    "tags": []
   },
   "outputs": [
    {
     "name": "stdout",
     "output_type": "stream",
     "text": [
      "1\n",
      "-1\n",
      "-2\n",
      "0\n",
      "-4\n",
      "2\n",
      "-6\n",
      "0\n",
      "0\n",
      "4\n",
      "-10\n",
      "0\n",
      "-12\n"
     ]
    }
   ],
   "source": [
    "for n in range(1, 14): print(Mobius(n)*Totient(n))"
   ]
  },
  {
   "cell_type": "code",
   "execution_count": 158,
   "id": "b12f86af-42ef-400a-acb7-ce22bb493096",
   "metadata": {
    "tags": []
   },
   "outputs": [
    {
     "name": "stdout",
     "output_type": "stream",
     "text": [
      "1\n",
      "0\n",
      "1\n",
      "1\n",
      "3\n",
      "0\n",
      "5\n",
      "2\n",
      "4\n",
      "0\n",
      "9\n",
      "1\n",
      "11\n"
     ]
    }
   ],
   "source": [
    "for n in range(1, 14): print(Dirichlet(Mobius, Totient, n))"
   ]
  },
  {
   "cell_type": "code",
   "execution_count": 161,
   "id": "a33a094c-b2f5-4c89-ada2-8b33eb7d676f",
   "metadata": {
    "tags": []
   },
   "outputs": [
    {
     "name": "stdout",
     "output_type": "stream",
     "text": [
      "143\n"
     ]
    }
   ],
   "source": [
    "def max_S_collatz(N):  \n",
    "    max_s = [0] * (N + 1)  \n",
    "    for i in range(1, N + 1):  \n",
    "        num = i  \n",
    "        steps = 0  \n",
    "        while num != 1:  \n",
    "            if num % 2 == 0:  \n",
    "                num = num // 2  \n",
    "            else:  \n",
    "                num = 3 * num + 1  \n",
    "            steps += 1  \n",
    "        max_s[i] = steps  \n",
    "    return max(max_s)  \n",
    "  \n",
    "N = 500  \n",
    "print(max_S_collatz(N))  \n"
   ]
  },
  {
   "cell_type": "code",
   "execution_count": 174,
   "id": "f7cfa998-0e04-4e60-880e-e1a639d60631",
   "metadata": {
    "tags": []
   },
   "outputs": [
    {
     "name": "stdout",
     "output_type": "stream",
     "text": [
      "The maximum S(n) for n less than or equal to 500 is S(327) = 91\n"
     ]
    }
   ],
   "source": [
    "def max_S_collatz(N):  \n",
    "    max_s = 0  \n",
    "    max_n = 0  \n",
    "    for n in range(1, N + 1):  \n",
    "        steps = SCollatz(n)   \n",
    "        if steps > max_s:  \n",
    "            max_s = steps  \n",
    "            max_n = n  \n",
    "    return max_n, max_s\n",
    "\n",
    "N = 500 \n",
    "result_n, result_s = max_S_collatz(N)  \n",
    "print(f\"The maximum S(n) for n less than or equal to {N} is S({result_n}) = {result_s}\")  "
   ]
  },
  {
   "cell_type": "code",
   "execution_count": 169,
   "id": "8245b1e5-3b4b-4479-8ad1-5a8235902fe4",
   "metadata": {
    "tags": []
   },
   "outputs": [
    {
     "name": "stdout",
     "output_type": "stream",
     "text": [
      "0\n",
      "9\n"
     ]
    }
   ],
   "source": [
    "def SCollatz(n):\n",
    "    c = 0\n",
    "    while n > 1:\n",
    "        if not n % 2: n = n // 2\n",
    "        else: n = (3 * n + 1) // 2\n",
    "        c += 1\n",
    "    return c\n",
    "\n",
    "print(SCollatz(1))\n",
    "print(SCollatz(17))"
   ]
  },
  {
   "cell_type": "code",
   "execution_count": 173,
   "id": "d8a4634a-c999-4ef1-8914-f059036a712a",
   "metadata": {
    "tags": []
   },
   "outputs": [
    {
     "name": "stdout",
     "output_type": "stream",
     "text": [
      "The maximum S(n) for n less than or equal to 500 is S(327) = 143\n"
     ]
    }
   ],
   "source": [
    "def max_S_collatz(N):  \n",
    "    max_s = 0  \n",
    "    max_n = 0  \n",
    "    for i in range(1, N + 1):  \n",
    "        num = i  \n",
    "        steps = 0  \n",
    "        while num != 1:  \n",
    "            if num % 2 == 0:  \n",
    "                num = num // 2  \n",
    "            else:  \n",
    "                num = 3 * num + 1  \n",
    "            steps += 1  \n",
    "        if steps > max_s:  \n",
    "            max_s = steps  \n",
    "            max_n = i  \n",
    "    return max_n, max_s  \n",
    "  \n",
    "N = 500  \n",
    "result_n, result_s = max_S_collatz(N)  \n",
    "print(f\"The maximum S(n) for n less than or equal to {N} is S({result_n}) = {result_s}\")  \n"
   ]
  }
 ],
 "metadata": {
  "kernelspec": {
   "display_name": "Python 3 (ipykernel)",
   "language": "python",
   "name": "python3"
  },
  "language_info": {
   "codemirror_mode": {
    "name": "ipython",
    "version": 3
   },
   "file_extension": ".py",
   "mimetype": "text/x-python",
   "name": "python",
   "nbconvert_exporter": "python",
   "pygments_lexer": "ipython3",
   "version": "3.8.5"
  }
 },
 "nbformat": 4,
 "nbformat_minor": 5
}
