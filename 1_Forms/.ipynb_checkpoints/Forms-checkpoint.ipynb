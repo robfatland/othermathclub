{
 "cells": [
  {
   "cell_type": "markdown",
   "id": "2b334279-5ad4-4854-9861-1d2d5c594ae6",
   "metadata": {},
   "source": [
    "# Forms\n",
    "\n",
    "\n",
    "**Forms** is about translating some idea to a drawing or pattern. Forms might also\n",
    "be *anything* we perceive, like sound or a movement.\n",
    "\n",
    "\n",
    "Our first program is supposed to draw a spiral. We use a turtle that knows how to \n",
    "turn left and right and go forward. \n",
    "\n",
    "\n",
    "As new coders we occasionally use *magic spell* code. No explaining; it just works\n",
    "and gets us to the good part. Here we use magic spell code to obtain a turtle."
   ]
  },
  {
   "cell_type": "code",
   "execution_count": 1,
   "id": "45128d84-36b4-4f17-bb4a-08cb1b5bd2d8",
   "metadata": {},
   "outputs": [],
   "source": [
    "from turtle import Turtle, Screen, update, tracer\n",
    "\n",
    "# Turtle() creates a turtle. We can use tracer(0, 0) and update() to make the drawing go faster."
   ]
  },
  {
   "cell_type": "code",
   "execution_count": 2,
   "id": "7f5b5268-8497-4a35-9af6-cdd99f4eee23",
   "metadata": {},
   "outputs": [],
   "source": [
    "t = Turtle()\n",
    "\n",
    "for i in range(10, 100):\n",
    "    t.forward(2*i)\n",
    "    t.left(91)"
   ]
  },
  {
   "cell_type": "code",
   "execution_count": 3,
   "id": "7b2fb40f-ef2e-4fb7-b5c1-051b0c09bdbc",
   "metadata": {},
   "outputs": [
    {
     "name": "stdout",
     "output_type": "stream",
     "text": [
      "<turtle.Turtle object at 0x7c5f5b3d9010>\n"
     ]
    }
   ],
   "source": [
    "print(t)"
   ]
  },
  {
   "cell_type": "code",
   "execution_count": null,
   "id": "7289e724-2678-4769-a0fa-cfa46c7d8375",
   "metadata": {},
   "outputs": [],
   "source": [
    "screen = Screen()\n",
    "screen.clearscreen()"
   ]
  },
  {
   "cell_type": "code",
   "execution_count": 5,
   "id": "70880893-9f4f-4398-80d8-229e2143687e",
   "metadata": {},
   "outputs": [
    {
     "name": "stdout",
     "output_type": "stream",
     "text": [
      "<turtle.Turtle object at 0x7c5f5b3d9010>\n"
     ]
    }
   ],
   "source": [
    "print(t)"
   ]
  },
  {
   "cell_type": "code",
   "execution_count": 7,
   "id": "baa9a34b-3d9d-4626-9233-b001c1261e61",
   "metadata": {},
   "outputs": [],
   "source": [
    "t.pencolor('red')\n",
    "for i in range(10, 50):\n",
    "    t.forward(2*i)\n",
    "    t.right(89)"
   ]
  },
  {
   "cell_type": "code",
   "execution_count": 8,
   "id": "43f866b6-fc04-4e29-be23-787183cb63ed",
   "metadata": {},
   "outputs": [],
   "source": [
    "t.pencolor('blue')\n",
    "for i in range(50, 80):\n",
    "    t.forward(2*i)\n",
    "    t.left(89)"
   ]
  },
  {
   "cell_type": "code",
   "execution_count": 9,
   "id": "ed4c1cba-1d0c-435f-87f1-3f63208d3a08",
   "metadata": {},
   "outputs": [],
   "source": [
    "t.clear()"
   ]
  },
  {
   "cell_type": "code",
   "execution_count": 10,
   "id": "495f591a-ba13-4ee9-81ff-e6050514c0fd",
   "metadata": {},
   "outputs": [],
   "source": [
    "t.pencolor('blue')\n",
    "for i in range(50, 80):\n",
    "    t.forward(2*i)\n",
    "    t.left(89)"
   ]
  },
  {
   "cell_type": "markdown",
   "id": "be862d7a-c46d-4d58-8431-06a105be4aff",
   "metadata": {},
   "source": [
    "Now that we have taken a few steps into form creation: Let's take a momentary aside for some\n",
    "deep context. There was a biologist named Aristid Lindenmayer who created a formal language\n",
    "production algorithm that we find in the early pages of Douglas Hofstadter's book _Godel Escher Bach_.\n",
    "\n",
    "\n",
    "Examples of this algorithm are called L-systems after Lindenmayer. The corresponding \n",
    "[wikipedia page](https://en.wikipedia.org/wiki/L-system) gives a number of interesting examples.\n",
    "\n",
    "\n",
    "One premise of our program is that participating students have not had time to accumulate a great \n",
    "amount of technical context or an extensive mathematical framework. Consequently simple\n",
    "starting points that lead to complex, interesting results are essential to the program. \n",
    "\n",
    "\n",
    "Before we can start in with L-systems, we need to cover the essential structure of Python programs.\n",
    "The code above jumps into for-loops as the means of repetitive action."
   ]
  }
 ],
 "metadata": {
  "kernelspec": {
   "display_name": "Python 3 (ipykernel)",
   "language": "python",
   "name": "python3"
  },
  "language_info": {
   "codemirror_mode": {
    "name": "ipython",
    "version": 3
   },
   "file_extension": ".py",
   "mimetype": "text/x-python",
   "name": "python",
   "nbconvert_exporter": "python",
   "pygments_lexer": "ipython3",
   "version": "3.13.4"
  }
 },
 "nbformat": 4,
 "nbformat_minor": 5
}
