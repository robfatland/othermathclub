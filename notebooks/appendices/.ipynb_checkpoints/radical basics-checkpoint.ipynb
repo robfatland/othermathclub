{
 "cells": [
  {
   "cell_type": "markdown",
   "metadata": {},
   "source": [
    "# Appendix on Basics"
   ]
  },
  {
   "cell_type": "code",
   "execution_count": null,
   "metadata": {
    "collapsed": true
   },
   "outputs": [],
   "source": []
  },
  {
   "cell_type": "markdown",
   "metadata": {},
   "source": [
    "*kilroy*\n",
    "\n",
    "### Friendly introduction\n",
    "\n",
    "The most difficult part of the Other Math Club is simply time: We don't have enough of it.\n",
    "This is where the student investment of time is important. That helps; but there will always be\n",
    "unfamiliar details. Some examples: Do these look right? \n",
    "\n",
    "\n",
    "$$a^2=a\\cdot a\\;\\;\\;\\;\\;\\;\\;\\;\\; \n",
    "\\sqrt{\\frac{3}{5}}=\\frac{\\sqrt{3}}{\\sqrt{5}}\\;\\;\\;\\;\\;\\;\\;\\;\\;\n",
    "\\frac{\\frac{3}{4}}{5}=\\frac{3}{20}\\;\\;\\;\\;\\;\\;\\;\\;\\;\n",
    "{\\left(\\frac{\\sqrt{3}a}{7}\\right)}^2=\\frac{3\\cdot a^2}{49}$$\n",
    "\n",
    "\n",
    "#### Pythagorus Squarootus\n",
    "\n",
    "\n",
    "The pythagorean theorem relates the legs of a right triangle to its hypotenuse. \n",
    "*Squares* are what we find in the formula:\n",
    "\n",
    "\n",
    "$${\\large leg^2\\;+\\;leg^2\\;=\\;hypotenuse^2}$$\n",
    "\n",
    "\n",
    "So that's fine... but the sides of the triangle are *not* squares. If we manage to solve\n",
    "for the hypotenuse *squared* we do not yet know the length of the *hypotenuse*. How do \n",
    "we get to that? We take the square root of the hypotenuse squared. In symbols: \n",
    "\n",
    "\n",
    "$${\\large hypotenuse = \\sqrt{hypotenuse^2}}$$\n",
    "\n",
    "\n",
    "Let's say that you happen to know a hypotenuse and one of the legs. Let's call these $c$ \n",
    "and $b$ and we wish to know the other leg, call that $\\color {blue} a$. Now we have this sequence of \n",
    "equations which arrives at the answer: \n",
    "\n",
    "\n",
    "$${\\large {\\color {blue} a}^2\\;+\\;b^2\\;=\\;c^2}$$\n",
    "\n",
    "\n",
    "$${\\large {\\color {blue} a}^2\\;=\\;c^2\\;-\\;b^2}$$\n",
    "\n",
    "\n",
    "$${\\large {\\color {blue} a}\\;=\\;\\sqrt{c^2\\;-\\;b^2}}$$\n",
    "\n",
    "\n",
    "So again we need to be able to take a square root. How do we do this? First if we have\n",
    "a number like $25$ or $49$ the square root is easy, a number like $5$ or $7$ because\n",
    "$5$ squared is $25$ and $7$ squared is $49$. If the number is not a perfect square like\n",
    "this then we can estimate it; or we can use a calculator; or we can simply write it\n",
    "as a square root. That's a perfectly reasonable thing to do until we need to use it\n",
    "for a numerical calculation. For example $\\sqrt{3}$ is about $1.71$ but I would much \n",
    "rather simply write $\\sqrt{3}$. This leads us to the manipulation of square roots in\n",
    "relation to one another. For example is there a different way of writing the fraction \n",
    "$\\frac{3}{\\sqrt{3}}$. Sure; let's open a new section for that.\n",
    "\n",
    "\n",
    "#### Rational Radicals\n",
    "\n",
    "\n"
   ]
  },
  {
   "cell_type": "code",
   "execution_count": null,
   "metadata": {
    "collapsed": true
   },
   "outputs": [],
   "source": []
  }
 ],
 "metadata": {
  "kernelspec": {
   "display_name": "Python [conda env:notebook] *",
   "language": "python",
   "name": "conda-env-notebook-py"
  },
  "language_info": {
   "codemirror_mode": {
    "name": "ipython",
    "version": 3
   },
   "file_extension": ".py",
   "mimetype": "text/x-python",
   "name": "python",
   "nbconvert_exporter": "python",
   "pygments_lexer": "ipython3",
   "version": "3.6.7"
  }
 },
 "nbformat": 4,
 "nbformat_minor": 2
}
