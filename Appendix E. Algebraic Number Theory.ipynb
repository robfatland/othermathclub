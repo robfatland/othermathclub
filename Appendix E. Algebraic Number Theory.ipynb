{
 "cells": [
  {
   "cell_type": "markdown",
   "metadata": {},
   "source": [
    "## Introduction\n",
    "The purpose of this page is to wander a little way into the territory of Algebraic Number Theory. This is very dense material: The first three pages of the two books I am working from are taking me hours to understand. This is why mathematics has a reputation for difficulty... you can't really get started in a subject without some serious time on your hands to figure out the ideas and terminology. \n",
    "\n",
    "A note on number theory: This subject has to do with the properties of integers, often particularly with the mysterious prime numbers. As a starting point: Prove that there is an infinite number of prime numbers. Number theory has a usual flavor which involves **analysis**: limits, calculus, analytic functions, infinite series and such. In contrast **algebraic** number theory uses abstract algebra, particularly algebraic structures such as groups, rings, fields and vector spaces. \n",
    "\n",
    "## Basics of groups, rings, fields, vector spaces\n",
    "\n",
    "After Pierre Samuel _Algebraic Theory of Numbers_ (1970).\n",
    "\n",
    "We need working definitions of field, group, ring, vector space, and so forth. This is going to connect to the Galois stuff and some interesting chapters of Proofs from the Book.\n",
    "\n",
    "Group: A set with one binary operation corresponding to arithmetic addition. The group axioms are closure, associativity, identity and invertibility. Identity implies there is a unique Zero in the group. Invertibility implies you can always get to 0 by adding (a unique) -a to a. Notice this does not include commutation; add that to get an Abel-inspired Abelian group. Hence: What is purple and commutes? An Abelian grape. Symmetry groups (e.g. geometric rotations) are famously non-Abelian. What is purple but doesn't commute? A symmetric grape? \n",
    "\n",
    "A sub-group H of G is a non-empty subset of G that is also a group. Groups have order, aka cardinality sometimes written card(H) or card(G); and for a finite group G we have an *index* of H in G given by card(G)/card(H), abbreviated (G:H): Which will be an integer. The order of H divides the order of G when G is finite. \n",
    "\n",
    "Inverse implications: There is some arm-waving around whether inverses are additive or multiplicative… depending on the sense of the defined group operation. But the important point I want to make is that without commutation there is implicitly both a left inverse and a right inverse: x * a = b and a * x = b. In the first case x = b * (-a) and in the second case x = (-a) * b.\n",
    "\n",
    "Ring: A set with two binary operations da and bal: Generalizations from arithmetic addition and multiplication. A commutative ring is one in which a * b = b * a. Unity means there is a unit element 1 such that a * 1 = 1 * a = a.\n",
    "\n",
    "**Hence Rings are double-your-money over Groups: Two operations with closure and respective identity elements.**\n",
    "\n",
    "Field: A ring whose non-zero elements form an Abelian group under multiplication. Any field may be used as the scalars for a vector space. \n",
    "\n",
    "Vector space: A collection of objects called vectors that may be added together and that may be multiplied by scalars (so 'scaled'). Vector addition and scalar multiplication must satisfy the vector space axioms: \n",
    "\n",
    "* Associativity of addition\n",
    "* Commutativity of addition\n",
    "* Identity element of addition\n",
    "* Inverse elements of addition\n",
    "* Compatibility of scalar multiplication with field multiplication: (ab)v = a(bv)\n",
    "* Identity element of scalar multiplication\n",
    "* Distributivity of scalar multiplication with vector addition: a(u + v) = au + av\n",
    "* Distributivity of scalar multiplication with field addition: (a + b)v = av + bv"
   ]
  },
  {
   "cell_type": "markdown",
   "metadata": {
    "collapsed": true
   },
   "source": [
    "## What is a principal ideal ring?\n",
    "\n",
    "Now that we have the basics up above let's launch into Chapter 1 which defines Principal ideal rings.\n",
    "\n",
    "First we have a particular kind of ring: One with more than one element where the product of any two non-zero elements is not zero. This is called an *integral domain*. (Notice it behaves like the integers.)\n",
    "\n",
    "Let A be an integral domain, K its field of fractions, x and y elements of K. x divides y if there exists a in A such that y = ax. Equivalently: x is a divisor of y and y is a multiple of x. x | y means \"x goes into y\". \n",
    "\n"
   ]
  },
  {
   "cell_type": "code",
   "execution_count": null,
   "metadata": {
    "collapsed": true
   },
   "outputs": [],
   "source": []
  }
 ],
 "metadata": {
  "kernelspec": {
   "display_name": "Python 2",
   "language": "python",
   "name": "python2"
  },
  "language_info": {
   "codemirror_mode": {
    "name": "ipython",
    "version": 2
   },
   "file_extension": ".py",
   "mimetype": "text/x-python",
   "name": "python",
   "nbconvert_exporter": "python",
   "pygments_lexer": "ipython2",
   "version": "2.7.11"
  }
 },
 "nbformat": 4,
 "nbformat_minor": 0
}
