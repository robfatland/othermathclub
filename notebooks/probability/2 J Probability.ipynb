{
 "cells": [
  {
   "cell_type": "markdown",
   "metadata": {},
   "source": [
    "# Probability and Combinatorics 2"
   ]
  },
  {
   "cell_type": "code",
   "execution_count": null,
   "metadata": {
    "collapsed": true
   },
   "outputs": [],
   "source": []
  },
  {
   "cell_type": "markdown",
   "metadata": {
    "collapsed": true
   },
   "source": [
    "*the probability of winding up in interesting and dangerous places increases with your skill in mathematics*\n",
    "\n",
    "\n",
    "### Friendly introduction\n",
    "\n",
    "\n",
    "This is where the sidewalk ends... after here is under construction; proceed at your own risk.\n",
    "\n",
    "\n",
    "- Yes the Combination formula works but *why* does it work? \n",
    "- The payoff of the set-counting problem but not a proof; just empirical\n",
    "- Binary notation (this goes ABA with subset-counting)\n",
    "- The ABA rejoinder on subset counting\n",
    "- carnival problems\n",
    "- The statement of the drunken sailor problem maybe? A start on this is below\n",
    "- Bill Grogan's goat in multiple dimensions\n",
    "- The triangular frame \n",
    "\n",
    "\n",
    "\n",
    "### Dizzy sailor migrated to Monte Carlo but could use an echo here"
   ]
  },
  {
   "cell_type": "code",
   "execution_count": null,
   "metadata": {
    "collapsed": true
   },
   "outputs": [],
   "source": []
  }
 ],
 "metadata": {
  "kernelspec": {
   "display_name": "Python 2",
   "language": "python",
   "name": "python2"
  },
  "language_info": {
   "codemirror_mode": {
    "name": "ipython",
    "version": 2
   },
   "file_extension": ".py",
   "mimetype": "text/x-python",
   "name": "python",
   "nbconvert_exporter": "python",
   "pygments_lexer": "ipython2",
   "version": "2.7.14"
  }
 },
 "nbformat": 4,
 "nbformat_minor": 2
}
