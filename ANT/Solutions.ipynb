{
 "cells": [
  {
   "cell_type": "markdown",
   "id": "c8f08ca6-dd55-4a0c-9194-02a4eeddf4dc",
   "metadata": {},
   "source": [
    "# I-to-ANT Solutions\n",
    "\n",
    "## Chapter 1\n",
    "\n",
    "## Chapter 2\n",
    "\n",
    "### 2.1\n",
    "\n",
    "### 2.2\n",
    "\n",
    "### 2.3\n",
    "\n",
    "### 2.4"
   ]
  },
  {
   "cell_type": "markdown",
   "id": "aae405e1-3e27-437c-9eae-f2fc6ec1b42c",
   "metadata": {},
   "source": [
    "### 2.5\n",
    "\n",
    "Show the Dirichlet product $f = \\mu * \\nu$ is 0 or 1, where $\\nu(n)$ is the number of distinct prime factors\n",
    "and particularly $\\nu(1)=0$. \n",
    "\n",
    "\n",
    "For later use: Define an alternating-sign weighted sum of binomial coefficients as $A_a = \\sum_{i = 0}^{k} {-1}^i \\cdot \\binom k i \\cdot i^a$. \n",
    "Then\n",
    "\n",
    "\\begin{equation}\n",
    "A_0 = \\sum_{i=0}^k {-1}^i \\cdot \\binom k i  = 0\n",
    "\\end{equation}\n",
    "\n",
    "\\begin{equation}\n",
    "A_1 = \\sum_{i=0}^k {-1}^i \\cdot \\binom k i \\cdot i  = 0\n",
    "\\end{equation}\n",
    "\n",
    "\n",
    "Write this in better: Here $k > 1$. When $k = 1$ we have the exception that $A_1 = -1$. \n",
    "\n",
    "\n",
    "As $f(1) = 0$ we can advance to $n > 1$ where $n = \\prod_{i=1}^k {p_i}^{a_i}$; and note $k \\ge 1$.\n",
    "\n",
    "\n",
    "\n",
    "Define $m$ as the number of prime factors of $n$ that are raised to a power greater than 1.\n",
    "For example $360 = 2^3 \\cdot 3^2 \\cdot 5^1$ has $m=2$. \n",
    "This is motivated by terms in the Dirichlet convolution sum where the divisor $d$ includes some\n",
    "prime factor ${p_i}^1$ and with $a_i > 1$ also contributes to\n",
    "the complementary divisor $\\frac{n}{d}$.\n",
    "That is, we attend to\n",
    "the $m$ primes that contribute to both $d$ and $n/d$.\n",
    "Note also that the $\\mu * \\nu (n)$ sum over divisors $d|n$ \n",
    "will contribute only when $d$ is square-free.\n",
    "\n",
    "The divisors $d$ of $n$ that are square free correspond to\n",
    "\n",
    "\\begin{equation}\n",
    "\\prod_{i=1}^{k}(1+p_i)=1 + p_1 + p_2 + \\dots + p_k + p_1 \\cdot p_2 + \\dots + p_{k-1} \\cdot p_{k} + \\dots + p_1 \\cdot p_2 \\cdot p_3 \\cdots p_k.\n",
    "\\end{equation}\n",
    "\n",
    "\n",
    "This sum can be grouped by 'number of prime factors' $G = \\{ 0, 1, 2, ..., k \\} = \\{ g_i \\}$ with\n",
    "a corresponding number of terms in each group $\\binom k g$.\n",
    "\n",
    "\n",
    "\\begin{equation}\n",
    "f = \\mu * \\nu = \\sum_{i=0}^{k} \\sum_{j=1}^{\\binom k i} \\mu(d_{ij}) \\cdot \\nu(\\frac{n}{d_{ij}}) \n",
    "\\end{equation}\n",
    "\n",
    "\n",
    "When $m = 0$ the number $n$ is the product of a set of distinct primes. In this case the value\n",
    "of $\\nu(n/d)$ will be a constant $(k - i)$ for group $i$ and the above sum becomes\n",
    "\n",
    "\n",
    "\\begin{equation}\n",
    "f = \\mu * \\nu = \\sum_{i=0}^{k} {\\binom k i} \\cdot ({-1}^i) \\cdot (k - i) \n",
    "\\end{equation}\n"
   ]
  },
  {
   "cell_type": "markdown",
   "id": "59acccb9-5200-441d-994e-5ec8c64ec743",
   "metadata": {},
   "source": [
    "With $k = 1$: $n$ is prime and $f(p) = 1 \\cdot 1 \\cdot 1 + 1 \\cdot -1 \\cdot 0 = 1$. This corresponds to\n",
    "the special case for $A_1$ mentioned above. \n",
    "\n",
    "\n",
    "With $k > 1$ and $m$ still $0$ we have equivalence by symmetry to $A_1$:\n",
    "\n",
    "\\begin{equation}\n",
    "f = \\mu * \\nu = \\sum_{i=0}^{k} {\\binom k i} \\cdot ({-1}^i) \\cdot (k - i) = \\sum_{i=0}^{k} {-1}^i \\cdot {\\binom k i} \\cdot i = 0.\n",
    "\\end{equation}\n",
    "\n",
    "\n",
    "When $m$ is greater than $0$ the value of $\\nu(\\frac{n}{d})$ varies from one group term to another depending on ..."
   ]
  }
 ],
 "metadata": {
  "kernelspec": {
   "display_name": "Python 3 (ipykernel)",
   "language": "python",
   "name": "python3"
  },
  "language_info": {
   "codemirror_mode": {
    "name": "ipython",
    "version": 3
   },
   "file_extension": ".py",
   "mimetype": "text/x-python",
   "name": "python",
   "nbconvert_exporter": "python",
   "pygments_lexer": "ipython3",
   "version": "3.9.12"
  }
 },
 "nbformat": 4,
 "nbformat_minor": 5
}
