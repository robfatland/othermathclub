{
 "cells": [
  {
   "cell_type": "markdown",
   "id": "1a69a877-08ea-45c6-a43b-4af7fc876853",
   "metadata": {},
   "source": [
    "# Sodium Project\n",
    "\n",
    "\n",
    "## On the Recurring Theme of Distributed Information\n",
    "\n",
    "\n",
    "> See the sad shire horses walking home beneath the sodium lights... <br>\n",
    "> ...Men go crazy in congregations, they only get better one by one. <br>\n",
    ">              -Sting (with a nod to Charles Mackay)\n",
    "\n",
    "\n",
    "### Topic outline\n",
    "\n",
    "\n",
    "* The 2 Prisoner Gold Key Problem\n",
    "    * Parity sets, exclusive-OR: addition is the same as subtraction\n",
    "    * There are many approaches to encoding; the clever one uses a calculated binary address\n",
    "* The notion of orthogonal functions\n",
    "    * ...begins with the extension of the concept of multiplication\n",
    "* Spectra\n",
    "    * Decomposition\n",
    "        * perception of rainbows\n",
    "    * metallicity\n",
    "        * Kirkhoff and Frauenhofer\n",
    "        * Sodium flames\n",
    "        * Three principles of emission and absorption\n",
    "* Periodic table of elements\n",
    "    * Orbitals arise from three-dimensional orthogonality\n",
    "    * Additional detail of fermions (spin 1/2)\n",
    "    * Energy minimization\n",
    "* Fourier series, Fourier transforms, the FFT\n",
    "    * How Kelvin used Fourier's work to calculate the age of the earth\n",
    "        * Digression on deep time\n",
    "    * Fourier transforms are closer than we might think...\n",
    "        * ...hearing, vision, crystal structure of Sodium Chloride with X-ray diffraction\n",
    "* Convolution\n",
    "    * matched filter processing e.g. SAR range lines\n",
    "    * neural networks, CNNs\n",
    "    * extension to NLP"
   ]
  },
  {
   "cell_type": "markdown",
   "id": "e0545214-9097-4243-9439-a8567de4fd67",
   "metadata": {},
   "source": [
    "### Oceanic tectonics\n",
    "\n",
    "* Island arcs begin in Hawaii\n",
    "* Magnetic striping of the sea floor\n",
    "* [Article on Strontium printing from seawater to rock](https://docs.google.com/document/d/1ZKeUOqxeoNBBLPfSSCYOwmM6jHQmXkMI7XKFbJMBRVk/edit)"
   ]
  },
  {
   "cell_type": "code",
   "execution_count": null,
   "id": "132771f9-4bea-41c6-87e7-a3de04b2ba1a",
   "metadata": {},
   "outputs": [],
   "source": []
  }
 ],
 "metadata": {
  "kernelspec": {
   "display_name": "Python 3 (ipykernel)",
   "language": "python",
   "name": "python3"
  },
  "language_info": {
   "codemirror_mode": {
    "name": "ipython",
    "version": 3
   },
   "file_extension": ".py",
   "mimetype": "text/x-python",
   "name": "python",
   "nbconvert_exporter": "python",
   "pygments_lexer": "ipython3",
   "version": "3.12.3"
  }
 },
 "nbformat": 4,
 "nbformat_minor": 5
}
