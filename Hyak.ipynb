{
 "cells": [
  {
   "cell_type": "markdown",
   "id": "1417e44c-e896-40e5-865e-f32753281acc",
   "metadata": {},
   "source": [
    "    - miniforge\n",
    "        - `at loop_array_123456789_0.out\n",
    " \n",
    "source \"${HOME}/mi`r    - [VS Code via ProxyJump]( conda directory as necessary\n",
    " \n",
    "https://hyak.uw.edu/docs/to)nda activation environment_name\n",
    " "
   ]
  },
  {
   "cell_type": "markdown",
   "id": "b8a51551-3d0c-4992-9e05-f6ec3f8d8d13",
   "metadata": {},
   "source": [
    "- `watch -n 10 squeue -u` to monitor the Slurm `squeue` on a second terminal\n",
    "- `salloc --account=acct --partition=part --cpus-per-task=1 --mem=10G --time=2:00:00`\n",
    "    - The Checkpoint global partition is `ckpt-all`\n",
    "    - There is `--gpus=1` as well as `--gpus-per-node=a40:1`\n",
    "- `sinfo -p ckpt-all -O nodehost,cpusstate,freemem,gres,gresused -S nodehost | grep -v null`\n",
    "    - See what GPUs are available\n",
    "- bash script: `time ./loop_script.sh 0 10000000`\n",
    "- slurm script: `sbatch loop_job.slurm` or for an array `sbatch loop_array.slurm`\n",
    "- job output: `cd log; cat job_jobnumber_index.out`\n",
    "- miniforge: `source \"${HOME}/miniforge3/etc/profile.d/conda.sh\"`\n",
    "- [VSCode via ProxyJump](https://hyak.uw.edu/docs/tools/vsc-proxy-jump#configure-ssh)\n",
    "- activate a conda environment within a Slurm script\n",
    "    - `eval \"$(conda shell.bash hook)\"`\n",
    "    - `conda activate env_name`\n",
    "    "
   ]
  }
 ],
 "metadata": {
  "kernelspec": {
   "display_name": "Python 3 (ipykernel)",
   "language": "python",
   "name": "python3"
  },
  "language_info": {
   "codemirror_mode": {
    "name": "ipython",
    "version": 3
   },
   "file_extension": ".py",
   "mimetype": "text/x-python",
   "name": "python",
   "nbconvert_exporter": "python",
   "pygments_lexer": "ipython3",
   "version": "3.12.3"
  }
 },
 "nbformat": 4,
 "nbformat_minor": 5
}
