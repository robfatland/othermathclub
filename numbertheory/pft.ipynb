{
 "cells": [
  {
   "cell_type": "markdown",
   "metadata": {},
   "source": [
    "# **Prime Factorization Theorem** \n",
    "\n",
    "\n",
    "*Proposition: Any positive integer greater than 1 has a unique prime factorization.*\n",
    "\n",
    "\n",
    "A proof by contradiction follows: We assume the theorem is *false* and arrive at a contradiction that invalidates this assumption.\n",
    "\n",
    "\n",
    "Before starting, a remark on proofs. A proof is an argument for something in mathematics to be true based on some assumed circumstances,\n",
    "usually expressed in terms of definitions. Proofs are considered by mathematicians to be important, interesting, illuminating, and\n",
    "sometimes even elegant or beautiful.\n",
    "\n",
    "\n",
    "Definition: A unique prime factorization of a number $N$ is a set of prime numbers whose product is $N$. I will write \n",
    "this set as $\\lbrace f(N) \\rbrace$.\n",
    "\n",
    "\n",
    "Convention: The numbers here are positive integers.\n",
    "\n",
    "\n",
    "Suppose the proposition is false and there are positive integers with two or more distinct prime factorizations.\n",
    "Then there must be a smallest such number, say $N$, such that any number less than $N$ has only one prime factorization.\n",
    "\n",
    "\n",
    "Write $N$ in terms of two prime factorizations: $N = \\alpha \\cdot A = \\beta \\cdot B$. We take $\\alpha$ and $\\beta$\n",
    "to be distinct prime factors of $N$ with $A$ and $B$ the respective products of the remaining factors. We can choose\n",
    "to label these two factorizations so that $\\alpha < \\beta$.\n",
    "\n",
    "\n",
    "From these initial circumstances observe that\n",
    "$\n",
    "\\lbrace f(A) \\rbrace \\ \\bigcap \\ \\lbrace f(B) \\rbrace = \\emptyset\n",
    "$\n",
    "and that $N$, $\\alpha$, $A$, $\\beta$, and $B$ are all odd numbers; as all even numbers must include $2$ in their prime factorization.\n",
    "\n",
    "\n",
    "Since $\\alpha < \\beta$ and $\\alpha A = \\beta B$ it must be the case that $A > B$. Furthermore both $A - B$ and $\\beta - \\alpha$ are positive even numbers. Let $\\beta = \\alpha + 2 r$ and $A = B + 2 q$. \n",
    "(Introducing positive integers $q$ and $r$ is a means of sharpening the evolving picture.)\n",
    "\n",
    "\n",
    "Now substituting these expressions we have $N = \\alpha (B + 2 q) = (\\alpha + 2 r) B$ so $\\alpha B + 2 q \\alpha = \\alpha B + 2 r B$. Subtracting $\\alpha B$ and \n",
    "dividing by $2$ produces a new number written two ways which must necessarily be less than $N$.\n",
    "\n",
    "\n",
    "$$(q \\alpha = r B) < N$$\n",
    "\n",
    "\n",
    "This number smaller than $N$ has only\n",
    "one prime factorization. Since $\\alpha$ is not a factor of $B$ it must be a factor of $r$ so we can write $r = s \\alpha$ for some $s > 0$.\n",
    "\n",
    "\n",
    "Now that we have this chain of connections in place, facilitated by introducing abstract values $q$, $r$ and $s$, we can return to the second original expression for $N$.\n",
    "\n",
    "\n",
    "$N = \\beta B = (\\alpha + 2 r) B = (\\alpha + 2 s \\alpha) B = \\alpha (1 + 2 s) B$\n",
    "\n",
    "\n",
    "This implies $\\beta = \\alpha (1 + 2s)$; $\\beta$\n",
    "is composite when it is defined to be a prime. The supposition of numbers with more than one unique factorization has led to a contradiction. $\\boxdot$"
   ]
  },
  {
   "cell_type": "code",
   "execution_count": null,
   "metadata": {},
   "outputs": [],
   "source": []
  }
 ],
 "metadata": {
  "anaconda-cloud": {},
  "kernelspec": {
   "display_name": "Python 3 (ipykernel)",
   "language": "python",
   "name": "python3"
  },
  "language_info": {
   "codemirror_mode": {
    "name": "ipython",
    "version": 3
   },
   "file_extension": ".py",
   "mimetype": "text/x-python",
   "name": "python",
   "nbconvert_exporter": "python",
   "pygments_lexer": "ipython3",
   "version": "3.9.12"
  }
 },
 "nbformat": 4,
 "nbformat_minor": 4
}
