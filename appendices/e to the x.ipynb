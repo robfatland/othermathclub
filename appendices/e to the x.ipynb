{
 "cells": [
  {
   "cell_type": "markdown",
   "metadata": {},
   "source": [
    "# e to the x... aka $e^x$"
   ]
  },
  {
   "cell_type": "code",
   "execution_count": null,
   "metadata": {
    "collapsed": true
   },
   "outputs": [],
   "source": []
  },
  {
   "cell_type": "markdown",
   "metadata": {},
   "source": [
    "*kilroy caption*\n",
    "\n",
    "\n",
    "### Friendly introduction\n",
    "\n",
    "\n",
    "Early on we found examples of something unknown -- call it $X$ -- built into itself. \n",
    "\n",
    "\n",
    "As a first example Mister Halfway travels an infinite journey; so let's call that **J** for journey. \n",
    "This begins with an initial leg followed by... here it comes... the rest of the journey is a smaller version \n",
    "itself: **J** lives within **J**.\n",
    "\n",
    "\n",
    "A second example: There is an infinite pattern of triangles built into the even-odd pattern of Meru Prastarah. \n",
    "As our view of the mountain (Mount Meru) gets larger and larger we see the basic pattern repeats larger \n",
    "and larger as well. \n",
    "\n",
    "\n",
    "Egon's painting on the town square has the pattern of triangles within itself. \n",
    "\n",
    "\n",
    "If all of this sounds familiar: Great. If it is unfamiliar: Check out \n",
    "the notebooks on **infinity**, **Monte Carlo** and **Meru Prastarah**.\n",
    "\n",
    "\n",
    "The goal of *this* notebook is to explore a new function. I leave it to you to guess whether that \n",
    "function has some of this copy of itself inside itself or not. Our plan is to...\n",
    "\n",
    "\n",
    "- name the new function (see the title)\n",
    "- define what it is using infinity\n",
    "- find that it is built into itself\n",
    "- play with some code that allows us to see how the function works\n",
    "- extend the idea to a new kind of number\n",
    "\n",
    "\n",
    "Let's start with this word *function*. \n",
    "\n",
    "\n",
    "A function is a machine of sorts. You drop one or more things in... and you get one or more things out. The \n",
    "most familiar function is the addition function. You drop in two numbers $a$ and $b$ and you get a new number \n",
    "out, $a+b$.\n",
    "\n",
    "\n",
    "Let's do another: Drop in some number and this time I'll call it $x$. Multiply $x$ by $3$ and add $4$.\n",
    "No worries. This function produces the number $7$ when we drop in $1$ for $x$. We use $x$ to mean 'any number you like'\n",
    "and so it is abstract. \n",
    "\n",
    "\n",
    "In school things can get confusing when they get abstract. I'm going to tell you something about abstraction \n",
    "that may or may not help: Learning to think abstractly is the heart and soul of mathematical thinking. \n",
    "Furthermore it is very useful to remember the following principle: \n",
    "\n",
    "\n",
    "> When something abstract is true: It must be true for anything definite.\n",
    "\n",
    "\n",
    "This means that if I am having a hard time understanding something abstract (say using $x$) then I am\n",
    "very happy to choose something definite to verify that it works. So I may say 'let's set $x$ equal to $0$\n",
    "and see what happens.' In fact I may try out two or three or ten definite values for $x$ to try and see\n",
    "how the abstract pattern works. \n",
    "\n",
    "\n",
    "Ok so now to the function 'e to the x'. What does this mean? Well it is obviously abstract and it looks \n",
    "like it has two numbers going in: $e$ and $x$. And it sounds like $x$ is an exponent of $e$. This is \n",
    "all correct. \n",
    "\n",
    "\n",
    "e to the x only has one 'anything you like' input, which is $x$. The $e$ part is already figured out. \n",
    "It is a definite number, like $\\pi$. It is a *real* number and it is approximately $2.7$. What is \n",
    "peculiar about $e$ is that it is special. It is a little harder to find than $pi$ is; but there it is, \n",
    "a new number to put in your mathematical vocabulary called $e$. \n",
    "\n",
    "\n",
    "### Technical introduction\n",
    "\n",
    "\n",
    "This page is source material for our eventual convergence on the Julia and Mandelbrot set construction. \n",
    "\n"
   ]
  },
  {
   "cell_type": "code",
   "execution_count": 2,
   "metadata": {},
   "outputs": [
    {
     "data": {
      "application/vnd.jupyter.widget-view+json": {
       "model_id": "7bdd22d862a841dea0d503ed207475ba",
       "version_major": 2,
       "version_minor": 0
      },
      "text/plain": [
       "interactive(children=(IntSlider(value=0, continuous_update=False, description='tensDigit', max=9), IntSlider(v…"
      ]
     },
     "metadata": {},
     "output_type": "display_data"
    },
    {
     "data": {
      "text/plain": [
       "<function __main__.e_to_the_x(tensDigit, onesDigit, tenthsDigit, nFractions)>"
      ]
     },
     "execution_count": 2,
     "metadata": {},
     "output_type": "execute_result"
    }
   ],
   "source": [
    "%matplotlib inline\n",
    "import numpy as np\n",
    "from ipywidgets import *\n",
    "from traitlets import dlink\n",
    "import matplotlib.pyplot as plt\n",
    "\n",
    "\n",
    "def factorial(n):\n",
    "    f = 1.\n",
    "    if n == 0 or n == 1: return f\n",
    "    for i in range(2, n+1):\n",
    "        f*=i\n",
    "    return f\n",
    "\n",
    "def e_to_the_x(tensDigit, onesDigit, tenthsDigit, nFractions):\n",
    "    top = []\n",
    "    bottom = []\n",
    "    fractions = []\n",
    "    sums = []\n",
    "    x = tensDigit * 10.0 + onesDigit + tenthsDigit/10.\n",
    "    ex = 0\n",
    "    for i in range(nFractions):\n",
    "        numerator = np.power(x, i)\n",
    "        denominator = factorial(i)\n",
    "        ex += numerator/denominator\n",
    "        top.append(numerator)\n",
    "        bottom.append(denominator)\n",
    "        fractions.append(numerator/denominator)\n",
    "        sums.append(ex)\n",
    "    print(x,ex)\n",
    "    \n",
    "    # plt.subplots returns a tuple: A general-context figure and a list of sub-plots assigned to axes\n",
    "    fig, axes = plt.subplots(2, figsize=(10,16))\n",
    "    axisTopBottom = axes[0]    \n",
    "    axisFractions = axes[1]\n",
    "    \n",
    "    axisTopBottom.plot(np.log(np.log(top)), 'b')\n",
    "    axisTopBottom.plot(np.log(np.log(bottom)), 'r')\n",
    "    axisFractions.plot(fractions, 'orange')\n",
    "    axisFractions.plot(sums, 'g')\n",
    "    \n",
    "    axisTopBottom.set(ylim=(0.0, np.log(np.log(bottom[-1]))))\n",
    "\n",
    "    return \n",
    "\n",
    "\n",
    "# this sets up the controls: 2 sliders plus the checkbox\n",
    "interact(e_to_the_x, \\\n",
    "         tensDigit=widgets.IntSlider(min=0,max=9,step=1,value=0,continuous_update=False),\\\n",
    "         onesDigit=widgets.IntSlider(min=0,max=9,step=1,value=1,continuous_update=False),\\\n",
    "         tenthsDigit=widgets.IntSlider(min=0,max=9,step=1,value=0,continuous_update=False),\\\n",
    "         nFractions=widgets.IntSlider(min=1,max=50,step=1,value=10,continuous_update=False)\\\n",
    "        )"
   ]
  },
  {
   "cell_type": "code",
   "execution_count": null,
   "metadata": {
    "collapsed": true
   },
   "outputs": [],
   "source": []
  }
 ],
 "metadata": {
  "kernelspec": {
   "display_name": "Python [conda env:notebook] *",
   "language": "python",
   "name": "conda-env-notebook-py"
  },
  "language_info": {
   "codemirror_mode": {
    "name": "ipython",
    "version": 3
   },
   "file_extension": ".py",
   "mimetype": "text/x-python",
   "name": "python",
   "nbconvert_exporter": "python",
   "pygments_lexer": "ipython3",
   "version": "3.6.7"
  }
 },
 "nbformat": 4,
 "nbformat_minor": 2
}
