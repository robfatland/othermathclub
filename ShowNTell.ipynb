{
 "cells": [
  {
   "cell_type": "markdown",
   "id": "8e6b8e2b-9c76-4a18-887a-f73b9c4ed7c0",
   "metadata": {},
   "source": [
    "# Show N Tell"
   ]
  },
  {
   "cell_type": "markdown",
   "id": "e9ca68a3-dd61-4012-be5e-43b8e0856715",
   "metadata": {},
   "source": [
    "Q: What is faster than the speed of light? \n",
    "\n",
    "\n",
    "A: The speed of dark. "
   ]
  },
  {
   "cell_type": "markdown",
   "id": "83e2c014-22b7-4ae4-8668-ecd3f61fa12e",
   "metadata": {},
   "source": [
    "> It is our responsibility as scientists, knowing the great progress which comes\n",
    "> from **a satisfactory philosophy of ignorance**, the great progress which is\n",
    "> the fruit of freedom of thought, to proclaim the value of this freedom; to teach\n",
    "> how doubt is not to be feared but welcomed and discussed; and to demand this\n",
    "> freedom as our duty to all coming generations. <BR>\n",
    ">     - Richard Feynman, from 'What Do You Care What Other People Think?'"
   ]
  },
  {
   "cell_type": "markdown",
   "id": "cbe38c67-d4e9-4047-858d-381ce3b1567a",
   "metadata": {},
   "source": [
    "**My objective here is to present some aspects of a STEM outreach program and ask you 'What does \n",
    "this suggest? Where do you see room for emphasis? What missing pieces?'**"
   ]
  },
  {
   "cell_type": "markdown",
   "id": "123b72e2-61f2-4e2a-9ba8-8f7eaee92c8a",
   "metadata": {},
   "source": [
    "Towards sketching the program: A thought to rival the Fermi paradox:\n",
    "\n",
    "\n",
    "$$\\textrm{Where is everybody?}$$\n",
    "\n",
    "\n",
    "everybody $\\equiv$ an unshakeable majority of people who understand this *doubt* \n",
    "business in relation to *reliability*. \n",
    "\n",
    "\n",
    "I have in mind: How the human-built world \n",
    "systematically relies on doubt-and-ignorance-fuelled science.\n",
    "\n",
    "\n",
    "Why do we even *know* that there are flat-earthers, anti-vaxxers,\n",
    "and creationists? ...who regularly drive cars, watch television \n",
    "programs, post selfies on instagram and submit to blood tests in the\n",
    "course of an annual physical...\n",
    "\n",
    "\n",
    "The resolution of this mystery I think is articulated in the following interview."
   ]
  },
  {
   "cell_type": "code",
   "execution_count": 19,
   "id": "1b99fe62-c94c-4359-aa14-1131c6192c5f",
   "metadata": {
    "tags": []
   },
   "outputs": [],
   "source": [
    "from IPython.display import Image, YouTubeVideo\n",
    "# YouTubeVideo('f9A_qFM9IAk')\n",
    "# while if one were hoping to find a conspiracy theory take... https://youtu.be/sNXHSMmaq_s"
   ]
  },
  {
   "cell_type": "code",
   "execution_count": 25,
   "id": "a19f47c0-b23f-41d3-b412-cfded285e9b2",
   "metadata": {
    "tags": []
   },
   "outputs": [
    {
     "name": "stdout",
     "output_type": "stream",
     "text": [
      "-                                                                    @                                                                     \n",
      "a                                                                  @   @                                                                   \n",
      "b                                                                @       @                                                                 \n",
      "c                                                              @   @   @   @                                                               \n",
      "d                                                            @               @                                                             \n",
      "e                                                          @   @           @   @                                                           \n",
      "f                                                        @       @       @       @                                                         \n",
      "g                                                      @   @   @   @   @   @   @   @                                                       \n",
      "h                                                    @                               @                                                     \n",
      "i                                                  @   @                           @   @                                                   \n",
      "j                                                @       @                       @       @                                                 \n",
      "k                                              @   @   @   @                   @   @   @   @                                               \n",
      "l                                            @               @               @               @                                             \n",
      "m                                          @   @           @   @           @   @           @   @                                           \n",
      "n                                        @       @       @       @       @       @       @       @                                         \n",
      "o                                      @   @   @   @   @   @   @   @   @   @   @   @   @   @   @   @                                       \n",
      "p                                    @                                                               @                                     \n",
      "q                                  @   @                                                           @   @                                   \n",
      "r                                @       @                                                       @       @                                 \n",
      "s                              @   @   @   @                                                   @   @   @   @                               \n",
      "t                            @               @                                               @               @                             \n",
      "u                          @   @           @   @                                           @   @           @   @                           \n",
      "v                        @       @       @       @                                       @       @       @       @                         \n",
      "w                      @   @   @   @   @   @   @   @                                   @   @   @   @   @   @   @   @                       \n",
      "x                    @                               @                               @                               @                     \n",
      "y                  @   @                           @   @                           @   @                           @   @                   \n",
      "z                @       @                       @       @                       @       @                       @       @                 \n",
      "0              @   @   @   @                   @   @   @   @                   @   @   @   @                   @   @   @   @               \n",
      "1            @               @               @               @               @               @               @               @             \n",
      "2          @   @           @   @           @   @           @   @           @   @           @   @           @   @           @   @           \n",
      "3        @       @       @       @       @       @       @       @       @       @       @       @       @       @       @       @         \n",
      "4      @   @   @   @   @   @   @   @   @   @   @   @   @   @   @   @   @   @   @   @   @   @   @   @   @   @   @   @   @   @   @   @       \n",
      "5    @                                                                                                                               @     \n",
      "6  @   @                                                                                                                           @   @   \n"
     ]
    }
   ],
   "source": [
    "def xor(a, b): return 1 if (a and not b) or (b and not a) else 0\n",
    "    \n",
    "def MyPrint(u, s=''): \n",
    "    for i in range(len(u)): s += '  ' if u[i] == 0 else '@ '\n",
    "    print(s); return\n",
    "        \n",
    "u = [0]*33 + [1] + [0]*34\n",
    "MyPrint(u, \"-  \")\n",
    "for g in 'abcdefghijklmnopqrstuvwxyz0123456':\n",
    "    v = [xor(u[i-1], u[i+1]) for i in range(0, len(u)-1)]; v.append(u[-1])\n",
    "    u = v\n",
    "    MyPrint(u, g + \"  \")"
   ]
  },
  {
   "cell_type": "markdown",
   "id": "2c05fc55-2d1d-4c48-8a20-d018b40d8607",
   "metadata": {},
   "source": [
    "### More sketching\n",
    "\n",
    "\n",
    "- Google interview questions serve what purpose?\n",
    "\n",
    "- What is a good reason to learn the quadratic formula?\n",
    "\n",
    "- Who is the best geologist?\n",
    "\n",
    "- What makes for a good set of guidestars?"
   ]
  },
  {
   "cell_type": "markdown",
   "id": "4ede8458-371f-4a1f-9d98-e8231086373c",
   "metadata": {},
   "source": [
    "### Some guidestars\n",
    "\n",
    "\n",
    "\n",
    "- SPoI -RPF\n",
    "- The Unreliable Narrator makes a dramatic appearance!\n",
    "- Experimentation >> syntax\n",
    "- How we learn to talk\n",
    "- Self-expression, articulation\n",
    "- Engagement first (Kinesthetics always win)\n",
    "\n",
    "\n",
    "### What does it mean: Fuse programming / coding with ideas?\n",
    "\n",
    "\n",
    "- The playground is $meta^{n}$\n",
    "    - $\\infty$ ideas\n",
    "        - problems, puzzles, challenges, tasks\n",
    "            - adaptation/matching to the learner\n",
    "                - potential for experimentation \n",
    "                    - categories, themes: organization is aspirational\n",
    "                        - some sort of philosophy of learning"
   ]
  },
  {
   "cell_type": "markdown",
   "id": "36156a16-e9d8-4071-9384-257cf393b790",
   "metadata": {},
   "source": [
    "# Concept Space\n",
    "\n",
    "\n",
    "Suppose some middle schoolers showed up at your door demanding to be taught Python\n",
    "so they could apply for jobs at facebook: What would you do? \n",
    "\n",
    "\n",
    "One option is to start by lying to them as follows: \"Absolutely! Let's learn Python; \n",
    "for facebook developers (the ones who are paid a lot) often run into the following\n",
    "problem: A duck finds itself at the center of a circular pond. It is only capable of\n",
    "taking flight when it is standing on solid ground; but there is a wolf circling the \n",
    "permiter of the pond and it seems to be salivating. The wolf runs at a speed of \n",
    "4 meters per second and the duck swims at a rate of 1 meter per second. Is there a\n",
    "strategy by means of which the duck can safely reach the edge of the pond and \n",
    "thereby fly away? Let us reason together about this problem to increase your \n",
    "readiness to work at facebook.\"\n",
    "\n",
    "\n",
    "\n",
    "## Framework / Themes\n",
    "\n",
    "\n",
    "- The Unreliable Narrator (versus the Trust Contract in K12)\n",
    "- Climb It metaphor: Perception of the unknown as impossible\n",
    "- Curse of knowledge\n",
    "- Spirals: Ulam, Fibonacci, bugs, *Conus textile*\n",
    "- Incongruous thoughts: The Hilbert hotel, $\\pi$ knows where my keys are, and more \n",
    "- Deconstructing the familiar: Rainbows, interstellar space, ribosomes (kinesthetics)\n",
    "- Cellular automata (and neurotoxins)\n",
    "- Logic\n",
    "- Metrics\n",
    "- Paradoxical ideas... like for example the speed of dark\n",
    "\n",
    "\n",
    "## Problems\n",
    "\n",
    "\n",
    "- Chocolate bar\n",
    "- Hiker\n",
    "- Chaos game\n",
    "- Four Bugs\n",
    "- The Duck and the Wolf\n",
    "- Poker Chips\n",
    "- Gold Key Escape\n",
    "- XOR Universe\n",
    "- Flipping Locks\n",
    "- 4 Prisoners 4 Hats\n",
    "- $2^n-1$ L-tiling proof\n",
    "- Ring of Numbers\n",
    "- Calculate $\\pi$ with darts\n",
    "- Graph theory: Maps of not-graph-y things (gallon puzzles, hexahexaflexagons)\n",
    "- Ms Halfway\n",
    "\n",
    "\n",
    "## Coding\n",
    "\n",
    "\n",
    "- What is the \"launch pad\" space of Python coding?\n",
    "- What aspects of coding are big enthusiasm generators?\n"
   ]
  },
  {
   "cell_type": "code",
   "execution_count": 18,
   "id": "ac45e784-9eff-4997-a58b-fc604e54772f",
   "metadata": {
    "jupyter": {
     "source_hidden": true
    }
   },
   "outputs": [
    {
     "data": {
      "text/plain": [
       "Text(40, 85, 'What we set up')"
      ]
     },
     "execution_count": 18,
     "metadata": {},
     "output_type": "execute_result"
    },
    {
     "data": {
      "image/png": "[encoded data removed]",
      "text/plain": [
       "<Figure size 640x480 with 1 Axes>"
      ]
     },
     "metadata": {},
     "output_type": "display_data"
    }
   ],
   "source": [
    "from showntell import DrawPerson\n",
    "ax = DrawPerson(7, 30, 60)\n",
    "ax = DrawPerson(50, 30, 40)\n",
    "ax.plot([0,72,74,90], [27, 27, 32, 32])\n",
    "ax.text(80, 33, 'Task')\n",
    "ax.text(40, 85, 'What we set up', size=20)"
   ]
  },
  {
   "cell_type": "code",
   "execution_count": 17,
   "id": "19f43ca9-b3e2-4f77-9473-addd0da0f69e",
   "metadata": {
    "jupyter": {
     "source_hidden": true
    }
   },
   "outputs": [
    {
     "data": {
      "text/plain": [
       "Text(-80, 135, 'What they see')"
      ]
     },
     "execution_count": 17,
     "metadata": {},
     "output_type": "execute_result"
    },
    {
     "data": {
      "image/png": "[encoded data removed]",
      "text/plain": [
       "<Figure size 640x480 with 1 Axes>"
      ]
     },
     "metadata": {},
     "output_type": "display_data"
    }
   ],
   "source": [
    "from showntell import DrawPerson\n",
    "ax = DrawPerson(7, 30, 60)\n",
    "ax = DrawPerson(50, 30, 40)\n",
    "ax.plot([0,72,74,90], [27, 27, 210, 210])\n",
    "ax.text(96, 205, 'Task')\n",
    "ax.text(-80, 135, 'What they see', size=20)"
   ]
  },
  {
   "cell_type": "code",
   "execution_count": null,
   "id": "7d77cf78-0e43-43dd-a7c2-49a77da6f940",
   "metadata": {},
   "outputs": [],
   "source": [
    "fig"
   ]
  },
  {
   "cell_type": "markdown",
   "id": "0d54951b-326d-42ee-a9a6-e61e95da0a35",
   "metadata": {},
   "source": []
  },
  {
   "cell_type": "code",
   "execution_count": null,
   "id": "0d53e7e1-3e58-4404-b84b-11a8fade4d59",
   "metadata": {},
   "outputs": [],
   "source": []
  }
 ],
 "metadata": {
  "kernelspec": {
   "display_name": "Python 3 (ipykernel)",
   "language": "python",
   "name": "python3"
  },
  "language_info": {
   "codemirror_mode": {
    "name": "ipython",
    "version": 3
   },
   "file_extension": ".py",
   "mimetype": "text/x-python",
   "name": "python",
   "nbconvert_exporter": "python",
   "pygments_lexer": "ipython3",
   "version": "3.12.2"
  }
 },
 "nbformat": 4,
 "nbformat_minor": 5
}
