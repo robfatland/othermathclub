{
 "cells": [
  {
   "cell_type": "markdown",
   "metadata": {},
   "source": [
    "# Geometry 3"
   ]
  },
  {
   "cell_type": "code",
   "execution_count": null,
   "metadata": {
    "collapsed": true
   },
   "outputs": [],
   "source": []
  },
  {
   "cell_type": "markdown",
   "metadata": {
    "collapsed": true
   },
   "source": [
    "### Terminology\n",
    "\n",
    "\n",
    "Let's begin with two tasks over our vocabulary. First: Copy out the **boldface** terms from the list below into your \n",
    "notebook. Second: Convince yourself that you understand the *other* terms by *explaining \n",
    "them successfully* to another person. You can partner up for this and take turns if you like.  \n",
    "\n",
    "\n",
    "### Calculate $\\pi$ by adding up little squares\n",
    "\n",
    "$\\pi$ is associated with circles but we use squares this time. Let's fill in the first quadrant with little squares; and if they are on or in the unit circle we will sum them to estimate the area. This -- we are also told -- should be $\\pi$ once more. "
   ]
  },
  {
   "cell_type": "code",
   "execution_count": 1,
   "metadata": {},
   "outputs": [
    {
     "name": "stdout",
     "output_type": "stream",
     "text": [
      "There are 10 little squares on one side of the big square.\n",
      "The little squares have an area of 0.01 square units.\n",
      "   (a number like 1e-06 is read \"one times ten to the minus six\" or \"one millionth\")\n",
      "Our estimate of pi is  3.44\n"
     ]
    }
   ],
   "source": [
    "###########\n",
    "###########\n",
    "##\n",
    "## Change the value of 'size_of_square' to see how it affects the approximation of pi.\n",
    "## If you make this value very small the program will take longer to complete its calculation.\n",
    "##\n",
    "size_of_square = 0.1\n",
    "##\n",
    "###########\n",
    "###########\n",
    "\n",
    "\n",
    "# count up little squares to get pi. Those squares must be inside the unit circle, that is, \n",
    "#   the circle at the origin with a radius of 1. \n",
    "\n",
    "# We will loop over little boxes at location (x, y).  \n",
    "# x ranges from 0 to 1 and y ranges from 0 to 1. The total area of this box is what? \n",
    "# We only count boxes in our total if they are at a distance of 1 or less from the origin.\n",
    "# How do we calculate that distance (what is the name of the formula)?\n",
    "# Once we are done we have looked at only one quadrant of the unit circle.\n",
    "# Therefore we multiply the answer by what? \n",
    "\n",
    "import numpy as np\n",
    "\n",
    "\n",
    "how_many_squares = int(1.0 / size_of_square)\n",
    "\n",
    "print 'There are', how_many_squares, 'little squares on one side of the big square.'\n",
    "\n",
    "area_of_little_square = size_of_square * size_of_square\n",
    "\n",
    "print 'The little squares have an area of', area_of_little_square, 'square units.'\n",
    "print '   (a number like 1e-06 is read \"one times ten to the minus six\" or \"one millionth\")'\n",
    "\n",
    "# area is a bucket of variable that will increase when we find little squares inside the circle\n",
    "area = 0.0\n",
    "\n",
    "for x in np.arange(0.0, 1.0, size_of_square):\n",
    "    for y in np.arange(0.0, 1.0, size_of_square):\n",
    "        dist = np.sqrt(x*x+y*y)\n",
    "        if dist < 1.0:\n",
    "            area = area + area_of_little_square\n",
    "\n",
    "# area is just in the first quadrant; so let's multiply it by four to account for all 4 quadrants\n",
    "area = area * 4\n",
    "\n",
    "print 'Our estimate of pi is ', area\n",
    "\n",
    "# some kilroy matters\n",
    "# It would be nice to create a little drawing of this\n",
    "# It would be nice to do the area and volume of a sphere as well"
   ]
  },
  {
   "cell_type": "code",
   "execution_count": null,
   "metadata": {
    "collapsed": true
   },
   "outputs": [],
   "source": []
  }
 ],
 "metadata": {
  "kernelspec": {
   "display_name": "Python 2",
   "language": "python",
   "name": "python2"
  },
  "language_info": {
   "codemirror_mode": {
    "name": "ipython",
    "version": 2
   },
   "file_extension": ".py",
   "mimetype": "text/x-python",
   "name": "python",
   "nbconvert_exporter": "python",
   "pygments_lexer": "ipython2",
   "version": "2.7.14"
  }
 },
 "nbformat": 4,
 "nbformat_minor": 2
}
