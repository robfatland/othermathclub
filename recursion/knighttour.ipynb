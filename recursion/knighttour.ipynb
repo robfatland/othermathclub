{
 "cells": [
  {
   "cell_type": "markdown",
   "id": "6959e991-a66d-4188-b62e-6206df633a06",
   "metadata": {},
   "source": [
    "# PythonBytes Project In-Depth\n",
    "\n",
    "\n",
    "## Knight's Tour\n",
    "\n",
    "\n",
    "[Here is a link to this page on GitHub.](https://github.com/robfatland/othermathclub/tree/master/python/recursion/)\n",
    "\n",
    "\n",
    "### Overview\n",
    "\n",
    "A chess knight hops two squares across plus one square over. A famous question is whether the knight can hop to each \n",
    "square of the 8 x 8 chessboard in 63 moves.\n",
    "\n",
    "\n",
    "This is an opportunity to explore recursive functions; functions that call themselves. \n",
    "\n",
    "\n",
    "Here are the first ten squares of a knight tour across an 8 by 8 chessboard."
   ]
  },
  {
   "cell_type": "code",
   "execution_count": 3,
   "id": "4491864f-0eb7-4dcb-9650-9cfa2cbfd98f",
   "metadata": {
    "tags": []
   },
   "outputs": [
    {
     "data": {
      "image/png": "[encoded data removed]",
      "text/plain": [
       "<IPython.core.display.Image object>"
      ]
     },
     "execution_count": 3,
     "metadata": {
      "image/png": {
       "width": 300
      }
     },
     "output_type": "execute_result"
    }
   ],
   "source": [
    "from IPython.display import Image\n",
    "Image('./tour10.png', width = 300)"
   ]
  },
  {
   "cell_type": "markdown",
   "id": "06000b9a-b72f-4300-8b00-35e244bc1f3f",
   "metadata": {},
   "source": [
    "\n",
    "### Recursion\n",
    "\n",
    "\n",
    "To illustrate how recursion works let's think about a simple program. Read this code and try to decide in your mind what it does...\n",
    "\n",
    "\n",
    "```\n",
    "# What will this program print out? \n",
    "def recursion(a): \n",
    "    if a == 0: return a\n",
    "    return a + recursion(a-1)\n",
    "    \n",
    "answer = recursion(7)\n",
    "print(answer)\n",
    "```\n",
    "\n",
    "\n",
    "* ```def recursion(a):``` defines a function (but does not run it yet)\n",
    "* ```answer = recursion(7)``` will run the recursion() function and the next line prints out that answer\n",
    "* Let's track what happens when ```recursion(7)``` runs...\n",
    "  * ```recursion(7)``` evaluates **a** is not zero so it returns (instead) the value **7 + recursion(6)**\n",
    "    * Before this value can be returned: recursion(6) must execute...\n",
    "    * ```recursion(6)``` evaluates **a** (now 6) is not zero and so it returns **6 + recursion(5)**\n",
    "    * As before ```recursion(5)``` must run before ```recursion(6)``` can return\n",
    "      * recursion(5) returns ```5 + recursion(4)```\n",
    "        * recursion(4) returns ```4 + recursion(3)```\n",
    "          * recursion(3) returns ```3 + recursion(2)```\n",
    "            * recursion(2) returns ```2 + recursion(1)```\n",
    "              * recursion(1) returns ```1 + recursion(0)```\n",
    "                * Since **a** equals 0 at long last recursion(0) returns 0 without calling recursion()\n",
    "                  * ...so all the earlier versions of recursion() will start getting answers back...\n",
    "                  * ...so that they too may return\n",
    "              * So now the zero is returned to recursion(1)...\n",
    "                * and recursion(1) returns 1 + 0, in other words it returns 1\n",
    "            * So recursion(2) returns 2 + 1 or 3\n",
    "          * So recursion(3) returns 3 + 3 or 6\n",
    "        * So recursion(4) returns 4 + 6 or 10\n",
    "      * So recursion(5) returns 5 + 10 or 15\n",
    "    * So recursion(6) returns 6 + 15 or 21\n",
    "  * So recursion(7) returns 7 + 21 or 28\n",
    "  * And at last this value of 28 is assigned to **answer** and we are done\n",
    "  \n",
    "Notice that at its peak we had 8 different version of the ```recursion()``` function running. Each one was \n",
    "separate from the others. When ```recursion(7)``` called ```recursion(6)``` it created a totally new version\n",
    "of the function in addition to itself. \n",
    "\n",
    "\n",
    "* To get some practice with recursion try writing a factorial program that multiplies numbers together. \n",
    "```1 x 2 x 3 x 4 x 5``` is 5-factorial, also written **5!**.\n",
    "* Write another recursion program that tells you what the 10th prime number is. \n",
    "\n",
    "\n",
    "### Recursion in the knight's tour problem\n",
    "\n",
    "\n",
    "The knight's tour problem is really a fairly difficult challenge. The reason is that it is easy to get stuck.\n",
    "The knight can at first hop to just about any square because the board is empty. However as the squares are \n",
    "visited they become no longer available; and the knight has fewer and fewer options. \n",
    "\n",
    "\n",
    "You can imagine using a recursive function that calls itself to try and make the next hop in the sequence.\n",
    "The difficulty comes when the knight lands on a square with no moves available. The knight must back up\n",
    "to an earlier point in the tour and take a different path. It is rather like running a maze where you are\n",
    "putting up the obstacles of the maze as you go... and sometimes in running a maze it is necessary to backtrack. \n",
    "\n",
    "\n",
    "In the Sudoku project the challenge is similar: You can proceed to guess values for the Sudoku cells until\n",
    "you either come to the end of the puzzle (yay you solved it!) or until there are no available options for\n",
    "a cell that is still empty. The rules forbid all nine choices; and so as with the knights you must back up\n",
    "and try another option. \n",
    "\n",
    "\n",
    "Because these projects are quite challenging we encourage you to discuss them with the coaches; and to try out\n",
    "simpler problems first. Below is a list of recursion problems.\n",
    "\n",
    "* Adding up integers\n",
    "* Multiplying integers (factorial)\n",
    "* Adding up prime numbers below 1000\n",
    "* Solving a gallon puzzle (see the coaches for how this works)"
   ]
  },
  {
   "cell_type": "code",
   "execution_count": 4,
   "id": "7b64c823-fc69-4a99-8534-1492e3f9e9da",
   "metadata": {
    "tags": []
   },
   "outputs": [
    {
     "name": "stdout",
     "output_type": "stream",
     "text": [
      "28\n"
     ]
    }
   ],
   "source": [
    "# What will this program print out? \n",
    "def recursion(a): \n",
    "    if a == 0: return a\n",
    "    return a + recursion(a-1)\n",
    "    \n",
    "answer = recursion(7)\n",
    "print(answer)\n"
   ]
  }
 ],
 "metadata": {
  "kernelspec": {
   "display_name": "Python 3 (ipykernel)",
   "language": "python",
   "name": "python3"
  },
  "language_info": {
   "codemirror_mode": {
    "name": "ipython",
    "version": 3
   },
   "file_extension": ".py",
   "mimetype": "text/x-python",
   "name": "python",
   "nbconvert_exporter": "python",
   "pygments_lexer": "ipython3",
   "version": "3.11.4"
  }
 },
 "nbformat": 4,
 "nbformat_minor": 5
}
