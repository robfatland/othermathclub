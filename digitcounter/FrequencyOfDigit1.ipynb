{
 "cells": [
  {
   "cell_type": "markdown",
   "id": "be90597f-a158-48c9-b876-ee813ec5757f",
   "metadata": {},
   "source": [
    "## Purpose \n",
    "\n",
    "This is a simple test of the idea that the digit '1' comes up\n",
    "more frequently than any other... under circumstances."
   ]
  },
  {
   "cell_type": "code",
   "execution_count": 30,
   "id": "ecaedffb-4253-4d94-b8cb-939c22d300ed",
   "metadata": {},
   "outputs": [],
   "source": [
    "from random import randint\n",
    "from math import pow"
   ]
  },
  {
   "cell_type": "code",
   "execution_count": 31,
   "id": "b97cc4a9-da59-4a3d-8508-b4a64a17b6a2",
   "metadata": {},
   "outputs": [
    {
     "name": "stdout",
     "output_type": "stream",
     "text": [
      "[1025, 1003, 961, 985, 940, 979, 1035, 1022, 1034, 1016]\n"
     ]
    }
   ],
   "source": [
    "digitcounter = [0]*10\n",
    "for n in range(10000):\n",
    "    t = randint(0,999)\n",
    "    t1 = int(t / 100)\n",
    "    digitcounter[t1] += 1\n",
    "    \n",
    "print(digitcounter)"
   ]
  },
  {
   "cell_type": "code",
   "execution_count": 36,
   "id": "a2c9fdcd-e9f6-4a01-a0a7-ff0fb10b3c3c",
   "metadata": {},
   "outputs": [
    {
     "name": "stdout",
     "output_type": "stream",
     "text": [
      "[457, 2412, 1755, 1397, 1130, 901, 757, 521, 410, 260]\n"
     ]
    }
   ],
   "source": [
    "digitcounter = [0]*10\n",
    "n_to_multiply = 2\n",
    "for n in range(10000):\n",
    "    p = randint(1, 100)\n",
    "    for i in range(n_to_multiply-1): p *= randint(1,100)\n",
    "    if p < pow(10, n_to_multiply): this_index = 0\n",
    "    else: this_index = int(str(p)[0])\n",
    "    digitcounter[this_index] += 1\n",
    "    \n",
    "print(digitcounter)"
   ]
  },
  {
   "cell_type": "code",
   "execution_count": 4,
   "id": "a4688320-4b58-4f86-9173-6b036179b9e5",
   "metadata": {},
   "outputs": [
    {
     "ename": "TclError",
     "evalue": "no display name and no $DISPLAY environment variable",
     "output_type": "error",
     "traceback": [
      "\u001b[0;31m---------------------------------------------------------------------------\u001b[0m",
      "\u001b[0;31mTclError\u001b[0m                                  Traceback (most recent call last)",
      "Cell \u001b[0;32mIn[4], line 7\u001b[0m\n\u001b[1;32m      4\u001b[0m \u001b[38;5;28;01mfrom\u001b[39;00m \u001b[38;5;21;01mmatplotlib\u001b[39;00m \u001b[38;5;28;01mimport\u001b[39;00m pyplot \u001b[38;5;28;01mas\u001b[39;00m plt\n\u001b[1;32m      5\u001b[0m \u001b[38;5;28;01mfrom\u001b[39;00m \u001b[38;5;21;01mturtle\u001b[39;00m \u001b[38;5;28;01mimport\u001b[39;00m Turtle\n\u001b[0;32m----> 7\u001b[0m t \u001b[38;5;241m=\u001b[39m Turtle()\n\u001b[1;32m      9\u001b[0m nt\u001b[38;5;241m=\u001b[39m\u001b[38;5;241m500\u001b[39m\n\u001b[1;32m     10\u001b[0m ngrid \u001b[38;5;241m=\u001b[39m \u001b[38;5;241m201\u001b[39m\n",
      "File \u001b[0;32m~/miniconda3/envs/oceanography/lib/python3.12/turtle.py:3875\u001b[0m, in \u001b[0;36mTurtle.__init__\u001b[0;34m(self, shape, undobuffersize, visible)\u001b[0m\n\u001b[1;32m   3870\u001b[0m \u001b[38;5;28;01mdef\u001b[39;00m \u001b[38;5;21m__init__\u001b[39m(\u001b[38;5;28mself\u001b[39m,\n\u001b[1;32m   3871\u001b[0m              shape\u001b[38;5;241m=\u001b[39m_CFG[\u001b[38;5;124m\"\u001b[39m\u001b[38;5;124mshape\u001b[39m\u001b[38;5;124m\"\u001b[39m],\n\u001b[1;32m   3872\u001b[0m              undobuffersize\u001b[38;5;241m=\u001b[39m_CFG[\u001b[38;5;124m\"\u001b[39m\u001b[38;5;124mundobuffersize\u001b[39m\u001b[38;5;124m\"\u001b[39m],\n\u001b[1;32m   3873\u001b[0m              visible\u001b[38;5;241m=\u001b[39m_CFG[\u001b[38;5;124m\"\u001b[39m\u001b[38;5;124mvisible\u001b[39m\u001b[38;5;124m\"\u001b[39m]):\n\u001b[1;32m   3874\u001b[0m     \u001b[38;5;28;01mif\u001b[39;00m Turtle\u001b[38;5;241m.\u001b[39m_screen \u001b[38;5;129;01mis\u001b[39;00m \u001b[38;5;28;01mNone\u001b[39;00m:\n\u001b[0;32m-> 3875\u001b[0m         Turtle\u001b[38;5;241m.\u001b[39m_screen \u001b[38;5;241m=\u001b[39m Screen()\n\u001b[1;32m   3876\u001b[0m     RawTurtle\u001b[38;5;241m.\u001b[39m\u001b[38;5;21m__init__\u001b[39m(\u001b[38;5;28mself\u001b[39m, Turtle\u001b[38;5;241m.\u001b[39m_screen,\n\u001b[1;32m   3877\u001b[0m                        shape\u001b[38;5;241m=\u001b[39mshape,\n\u001b[1;32m   3878\u001b[0m                        undobuffersize\u001b[38;5;241m=\u001b[39mundobuffersize,\n\u001b[1;32m   3879\u001b[0m                        visible\u001b[38;5;241m=\u001b[39mvisible)\n",
      "File \u001b[0;32m~/miniconda3/envs/oceanography/lib/python3.12/turtle.py:3730\u001b[0m, in \u001b[0;36mScreen\u001b[0;34m()\u001b[0m\n\u001b[1;32m   3726\u001b[0m \u001b[38;5;250m\u001b[39m\u001b[38;5;124;03m\"\"\"Return the singleton screen object.\u001b[39;00m\n\u001b[1;32m   3727\u001b[0m \u001b[38;5;124;03mIf none exists at the moment, create a new one and return it,\u001b[39;00m\n\u001b[1;32m   3728\u001b[0m \u001b[38;5;124;03melse return the existing one.\"\"\"\u001b[39;00m\n\u001b[1;32m   3729\u001b[0m \u001b[38;5;28;01mif\u001b[39;00m Turtle\u001b[38;5;241m.\u001b[39m_screen \u001b[38;5;129;01mis\u001b[39;00m \u001b[38;5;28;01mNone\u001b[39;00m:\n\u001b[0;32m-> 3730\u001b[0m     Turtle\u001b[38;5;241m.\u001b[39m_screen \u001b[38;5;241m=\u001b[39m _Screen()\n\u001b[1;32m   3731\u001b[0m \u001b[38;5;28;01mreturn\u001b[39;00m Turtle\u001b[38;5;241m.\u001b[39m_screen\n",
      "File \u001b[0;32m~/miniconda3/envs/oceanography/lib/python3.12/turtle.py:3741\u001b[0m, in \u001b[0;36m_Screen.__init__\u001b[0;34m(self)\u001b[0m\n\u001b[1;32m   3739\u001b[0m \u001b[38;5;28;01mdef\u001b[39;00m \u001b[38;5;21m__init__\u001b[39m(\u001b[38;5;28mself\u001b[39m):\n\u001b[1;32m   3740\u001b[0m     \u001b[38;5;28;01mif\u001b[39;00m _Screen\u001b[38;5;241m.\u001b[39m_root \u001b[38;5;129;01mis\u001b[39;00m \u001b[38;5;28;01mNone\u001b[39;00m:\n\u001b[0;32m-> 3741\u001b[0m         _Screen\u001b[38;5;241m.\u001b[39m_root \u001b[38;5;241m=\u001b[39m \u001b[38;5;28mself\u001b[39m\u001b[38;5;241m.\u001b[39m_root \u001b[38;5;241m=\u001b[39m _Root()\n\u001b[1;32m   3742\u001b[0m         \u001b[38;5;28mself\u001b[39m\u001b[38;5;241m.\u001b[39m_root\u001b[38;5;241m.\u001b[39mtitle(_Screen\u001b[38;5;241m.\u001b[39m_title)\n\u001b[1;32m   3743\u001b[0m         \u001b[38;5;28mself\u001b[39m\u001b[38;5;241m.\u001b[39m_root\u001b[38;5;241m.\u001b[39mondestroy(\u001b[38;5;28mself\u001b[39m\u001b[38;5;241m.\u001b[39m_destroy)\n",
      "File \u001b[0;32m~/miniconda3/envs/oceanography/lib/python3.12/turtle.py:430\u001b[0m, in \u001b[0;36m_Root.__init__\u001b[0;34m(self)\u001b[0m\n\u001b[1;32m    429\u001b[0m \u001b[38;5;28;01mdef\u001b[39;00m \u001b[38;5;21m__init__\u001b[39m(\u001b[38;5;28mself\u001b[39m):\n\u001b[0;32m--> 430\u001b[0m     TK\u001b[38;5;241m.\u001b[39mTk\u001b[38;5;241m.\u001b[39m\u001b[38;5;21m__init__\u001b[39m(\u001b[38;5;28mself\u001b[39m)\n",
      "File \u001b[0;32m~/miniconda3/envs/oceanography/lib/python3.12/tkinter/__init__.py:2345\u001b[0m, in \u001b[0;36mTk.__init__\u001b[0;34m(self, screenName, baseName, className, useTk, sync, use)\u001b[0m\n\u001b[1;32m   2343\u001b[0m         baseName \u001b[38;5;241m=\u001b[39m baseName \u001b[38;5;241m+\u001b[39m ext\n\u001b[1;32m   2344\u001b[0m interactive \u001b[38;5;241m=\u001b[39m \u001b[38;5;28;01mFalse\u001b[39;00m\n\u001b[0;32m-> 2345\u001b[0m \u001b[38;5;28mself\u001b[39m\u001b[38;5;241m.\u001b[39mtk \u001b[38;5;241m=\u001b[39m _tkinter\u001b[38;5;241m.\u001b[39mcreate(screenName, baseName, className, interactive, wantobjects, useTk, sync, use)\n\u001b[1;32m   2346\u001b[0m \u001b[38;5;28;01mif\u001b[39;00m useTk:\n\u001b[1;32m   2347\u001b[0m     \u001b[38;5;28mself\u001b[39m\u001b[38;5;241m.\u001b[39m_loadtk()\n",
      "\u001b[0;31mTclError\u001b[0m: no display name and no $DISPLAY environment variable"
     ]
    }
   ],
   "source": [
    "# Langton's ant\n",
    "\n",
    "import numpy as np\n",
    "from matplotlib import pyplot as plt\n",
    "from turtle import Turtle\n",
    "\n",
    "t = Turtle()\n",
    "\n",
    "nt=500\n",
    "ngrid = 201\n",
    "Z = np.zeros((ngrid,ngrid), dtype=int)\n",
    "W = np.zeros((ngrid,ngrid), dtype=int)\n",
    "x, y = ngrid//2, ngrid//2\n",
    "v = (1, 0)\n",
    "\n",
    "def newv(b, v):\n",
    "    if b == 0:\n",
    "        if v == (1, 0): return (0, -1)\n",
    "        if v == (0, -1): return (-1, 0)\n",
    "        if v == (-1, 0): return (0, 1)\n",
    "        if v == (0, 1): return (1, 0)\n",
    "    if b == 1:\n",
    "        if v == (1, 0): return (0, 1)\n",
    "        if v == (0, 1): return (-1, 0)\n",
    "        if v == (-1, 0): return (0, -1)\n",
    "        if v == (0, -1): return (1, 0)\n",
    "    return (0, 0)\n",
    "\n",
    "def outofbounds(x, y):\n",
    "    if x < 0 or y < 0 or x >= ngrid or y >= ngrid: return True\n",
    "    return False\n",
    "\n",
    "for n in range(nt):\n",
    "    if outofbounds(x, y): break\n",
    "    if Z[x][y] == 0:\n",
    "        Z[x][y] = 1\n",
    "        W[x][y] += 1\n",
    "        v = newv(0, v)\n",
    "        x += v[0]\n",
    "        y += v[1]\n",
    "        t.right(90)\n",
    "        t.pencolor('blue')\n",
    "        t.forward(4)\n",
    "    else:\n",
    "        Z[x][y] = 0\n",
    "        W[x][y] += 1\n",
    "        v = newv(1, v)\n",
    "        x += v[0]\n",
    "        y += v[1]\n",
    "        t.left(90)\n",
    "        t.pencolor('red')\n",
    "        t.forward(4)\n",
    "\n",
    "fig,ax=plt.subplots(figsize=(20,20))\n",
    "\n",
    "if False:\n",
    "    ax.imshow(V)\n",
    "else:\n",
    "    ax = plt.axes(projection='3d')\n",
    "    xg   = np.linspace(0, 200, 201)\n",
    "    yg   = np.linspace(0, 200, 201)\n",
    "    X, Y = np.meshgrid(xg, yg)\n",
    "    ax = plt.axes(projection='3d')\n",
    "    ax.plot_wireframe(X,Y,W,color='blue')\n",
    "\n",
    "fig.show()\n"
   ]
  },
  {
   "cell_type": "code",
   "execution_count": null,
   "id": "e03fe739-8eb6-4895-afc4-a7e1476343a9",
   "metadata": {},
   "outputs": [],
   "source": [
    "import numpy as np\n",
    "from matplotlib import pyplot as plt\n",
    "\n",
    "plt.rcParams[\"figure.figsize\"] = [7.00, 3.50]\n",
    "plt.rcParams[\"figure.autolayout\"] = True\n",
    "\n",
    "locations = []\n",
    "\n",
    "def mouse_event(event):\n",
    "    this_x, this_y = round(event.xdata, 2), round(event.ydata, 2)\n",
    "    print('x: {} and y: {}'.format(this_x, this_y))\n",
    "    locations.append((this_x, this_y))\n",
    "    print(locations)\n",
    "\n",
    "fig = plt.figure()\n",
    "cid = fig.canvas.mpl_connect('button_press_event', mouse_event)\n",
    "\n",
    "x = np.linspace(-10, 10, 100)\n",
    "y = np.sin(x)\n",
    "\n",
    "plt.plot(x, y)\n",
    "\n",
    "plt.show()\n"
   ]
  },
  {
   "cell_type": "code",
   "execution_count": 53,
   "id": "2f2581b9-d4ac-4e0f-b963-4c8d6824e4d2",
   "metadata": {},
   "outputs": [
    {
     "name": "stdout",
     "output_type": "stream",
     "text": [
      "3.140296\n"
     ]
    }
   ],
   "source": [
    "from random import random\n",
    "from math import sqrt\n",
    "\n",
    "nTrials = 1000000\n",
    "\n",
    "nClose = 0\n",
    "for i in range(nTrials):\n",
    "    x = random()*2 - 1\n",
    "    y = random()*2 - 1\n",
    "    if sqrt(x*x + y*y) < 1.: nClose += 1\n",
    "    \n",
    "print(4. * nClose / nTrials)\n",
    "\n"
   ]
  }
 ],
 "metadata": {
  "kernelspec": {
   "display_name": "Python 3 (ipykernel)",
   "language": "python",
   "name": "python3"
  },
  "language_info": {
   "codemirror_mode": {
    "name": "ipython",
    "version": 3
   },
   "file_extension": ".py",
   "mimetype": "text/x-python",
   "name": "python",
   "nbconvert_exporter": "python",
   "pygments_lexer": "ipython3",
   "version": "3.12.3"
  }
 },
 "nbformat": 4,
 "nbformat_minor": 5
}
