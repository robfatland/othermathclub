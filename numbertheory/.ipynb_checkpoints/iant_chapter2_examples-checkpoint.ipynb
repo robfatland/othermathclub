{
 "cells": [
  {
   "cell_type": "code",
   "execution_count": 1,
   "id": "cd404f24-bafa-4fd7-bf9a-1ac198c7b47e",
   "metadata": {},
   "outputs": [],
   "source": [
    "from iant_example_module import *"
   ]
  },
  {
   "cell_type": "markdown",
   "id": "fb6d695b-a550-4f2b-8bb4-09ec10802492",
   "metadata": {},
   "source": [
    "## Problem 2.5\n",
    "\n",
    "Show the Dirichlet product of the Mobius function and $\\nu(n)$ (the number of unique prime factors of $n$) is $1$ or $0$."
   ]
  },
  {
   "cell_type": "code",
   "execution_count": 9,
   "id": "85fe4f76-8389-47cf-a5f4-2a560df5763d",
   "metadata": {},
   "outputs": [
    {
     "name": "stdout",
     "output_type": "stream",
     "text": [
      "1 0\n",
      "2 1\n",
      "3 1\n",
      "4 0\n",
      "5 1\n",
      "6 0\n",
      "7 1\n",
      "8 0\n",
      "9 0\n",
      "10 0\n"
     ]
    }
   ],
   "source": [
    "for n in range(1, 100000, 1):\n",
    "    if n < 11: print(n, Dirichlet(Mobius, Nu, n))\n",
    "    elif prime(n) and not Dirichlet(Mobius, Nu, n) == 1: print(\"Prime anomaly at\", n)\n",
    "    elif not prime(n) and Dirichlet(Mobius, Nu, n): print(\"Composite anomaly at\", n)"
   ]
  },
  {
   "cell_type": "markdown",
   "id": "d649c7b7-a321-4851-b908-7486848c12f7",
   "metadata": {},
   "source": [
    "## Problem 2.12\n",
    "\n",
    "\n",
    "If $f(n) > 0$ for all $n$ and if $a(n)$ is real with $a(1) \\ne 0$, prove that\n",
    "\n",
    "\n",
    "$\n",
    "\\begin{align}\n",
    "g(n) =  \\prod_{d|n}f(d)^{a(\\frac{n}{d})} \\;\\; \\textrm{ if and only if } \\;\\; f(n)=\\prod_{d|n}g(d)^{a^{-1}(\\frac{n}{d})},\n",
    "\\end{align}\n",
    "$\n",
    "\n",
    "\n"
   ]
  },
  {
   "cell_type": "code",
   "execution_count": 10,
   "id": "475d0a13-2e13-4f2e-a08f-8cbe3bb0f265",
   "metadata": {},
   "outputs": [
    {
     "name": "stdout",
     "output_type": "stream",
     "text": [
      "[1, 2, 3, 5, 6, 10, 15, 30]\n"
     ]
    }
   ],
   "source": [
    "print(divisors(30))"
   ]
  },
  {
   "cell_type": "code",
   "execution_count": 11,
   "id": "b519ec09-4610-454d-8a60-d63aa7ac95c3",
   "metadata": {},
   "outputs": [
    {
     "name": "stdout",
     "output_type": "stream",
     "text": [
      "1\n",
      "1\n",
      "2\n",
      "2\n",
      "8\n",
      "8\n",
      "16\n",
      "640\n"
     ]
    }
   ],
   "source": [
    "print(Totient(1))\n",
    "print(Totient(2))\n",
    "print(Totient(3))\n",
    "print(Totient(4))\n",
    "print(Totient(15))\n",
    "print(Totient(30))\n",
    "print(Totient(60))\n",
    "print(Totient(2400))"
   ]
  },
  {
   "cell_type": "code",
   "execution_count": 12,
   "id": "988f2407-eff0-4411-b963-a3cd9518d374",
   "metadata": {},
   "outputs": [
    {
     "name": "stdout",
     "output_type": "stream",
     "text": [
      "1\n",
      "1\n",
      "3\n",
      "4\n",
      "60\n",
      "120\n",
      "480\n",
      "768000\n",
      "1\n",
      "1\n",
      "2\n",
      "2\n",
      "8\n",
      "8\n",
      "16\n",
      "640\n",
      "1\n",
      "1\n",
      "5\n",
      "10\n",
      "620\n",
      "2360\n",
      "19120\n",
      "1228796800\n"
     ]
    }
   ],
   "source": [
    "print(GeneralizedTotient(1, 1))\n",
    "print(GeneralizedTotient(1, 2))\n",
    "print(GeneralizedTotient(1, 3))\n",
    "print(GeneralizedTotient(1, 4))\n",
    "print(GeneralizedTotient(1, 15))\n",
    "print(GeneralizedTotient(1, 30))\n",
    "print(GeneralizedTotient(1, 60))\n",
    "print(GeneralizedTotient(1, 2400))\n",
    "\n",
    "print(GeneralizedTotient(0, 1))\n",
    "print(GeneralizedTotient(0, 2))\n",
    "print(GeneralizedTotient(0, 3))\n",
    "print(GeneralizedTotient(0, 4))\n",
    "print(GeneralizedTotient(0, 15))\n",
    "print(GeneralizedTotient(0, 30))\n",
    "print(GeneralizedTotient(0, 60))\n",
    "print(GeneralizedTotient(0, 2400))\n",
    "\n",
    "print(GeneralizedTotient(2, 1))\n",
    "print(GeneralizedTotient(2, 2))\n",
    "print(GeneralizedTotient(2, 3))\n",
    "print(GeneralizedTotient(2, 4))\n",
    "print(GeneralizedTotient(2, 15))\n",
    "print(GeneralizedTotient(2, 30))\n",
    "print(GeneralizedTotient(2, 60))\n",
    "print(GeneralizedTotient(2, 2400))"
   ]
  },
  {
   "cell_type": "markdown",
   "id": "c9d2cc69-590e-4918-b352-6e84c1888507",
   "metadata": {},
   "source": [
    "2.15 Prove an equality involving a sum of generalized Euler totient functions. \n",
    "\n",
    "\n",
    "Totient $\\varphi (n)$ is the number of relative primes less than $n$. \n",
    "\n",
    "\n",
    "Generalized totient $\\varphi_k(n) = \\sum_{m<n \\textrm{ and } (m,n)=1}m^k$.\n",
    "\n",
    "\n",
    "When $k=0$ we have $\\varphi_{0}(n) = \\varphi (n)$.\n",
    "\n",
    "\n",
    "For $k=2$ and $n=7$ we have relative primes $1, 2, 3, 4, 5, 6$ and $\\varphi_2(7) = 1^2 + 2^2 + 3^2 + 4^2 + 5^2 + 6^2$. \n",
    "\n",
    "\n",
    "Problem: Show \n",
    "\n",
    "\n",
    "$\\begin{align}\\sum_{d|n} \\frac{\\varphi_k(d)}{d^k} = \\frac{1^k + 2^k + \\cdots + n^k}{n^k}\\end{align}$\n",
    "\n",
    "\n",
    "The following code shows that equality holds pretty reliably."
   ]
  },
  {
   "cell_type": "code",
   "execution_count": 13,
   "id": "d5e46657-c498-42ed-89c9-0cfbac9e6480",
   "metadata": {},
   "outputs": [
    {
     "name": "stdout",
     "output_type": "stream",
     "text": [
      "ERROR...........\n",
      "40 3 10.5063 10.5062\n"
     ]
    }
   ],
   "source": [
    "first_n = 1\n",
    "last_n = 6000\n",
    "first_k = 0\n",
    "last_k = 5\n",
    "precision = 4\n",
    "for n in range(first_n, last_n + 1,1):\n",
    "    for k in range(first_k, last_k + 1, 1):\n",
    "        lhs_sum = 0\n",
    "        for d in divisors(n):\n",
    "            lhs_sum += GeneralizedTotient(k, d) / d**k\n",
    "        rhs_sum = 0\n",
    "        for i in range(1, n+1, 1):\n",
    "            rhs_sum += i**k\n",
    "        rhs = rhs_sum / (n**k)\n",
    "        \n",
    "        ratio_sum = round(lhs_sum, precision)\n",
    "        sum_ratio = round(rhs, precision)\n",
    "        if not ratio_sum == sum_ratio: \n",
    "            print(\"ERROR...........\")\n",
    "            print(n, k, ratio_sum, sum_ratio)"
   ]
  },
  {
   "cell_type": "code",
   "execution_count": null,
   "id": "7be2e57e-0f80-4e18-8a35-eeb10858ef80",
   "metadata": {},
   "outputs": [],
   "source": []
  }
 ],
 "metadata": {
  "kernelspec": {
   "display_name": "Python 3 (ipykernel)",
   "language": "python",
   "name": "python3"
  },
  "language_info": {
   "codemirror_mode": {
    "name": "ipython",
    "version": 3
   },
   "file_extension": ".py",
   "mimetype": "text/x-python",
   "name": "python",
   "nbconvert_exporter": "python",
   "pygments_lexer": "ipython3",
   "version": "3.8.5"
  }
 },
 "nbformat": 4,
 "nbformat_minor": 5
}
