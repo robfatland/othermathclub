{
 "cells": [
  {
   "cell_type": "markdown",
   "id": "a8bfb83f-1ba6-4523-a073-254d6f4ad7a8",
   "metadata": {},
   "source": [
    "To compose and play back music in Python we need two elements: A composition library\n",
    "(we will use `music21`) and a piano playback resource (we will use \n",
    "a browser-based player called [Midiano](`https://app.midiano.com/`)).\n",
    "\n",
    "\n",
    "- Step 1: Install the Python package `music21`\n",
    "\n",
    "\n",
    "`conda install music21`\n",
    "\n",
    "\n",
    "- Step 2: Write and then run the code below:\n",
    "\n",
    "\n",
    "```\n",
    "import music21 as m21\n",
    "s = m21.stream.Stream()\n",
    "s.append(m21.note.Note('C4'))\n",
    "s.append(m21.note.Note('D4'))\n",
    "s.append(m21.note.Note('E4'))\n",
    "s.write('midi', 'robsmusic.mid')\n",
    "```\n",
    "\n",
    "- Step 3: Relocate the above `.mid` MIDI file if necessary to where you can open it from your browser\n",
    "- Step 4: In a browser go to `https://app.midiano.com'\n",
    "- Step 5: Open the MIDI file from above and click the play button\n",
    "\n",
    "\n",
    "This should play back three notes as if they were played on a piano. "
   ]
  },
  {
   "cell_type": "code",
   "execution_count": null,
   "id": "b6aa3108-b52d-4f4d-bdee-a67200aadba0",
   "metadata": {},
   "outputs": [],
   "source": []
  }
 ],
 "metadata": {
  "kernelspec": {
   "display_name": "Python 3 (ipykernel)",
   "language": "python",
   "name": "python3"
  },
  "language_info": {
   "codemirror_mode": {
    "name": "ipython",
    "version": 3
   },
   "file_extension": ".py",
   "mimetype": "text/x-python",
   "name": "python",
   "nbconvert_exporter": "python",
   "pygments_lexer": "ipython3",
   "version": "3.13.4"
  }
 },
 "nbformat": 4,
 "nbformat_minor": 5
}
