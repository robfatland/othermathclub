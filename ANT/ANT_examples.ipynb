{
 "cells": [
  {
   "cell_type": "code",
   "execution_count": 1,
   "id": "c230e822-e926-401a-8c31-e219fceb6d07",
   "metadata": {},
   "outputs": [
    {
     "data": {
      "text/plain": [
       "[1, 2, 3, 4]"
      ]
     },
     "execution_count": 1,
     "metadata": {},
     "output_type": "execute_result"
    }
   ],
   "source": [
    "# reminder on concatenating lists\n",
    "a = [1, 2]\n",
    "b = [3, 4]\n",
    "a+b"
   ]
  },
  {
   "cell_type": "code",
   "execution_count": 63,
   "id": "a7ced115-0788-4844-b6d2-2fbaeade9387",
   "metadata": {
    "tags": []
   },
   "outputs": [],
   "source": [
    "# some utility functions\n",
    "from math import sqrt, prod, log2\n",
    "\n",
    "\n",
    "def even(a): return False if a%2 else True\n",
    "\n",
    "\n",
    "def odd(a): return True if a%2 else False\n",
    "\n",
    "\n",
    "def divides(a, b):\n",
    "    if a < 0 or b < 0:     return False          # refuse to consider\n",
    "    if b == 0:             return True           # everything divides into zero\n",
    "    if a > b:              return False          # b > 0 and a must be <= b\n",
    "    if b/a == float(b//a): return True           # the actual test of divisibility\n",
    "    return False                                 #   test failed\n",
    "\n",
    "\n",
    "\n",
    "def factor(n):\n",
    "    '''sorted list of factors i.e. with repetitions: 8 > [2, 2, 2]'''\n",
    "    if n < 0:  print('something has gone horribly wrong')\n",
    "    if n == 0: return [0]\n",
    "    if n == 1: return [1]\n",
    "    f, d, u = [], 2, int(sqrt(n))\n",
    "    while True:\n",
    "        while not n % d:\n",
    "            f.append(d)\n",
    "            n = n // d\n",
    "        d = 3 if d == 2 else d + 2             # lazy: just check 2 and odd numbers\n",
    "        if d > u: break\n",
    "    if n > 1: f.append(n)\n",
    "    return f\n",
    "\n",
    "\n",
    "def expfact(n):\n",
    "    '''n assumed > 1; return (prime, exponent) tuples'''\n",
    "    if n < 1: print('something has gone dreadfully wrong')\n",
    "    if n == 1: return [(1, 1)]\n",
    "    f = sorted(factor(n))\n",
    "    p, ptr = [(f[0], 1)], 0         # p begins as first factor raised to the 1\n",
    "    for i in f[1:]:                 # this loop will run if n is composite; 2nd factor onward\n",
    "        if i == p[ptr][0]: p[ptr] = (i, p[ptr][1] + 1)       # immutable tuple construct\n",
    "        else:              p.append((i, 1)); ptr += 1        # moving on to a new prime\n",
    "    return(p)\n",
    "\n",
    "\n",
    "def uniquefactors(n):\n",
    "    '''n presumed > 1: Return a list of unique prime factors of n > 1'''\n",
    "    if n < 1: print('something has gone horribly wrong')\n",
    "    if n == 1: return [1]\n",
    "    f, d, u = [], 2, int(sqrt(n))\n",
    "    while True:\n",
    "        while not n % d:\n",
    "            if not d in f: f.append(d)\n",
    "            n = n // d\n",
    "        d = 3 if d == 2 else d + 2             # lazy: just check 2 and odds\n",
    "        if d > u: break\n",
    "    if n > 1 and not n in f: f.append(n)\n",
    "    return f\n",
    "\n",
    "        \n",
    "def gcd(a, b):\n",
    "    '''greatest common divisor of a and b both >= 1'''\n",
    "    if a < 1 or b < 1: print('something has gone terribly wrong')\n",
    "    af, bf, g = factor(a), factor(b), 1\n",
    "    for f in af:\n",
    "        if f in bf: bf.remove(f); g *= f\n",
    "    return g\n",
    "\n",
    "\n",
    "def relativelyprime(a, b):\n",
    "    '''are a and b relatively prime?'''\n",
    "    return True if gcd(a, b) == 1 else False\n",
    "\n",
    "\n",
    "def listproduct(l):\n",
    "    '''product of all elements of list l: uses built-in math function'''\n",
    "    return prod(l)\n",
    "\n",
    "\n",
    "def divisors(n):\n",
    "    '''list of all the divisors of n'''\n",
    "    if n < 1: return\n",
    "    d, f = [1], factor(n)                      # factor() is the list of primes with repetitions\n",
    "    nf = len(f)                                # 60 will have nf = 4: [2, 2, 3, 5]\n",
    "    for i in range(1, 2**nf):                  #   binomial theorem\n",
    "        k = boolkey(i)                         # convert i to a binary list of booleans\n",
    "        this_list = [1]                        # this_list will be a compiled list of factors from f[]\n",
    "        for j in range(len(k)):                # scan through the boolean list k\n",
    "            if k[j]: this_list.append(f[j])    #   ...appending factors from True values\n",
    "        d.append(prod(this_list))              # append to the result this list-product\n",
    "    return sorted(list(set(d)))\n",
    "\n",
    "\n",
    "def boolkey(n):\n",
    "    '''return list of bool values of n in binary'''\n",
    "    key = [False]*(int(log2(n))+1)\n",
    "    while n > 0:\n",
    "        p = int(log2(n))\n",
    "        key[p] = True\n",
    "        n -= 2**p\n",
    "    return key\n",
    "\n",
    "\n",
    "def Totient(n):\n",
    "    '''Euler's totient(n) = how many relatively prime numbers rp there are for 1 <= r < n'''\n",
    "    if n < 1: return\n",
    "    totient = 1\n",
    "    for i in range(2, n):\n",
    "        if relativelyprime(n, i): totient += 1\n",
    "    return totient\n",
    "\n",
    "\n",
    "def Mobius(n):\n",
    "    '''mu(1) = 1. mu(n>1) = 0 or (-1)**k; see ANT chapter 2'''\n",
    "    if n < 1: return\n",
    "    if n == 1: return 1\n",
    "    p = expfact(n)\n",
    "    for i in p: \n",
    "        if i[1] > 1: return 0\n",
    "    return (-1)**len(p)\n",
    "\n",
    "\n",
    "# conjugate divisor\n",
    "def cd(i, n): return n//i\n",
    "\n",
    "\n",
    "def Nu(n):\n",
    "    if n < 1:  print('something has gone horribly wrong')\n",
    "    if n == 1: return 0\n",
    "    return len(uniquefactors(n))\n",
    "\n",
    "\n",
    "def Dirichlet(f, g, n):\n",
    "    '''\n",
    "    Dirichlet multiplication of two functions f and g for value n\n",
    "    '''\n",
    "    if n == 1: return f(1)*g(1)\n",
    "    total = 0\n",
    "    for i in divisors(n): total += f(i) * g(cd(i, n))\n",
    "    return total"
   ]
  },
  {
   "cell_type": "code",
   "execution_count": 35,
   "id": "7c3a129b-7bb3-4e23-a97c-c0bf630e89f2",
   "metadata": {},
   "outputs": [],
   "source": [
    "# Check the divisors() function\n",
    "# print(divisors(36000)) --> [1, 2, 3, 4, 5, 6, 8, 9, 10, 12, ..., 36000]"
   ]
  },
  {
   "cell_type": "code",
   "execution_count": 58,
   "id": "d94357cd-8188-41e2-acde-67b8d0ab4ada",
   "metadata": {},
   "outputs": [
    {
     "name": "stdout",
     "output_type": "stream",
     "text": [
      "False but True\n",
      "False but True\n",
      "False but True\n"
     ]
    }
   ],
   "source": [
    "# 1.12 b) examples where a does not divide b but a**a divides b**b\n",
    "print(divides(4, 10), 'but', divides(4**4, 10**10))\n",
    "print(divides(9, 21), 'but', divides(9**9, 21**21))\n",
    "print(divides(25, 55), 'but', divides(25**25, 55**55))"
   ]
  },
  {
   "cell_type": "code",
   "execution_count": 59,
   "id": "6b19d06f-a953-4a45-9f01-22cc391caef1",
   "metadata": {},
   "outputs": [
    {
     "name": "stdout",
     "output_type": "stream",
     "text": [
      "a = 2\n",
      "n = 2\n",
      "m = 5\n",
      "An and Am are: 17 4294967297\n",
      "Claim: An does not divide Am. Calculation:\n",
      "An does not divide Am\n",
      "Claim: An does divide Am - 2. Calculation:\n",
      "An divides Am-2 252645135.0 252645135\n",
      "Claim gcd is 1; calc says it is 1\n",
      "\n",
      "a = 3\n",
      "n = 2\n",
      "m = 5\n",
      "An and Am are: 82 1853020188851842\n",
      "Claim: An does not divide Am. Calculation:\n",
      "An does not divide Am\n",
      "Claim: An does divide Am - 2. Calculation:\n",
      "An divides Am-2 22597807181120.0 22597807181120\n",
      "Claim gcd is 2; calc says it is 2\n",
      "\n"
     ]
    }
   ],
   "source": [
    "# Problem 1.18 example\n",
    "# For n < m and parameter a > 1 show gcd(An, Am) is 1 or 2 for a even/odd.\n",
    "# Here Tn is defined as 2^n and An is defined as a^{Tn}\n",
    "\n",
    "n = 2\n",
    "m = 5\n",
    "avals = [2, 3]                # 4+ takes a really long time; gcd() could be optimized\n",
    "\n",
    "for a in avals:\n",
    "    print('a = ' + str(a))\n",
    "    print('n = ' + str(n))\n",
    "    print('m = ' + str(m))\n",
    "    An = a**(2**n) + 1\n",
    "    Am = a**(2**m) + 1\n",
    "    print('An and Am are:', An, Am)\n",
    "    \n",
    "    print(\"Claim: An does not divide Am. Calculation:\")\n",
    "    if divides(An, Am): print(\"An divides Am; \", Am/An, Am//An)\n",
    "    else              : print(\"An does not divide Am\")\n",
    "\n",
    "    print(\"Claim: An does divide Am - 2. Calculation:\")\n",
    "    if divides(An, Am-2): print(\"An divides Am-2\", (Am-2)/An, (Am-2)//An)\n",
    "    else                : print(\"An does not divide Am-2\")\n",
    "    \n",
    "    g = gcd(An, Am)\n",
    "    if even(a): print(\"Claim gcd is 1; calc says it is\", g)\n",
    "    else:       print(\"Claim gcd is 2; calc says it is\", g)\n",
    "    print()"
   ]
  },
  {
   "cell_type": "code",
   "execution_count": 65,
   "id": "d0ab22be-653c-42cb-b8d1-c1090c13c81d",
   "metadata": {},
   "outputs": [
    {
     "name": "stdout",
     "output_type": "stream",
     "text": [
      "90408 zeros, 9592 ones, 0 something-elses\n"
     ]
    }
   ],
   "source": [
    "# Problem 2.5: Show the Dirichlet product of Mobius(n) and nu(n) is 1 or 0; where nu\n",
    "#   is defined as the number of distinct prime factors of n. This is just empirical.\n",
    "\n",
    "total0, total1, totalOther, n = 0, 0, 0, 100000\n",
    "for i in range(1, n+1): \n",
    "    product = Dirichlet(Mobius, Nu, i)\n",
    "    if product == 0:   total0 += 1\n",
    "    elif product == 1: total1 += 1\n",
    "    else:              totalOther += 1\n",
    "    \n",
    "    \n",
    "print(total0, 'zeros,', total1, 'ones,', totalOther, 'something-elses')"
   ]
  },
  {
   "cell_type": "code",
   "execution_count": null,
   "id": "5742e488-8632-4cdb-a844-048720990640",
   "metadata": {},
   "outputs": [],
   "source": []
  },
  {
   "cell_type": "code",
   "execution_count": null,
   "id": "211e6fe8-f1f5-424f-b7bb-32f0ff6dba21",
   "metadata": {},
   "outputs": [],
   "source": []
  }
 ],
 "metadata": {
  "kernelspec": {
   "display_name": "Python 3 (ipykernel)",
   "language": "python",
   "name": "python3"
  },
  "language_info": {
   "codemirror_mode": {
    "name": "ipython",
    "version": 3
   },
   "file_extension": ".py",
   "mimetype": "text/x-python",
   "name": "python",
   "nbconvert_exporter": "python",
   "pygments_lexer": "ipython3",
   "version": "3.8.5"
  }
 },
 "nbformat": 4,
 "nbformat_minor": 5
}
