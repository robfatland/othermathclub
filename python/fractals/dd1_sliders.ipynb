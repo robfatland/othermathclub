{
 "cells": [
  {
   "cell_type": "code",
   "execution_count": 1,
   "metadata": {},
   "outputs": [],
   "source": [
    "%matplotlib inline\n",
    "import timeit, pandas as pd, numpy as np, sys, os\n",
    "from datetime import timedelta, datetime\n",
    "from matplotlib import pyplot as plt, dates as mdates\n",
    "from numpy import datetime64 as dt64, timedelta64 as td64\n",
    "from scipy import stats\n",
    "from random import randint\n",
    "from ipywidgets import *\n",
    "from traitlets import dlink\n",
    "np.warnings.filterwarnings('ignore')"
   ]
  },
  {
   "cell_type": "code",
   "execution_count": 2,
   "metadata": {},
   "outputs": [
    {
     "data": {
      "text/plain": [
       "datetime.datetime(2019, 9, 3, 21, 57, 25, 949945)"
      ]
     },
     "execution_count": 2,
     "metadata": {},
     "output_type": "execute_result"
    }
   ],
   "source": [
    "import datetime\n",
    "n = datetime.datetime.now()\n",
    "n"
   ]
  },
  {
   "cell_type": "code",
   "execution_count": 3,
   "metadata": {},
   "outputs": [
    {
     "data": {
      "application/vnd.jupyter.widget-view+json": {
       "model_id": "3c86b49f6f38432eb335864ae079fe98",
       "version_major": 2,
       "version_minor": 0
      },
      "text/plain": [
       "interactive(children=(IntSlider(value=4, continuous_update=False, description='how many...', max=8), Output())…"
      ]
     },
     "metadata": {},
     "output_type": "display_data"
    },
    {
     "data": {
      "text/plain": [
       "<function __main__.cplane(features)>"
      ]
     },
     "execution_count": 3,
     "metadata": {},
     "output_type": "execute_result"
    }
   ],
   "source": [
    "def c_axis_lines(p, a):\n",
    "    s = np.arange(-2., 2.1, 4.)\n",
    "    x = [ss for ss in s]; y = [0. for ss in s]; a.plot(x, y, color='k'); \n",
    "    x = [0. for ss in s]; y = [ss for ss in s]; a.plot(x, y, color='k')    \n",
    "\n",
    "def c_axis_tics(p, a):\n",
    "    delta_tic = 0.04; delta_fid = 0.2\n",
    "    s = np.arange(-delta_tic, delta_tic + .0001, 2*delta_tic)\n",
    "    for xc in np.arange(-2., 2. + delta_fid, delta_fid):\n",
    "        x, y = [xc for ss in s], [ss for ss in s]; a.plot(x, y)\n",
    "    for yc in np.arange(-2., 2. + delta_fid, delta_fid):\n",
    "        x, y = [ss for ss in s], [yc for ss in s]; a.plot(x, y)\n",
    "\n",
    "def c_axis_unit_circle(p, a):\n",
    "    delta_theta = 0.02\n",
    "    theta = np.arange(0., 2*np.pi + delta_theta, delta_theta)\n",
    "    x, y = [np.cos(th) for th in theta], [np.sin(th) for th in theta]\n",
    "    a.plot(x, y, color='lightblue') \n",
    "    \n",
    "def c_polar_to_rectangular(r, theta):\n",
    "    return r*np.cos(theta), r*np.sin(theta)\n",
    "\n",
    "def c_rectangular_to_polar(x, y):\n",
    "    return np.sqrt(x*x + y*y), np.arctan2(y, x)\n",
    "\n",
    "def c_unit_circle_pi_over_12_tics(p, a):\n",
    "    delta_theta = 0.00001\n",
    "    delta_r = 0.02\n",
    "    r0 = 1.0 - delta_r\n",
    "    r1 = 1.0 + delta_r\n",
    "    theta = np.arange(0., 2*np.pi + delta_theta, np.pi/12.)\n",
    "    for th in theta:\n",
    "        xy0 = c_polar_to_rectangular(r0, th)\n",
    "        xy1 = c_polar_to_rectangular(r1, th)\n",
    "        x = [xy0[0], xy1[0]]\n",
    "        y = [xy0[1], xy1[1]]\n",
    "        a.plot(x, y, color='lightblue')\n",
    "    \n",
    "def cplane(features):\n",
    "    p,a=plt.subplots(1, figsize=(10,10))\n",
    "    if features > 0: c_axis_lines(p, a)\n",
    "    if features > 1: c_axis_tics(p, a)\n",
    "    if features > 2: c_axis_unit_circle(p, a)\n",
    "    if features > 3: c_unit_circle_pi_over_12_tics(p, a)\n",
    "    a.axis(\"equal\")\n",
    "\n",
    "interact(cplane, features = widgets.IntSlider(min = 0, max = 8, step = 1, \\\n",
    "                                              value = 4, continuous_update = False, \\\n",
    "                                              description='how many...'))"
   ]
  },
  {
   "cell_type": "code",
   "execution_count": 4,
   "metadata": {},
   "outputs": [
    {
     "data": {
      "application/vnd.jupyter.widget-view+json": {
       "model_id": "aec5238bf41e438ca975afa4c224479b",
       "version_major": 2,
       "version_minor": 0
      },
      "text/plain": [
       "interactive(children=(IntSlider(value=12, continuous_update=False, description='steps', max=400, min=2), Outpu…"
      ]
     },
     "metadata": {},
     "output_type": "display_data"
    },
    {
     "data": {
      "text/plain": [
       "<function __main__.square_c(steps)>"
      ]
     },
     "execution_count": 4,
     "metadata": {},
     "output_type": "execute_result"
    }
   ],
   "source": [
    "\n",
    "def square_c(steps):\n",
    "    p,a = plt.subplots(1, figsize=(12,12))\n",
    "    c_axis_lines(p, a)\n",
    "    c_axis_tics(p, a)\n",
    "    c_axis_unit_circle(p, a)\n",
    "    c_unit_circle_pi_over_12_tics(p, a)\n",
    "    xg0, xg1, dxg, yg0, yg1, dyg = -2., 2., 0.25, 0., 2., 0.25\n",
    "    xgrid, ygrid = np.arange(xg0, xg1, dxg), np.arange(yg0, yg1, dyg)\n",
    "    x, y, mycol, mysize = [], [], [], []\n",
    "    for xc in xgrid:\n",
    "        for yc in ygrid:\n",
    "            x.append(xc)\n",
    "            y.append(yc)\n",
    "            mycol.append('blue')\n",
    "            mysize.append(4.0)\n",
    "            r, th = c_rectangular_to_polar(x[-1], y[-1])\n",
    "            rsq = r*r\n",
    "            thsq = 2.0*th\n",
    "            dr = (rsq - r)/(steps-1.)\n",
    "            dth = (thsq - th)/(steps-1.)\n",
    "            for i in range(1, steps - 1):\n",
    "                rt = r + i*dr\n",
    "                tht = th + i*dth\n",
    "                xt, yt = c_polar_to_rectangular(rt, tht)\n",
    "                x.append(xt)\n",
    "                y.append(yt)\n",
    "                mycol.append('lightgreen')\n",
    "                mysize.append(0.6)\n",
    "            xt, yt = c_polar_to_rectangular(rsq, thsq)\n",
    "            x.append(xt)\n",
    "            y.append(yt)\n",
    "            mycol.append('r')\n",
    "            mysize.append(9.)\n",
    "\n",
    "        \n",
    "    a.scatter(x, y, color=mycol, s=mysize)\n",
    "    a.axis(\"equal\")\n",
    "    chartlim = 1.5\n",
    "    a.set_xlim([-chartlim, chartlim])\n",
    "    a.set_ylim([-chartlim, chartlim])\n",
    "\n",
    "interact(square_c, steps = widgets.IntSlider(min = 2, max = 400, step = 1, value = 12, \\\n",
    "                                             continuous_update = False, description='steps'))"
   ]
  },
  {
   "cell_type": "code",
   "execution_count": null,
   "metadata": {},
   "outputs": [],
   "source": []
  }
 ],
 "metadata": {
  "kernelspec": {
   "display_name": "Python 3",
   "language": "python",
   "name": "python3"
  },
  "language_info": {
   "codemirror_mode": {
    "name": "ipython",
    "version": 3
   },
   "file_extension": ".py",
   "mimetype": "text/x-python",
   "name": "python",
   "nbconvert_exporter": "python",
   "pygments_lexer": "ipython3",
   "version": "3.7.3"
  }
 },
 "nbformat": 4,
 "nbformat_minor": 4
}
