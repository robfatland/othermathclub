{
 "cells": [
  {
   "cell_type": "markdown",
   "id": "2b334279-5ad4-4854-9861-1d2d5c594ae6",
   "metadata": {},
   "source": [
    "# Forms\n",
    "\n",
    "This folder is about taking an idea and translating it to a form: A drawing, a pattern, a shape."
   ]
  }
 ],
 "metadata": {
  "kernelspec": {
   "display_name": "Python 3 (ipykernel)",
   "language": "python",
   "name": "python3"
  },
  "language_info": {
   "codemirror_mode": {
    "name": "ipython",
    "version": 3
   },
   "file_extension": ".py",
   "mimetype": "text/x-python",
   "name": "python",
   "nbconvert_exporter": "python",
   "pygments_lexer": "ipython3",
   "version": "3.13.4"
  }
 },
 "nbformat": 4,
 "nbformat_minor": 5
}
