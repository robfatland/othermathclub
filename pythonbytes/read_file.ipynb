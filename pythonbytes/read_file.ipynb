{
 "cells": [
  {
   "cell_type": "code",
   "execution_count": 15,
   "id": "e32a25ea-6f65-4952-a9c9-70f23e06a782",
   "metadata": {
    "tags": []
   },
   "outputs": [
    {
     "name": "stdout",
     "output_type": "stream",
     "text": [
      "55101\n"
     ]
    }
   ],
   "source": [
    "# opening the file in read mode \n",
    "codes = open(\"./data/aoc1_cal.txt\", \"r\").read().split('\\n') \n",
    "soln_sum = 0\n",
    "for c in codes:\n",
    "    for t in c:\n",
    "        if t.isdigit():\n",
    "            tens=int(t)*10\n",
    "            break\n",
    "    for o in c:\n",
    "        if o.isdigit():\n",
    "            ones=int(o)\n",
    "    soln_sum = soln_sum + tens + ones\n",
    "print(soln_sum)"
   ]
  },
  {
   "cell_type": "code",
   "execution_count": null,
   "id": "e89106bf-b2e6-4740-b8f2-0a4e15f77d9f",
   "metadata": {},
   "outputs": [],
   "source": []
  },
  {
   "cell_type": "code",
   "execution_count": null,
   "id": "7bd030db-3757-42f2-b8b3-3452d3aa69fc",
   "metadata": {},
   "outputs": [],
   "source": []
  },
  {
   "cell_type": "code",
   "execution_count": null,
   "id": "72576592-a66d-4713-920b-1163be9fb057",
   "metadata": {},
   "outputs": [],
   "source": []
  }
 ],
 "metadata": {
  "kernelspec": {
   "display_name": "Python 3 (ipykernel)",
   "language": "python",
   "name": "python3"
  },
  "language_info": {
   "codemirror_mode": {
    "name": "ipython",
    "version": 3
   },
   "file_extension": ".py",
   "mimetype": "text/x-python",
   "name": "python",
   "nbconvert_exporter": "python",
   "pygments_lexer": "ipython3",
   "version": "3.11.4"
  }
 },
 "nbformat": 4,
 "nbformat_minor": 5
}
