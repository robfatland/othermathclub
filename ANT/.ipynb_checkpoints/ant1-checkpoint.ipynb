{
 "cells": [
  {
   "cell_type": "code",
   "execution_count": 1,
   "id": "c230e822-e926-401a-8c31-e219fceb6d07",
   "metadata": {},
   "outputs": [
    {
     "data": {
      "text/plain": [
       "[1, 2, 3, 4]"
      ]
     },
     "execution_count": 1,
     "metadata": {},
     "output_type": "execute_result"
    }
   ],
   "source": [
    "a = [1, 2]\n",
    "b = [3, 4]\n",
    "a+b"
   ]
  },
  {
   "cell_type": "code",
   "execution_count": 35,
   "id": "7ee34e7f-c059-4a09-b7ab-75307eec1626",
   "metadata": {},
   "outputs": [
    {
     "name": "stdout",
     "output_type": "stream",
     "text": [
      "hah\n",
      "None\n",
      "[3, 5, 7, 7]\n"
     ]
    }
   ],
   "source": [
    "\n",
    "\n",
    "\n",
    "\n"
   ]
  },
  {
   "cell_type": "code",
   "execution_count": 65,
   "id": "7c3a129b-7bb3-4e23-a97c-c0bf630e89f2",
   "metadata": {},
   "outputs": [
    {
     "name": "stdout",
     "output_type": "stream",
     "text": [
      "[1, 2, 3, 5, 30]\n"
     ]
    }
   ],
   "source": [
    "from math import sqrt, prod\n",
    "\n",
    "\n",
    "def factor(n):\n",
    "    '''list prime factors of n > 1'''\n",
    "    if n <= 1: return\n",
    "    f, d = [], 2\n",
    "    while True:\n",
    "        if not n % d: f.append(d); return f if n == 2 else f + factor(n//d)\n",
    "        if d > int(sqrt(n)): f.append(n); return f\n",
    "        d = 3 if d == 2 else d + 2\n",
    "\n",
    "        \n",
    "def gcd(a, b):\n",
    "    '''greatest common divisor of a and b both >= 1'''\n",
    "    if a < 1 or b < 1: return\n",
    "    af, bf, gcd = factor(a), factor(b), 1\n",
    "    for f in af:\n",
    "        if f in bf: \n",
    "            bf.remove(f)\n",
    "            gcd *= f\n",
    "    return gcd\n",
    "\n",
    "\n",
    "def rp(a, b):\n",
    "    '''relatively prime?'''\n",
    "    return True if gcd(a, b) == 1 else False\n",
    "\n",
    "\n",
    "def pfactor(n):\n",
    "    '''factorization of n > 1 returned as a list of (prime, exponent) tuples'''\n",
    "    if n <= 1: return\n",
    "    f = sorted(factor(n))\n",
    "    p, ptr = [(f[0], 1)], 0\n",
    "    for i in f[1:]: \n",
    "        if i == p[ptr][0]: p[ptr] = (i, p[ptr][1] + 1)\n",
    "        else: p.append((i, 1)); ptr += 1\n",
    "    return(p)\n",
    "\n",
    "\n",
    "def listprod(l):\n",
    "    '''product of all elements of list l: uses built-in math function'''\n",
    "    return prod(l)\n",
    "\n",
    "\n",
    "\n",
    "def divisors(n):\n",
    "    '''list divisors of n > 0'''\n",
    "    if n < 1: return\n",
    "    d, f = [], factor(n)\n",
    "    nf = len(f)\n",
    "    for i in range(0, 2**nf):\n",
    "        b = binary(i)\n",
    "        this_list = []\n",
    "        for j in number of binary digits in b:\n",
    "            if digit: this_list.append(f[j])\n",
    "        d.append(listprod(this_list))\n",
    "    # set(d) converts the factor list to a set of factors (eliminates multiple copies)\n",
    "    # list() makes it a list again; sorted() makes it in increasing order\n",
    "    return sorted(list(set(d)))\n",
    "\n",
    "\n",
    "def totient(n):\n",
    "    '''Euler's totient(n) = count n's relative primes 1 < rp < n'''\n",
    "    if n < 1: return\n",
    "    totient = 1\n",
    "    for i in range(2, n):\n",
    "        if rp(n, i): totient += 1\n",
    "    return totient\n",
    "\n",
    "\n",
    "def mobius(n):\n",
    "    '''mu(1) = 1. mu(n>1) = 0 or (-1)**k; see ANT chapter 2'''\n",
    "    if n < 1: return\n",
    "    if n == 1: return 1\n",
    "    p = pfactor(n)\n",
    "    for i in p:\n",
    "        if i[1] > 1: return 0\n",
    "    return (-1)**len(p)\n",
    "\n",
    "\n",
    "print(divisors(30))\n",
    "\n",
    "# for i in range(1, 12): print(i, totient(i))\n",
    "\n",
    "# x = 2*3*5*7*11*13\n",
    "# print(x, factor(x), pfactor(x), mobius(x))\n",
    "# x = x*17\n",
    "# print(x, factor(x), pfactor(x), mobius(x))\n"
   ]
  },
  {
   "cell_type": "code",
   "execution_count": 67,
   "id": "9722f299-f71f-41ad-b04b-f06b4bbdf519",
   "metadata": {},
   "outputs": [
    {
     "name": "stdout",
     "output_type": "stream",
     "text": [
      "0b1001\n"
     ]
    }
   ],
   "source": [
    "print(bin(9))"
   ]
  },
  {
   "cell_type": "code",
   "execution_count": 70,
   "id": "fad7559f-dcd3-412a-b7b8-f73aa042ce60",
   "metadata": {},
   "outputs": [
    {
     "name": "stdout",
     "output_type": "stream",
     "text": [
      "0 true\n",
      "1 true\n",
      "2 true\n",
      "3 true\n"
     ]
    }
   ],
   "source": [
    "x = 14\n",
    "n = 4\n",
    "for i in range(n):\n",
    "    if x//(2**i): print(i, \"true\")\n",
    "    else: print(\"false\")"
   ]
  }
 ],
 "metadata": {
  "kernelspec": {
   "display_name": "Python 3 (ipykernel)",
   "language": "python",
   "name": "python3"
  },
  "language_info": {
   "codemirror_mode": {
    "name": "ipython",
    "version": 3
   },
   "file_extension": ".py",
   "mimetype": "text/x-python",
   "name": "python",
   "nbconvert_exporter": "python",
   "pygments_lexer": "ipython3",
   "version": "3.9.12"
  }
 },
 "nbformat": 4,
 "nbformat_minor": 5
}
