{
 "cells": [
  {
   "cell_type": "markdown",
   "metadata": {},
   "source": [
    "Click on the next cell, hold down Shift, press Enter..."
   ]
  },
  {
   "cell_type": "code",
   "execution_count": 1,
   "metadata": {
    "collapsed": false
   },
   "outputs": [
    {
     "data": {
      "text/html": [
       "<img src=\"images/Alice.jpg\" width=400 height=100/>"
      ],
      "text/plain": [
       "<IPython.core.display.HTML object>"
      ]
     },
     "execution_count": 1,
     "metadata": {},
     "output_type": "execute_result"
    }
   ],
   "source": [
    "# Welcome! We begin with some \"web\" code that shows you our famous picture of Alice...\n",
    "from IPython.core.display import HTML\n",
    "HTML('<img src=\"images/Alice.jpg\" width=400 height=100/>')"
   ]
  },
  {
   "cell_type": "markdown",
   "metadata": {},
   "source": [
    "## Welcome to the Python Notebook for the Other Math Club \n",
    "\n",
    "#### What are we doing here?\n",
    "\n",
    "'Mathematics explores patterns using imagination and reason.'\n",
    "\n",
    "These notebooks are available to Tyee students to explore math. They use the Python programming language. You are invited to modify this code to try out ideas."
   ]
  },
  {
   "cell_type": "markdown",
   "metadata": {},
   "source": [
    "#### Charter\n",
    "\n",
    "October 19, 2016\n",
    "\n",
    "The club is about mathematics such as one might find in a book by Martin Gardner: Mathematics that is interesting, challenging and rewarding but easy to get started with.\n",
    "\n",
    "We emphasize fun with fellow students; so we work a lot in small groups. However we also encourage sitting down somewhere quiet with your notebook and an interesting problem.\n",
    "\n",
    "Everyone has a mathematics map. The number 4 is probably near the number 5. Division is close to multiplication and the idea of fractions. We build maps as we learn; and map-building gives us new places to explore. Our main 'countries' are logic, probability, combinatorics (counting), graphs, and geometry.\n",
    " \n",
    "While students may move forwards through time emit hguorht sdrawkcab sevom flesti bulc htam rehto ehT.\n",
    "\n",
    "The name of the club changes periodically based on whim. \n",
    "\n",
    "One day I was writing a beautiful poem down when I was interrupted by a visitor from Porlock. I lost my train of thought and as a result the rest of the poem was lost. I learn: When I am with other mathematicians I tend to be quiet as i can be... until it is ok to share. I want to avoid being that visitor from Porlock.\n",
    "\n",
    "School homework is the important thing. If I am having trouble focusing during Other Math Club I will move to a quiet corner and work on homework. If this is a consistent pattern I may want to go to the library."
   ]
  },
  {
   "cell_type": "markdown",
   "metadata": {},
   "source": [
    "#### Using this notebook\n",
    "\n",
    "The text rectangles (like this one) are for reading. You just read them.\n",
    "\n",
    "Other rectangles with colored text in little blocks are actually Python, a computer language. You run Python and it does stuff.\n",
    "\n",
    "To run a Python cell (box):\n",
    "\n",
    "1. Click on the box. It should have an outline around it now.\n",
    "2. Hold down the Shift key and press Enter. \n",
    "\n",
    "If all goes well... something will happen. Sometimes you need to run several cells in a row to get to the end result. Sometimes a cell runs instantly; sometimes it can take a little time.\n",
    "\n",
    "If you change something in a Python cell... guess what? You can re-run it to see what the new results are."
   ]
  },
  {
   "cell_type": "markdown",
   "metadata": {},
   "source": [
    "#### Printing and loop example\n",
    "\n",
    "This next group of cells show Python in action. Remember 'Shift + Enter'. These all do pretty much the same thing."
   ]
  },
  {
   "cell_type": "code",
   "execution_count": 4,
   "metadata": {
    "collapsed": false
   },
   "outputs": [
    {
     "name": "stdout",
     "output_type": "stream",
     "text": [
      "abracadabra\n",
      "abracadabra\n",
      "abracadabra\n",
      "abracadabra\n",
      "abracadabra\n"
     ]
    }
   ],
   "source": [
    "for x in [0, 1, 2, 3, 4]:\n",
    "    print \"abracadabra\""
   ]
  },
  {
   "cell_type": "code",
   "execution_count": 5,
   "metadata": {
    "collapsed": false
   },
   "outputs": [
    {
     "name": "stdout",
     "output_type": "stream",
     "text": [
      "hocus pocus\n",
      "hocus pocus\n",
      "hocus pocus\n",
      "hocus pocus\n",
      "hocus pocus\n"
     ]
    }
   ],
   "source": [
    "for x in ['qbert', 'eggbert', 'filbert', 'blimbert', 'zoigbert']:\n",
    "    print \"hocus pocus\""
   ]
  },
  {
   "cell_type": "code",
   "execution_count": 6,
   "metadata": {
    "collapsed": false
   },
   "outputs": [
    {
     "name": "stdout",
     "output_type": "stream",
     "text": [
      "hocus pocus qbert\n",
      "hocus pocus eggbert\n",
      "hocus pocus filbert\n",
      "hocus pocus blimbert\n",
      "hocus pocus zoigbert\n"
     ]
    }
   ],
   "source": [
    "for x in ['qbert', 'eggbert', 'filbert', 'blimbert', 'zoigbert']:\n",
    "    print \"hocus pocus\", x"
   ]
  },
  {
   "cell_type": "code",
   "execution_count": 7,
   "metadata": {
    "collapsed": false
   },
   "outputs": [
    {
     "name": "stdout",
     "output_type": "stream",
     "text": [
      "The message is:  qbert\n",
      "The message is:  eggbert\n",
      "The message is:  filbert\n",
      "The message is:  blimbert\n",
      "The message is:  zoigbert\n"
     ]
    }
   ],
   "source": [
    "def PrintTheMessage(message):\n",
    "    print \"The message is: \", message\n",
    "\n",
    "for x in ['qbert', 'eggbert', 'filbert', 'blimbert', 'zoigbert']:\n",
    "    PrintTheMessage(x)\n"
   ]
  },
  {
   "cell_type": "markdown",
   "metadata": {},
   "source": []
  },
  {
   "cell_type": "code",
   "execution_count": 4,
   "metadata": {
    "collapsed": false
   },
   "outputs": [
    {
     "data": {
      "text/latex": [
       "\\begin{eqnarray}\\large{e^{i\\pi}+1=0}\\end{eqnarray}"
      ],
      "text/plain": [
       "<IPython.core.display.Latex object>"
      ]
     },
     "execution_count": 4,
     "metadata": {},
     "output_type": "execute_result"
    }
   ],
   "source": [
    "# We can also generate LaTeX equations in Python cells\n",
    "from IPython.display import Latex\n",
    "\n",
    "# I think this is unnecessarily complicated! But it sure is pretty...\n",
    "Latex(r\"\"\"\\begin{eqnarray}\\large{e^{i\\pi}+1=0}\\end{eqnarray}\"\"\")\n"
   ]
  },
  {
   "cell_type": "markdown",
   "metadata": {
    "collapsed": true
   },
   "source": [
    "### Last Introduction Idea\n",
    "\n",
    "Oh there are so many things to learn! \n",
    "\n",
    "I would like to leave you with this idea, though: To use this notebook you do not need to know Python, the computer language we use. You can read the Python code if you like, you can make guesses about what it will do; you can do anything.  But the purpose here is to put Other Math within your control. \n",
    "\n",
    "You can simply run the cells of Python to see results. You can also change certain values to see how that affects the results. The following cell is an example of just this: You change the value of 'how_many' and re-run the cell.\n"
   ]
  },
  {
   "cell_type": "code",
   "execution_count": 8,
   "metadata": {
    "collapsed": false
   },
   "outputs": [
    {
     "name": "stdout",
     "output_type": "stream",
     "text": [
      "x is 0 out of 3\n",
      "x is 1 out of 3\n",
      "x is 2 out of 3\n",
      "\n",
      "And that's all there is to it!\n"
     ]
    }
   ],
   "source": [
    "# change this number to a different number. Probably keep it less that 20\n",
    "how_many = 3\n",
    "\n",
    "for x in range(how_many):\n",
    "    print 'x is', x, 'out of', how_many\n",
    "    \n",
    "print \"\"\n",
    "print \"And that's all there is to it!\""
   ]
  },
  {
   "cell_type": "code",
   "execution_count": null,
   "metadata": {
    "collapsed": true
   },
   "outputs": [],
   "source": []
  }
 ],
 "metadata": {
  "kernelspec": {
   "display_name": "Python 2",
   "language": "python",
   "name": "python2"
  },
  "language_info": {
   "codemirror_mode": {
    "name": "ipython",
    "version": 2
   },
   "file_extension": ".py",
   "mimetype": "text/x-python",
   "name": "python",
   "nbconvert_exporter": "python",
   "pygments_lexer": "ipython2",
   "version": "2.7.11"
  }
 },
 "nbformat": 4,
 "nbformat_minor": 0
}
