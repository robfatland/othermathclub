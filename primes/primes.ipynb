{
 "cells": [
  {
   "cell_type": "markdown",
   "id": "e44d6200-24a5-46f7-8f5b-90af5e0de1ff",
   "metadata": {},
   "source": [
    "# Primes\n",
    "\n",
    "\n",
    "The topic here is actually to use a Python timer to evaluate algorithm speed. Ignoring\n",
    "the `regex` humor, there is a check divisors approach and a sieve approach. This is an\n",
    "unfinished page!"
   ]
  },
  {
   "cell_type": "code",
   "execution_count": 1,
   "id": "972b78cf-092e-4bb6-9910-0f70eabe8186",
   "metadata": {
    "tags": []
   },
   "outputs": [
    {
     "name": "stdout",
     "output_type": "stream",
     "text": [
      "2\n",
      "3\n",
      "5\n",
      "7\n",
      "11\n",
      "13\n",
      "17\n",
      "19\n",
      "23\n",
      "29\n",
      "31\n",
      "37\n",
      "41\n",
      "43\n",
      "47\n",
      "53\n",
      "59\n",
      "61\n",
      "67\n"
     ]
    }
   ],
   "source": [
    "# This is Matt Parker having a good laugh\n",
    "import re\n",
    "for n in range(0,70):\n",
    "    if not re.match(r'^.?$|^(..+?)\\1+$', '1'*n): print(n)"
   ]
  },
  {
   "cell_type": "code",
   "execution_count": 5,
   "id": "12c820de-6bf6-40cd-94f1-09a5e86284bc",
   "metadata": {
    "tags": []
   },
   "outputs": [
    {
     "name": "stdin",
     "output_type": "stream",
     "text": [
      "Enter which prime you want:  1001\n"
     ]
    },
    {
     "name": "stdout",
     "output_type": "stream",
     "text": [
      "prime  1001  =  7927\n"
     ]
    }
   ],
   "source": [
    "import sys\n",
    "\n",
    "# This could use the n 2n rule and other ideas about primes\n",
    "# Reinstate p[] to use only those as candidate multipliers for new composites?...\n",
    "# ...no that won't work beyond a certain point: You don't know them yet\n",
    "\n",
    "def NthPrime(nth):\n",
    "    if nth == 1: print('first prime is 2'); return 2\n",
    "    if nth == 2: print('second prime is 3'); return 3\n",
    "\n",
    "    # p = [2, 3]      # list of primes is not necessary with a sieve\n",
    "    n = 2             # n is how many primes found so far\n",
    "    c = []            # list of composites\n",
    "    lp = 3            # lp is short for 'last prime' (largest so far)\n",
    "                      #   lp starts out as 3\n",
    "    while n < nth:\n",
    "        # Go through all of the odd multipliers of the current prime\n",
    "        #   Even multipliers will never be checked because they are\n",
    "        #   automatically composite.\n",
    "        endpoint = int(1000000/lp)\n",
    "        for i in range(lp, endpoint, 2): c.append(lp*i)\n",
    "            # lc = lp*i                     # 'largest composite'\n",
    "            # c.append(lp*i)\n",
    "            # the next line makes it incredibly slow\n",
    "            # if not lc in c: c.append(lc)  # sieve approach\n",
    "            # if i > 1000: print(i, lp, endpoint, lc, len(c))\n",
    "        for j in range(lp+2, 1000000, 2):\n",
    "            if not j in c:\n",
    "                lp = j\n",
    "                # p.append(lp)\n",
    "                n = n+1\n",
    "                break\n",
    "    return lp\n",
    "\n",
    "# There are 78,498 primes less than one million\n",
    "nth = int(input('Enter which prime you want: '))\n",
    "if nth > 78498:\n",
    "    print('Sorry this program only handles up to the 78498th prime...')\n",
    "    sys.exit()\n",
    "\n",
    "nthprime = NthPrime(nth)    \n",
    "print('prime ', nth, ' = ', nthprime)"
   ]
  },
  {
   "cell_type": "code",
   "execution_count": null,
   "id": "1078794b-e6f2-4a3b-bf87-9d088a0dc5d4",
   "metadata": {},
   "outputs": [],
   "source": []
  }
 ],
 "metadata": {
  "kernelspec": {
   "display_name": "Python 3 (ipykernel)",
   "language": "python",
   "name": "python3"
  },
  "language_info": {
   "codemirror_mode": {
    "name": "ipython",
    "version": 3
   },
   "file_extension": ".py",
   "mimetype": "text/x-python",
   "name": "python",
   "nbconvert_exporter": "python",
   "pygments_lexer": "ipython3",
   "version": "3.11.4"
  }
 },
 "nbformat": 4,
 "nbformat_minor": 5
}
