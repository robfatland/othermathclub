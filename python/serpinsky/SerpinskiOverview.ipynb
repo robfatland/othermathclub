{
 "cells": [
  {
   "cell_type": "markdown",
   "id": "571c2148-62ac-485d-be7a-891052238316",
   "metadata": {},
   "source": [
    "# Serpinsky\n",
    "\n",
    "\n",
    "The triangular Serpinsky gasket appears in a surprising number of mathematical places. \n",
    "It can be fun to learn one of these Serpinsky places (say the Chaos Game) and then move on\n",
    "to a seemingly new topic (say the Pascal triangle) only to have the gasket reappear as if\n",
    "by magic.\n",
    "\n",
    "\n",
    "## Places where the gasket appears\n",
    "\n",
    "\n",
    "- The Chaos Game with three vertices and a travel ratio of $1/2$\n",
    "    - The reasoning for why this 'works' is very instructive\n",
    "    - Turtle graphics or matplotlib\n",
    "- The one-dimensional universe: AND, OR and XOR as a happy medium\n",
    "    - dedicated notebook needed; see also the graphical templates notebook for the worksheet\n",
    "- The even/odd pattern in the Pascale Triangle\n",
    "    - proves to be the same underlying idea as the previous\n",
    "    - graphical template\n",
    "- Branching tree diagram\n",
    "    - Use a branching factor, a branch size ratio and a branch angle\n",
    "    - This can be animated as an 'unfold' process\n",
    "    - Turtle graphics or matplotlib\n",
    "- Compound language / graphical interpretation\n",
    "    - We have a language consisting of four characters `x`, `y`, `+`, and `-`\n",
    "    - We have a rule for what constitutes allowed starting sentences\n",
    "    - We have a rule for transforming sentences\n",
    "    - We have a rule for making a graphical representation of a sentence\n",
    "    - Turtle graphics"
   ]
  },
  {
   "cell_type": "markdown",
   "id": "a84b6fb0-f581-47b1-bc6d-944fecd49c99",
   "metadata": {},
   "source": [
    "## Chaos Game notes\n",
    "\n",
    "\n",
    "See **`Egon.ipynb`** for more on the Chaos Game.\n",
    "\n",
    "\n",
    "Introducing the Ms. Halfway problem is a pleasant non-graphical point of entry to the Chaos Game. \n",
    "It introduces *iteration* in code, very valuable. It also introduces *state*.\n",
    "It can also introduce *alternation* using `% 2` on a counting value.\n",
    "It also introduces *scale* in that the physical locations are more likely\n",
    "to be 1000 meters apart; so the real axis is perhaps in kilometers.\n",
    "\n",
    "\n",
    "Ms. Halfway begins at home (zero on the real number line) and proposes to travel to the post office (one on the \n",
    "real line). However she always stops halfway to any chosen destination; so she finds herself at $1/2$. \n",
    "\"Fine\" she things \"I will turn around and go back to where I started\" whereupon she returns only \n",
    "halfway and finds herself at $1/4$. \n",
    "\n",
    "\n",
    "\n",
    "And so it continues... where does she eventually wind up? And what does it mean to \"wind up there\"?\n",
    "\n",
    "\n",
    "\n",
    "\n",
    "We can make up other patterns of behavior for Ms. Halfway that follow similar logic.\n",
    "As an example: Having stopped at 0.25 coming back from 0.5, having left from 0 to go to 1: \n",
    "Ms. Halfway turns around and decides once again to follow her original plan and head to 1.\n",
    "But now she is at 0.25... so in going halfway to 1 she will stop at 0.625). Now having stopped\n",
    "here she decides to simply go home. So this time he alternates between deciding to go to 1\n",
    "and deciding to go to 0. Where does she wind up?\n",
    "\n",
    "\n",
    "* Stretch: students invent variations... Mr. Thirdoftheway?\n",
    "\n"
   ]
  },
  {
   "cell_type": "markdown",
   "id": "df17daa3-246b-4a49-8cce-d1ddd4b7f076",
   "metadata": {},
   "source": [
    "## Compound Language Serpinsky Gasket\n",
    "\n",
    "\n",
    "A Compound Language is one with two distinct sub-languages bound together.\n",
    "\n",
    "\n",
    "- Begin with two atomic words 'x' and 'y' that are the smallest legal sentences.\n",
    "- Introduce symbols '+' and '-' as a second language component (hence 'compound')\n",
    "- Define a means of iteratively building more complicated sentences\n",
    "- Pivot from *writing* sentences to *drawing* sentences.\n",
    "\n",
    "\n",
    "See **`CL Serpinsky.ipynb`** for more."
   ]
  },
  {
   "cell_type": "markdown",
   "id": "6a5c05cf-a815-4d70-abfe-ee15dd01f253",
   "metadata": {},
   "source": []
  }
 ],
 "metadata": {
  "kernelspec": {
   "display_name": "Python 3 (ipykernel)",
   "language": "python",
   "name": "python3"
  },
  "language_info": {
   "codemirror_mode": {
    "name": "ipython",
    "version": 3
   },
   "file_extension": ".py",
   "mimetype": "text/x-python",
   "name": "python",
   "nbconvert_exporter": "python",
   "pygments_lexer": "ipython3",
   "version": "3.12.3"
  }
 },
 "nbformat": 4,
 "nbformat_minor": 5
}
