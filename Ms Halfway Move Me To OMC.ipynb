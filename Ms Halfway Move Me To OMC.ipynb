{
 "cells": [
  {
   "cell_type": "markdown",
   "metadata": {},
   "source": [
    "## Izzie Walk\n",
    "\n",
    "Start at zero and make the initial goal be 1. Walk half way there, call that x2. Call 0 x0 and call 1 x1.\n",
    "\n",
    "\n",
    "From x2 walk halfway to x1, call that x3. \n",
    "\n",
    "\n",
    "From x3 walk halfway back to x2.\n",
    "\n",
    "\n",
    "The pattern is then forward - forward - backward. Where do we end up? \n",
    "\n",
    "\n",
    "After some head-scratching I determined that we are averaging positions in a slightly asymmetrical way and that we \n",
    "can set two initial values adopting a new approach to indexing which I indicate with subscripts.\n",
    "\n",
    "\n",
    "Set $a_0 = 1/2$ and $b_0 = 3/4$. Notice that $a_0\\;<\\;b_0$, just for interest. \n",
    "\n",
    "\n",
    "Define $a_1 = {\\frac{1}{8}} \\; \\cdot \\; (2a_0 + 6b_0)$.\n",
    "\n",
    "\n",
    "Define $b_1= {\\frac{1}{8}} \\; \\cdot \\; (a_0 + 7b_0)$.\n",
    "\n",
    "\n",
    "Iterate using the generalization:\n",
    "\n",
    "\n",
    "$a_n = {\\frac{1}{8}} \\; \\cdot \\; (2a_{n-1} + 6b_{n-1})$.\n",
    "\n",
    "\n",
    "$b_n = {\\frac{1}{8}} \\; \\cdot \\; (a_{n-1} + 7b_{n-1})$.\n",
    "\n",
    "\n",
    "This works if you begin with the proper starting values but not the obvious 0 and 1. It is also calculated\n",
    "to ensure that $b > a$ on each iteration. The recursion builds up powers of $1/8$ but the numerators other\n",
    "factor keeps pace and the result stabilizes (to $5/7$ in fact). \n",
    "\n",
    "\n",
    "I took two additional steps from here; see below."
   ]
  },
  {
   "cell_type": "code",
   "execution_count": 1,
   "metadata": {},
   "outputs": [
    {
     "name": "stdout",
     "output_type": "stream",
     "text": [
      "0.5 0.75 0.6875 0.71875\n",
      "0.6875 0.71875 0.7109375 0.71484375\n",
      "0.7109375 0.71484375 0.7138671875 0.71435546875\n",
      "0.7138671875 0.71435546875 0.7142333984375 0.71429443359375\n",
      "0.7142333984375 0.71429443359375 0.7142791748046875 0.7142868041992188\n",
      "0.7142791748046875 0.7142868041992188 0.7142848968505859 0.7142858505249023\n",
      "0.7142848968505859 0.7142858505249023 0.7142856121063232 0.7142857313156128\n",
      "0.7142856121063232 0.7142857313156128 0.7142857015132904 0.7142857164144516\n",
      "0.7142857015132904 0.7142857164144516 0.7142857126891613 0.7142857145518064\n",
      "0.7142857126891613 0.7142857145518064 0.7142857140861452 0.7142857143189758\n",
      "0.7142857140861452 0.7142857143189758 0.7142857142607681 0.714285714289872\n",
      "0.7142857142607681 0.714285714289872 0.714285714282596 0.714285714286234\n",
      "0.714285714282596 0.714285714286234 0.7142857142853245 0.7142857142857792\n",
      "0.7142857142853245 0.7142857142857792 0.7142857142856656 0.7142857142857224\n"
     ]
    }
   ],
   "source": [
    "# This version uses a recursion based on a lot of scribbling\n",
    "# It has the unfortunate characteristic that you need to prime the pump with 1/2 and 3/4\n",
    "\n",
    "a0 = .5\n",
    "b0 = .75\n",
    "for i in range(14):\n",
    "    a1 = (1./8.) * (2*a0 + 6*b0)\n",
    "    b1 = (1./8.) * (a0 + 7*b0)\n",
    "    print (a0, b0, a1, b1)\n",
    "    a0 = a1\n",
    "    b0 = b1"
   ]
  },
  {
   "cell_type": "code",
   "execution_count": 2,
   "metadata": {},
   "outputs": [
    {
     "name": "stdout",
     "output_type": "stream",
     "text": [
      "0.0 0.625 1.0 0.75\n",
      "0.625 0.703125 0.75 0.71875\n",
      "0.703125 0.712890625 0.71875 0.71484375\n",
      "0.712890625 0.714111328125 0.71484375 0.71435546875\n",
      "0.714111328125 0.714263916015625 0.71435546875 0.71429443359375\n",
      "0.714263916015625 0.7142829895019531 0.71429443359375 0.7142868041992188\n",
      "0.7142829895019531 0.7142853736877441 0.7142868041992188 0.7142858505249023\n",
      "0.7142853736877441 0.714285671710968 0.7142858505249023 0.7142857313156128\n",
      "0.714285671710968 0.714285708963871 0.7142857313156128 0.7142857164144516\n",
      "0.714285708963871 0.7142857136204839 0.7142857164144516 0.7142857145518064\n",
      "0.7142857136204839 0.7142857142025605 0.7142857145518064 0.7142857143189758\n",
      "0.7142857142025605 0.7142857142753201 0.7142857143189758 0.714285714289872\n",
      "0.7142857142753201 0.714285714284415 0.714285714289872 0.714285714286234\n",
      "0.714285714284415 0.7142857142855519 0.714285714286234 0.7142857142857792\n"
     ]
    }
   ],
   "source": [
    "# second version is from just staring at the end result of the three steps\n",
    "# Notice everything new is relative to the previous round starting point a0\n",
    "# This very nicely begins at 0 with 1 as the goal and squeezes the motion in from there\n",
    "a0 = 0.\n",
    "b0 = 1.\n",
    "\n",
    "a = 5./8.\n",
    "b = 3./4.\n",
    "# Here is the Mister Halfway version: After two steps the new relative boundaries advance:\n",
    "# a = .25\n",
    "# b = .5\n",
    "\n",
    "for i in range(14):\n",
    "    a1 = a0 + a*(b0 - a0)\n",
    "    b1 = a0 + b*(b0 - a0)\n",
    "    print(a0, a1, b0, b1)\n",
    "    a0 = a1\n",
    "    b0 = b1\n"
   ]
  },
  {
   "cell_type": "markdown",
   "metadata": {},
   "source": [
    "## Two additional steps\n",
    "\n",
    "The first step was to follow the logic from zero and one as the starting values. This resulted in\n",
    "an alternating inequality: First $b > a$ then $a > b$ then $b > a$ etcetera on each iteration. \n",
    "\n",
    "\n",
    "That's fine but it also is confusing to set up the rule properly to agree with the original \n",
    "iteration function. So I tried just drawing the picture in terms of hops... and I realized\n",
    "what is given in the calculation directly above: Each iteration resets the boundary goals\n",
    "to be closer and closer together. So this could be parameterized as follows: \n",
    "\n",
    "\n",
    "$a' = a + \\alpha(b-a)$\n",
    "\n",
    "\n",
    "$b' = a + \\beta(b-a)$\n",
    "\n",
    "\n",
    "This operates on (0, 1) and produces the $r = 5/7$ end result, no worries. It suggests a general \n",
    "problem 'What is $r(\\alpha, \\beta)$' starting from (0, 1)?'\n",
    "\n",
    "\n"
   ]
  },
  {
   "cell_type": "code",
   "execution_count": 3,
   "metadata": {},
   "outputs": [
    {
     "data": {
      "text/plain": [
       "0.7142857142857142"
      ]
     },
     "execution_count": 3,
     "metadata": {},
     "output_type": "execute_result"
    }
   ],
   "source": [
    "a = 5./8.\n",
    "b = 3./4.\n",
    "f = b - a\n",
    "endpoint = a * (1/(1-f))\n",
    "endpoint"
   ]
  },
  {
   "cell_type": "code",
   "execution_count": 4,
   "metadata": {},
   "outputs": [
    {
     "data": {
      "text/plain": [
       "0.3333333333333333"
      ]
     },
     "execution_count": 4,
     "metadata": {},
     "output_type": "execute_result"
    }
   ],
   "source": [
    "a = 1./4.\n",
    "b = 1./2.\n",
    "f = b - a\n",
    "endpoint = a * (1/(1-f))\n",
    "endpoint"
   ]
  },
  {
   "cell_type": "code",
   "execution_count": 5,
   "metadata": {},
   "outputs": [
    {
     "data": {
      "text/plain": [
       "0.8"
      ]
     },
     "execution_count": 5,
     "metadata": {},
     "output_type": "execute_result"
    }
   ],
   "source": [
    "a = 0.6666666666666666666666666666666666666666666666666666\n",
    "b = 0.8333333333333333333333333333333333333333333333333333\n",
    "f = b - a\n",
    "endpoint = a * (1/(1-f))\n",
    "endpoint"
   ]
  },
  {
   "cell_type": "code",
   "execution_count": null,
   "metadata": {},
   "outputs": [],
   "source": []
  },
  {
   "cell_type": "code",
   "execution_count": null,
   "metadata": {},
   "outputs": [],
   "source": []
  }
 ],
 "metadata": {
  "kernelspec": {
   "display_name": "Python (dev)",
   "language": "python",
   "name": "dev"
  },
  "language_info": {
   "codemirror_mode": {
    "name": "ipython",
    "version": 3
   },
   "file_extension": ".py",
   "mimetype": "text/x-python",
   "name": "python",
   "nbconvert_exporter": "python",
   "pygments_lexer": "ipython3",
   "version": "3.6.5"
  }
 },
 "nbformat": 4,
 "nbformat_minor": 2
}
