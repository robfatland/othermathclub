{
 "cells": [
  {
   "cell_type": "code",
   "execution_count": 1,
   "id": "c230e822-e926-401a-8c31-e219fceb6d07",
   "metadata": {},
   "outputs": [
    {
     "data": {
      "text/plain": [
       "[1, 2, 3, 4]"
      ]
     },
     "execution_count": 1,
     "metadata": {},
     "output_type": "execute_result"
    }
   ],
   "source": [
    "a = [1, 2]\n",
    "b = [3, 4]\n",
    "a+b"
   ]
  },
  {
   "cell_type": "code",
   "execution_count": 8,
   "id": "7c3a129b-7bb3-4e23-a97c-c0bf630e89f2",
   "metadata": {},
   "outputs": [
    {
     "name": "stdout",
     "output_type": "stream",
     "text": [
      "[1, 2, 3, 4, 5, 6, 8, 9, 10, 12, 15, 16, 18, 20, 24, 25, 30, 32, 36, 40, 45, 48, 50, 60, 72, 75, 80, 90, 96, 100, 120, 125, 144, 150, 160, 180, 200, 225, 240, 250, 288, 300, 360, 375, 400, 450, 480, 500, 600, 720, 750, 800, 900, 1000, 1125, 1200, 1440, 1500, 1800, 2000, 2250, 2400, 3000, 3600, 4000, 4500, 6000, 7200, 9000, 12000, 18000, 36000]\n"
     ]
    }
   ],
   "source": [
    "from math import sqrt, prod, log2\n",
    "\n",
    "def PrimeFactors(n):\n",
    "    '''list prime factors of n > 1'''\n",
    "    if n <= 1: return\n",
    "    f, d = [], 2\n",
    "    while True:\n",
    "        if not n % d: f.append(d); return f if n == 2 else f + PrimeFactors(n//d)\n",
    "        if d > int(sqrt(n)): f.append(n); return f\n",
    "        d = 3 if d == 2 else d + 2\n",
    "\n",
    "        \n",
    "def GCD(a, b):\n",
    "    '''greatest common divisor of a and b both >= 1'''\n",
    "    if a < 1 or b < 1: return\n",
    "    af, bf, gcd = factor(a), factor(b), 1\n",
    "    for f in af:\n",
    "        if f in bf: \n",
    "            bf.remove(f)\n",
    "            gcd *= f\n",
    "    return gcd\n",
    "\n",
    "\n",
    "def RP(a, b):\n",
    "    '''relatively prime?'''\n",
    "    return True if gcd(a, b) == 1 else False\n",
    "\n",
    "\n",
    "def FactorExp(n):\n",
    "    '''factorization of n > 1 returned as a list of (prime, exponent) tuples'''\n",
    "    if n <= 1: return\n",
    "    f = sorted(PrimeFactors(n))\n",
    "    p, ptr = [(f[0], 1)], 0\n",
    "    for i in f[1:]: \n",
    "        if i == p[ptr][0]: p[ptr] = (i, p[ptr][1] + 1)\n",
    "        else: p.append((i, 1)); ptr += 1\n",
    "    return(p)\n",
    "\n",
    "\n",
    "def ListProduct(l):\n",
    "    '''product of all elements of list l: uses built-in math function'''\n",
    "    return prod(l)\n",
    "\n",
    "\n",
    "def Divisors(n):\n",
    "    '''list divisors of n > 0'''\n",
    "    if n < 1: return\n",
    "    d, f = [1], PrimeFactors(n)\n",
    "    nf = len(f)\n",
    "    for i in range(1, 2**nf):\n",
    "        k = boolkey(i)\n",
    "        this_list = [1]\n",
    "        for j in range(len(k)):\n",
    "            if k[j]: this_list.append(f[j])\n",
    "        d.append(ListProduct(this_list))\n",
    "    return sorted(list(set(d)))\n",
    "\n",
    "\n",
    "def boolkey(n):\n",
    "    '''return list of bool values of n in binary'''\n",
    "    key = [False]*(int(log2(n))+1)\n",
    "    while n > 0:\n",
    "        p = int(log2(n))\n",
    "        key[p] = True\n",
    "        n -= 2**p\n",
    "    return key\n",
    "\n",
    "\n",
    "def Totient(n):\n",
    "    '''Euler's totient(n) = count n's relative primes 1 < rp < n'''\n",
    "    if n < 1: return\n",
    "    totient = 1\n",
    "    for i in range(2, n):\n",
    "        if rp(n, i): totient += 1\n",
    "    return totient\n",
    "\n",
    "\n",
    "def Mobius(n):\n",
    "    '''mu(1) = 1. mu(n>1) = 0 or (-1)**k; see ANT chapter 2'''\n",
    "    if n < 1: return\n",
    "    if n == 1: return 1\n",
    "    p = FactorExp(n)\n",
    "    for i in p:\n",
    "        if i[1] > 1: return 0\n",
    "    return (-1)**len(p)\n",
    "\n",
    "\n",
    "print(Divisors(36000))\n",
    "\n",
    "# for i in range(1, 12): print(i, totient(i))\n",
    "\n",
    "# x = 2*3*5*7*11*13\n",
    "# print(x, factor(x), pfactor(x), mobius(x))\n",
    "# x = x*17\n",
    "# print(x, factor(x), pfactor(x), mobius(x))\n"
   ]
  },
  {
   "cell_type": "code",
   "execution_count": 22,
   "id": "4254e69c-438e-443f-afe7-abe962ebab14",
   "metadata": {
    "tags": []
   },
   "outputs": [
    {
     "name": "stdout",
     "output_type": "stream",
     "text": [
      "90300 9700 0\n"
     ]
    }
   ],
   "source": [
    "def CD(i, n): \n",
    "    '''\n",
    "    Conjugate divisor\n",
    "    '''\n",
    "    return n//i\n",
    "\n",
    "def Nu(n):\n",
    "    if n == 1: return 0\n",
    "    return len(PrimeFactors(n))\n",
    "\n",
    "\n",
    "def Dirichlet(f, g, n):\n",
    "    '''\n",
    "    Dirichlet multiplication of two functions f and g for value n\n",
    "    '''\n",
    "    if n == 1: return f(1)*g(1)\n",
    "    total = 0\n",
    "    for i in Divisors(n):\n",
    "        # print(i, f(i), g(CD(i, n)))\n",
    "        total += f(i) * g(CD(i, n))\n",
    "    return total\n",
    "\n",
    "\n",
    "total0, total1, totalOther, n = 0, 0, 0, 100000\n",
    "for i in range(1, n+1): \n",
    "    product = Dirichlet(Mobius, Nu, i)\n",
    "    if product == 0:   total0 += 1\n",
    "    elif product == 1: total1 += 1\n",
    "    else:              totalOther += 1\n",
    "    \n",
    "    \n",
    "print(total0, total1, totalOther)\n",
    "\n"
   ]
  },
  {
   "cell_type": "code",
   "execution_count": 274,
   "id": "6b19d06f-a953-4a45-9f01-22cc391caef1",
   "metadata": {},
   "outputs": [
    {
     "name": "stdout",
     "output_type": "stream",
     "text": [
      "[27, 29, 31, 34, 35, 38, 42, 46, 50, 53, 11, 14, 18, 22, 23]\n",
      "15 is length\n",
      "10 is the pivot\n",
      "27 is the target\n",
      "0 is the solution\n",
      "my answer is 0 vs 0\n"
     ]
    }
   ],
   "source": [
    "from random import randint\n",
    "\n",
    "start = randint(-10, 10)\n",
    "current = start\n",
    "length = randint(10, 20)\n",
    "pivot = randint(0, length-1)\n",
    "data = [1]*length\n",
    "\n",
    "for i in range(length):\n",
    "    this_index = i + pivot\n",
    "    if this_index >= length: this_index -= length\n",
    "    data[this_index] = current + randint(1,4)\n",
    "    current = data[this_index]\n",
    "    \n",
    "correct_answer = randint(0, length-1)\n",
    "target = data[correct_answer]\n",
    "\n",
    "print(data)\n",
    "print(len(data), 'is length')\n",
    "print(pivot, 'is the pivot')\n",
    "print(target, 'is the target')\n",
    "print(correct_answer, 'is the solution')\n",
    "\n",
    "def FindTargetIndex(d, t): \n",
    "    n = len(d)\n",
    "    if d[-1] > d[0]: p = 0\n",
    "    else:\n",
    "        i0, i1 = 0, n - 1\n",
    "        while True:\n",
    "            iq = i0  + (i1 - i0) // 2\n",
    "            if d[iq] - d[i0] > 0: i0 = iq\n",
    "            else:                 i1 = iq\n",
    "            if i0 == i1: break\n",
    "        p = (i0 + 1) % n    \n",
    "    t0, t1 = 0, n - 1        # in pivoted space\n",
    "    if d[(p+t1)%n] == t: return (p+t1)%n\n",
    "    while True:\n",
    "        tq = t0 + (t1 - t0)//2\n",
    "        if t < d[(p+tq)%n]: t1 = tq\n",
    "        else:               t0 = tq\n",
    "        if d[(p+t0)%n] == t: break\n",
    "    return (p+t0)%n\n",
    "\n",
    "my_answer = FindTargetIndex(data, target) \n",
    "print('my answer is', my_answer, 'vs', data.index(target))"
   ]
  },
  {
   "cell_type": "code",
   "execution_count": 123,
   "id": "5742e488-8632-4cdb-a844-048720990640",
   "metadata": {},
   "outputs": [
    {
     "ename": "SystemExit",
     "evalue": "0",
     "output_type": "error",
     "traceback": [
      "\u001b[0;31m---------------------------------------------------------------------------\u001b[0m",
      "\u001b[0;31mSystemExit\u001b[0m                                Traceback (most recent call last)",
      "\u001b[0;32m/tmp/ipykernel_92/2633020119.py\u001b[0m in \u001b[0;36m<module>\u001b[0;34m\u001b[0m\n\u001b[1;32m     71\u001b[0m     \u001b[0;32mreturn\u001b[0m \u001b[0;34m(\u001b[0m\u001b[0mp\u001b[0m\u001b[0;34m+\u001b[0m\u001b[0mt0\u001b[0m\u001b[0;34m)\u001b[0m\u001b[0;34m%\u001b[0m\u001b[0mn\u001b[0m\u001b[0;34m\u001b[0m\u001b[0;34m\u001b[0m\u001b[0m\n\u001b[1;32m     72\u001b[0m \u001b[0;34m\u001b[0m\u001b[0m\n\u001b[0;32m---> 73\u001b[0;31m \u001b[0mmy_answer\u001b[0m \u001b[0;34m=\u001b[0m \u001b[0mFindTargetIndex\u001b[0m\u001b[0;34m(\u001b[0m\u001b[0mdata\u001b[0m\u001b[0;34m,\u001b[0m \u001b[0mtarget\u001b[0m\u001b[0;34m)\u001b[0m\u001b[0;34m\u001b[0m\u001b[0;34m\u001b[0m\u001b[0m\n\u001b[0m\u001b[1;32m     74\u001b[0m \u001b[0mprint\u001b[0m\u001b[0;34m(\u001b[0m\u001b[0;34m'my answer is'\u001b[0m\u001b[0;34m,\u001b[0m \u001b[0mmy_answer\u001b[0m\u001b[0;34m)\u001b[0m\u001b[0;34m\u001b[0m\u001b[0;34m\u001b[0m\u001b[0m\n",
      "\u001b[0;32m/tmp/ipykernel_92/2633020119.py\u001b[0m in \u001b[0;36mFindTargetIndex\u001b[0;34m(d, t)\u001b[0m\n\u001b[1;32m     62\u001b[0m     \u001b[0;32mwhile\u001b[0m \u001b[0;32mTrue\u001b[0m\u001b[0;34m:\u001b[0m\u001b[0;34m\u001b[0m\u001b[0;34m\u001b[0m\u001b[0m\n\u001b[1;32m     63\u001b[0m         \u001b[0mrace\u001b[0m \u001b[0;34m+=\u001b[0m \u001b[0;36m1\u001b[0m                     \u001b[0;31m# debug\u001b[0m\u001b[0;34m\u001b[0m\u001b[0;34m\u001b[0m\u001b[0m\n\u001b[0;32m---> 64\u001b[0;31m         \u001b[0;32mif\u001b[0m \u001b[0mrace\u001b[0m \u001b[0;34m>\u001b[0m \u001b[0mrlim\u001b[0m\u001b[0;34m:\u001b[0m \u001b[0mexit\u001b[0m\u001b[0;34m(\u001b[0m\u001b[0;36m0\u001b[0m\u001b[0;34m)\u001b[0m       \u001b[0;31m# debug\u001b[0m\u001b[0;34m\u001b[0m\u001b[0;34m\u001b[0m\u001b[0m\n\u001b[0m\u001b[1;32m     65\u001b[0m         \u001b[0mtq\u001b[0m \u001b[0;34m=\u001b[0m \u001b[0mt0\u001b[0m \u001b[0;34m+\u001b[0m \u001b[0;34m(\u001b[0m\u001b[0mt1\u001b[0m \u001b[0;34m-\u001b[0m \u001b[0mt0\u001b[0m\u001b[0;34m)\u001b[0m\u001b[0;34m//\u001b[0m\u001b[0;36m2\u001b[0m\u001b[0;34m\u001b[0m\u001b[0;34m\u001b[0m\u001b[0m\n\u001b[1;32m     66\u001b[0m         \u001b[0mprint\u001b[0m\u001b[0;34m(\u001b[0m\u001b[0mt0\u001b[0m\u001b[0;34m,\u001b[0m \u001b[0mtq\u001b[0m\u001b[0;34m,\u001b[0m \u001b[0mt1\u001b[0m\u001b[0;34m,\u001b[0m \u001b[0;34m'('\u001b[0m\u001b[0;34m,\u001b[0m \u001b[0;34m(\u001b[0m\u001b[0mp\u001b[0m\u001b[0;34m+\u001b[0m\u001b[0mt0\u001b[0m\u001b[0;34m)\u001b[0m\u001b[0;34m%\u001b[0m\u001b[0mn\u001b[0m\u001b[0;34m,\u001b[0m \u001b[0;34m(\u001b[0m\u001b[0mp\u001b[0m\u001b[0;34m+\u001b[0m\u001b[0mtq\u001b[0m\u001b[0;34m)\u001b[0m\u001b[0;34m%\u001b[0m\u001b[0mn\u001b[0m\u001b[0;34m,\u001b[0m \u001b[0;34m(\u001b[0m\u001b[0mp\u001b[0m\u001b[0;34m+\u001b[0m\u001b[0mt1\u001b[0m\u001b[0;34m)\u001b[0m\u001b[0;34m%\u001b[0m\u001b[0mn\u001b[0m\u001b[0;34m,\u001b[0m \u001b[0;34m')'\u001b[0m\u001b[0;34m)\u001b[0m\u001b[0;34m\u001b[0m\u001b[0;34m\u001b[0m\u001b[0m\n",
      "\u001b[0;31mSystemExit\u001b[0m: 0"
     ]
    }
   ],
   "source": [
    "%tb"
   ]
  },
  {
   "cell_type": "code",
   "execution_count": null,
   "id": "211e6fe8-f1f5-424f-b7bb-32f0ff6dba21",
   "metadata": {},
   "outputs": [],
   "source": []
  }
 ],
 "metadata": {
  "kernelspec": {
   "display_name": "Python 3 (ipykernel)",
   "language": "python",
   "name": "python3"
  },
  "language_info": {
   "codemirror_mode": {
    "name": "ipython",
    "version": 3
   },
   "file_extension": ".py",
   "mimetype": "text/x-python",
   "name": "python",
   "nbconvert_exporter": "python",
   "pygments_lexer": "ipython3",
   "version": "3.8.5"
  }
 },
 "nbformat": 4,
 "nbformat_minor": 5
}
