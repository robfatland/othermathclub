{
 "cells": [
  {
   "cell_type": "markdown",
   "id": "7d57e0d5-ab8d-4626-9628-ea99551ea555",
   "metadata": {},
   "source": [
    "# Supercomputing\n",
    "\n",
    "Comments on HPC and cloud use."
   ]
  },
  {
   "cell_type": "markdown",
   "id": "f723e8d4-ea4f-44c8-abb2-77aa4932b0cb",
   "metadata": {},
   "source": [
    "## Goal\n",
    "\n",
    "Create reproducible narratives that illuminate the path for researchers new (and leaning in) to the AI/ML/cloud/HPC/data science/technology space. "
   ]
  },
  {
   "cell_type": "markdown",
   "id": "e366f7cb-0fa5-4664-9956-3035aa8b58ec",
   "metadata": {},
   "source": [
    "## Hyak \n",
    "\n",
    "* Oorjit, Naomi, Rob are Hyak Power Users In Training\n",
    "* [RCC get started](https://depts.washington.edu/uwrcc/getting-started-2/getting-started/)\n",
    "* [Hyak Start Here](https://hyak.uw.edu/docs/)\n",
    "* [Hyak Wiki](https://wiki.cac.washington.edu/display/hyakusers/WIKI+for+Hyak+users)\n",
    "* [Training Document](https://github.com/UW-HPC/HyakTraining_F19/blob/master/TrainingSession_F19.pdf)\n",
    "* [ssh and login node usage](https://hyak.uw.edu/docs/setup/ssh)\n",
    "* At UW IT **My Groups**: No `u_hyak` group found...\n",
    "* Kristen points out:\n",
    "    * Use klone, not mox: `ssh netid@klone.hyak.uw.edu`\n",
    "    * Run a job on 1 A40 with 80GB + 1 CPU, 2 hours\n",
    "        * `salloc -A escience --partition=gpu-a40 -c 1 --time=2:00:00 --gpus=1 --mem=80G`"
   ]
  },
  {
   "cell_type": "markdown",
   "id": "ceff4820-5031-4ecb-829e-a5611e622ecc",
   "metadata": {},
   "source": [
    "## [SSEC RAG](https://uw-ssec-tutorials.readthedocs.io/en/latest/SciPy2024/README.html)\n",
    "\n",
    "\n",
    "\n",
    "\n",
    "\n",
    "## [DMTCP](https://hyak.uw.edu/docs/tools/dmtcp#dmtcp-usage)\n",
    "\n",
    "\n",
    "Distributed multi-threaded checkpointing..."
   ]
  },
  {
   "cell_type": "code",
   "execution_count": null,
   "id": "4f9cdefe-0362-4f22-9581-98e209fa33b1",
   "metadata": {},
   "outputs": [],
   "source": []
  }
 ],
 "metadata": {
  "kernelspec": {
   "display_name": "Python 3 (ipykernel)",
   "language": "python",
   "name": "python3"
  },
  "language_info": {
   "codemirror_mode": {
    "name": "ipython",
    "version": 3
   },
   "file_extension": ".py",
   "mimetype": "text/x-python",
   "name": "python",
   "nbconvert_exporter": "python",
   "pygments_lexer": "ipython3",
   "version": "3.12.3"
  }
 },
 "nbformat": 4,
 "nbformat_minor": 5
}
