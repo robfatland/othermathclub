{
 "cells": [
  {
   "cell_type": "markdown",
   "id": "5efaa094-286a-4a6c-9882-75f41d14aaac",
   "metadata": {},
   "source": [
    "# Restarting an Azure service JAN-2025\n",
    "\n",
    "\n",
    "- [Tutorial](https://github.com/cloudbank-project/az-serverless-tutorial) > `content` > `_index.md`\n",
    "    - VMs and Workstations\n",
    "    - NoSQL Database\n",
    "    - Serverless functions and APIs \n",
    "\n",
    "The following cell is a basic ping of the GitHub API."
   ]
  },
  {
   "cell_type": "code",
   "execution_count": 5,
   "id": "a2d39c35-3a9b-4044-8015-ae46c7b5b639",
   "metadata": {},
   "outputs": [
    {
     "name": "stdout",
     "output_type": "stream",
     "text": [
      "\n",
      "The basic response:\n",
      "<Response [200]>\n",
      "\n",
      "status code:\n",
      "200\n",
      "\n",
      "some of the response text:\n",
      "{\"current_user_url\":\"https://api.github.com/user\",\"current_user_authorizations_html_url\":\"https://github.com/settings/connections/applications{/client_id}\",\"authorizations_url\":\"https://api.github.com/authorizations\",\"code_search_url\":\"https://api.github.com/search/code?q={query}{&page,per_page,sort\n",
      "\n",
      "A response dictionary entry:\n",
      "https://api.github.com/gists{/gist_id}\n"
     ]
    }
   ],
   "source": [
    "import requests\n",
    "response = requests.get(\"https://api.github.com\")\n",
    "\n",
    "print('\\nThe basic response:')\n",
    "print(response)\n",
    "print('\\nstatus code:')\n",
    "print(response.status_code)\n",
    "print('\\nsome of the response text:')\n",
    "print(response.text[:300])\n",
    "response_dictionary = response.json()\n",
    "print('\\nA response dictionary entry:')\n",
    "print(response_dictionary['gists_url'])"
   ]
  },
  {
   "cell_type": "code",
   "execution_count": null,
   "id": "33ae8823-362b-4ea9-8b41-2ffd386ef206",
   "metadata": {},
   "outputs": [],
   "source": [
    "import requests\n",
    "response = requests.get(\"https://api.github.com\")\n",
    "\n",
    "print('\\nThe basic response:')\n",
    "print(response)\n",
    "print('\\nstatus code:')\n",
    "print(response.status_code)\n",
    "print('\\nsome of the response text:')\n",
    "print(response.text[:300])\n",
    "response_dictionary = response.json()\n",
    "print('\\nA response dictionary entry:')\n",
    "print(response_dictionary['gists_url'])"
   ]
  },
  {
   "cell_type": "code",
   "execution_count": 3,
   "id": "9078b454-d75d-4f7c-87c6-36dfa612baa2",
   "metadata": {
    "tags": []
   },
   "outputs": [
    {
     "name": "stdout",
     "output_type": "stream",
     "text": [
      "\n",
      "The basic response:\n",
      "<Response [404]>\n",
      "\n",
      "status code:\n",
      "404\n",
      "\n",
      "some of the response text:\n",
      "Provide an element, honey..\n"
     ]
    },
    {
     "data": {
      "text/plain": [
       "{'Content-Type': 'text/plain; charset=utf-8', 'Date': 'Tue, 21 Jan 2025 18:08:18 GMT', 'Server': 'Kestrel', 'Transfer-Encoding': 'chunked', 'Request-Context': 'appId='}"
      ]
     },
     "execution_count": 3,
     "metadata": {},
     "output_type": "execute_result"
    }
   ],
   "source": [
    "import requests\n",
    "response = requests.get(\"https://student-atomic-portal.azurewebsites.net/api/lookup\")\n",
    "\n",
    "if not int(response.status_code) == 404: print( \n",
    "print(response.status_code)\n",
    "print('\\nsome of the response text:')\n",
    "print(response.text[:300])\n",
    "\n",
    "response_headers = response.headers\n",
    "response_headers\n",
    "\n",
    "# lookup?name=Carbon"
   ]
  },
  {
   "cell_type": "code",
   "execution_count": 4,
   "id": "43fad0e5-1d42-4a92-910d-cf72fa26b2e2",
   "metadata": {
    "tags": []
   },
   "outputs": [],
   "source": [
    "response = requests.get(\"https://student-atomic-portal.azurewebsites.net/api/lookup?name=Sodium\")"
   ]
  },
  {
   "cell_type": "code",
   "execution_count": 8,
   "id": "4737f1d8-92cf-4a37-a6dd-31cd89a95638",
   "metadata": {
    "tags": []
   },
   "outputs": [
    {
     "name": "stdout",
     "output_type": "stream",
     "text": [
      "30 repositories in play\n",
      "\n",
      "Name: system-design-primer\n",
      "Description: Learn how to design large-scale systems. Prep for the system design interview.  Includes Anki flashcards.\n",
      "Stars: 271035\n",
      "\n",
      "Name: awesome-python\n",
      "Description: An opinionated list of awesome Python frameworks, libraries, software and resources.\n",
      "Stars: 220171\n",
      "\n",
      "Name: Python\n",
      "Description: All Algorithms implemented in Python\n",
      "Stars: 184654\n",
      "\n"
     ]
    }
   ],
   "source": [
    "# Search GitHub's repositories for popular Python projects\n",
    "import requests\n",
    "\n",
    "response = requests.get(\n",
    "    \"https://api.github.com/search/repositories\",\n",
    "    params={\"q\": \"language:python\", \"sort\": \"stars\", \"order\": \"desc\"},\n",
    ")\n",
    "\n",
    "# Inspect some attributes of the first three repositories\n",
    "json_response = response.json()\n",
    "popular_repositories = json_response[\"items\"]\n",
    "print(str(len(popular_repositories)) + \" repositories in play\\n\") \n",
    "for repo in popular_repositories[:3]:\n",
    "    print(f\"Name: {repo['name']}\")\n",
    "    print(f\"Description: {repo['description']}\")\n",
    "    print(f\"Stars: {repo['stargazers_count']}\")\n",
    "    print()"
   ]
  },
  {
   "cell_type": "code",
   "execution_count": 9,
   "id": "3591b065-c192-444b-b4d7-9affbcd808ea",
   "metadata": {
    "tags": []
   },
   "outputs": [
    {
     "data": {
      "text/plain": [
       "'<https://api.github.com/search/repositories?q=language%3Apython&sort=stars&order=desc&page=2>; rel=\"next\", <https://api.github.com/search/repositories?q=language%3Apython&sort=stars&order=desc&page=34>; rel=\"last\"'"
      ]
     },
     "execution_count": 9,
     "metadata": {},
     "output_type": "execute_result"
    }
   ],
   "source": [
    "response.headers[\"link\"]"
   ]
  },
  {
   "cell_type": "code",
   "execution_count": 10,
   "id": "8067ba55-f625-41cf-a3ee-9553cdbf9526",
   "metadata": {
    "tags": []
   },
   "outputs": [
    {
     "name": "stdout",
     "output_type": "stream",
     "text": [
      "30 repositories in play from page 2\n",
      "\n",
      "Name: llama\n",
      "Description: Inference code for Llama models\n",
      "Stars: 55759\n",
      "\n",
      "Name: localstack\n",
      "Description: 💻 A fully functional local AWS cloud stack. Develop and test your cloud & Serverless apps offline\n",
      "Stars: 55640\n",
      "\n",
      "Name: annotated_deep_learning_paper_implementations\n",
      "Description: 🧑‍🏫 60+ Implementations/tutorials of deep learning papers with side-by-side notes 📝; including transformers (original, xl, switch, feedback, vit, ...), optimizers (adam, adabelief, sophia, ...), gans(cyclegan, stylegan2, ...), 🎮 reinforcement learning (ppo, dqn), capsnet, distillation, ... 🧠\n",
      "Stars: 54385\n",
      "\n"
     ]
    }
   ],
   "source": [
    "response2 = requests.get(\n",
    "    \"https://api.github.com/search/repositories\",\n",
    "    params={\"q\": \"language:python\", \"sort\": \"stars\", \"order\": \"desc\", \"page\": \"2\"},\n",
    ")\n",
    "\n",
    "json_response = response2.json()\n",
    "popular_repositories = json_response[\"items\"]\n",
    "print(str(len(popular_repositories)) + \" repositories in play from page 2\\n\") \n",
    "for repo in popular_repositories[:3]:\n",
    "    print(f\"Name: {repo['name']}\")\n",
    "    print(f\"Description: {repo['description']}\")\n",
    "    print(f\"Stars: {repo['stargazers_count']}\")\n",
    "    print()"
   ]
  },
  {
   "cell_type": "code",
   "execution_count": 14,
   "id": "b5047bf5-0f17-4299-ae8c-8a2c5b172f39",
   "metadata": {
    "tags": []
   },
   "outputs": [
    {
     "ename": "JSONDecodeError",
     "evalue": "Expecting value: line 1 column 1 (char 0)",
     "output_type": "error",
     "traceback": [
      "\u001b[0;31m---------------------------------------------------------------------------\u001b[0m",
      "\u001b[0;31mJSONDecodeError\u001b[0m                           Traceback (most recent call last)",
      "File \u001b[0;32m~/miniconda3/envs/oceanography/lib/python3.12/site-packages/requests/models.py:974\u001b[0m, in \u001b[0;36mResponse.json\u001b[0;34m(self, **kwargs)\u001b[0m\n\u001b[1;32m    973\u001b[0m \u001b[38;5;28;01mtry\u001b[39;00m:\n\u001b[0;32m--> 974\u001b[0m     \u001b[38;5;28;01mreturn\u001b[39;00m complexjson\u001b[38;5;241m.\u001b[39mloads(\u001b[38;5;28mself\u001b[39m\u001b[38;5;241m.\u001b[39mtext, \u001b[38;5;241m*\u001b[39m\u001b[38;5;241m*\u001b[39mkwargs)\n\u001b[1;32m    975\u001b[0m \u001b[38;5;28;01mexcept\u001b[39;00m JSONDecodeError \u001b[38;5;28;01mas\u001b[39;00m e:\n\u001b[1;32m    976\u001b[0m     \u001b[38;5;66;03m# Catch JSON-related errors and raise as requests.JSONDecodeError\u001b[39;00m\n\u001b[1;32m    977\u001b[0m     \u001b[38;5;66;03m# This aliases json.JSONDecodeError and simplejson.JSONDecodeError\u001b[39;00m\n",
      "File \u001b[0;32m~/miniconda3/envs/oceanography/lib/python3.12/json/__init__.py:346\u001b[0m, in \u001b[0;36mloads\u001b[0;34m(s, cls, object_hook, parse_float, parse_int, parse_constant, object_pairs_hook, **kw)\u001b[0m\n\u001b[1;32m    343\u001b[0m \u001b[38;5;28;01mif\u001b[39;00m (\u001b[38;5;28mcls\u001b[39m \u001b[38;5;129;01mis\u001b[39;00m \u001b[38;5;28;01mNone\u001b[39;00m \u001b[38;5;129;01mand\u001b[39;00m object_hook \u001b[38;5;129;01mis\u001b[39;00m \u001b[38;5;28;01mNone\u001b[39;00m \u001b[38;5;129;01mand\u001b[39;00m\n\u001b[1;32m    344\u001b[0m         parse_int \u001b[38;5;129;01mis\u001b[39;00m \u001b[38;5;28;01mNone\u001b[39;00m \u001b[38;5;129;01mand\u001b[39;00m parse_float \u001b[38;5;129;01mis\u001b[39;00m \u001b[38;5;28;01mNone\u001b[39;00m \u001b[38;5;129;01mand\u001b[39;00m\n\u001b[1;32m    345\u001b[0m         parse_constant \u001b[38;5;129;01mis\u001b[39;00m \u001b[38;5;28;01mNone\u001b[39;00m \u001b[38;5;129;01mand\u001b[39;00m object_pairs_hook \u001b[38;5;129;01mis\u001b[39;00m \u001b[38;5;28;01mNone\u001b[39;00m \u001b[38;5;129;01mand\u001b[39;00m \u001b[38;5;129;01mnot\u001b[39;00m kw):\n\u001b[0;32m--> 346\u001b[0m     \u001b[38;5;28;01mreturn\u001b[39;00m _default_decoder\u001b[38;5;241m.\u001b[39mdecode(s)\n\u001b[1;32m    347\u001b[0m \u001b[38;5;28;01mif\u001b[39;00m \u001b[38;5;28mcls\u001b[39m \u001b[38;5;129;01mis\u001b[39;00m \u001b[38;5;28;01mNone\u001b[39;00m:\n",
      "File \u001b[0;32m~/miniconda3/envs/oceanography/lib/python3.12/json/decoder.py:337\u001b[0m, in \u001b[0;36mJSONDecoder.decode\u001b[0;34m(self, s, _w)\u001b[0m\n\u001b[1;32m    333\u001b[0m \u001b[38;5;250m\u001b[39m\u001b[38;5;124;03m\"\"\"Return the Python representation of ``s`` (a ``str`` instance\u001b[39;00m\n\u001b[1;32m    334\u001b[0m \u001b[38;5;124;03mcontaining a JSON document).\u001b[39;00m\n\u001b[1;32m    335\u001b[0m \n\u001b[1;32m    336\u001b[0m \u001b[38;5;124;03m\"\"\"\u001b[39;00m\n\u001b[0;32m--> 337\u001b[0m obj, end \u001b[38;5;241m=\u001b[39m \u001b[38;5;28mself\u001b[39m\u001b[38;5;241m.\u001b[39mraw_decode(s, idx\u001b[38;5;241m=\u001b[39m_w(s, \u001b[38;5;241m0\u001b[39m)\u001b[38;5;241m.\u001b[39mend())\n\u001b[1;32m    338\u001b[0m end \u001b[38;5;241m=\u001b[39m _w(s, end)\u001b[38;5;241m.\u001b[39mend()\n",
      "File \u001b[0;32m~/miniconda3/envs/oceanography/lib/python3.12/json/decoder.py:355\u001b[0m, in \u001b[0;36mJSONDecoder.raw_decode\u001b[0;34m(self, s, idx)\u001b[0m\n\u001b[1;32m    354\u001b[0m \u001b[38;5;28;01mexcept\u001b[39;00m \u001b[38;5;167;01mStopIteration\u001b[39;00m \u001b[38;5;28;01mas\u001b[39;00m err:\n\u001b[0;32m--> 355\u001b[0m     \u001b[38;5;28;01mraise\u001b[39;00m JSONDecodeError(\u001b[38;5;124m\"\u001b[39m\u001b[38;5;124mExpecting value\u001b[39m\u001b[38;5;124m\"\u001b[39m, s, err\u001b[38;5;241m.\u001b[39mvalue) \u001b[38;5;28;01mfrom\u001b[39;00m \u001b[38;5;28;01mNone\u001b[39;00m\n\u001b[1;32m    356\u001b[0m \u001b[38;5;28;01mreturn\u001b[39;00m obj, end\n",
      "\u001b[0;31mJSONDecodeError\u001b[0m: Expecting value: line 1 column 1 (char 0)",
      "\nDuring handling of the above exception, another exception occurred:\n",
      "\u001b[0;31mJSONDecodeError\u001b[0m                           Traceback (most recent call last)",
      "Cell \u001b[0;32mIn[14], line 3\u001b[0m\n\u001b[1;32m      1\u001b[0m \u001b[38;5;28;01mimport\u001b[39;00m \u001b[38;5;21;01mrequests\u001b[39;00m\n\u001b[1;32m      2\u001b[0m response \u001b[38;5;241m=\u001b[39m requests\u001b[38;5;241m.\u001b[39mget(\u001b[38;5;124m\"\u001b[39m\u001b[38;5;124mhttps://rob5-atomic-portal.azurewebsites.net/api/lookup/\u001b[39m\u001b[38;5;124m\"\u001b[39m, params\u001b[38;5;241m=\u001b[39m{\u001b[38;5;124m\"\u001b[39m\u001b[38;5;124mname\u001b[39m\u001b[38;5;124m\"\u001b[39m: \u001b[38;5;124m\"\u001b[39m\u001b[38;5;124mCarbon\u001b[39m\u001b[38;5;124m\"\u001b[39m})\n\u001b[0;32m----> 3\u001b[0m \u001b[38;5;28mprint\u001b[39m(\u001b[38;5;124m\"\u001b[39m\u001b[38;5;124mThe mass of carbon is \u001b[39m\u001b[38;5;124m\"\u001b[39m \u001b[38;5;241m+\u001b[39m \u001b[38;5;28mstr\u001b[39m(response\u001b[38;5;241m.\u001b[39mjson()[\u001b[38;5;241m0\u001b[39m][\u001b[38;5;124m\"\u001b[39m\u001b[38;5;124mAtomicMass\u001b[39m\u001b[38;5;124m\"\u001b[39m]) \u001b[38;5;241m+\u001b[39m \u001b[38;5;124m\"\u001b[39m\u001b[38;5;124m Daltons\u001b[39m\u001b[38;5;124m\"\u001b[39m)\n",
      "File \u001b[0;32m~/miniconda3/envs/oceanography/lib/python3.12/site-packages/requests/models.py:978\u001b[0m, in \u001b[0;36mResponse.json\u001b[0;34m(self, **kwargs)\u001b[0m\n\u001b[1;32m    974\u001b[0m     \u001b[38;5;28;01mreturn\u001b[39;00m complexjson\u001b[38;5;241m.\u001b[39mloads(\u001b[38;5;28mself\u001b[39m\u001b[38;5;241m.\u001b[39mtext, \u001b[38;5;241m*\u001b[39m\u001b[38;5;241m*\u001b[39mkwargs)\n\u001b[1;32m    975\u001b[0m \u001b[38;5;28;01mexcept\u001b[39;00m JSONDecodeError \u001b[38;5;28;01mas\u001b[39;00m e:\n\u001b[1;32m    976\u001b[0m     \u001b[38;5;66;03m# Catch JSON-related errors and raise as requests.JSONDecodeError\u001b[39;00m\n\u001b[1;32m    977\u001b[0m     \u001b[38;5;66;03m# This aliases json.JSONDecodeError and simplejson.JSONDecodeError\u001b[39;00m\n\u001b[0;32m--> 978\u001b[0m     \u001b[38;5;28;01mraise\u001b[39;00m RequestsJSONDecodeError(e\u001b[38;5;241m.\u001b[39mmsg, e\u001b[38;5;241m.\u001b[39mdoc, e\u001b[38;5;241m.\u001b[39mpos)\n",
      "\u001b[0;31mJSONDecodeError\u001b[0m: Expecting value: line 1 column 1 (char 0)"
     ]
    }
   ],
   "source": [
    "import requests\n",
    "response = requests.get(\"https://rob5-atomic-portal.azurewebsites.net/api/lookup/\", params={\"name\": \"Carbon\"})\n",
    "print(\"The mass of carbon is \" + str(response.json()[0][\"AtomicMass\"]) + \" Daltons\")"
   ]
  },
  {
   "cell_type": "code",
   "execution_count": 12,
   "id": "725a6b7d-2b04-4306-be2f-41a126503d49",
   "metadata": {},
   "outputs": [
    {
     "name": "stdout",
     "output_type": "stream",
     "text": [
      "<!DOCTYPE html>\n",
      "<html>\n",
      "<head>\n",
      "    <title>Web App - Unavailable</title>\n",
      "    <style type=\"text/css\">\n",
      "        html {\n",
      "            height: 100%;\n",
      "            width: 100%;\n",
      "        }\n",
      "\n",
      "        #feature {\n",
      "            width: 960px;\n",
      "            margin: 95px auto 0 auto;\n",
      "            overflow: auto;\n",
      "        }\n",
      "\n",
      "        #content {\n",
      "            font-family: \"Segoe UI\";\n",
      "            font-weight: normal;\n",
      "            font-size: 22px;\n",
      "            color: #ffffff;\n",
      "            float: left;\n",
      "            width: 460px;\n",
      "            margin-top: 68px;\n",
      "            margin-left: 0px;\n",
      "            vertical-align: middle;\n",
      "        }\n",
      "\n",
      "            #content h1 {\n",
      "                font-family: \"Segoe UI Light\";\n",
      "                color: #ffffff;\n",
      "                font-weight: normal;\n",
      "                font-size: 60px;\n",
      "                line-height: 48pt;\n",
      "                width: 800px;\n",
      "            }\n",
      "\n",
      "        p a, p a:visited, p a:active, p a:hover {\n",
      "            color: #ffffff;\n",
      "        }\n",
      "\n",
      "        #content a.button {\n",
      "            background: #0DBCF2;\n",
      "            border: 1px solid #FFFFFF;\n",
      "            color: #FFFFFF;\n",
      "            display: inline-block;\n",
      "            font-family: Segoe UI;\n",
      "            font-size: 24px;\n",
      "            line-height: 46px;\n",
      "            margin-top: 10px;\n",
      "            padding: 0 15px 3px;\n",
      "            text-decoration: none;\n",
      "        }\n",
      "\n",
      "            #content a.button img {\n",
      "                float: right;\n",
      "                padding: 10px 0 0 15px;\n",
      "            }\n",
      "\n",
      "            #content a.button:hover {\n",
      "                background: #1C75BC;\n",
      "            }\n",
      "    </style>\n",
      "</head>\n",
      "<body bgcolor=\"#00abec\">\n",
      "    <div id=\"feature\">\n",
      "            <div id=\"content\">\n",
      "                <h1 id=\"unavailable\">Error 403 - This web app is stopped.</h1>\n",
      "                <p id=\"tryAgain\">The web app you have attempted to reach is currently stopped and does not accept any requests. Please try to reload the page or visit it again soon.</p>\n",
      "                <p id=\"toAdmin\">If you are the web app administrator, please find the common 403 error scenarios and resolution <a href=\"https://go.microsoft.com/fwlink/?linkid=2095007\" target=\"_blank\">here</a>. For further troubleshooting tools and recommendations, please visit <a href=\"https://portal.azure.com/\">Azure Portal</a>.</p>\n",
      "        </div>\n",
      "    </div>\n",
      "</body>\n",
      "</html>\n",
      "\n"
     ]
    }
   ],
   "source": [
    "import requests\n",
    "from pprint import pprint\n",
    "base_url = 'https://rob5-atomic-portal.azurewebsites.net/api/lookup'\n",
    "response = requests.get(base_url + \"/\")\n",
    "print(response.text)"
   ]
  },
  {
   "cell_type": "code",
   "execution_count": 13,
   "id": "f754013b-2e96-47e2-b3c3-202a3f79a5ae",
   "metadata": {
    "tags": []
   },
   "outputs": [
    {
     "ename": "JSONDecodeError",
     "evalue": "Expecting value: line 1 column 1 (char 0)",
     "output_type": "error",
     "traceback": [
      "\u001b[0;31m---------------------------------------------------------------------------\u001b[0m",
      "\u001b[0;31mJSONDecodeError\u001b[0m                           Traceback (most recent call last)",
      "File \u001b[0;32m~/miniconda3/envs/oceanography/lib/python3.12/site-packages/requests/models.py:974\u001b[0m, in \u001b[0;36mResponse.json\u001b[0;34m(self, **kwargs)\u001b[0m\n\u001b[1;32m    973\u001b[0m \u001b[38;5;28;01mtry\u001b[39;00m:\n\u001b[0;32m--> 974\u001b[0m     \u001b[38;5;28;01mreturn\u001b[39;00m complexjson\u001b[38;5;241m.\u001b[39mloads(\u001b[38;5;28mself\u001b[39m\u001b[38;5;241m.\u001b[39mtext, \u001b[38;5;241m*\u001b[39m\u001b[38;5;241m*\u001b[39mkwargs)\n\u001b[1;32m    975\u001b[0m \u001b[38;5;28;01mexcept\u001b[39;00m JSONDecodeError \u001b[38;5;28;01mas\u001b[39;00m e:\n\u001b[1;32m    976\u001b[0m     \u001b[38;5;66;03m# Catch JSON-related errors and raise as requests.JSONDecodeError\u001b[39;00m\n\u001b[1;32m    977\u001b[0m     \u001b[38;5;66;03m# This aliases json.JSONDecodeError and simplejson.JSONDecodeError\u001b[39;00m\n",
      "File \u001b[0;32m~/miniconda3/envs/oceanography/lib/python3.12/json/__init__.py:346\u001b[0m, in \u001b[0;36mloads\u001b[0;34m(s, cls, object_hook, parse_float, parse_int, parse_constant, object_pairs_hook, **kw)\u001b[0m\n\u001b[1;32m    343\u001b[0m \u001b[38;5;28;01mif\u001b[39;00m (\u001b[38;5;28mcls\u001b[39m \u001b[38;5;129;01mis\u001b[39;00m \u001b[38;5;28;01mNone\u001b[39;00m \u001b[38;5;129;01mand\u001b[39;00m object_hook \u001b[38;5;129;01mis\u001b[39;00m \u001b[38;5;28;01mNone\u001b[39;00m \u001b[38;5;129;01mand\u001b[39;00m\n\u001b[1;32m    344\u001b[0m         parse_int \u001b[38;5;129;01mis\u001b[39;00m \u001b[38;5;28;01mNone\u001b[39;00m \u001b[38;5;129;01mand\u001b[39;00m parse_float \u001b[38;5;129;01mis\u001b[39;00m \u001b[38;5;28;01mNone\u001b[39;00m \u001b[38;5;129;01mand\u001b[39;00m\n\u001b[1;32m    345\u001b[0m         parse_constant \u001b[38;5;129;01mis\u001b[39;00m \u001b[38;5;28;01mNone\u001b[39;00m \u001b[38;5;129;01mand\u001b[39;00m object_pairs_hook \u001b[38;5;129;01mis\u001b[39;00m \u001b[38;5;28;01mNone\u001b[39;00m \u001b[38;5;129;01mand\u001b[39;00m \u001b[38;5;129;01mnot\u001b[39;00m kw):\n\u001b[0;32m--> 346\u001b[0m     \u001b[38;5;28;01mreturn\u001b[39;00m _default_decoder\u001b[38;5;241m.\u001b[39mdecode(s)\n\u001b[1;32m    347\u001b[0m \u001b[38;5;28;01mif\u001b[39;00m \u001b[38;5;28mcls\u001b[39m \u001b[38;5;129;01mis\u001b[39;00m \u001b[38;5;28;01mNone\u001b[39;00m:\n",
      "File \u001b[0;32m~/miniconda3/envs/oceanography/lib/python3.12/json/decoder.py:337\u001b[0m, in \u001b[0;36mJSONDecoder.decode\u001b[0;34m(self, s, _w)\u001b[0m\n\u001b[1;32m    333\u001b[0m \u001b[38;5;250m\u001b[39m\u001b[38;5;124;03m\"\"\"Return the Python representation of ``s`` (a ``str`` instance\u001b[39;00m\n\u001b[1;32m    334\u001b[0m \u001b[38;5;124;03mcontaining a JSON document).\u001b[39;00m\n\u001b[1;32m    335\u001b[0m \n\u001b[1;32m    336\u001b[0m \u001b[38;5;124;03m\"\"\"\u001b[39;00m\n\u001b[0;32m--> 337\u001b[0m obj, end \u001b[38;5;241m=\u001b[39m \u001b[38;5;28mself\u001b[39m\u001b[38;5;241m.\u001b[39mraw_decode(s, idx\u001b[38;5;241m=\u001b[39m_w(s, \u001b[38;5;241m0\u001b[39m)\u001b[38;5;241m.\u001b[39mend())\n\u001b[1;32m    338\u001b[0m end \u001b[38;5;241m=\u001b[39m _w(s, end)\u001b[38;5;241m.\u001b[39mend()\n",
      "File \u001b[0;32m~/miniconda3/envs/oceanography/lib/python3.12/json/decoder.py:355\u001b[0m, in \u001b[0;36mJSONDecoder.raw_decode\u001b[0;34m(self, s, idx)\u001b[0m\n\u001b[1;32m    354\u001b[0m \u001b[38;5;28;01mexcept\u001b[39;00m \u001b[38;5;167;01mStopIteration\u001b[39;00m \u001b[38;5;28;01mas\u001b[39;00m err:\n\u001b[0;32m--> 355\u001b[0m     \u001b[38;5;28;01mraise\u001b[39;00m JSONDecodeError(\u001b[38;5;124m\"\u001b[39m\u001b[38;5;124mExpecting value\u001b[39m\u001b[38;5;124m\"\u001b[39m, s, err\u001b[38;5;241m.\u001b[39mvalue) \u001b[38;5;28;01mfrom\u001b[39;00m \u001b[38;5;28;01mNone\u001b[39;00m\n\u001b[1;32m    356\u001b[0m \u001b[38;5;28;01mreturn\u001b[39;00m obj, end\n",
      "\u001b[0;31mJSONDecodeError\u001b[0m: Expecting value: line 1 column 1 (char 0)",
      "\nDuring handling of the above exception, another exception occurred:\n",
      "\u001b[0;31mJSONDecodeError\u001b[0m                           Traceback (most recent call last)",
      "Cell \u001b[0;32mIn[13], line 2\u001b[0m\n\u001b[1;32m      1\u001b[0m response \u001b[38;5;241m=\u001b[39m requests\u001b[38;5;241m.\u001b[39mget(base_url \u001b[38;5;241m+\u001b[39m \u001b[38;5;124m\"\u001b[39m\u001b[38;5;124m?name=Iron\u001b[39m\u001b[38;5;124m\"\u001b[39m)\n\u001b[0;32m----> 2\u001b[0m pprint(response\u001b[38;5;241m.\u001b[39mjson())\n",
      "File \u001b[0;32m~/miniconda3/envs/oceanography/lib/python3.12/site-packages/requests/models.py:978\u001b[0m, in \u001b[0;36mResponse.json\u001b[0;34m(self, **kwargs)\u001b[0m\n\u001b[1;32m    974\u001b[0m     \u001b[38;5;28;01mreturn\u001b[39;00m complexjson\u001b[38;5;241m.\u001b[39mloads(\u001b[38;5;28mself\u001b[39m\u001b[38;5;241m.\u001b[39mtext, \u001b[38;5;241m*\u001b[39m\u001b[38;5;241m*\u001b[39mkwargs)\n\u001b[1;32m    975\u001b[0m \u001b[38;5;28;01mexcept\u001b[39;00m JSONDecodeError \u001b[38;5;28;01mas\u001b[39;00m e:\n\u001b[1;32m    976\u001b[0m     \u001b[38;5;66;03m# Catch JSON-related errors and raise as requests.JSONDecodeError\u001b[39;00m\n\u001b[1;32m    977\u001b[0m     \u001b[38;5;66;03m# This aliases json.JSONDecodeError and simplejson.JSONDecodeError\u001b[39;00m\n\u001b[0;32m--> 978\u001b[0m     \u001b[38;5;28;01mraise\u001b[39;00m RequestsJSONDecodeError(e\u001b[38;5;241m.\u001b[39mmsg, e\u001b[38;5;241m.\u001b[39mdoc, e\u001b[38;5;241m.\u001b[39mpos)\n",
      "\u001b[0;31mJSONDecodeError\u001b[0m: Expecting value: line 1 column 1 (char 0)"
     ]
    }
   ],
   "source": [
    "response = requests.get(base_url + \"?name=Iron\")\n",
    "pprint(response.json())"
   ]
  },
  {
   "cell_type": "code",
   "execution_count": null,
   "id": "24818610-ae0a-4500-9656-b5571e9c85e6",
   "metadata": {},
   "outputs": [],
   "source": []
  },
  {
   "cell_type": "code",
   "execution_count": null,
   "id": "7c4b5ca1-b713-4cd8-af63-6b02e7688f70",
   "metadata": {},
   "outputs": [],
   "source": []
  }
 ],
 "metadata": {
  "kernelspec": {
   "display_name": "Python 3 (ipykernel)",
   "language": "python",
   "name": "python3"
  },
  "language_info": {
   "codemirror_mode": {
    "name": "ipython",
    "version": 3
   },
   "file_extension": ".py",
   "mimetype": "text/x-python",
   "name": "python",
   "nbconvert_exporter": "python",
   "pygments_lexer": "ipython3",
   "version": "3.12.2"
  }
 },
 "nbformat": 4,
 "nbformat_minor": 5
}
