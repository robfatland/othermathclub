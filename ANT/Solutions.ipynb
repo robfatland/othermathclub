{
 "cells": [
  {
   "cell_type": "markdown",
   "id": "32d901d5-e6c4-4b32-b32d-8d3efa85c82b",
   "metadata": {},
   "source": [
    "# Apostol: Introduction to Analytic Number Theory Solutions\n",
    "\n",
    "## Foreward: Tommy, Greg, Sean and me\n",
    "\n",
    "\n",
    "I thought I'd take a run at analytic number theory as a self-study 'course'\n",
    "by means of Professor Apostol's fine book. I last had the privilege of \n",
    "enjoying his lectures in person in 1984; whence once upon a time I and my \n",
    "fellow classmates affectionately referred to him (or his calculus books,\n",
    "depending on context) as *Tommy*.\n",
    "\n",
    "\n",
    "My observation on starting to work through this book: I found I \n",
    "understood the basic theorems and proofs on a 'check mark' level.\n",
    "They made perfect sense but were not truly internalized. This hit \n",
    "home as I dug into the exercises, where I hit a brick wall with \n",
    "even the simplest of chapter 1, let alone those of chapter 2. \n",
    "\n",
    "\n",
    "After a time when various attempts got me little progress I decided\n",
    "to look for some guidance on the web; which led me to a partial set\n",
    "of solutions by Sean Li and a full set by Greg Hurst. These proved\n",
    "to be an excellent resource; and as long as they are available online\n",
    "as pdfs they might be seen as an alternative to course lectures. \n",
    "All solutions found here -- unless otherwise noted -- should be taken\n",
    "as 'directly from Greg's and/or Sean's work', albeit through \n",
    "the lens of my interpretive process. \n",
    "\n",
    "\n",
    "In this regard I'm writing up these notes for my own amusement, in\n",
    "particular to record ideas and methods that are implicit in the work\n",
    "of Messrs. Li and Hurst. As an example it is one thing to multiply\n",
    "$c \\; \\times \\; 1$ as a triviality but quite another knowing that\n",
    "$(a, b) = 1$ to multiply $c \\cdot (ax + by)$ for some $x$ and $y$ \n",
    "as a productive step in a proof. So away we go here, in the spirit\n",
    "of an annotative look at Apostol's Introduction to Analytic Number\n",
    "Theory. \n",
    "\n",
    "\n",
    "## Types of solution\n",
    "\n",
    "'Ducking the wave' is possible for some problems. An elegant solution might be \n",
    "intended by the author (see the occasional *hint*) that makes use of theorems \n",
    "and reasoning. I often start problems by working examples; and this can turn \n",
    "up patterns that suggest a *mechanical* rather than *theoretical* solution. \n",
    "Less elegant and less powerful. Working cases for problem 2.5, for example,\n",
    "turns up a kind of empirical combinatoric solution... but at the moment I do \n",
    "not have a complete justification. \n",
    "\n",
    "\n",
    "Some solutions in chapter 1 I have skimped on, falling back on writing an \n",
    "integer $n > 1$ as $\\prod_{i=1}^{k}{p_i}^{a_i}$ and then reasoning about \n",
    "the statement to be proved. Again this feels mechanical but 'let me not\n",
    "get bogged down in chapter one'!"
   ]
  },
  {
   "cell_type": "markdown",
   "id": "12c8ebc2-4695-40a3-ae02-1840268d84a8",
   "metadata": {},
   "source": [
    "## Chapter 1\n",
    "\n",
    "### Problems 1--6: Prove the statements\n",
    "\n",
    "Work from Theorems 1.2, 1.3, 1.4, and 1.5."
   ]
  },
  {
   "cell_type": "markdown",
   "id": "e4925e43-f889-4a14-a943-52999b56e388",
   "metadata": {},
   "source": [
    "##### 1.1 If $(a, b) = 1$ and $c|a$ and $d|b$ then $(c, d) = 1$.\n",
    "\n",
    "\n",
    "$a=cq$ and $b=dr$. Hence $1=ax+by=cqx+dry=(qx)c + (ry)d$ so $(c, d)=1 \\; {\\Box}$\n",
    "\n",
    "\n",
    "...taking advantage of 'one and only one' in Theorem 1.3. (Sean Li does proof by contradiction.)"
   ]
  },
  {
   "cell_type": "markdown",
   "id": "9bfd9edc-c77d-487a-a777-a0057a7f9ee5",
   "metadata": {},
   "source": [
    "##### 1.2 If $(a,b) = (a,c) = 1$ then $(a, bc) = 1$.\n",
    "\n",
    "$aq+br=as+ct=1$. $(a, bc) = au+bcv$. In progress."
   ]
  },
  {
   "cell_type": "markdown",
   "id": "43a931fd-3a4d-4c97-ac4e-1782f02a3fd0",
   "metadata": {},
   "source": [
    "##### 1.3 If $(a, b) = 1$ then $(a^n,b^k)=1$ for all $n \\ge 1, \\; k \\ge 1$.\n",
    "\n",
    "Suppose $(a^n, b^k)=m$ with $m>1$. Then $m = a^nx+b^ky = $ in progress."
   ]
  },
  {
   "cell_type": "markdown",
   "id": "8376df23-f5f1-4cd5-8cb8-ad1f6c722af2",
   "metadata": {},
   "source": [
    "##### 1.4 If $(a, b) = 1$ then $(a+b, a-b$ is either $1$ or $2$."
   ]
  },
  {
   "cell_type": "markdown",
   "id": "5e174607-79c7-4b98-bd25-f8c40b2b7ce5",
   "metadata": {},
   "source": [
    "##### 1.5 If $(a,b)=1$ then $(a+b, a^2-ab+b^2)$ is either $1$ or $3$.\n",
    "\n",
    "$((a+b), {(a+b)}^2-3ab) = (q, q^2 - 3ab)$"
   ]
  },
  {
   "cell_type": "markdown",
   "id": "88d2bb37-8ac4-43b9-b547-dbc0c43d6079",
   "metadata": {},
   "source": [
    "##### 1.6 If $(a, b)=1$ and $d|(a+b)$ then $(d,a)=(d,b)=1$."
   ]
  },
  {
   "cell_type": "markdown",
   "id": "520f01a1-289e-4b3d-9663-9348df523c3e",
   "metadata": {},
   "source": [
    "#### 1.7 Reduced fraction\n",
    "\n",
    "A reduced fraction sum $a/b + c/d = n$, an integer. We have $(a,b)=(c,d)=1$. in progress "
   ]
  },
  {
   "cell_type": "markdown",
   "id": "ecf864eb-556c-405e-8477-96ed27d601ff",
   "metadata": {},
   "source": [
    "#### 1.8"
   ]
  },
  {
   "cell_type": "markdown",
   "id": "8a74cf62-159e-477d-adf1-f1d744f08b8b",
   "metadata": {},
   "source": [
    "#### 1.9"
   ]
  },
  {
   "cell_type": "markdown",
   "id": "965dfcdb-5005-4138-9b5d-e8c9f20d729f",
   "metadata": {},
   "source": [
    "#### 1.10"
   ]
  },
  {
   "cell_type": "markdown",
   "id": "d42da7a0-967f-40a1-a065-5b082af57649",
   "metadata": {},
   "source": [
    "#### 1.11"
   ]
  },
  {
   "cell_type": "markdown",
   "id": "77e7f82c-804c-45cb-bacb-a2b59164fb3b",
   "metadata": {},
   "source": [
    "#### 1.12"
   ]
  },
  {
   "cell_type": "markdown",
   "id": "23420080-6117-4d6b-97e7-a75191605f66",
   "metadata": {},
   "source": [
    "#### 1.13"
   ]
  },
  {
   "cell_type": "markdown",
   "id": "0966952b-a108-498c-8f36-8f5c17350931",
   "metadata": {},
   "source": [
    "#### 1.14"
   ]
  },
  {
   "cell_type": "markdown",
   "id": "6696d415-59dc-405c-9de0-4c6c348e8007",
   "metadata": {},
   "source": [
    "#### 1.15"
   ]
  },
  {
   "cell_type": "markdown",
   "id": "984d0286-fad1-4252-a997-93b9fb6e15a3",
   "metadata": {},
   "source": [
    "#### 1.16"
   ]
  },
  {
   "cell_type": "markdown",
   "id": "21c87677-3299-4699-9d00-236a33cdf51b",
   "metadata": {},
   "source": [
    "#### 1.17"
   ]
  },
  {
   "cell_type": "markdown",
   "id": "690e6d90-712e-41d9-9076-f1e4ba44dd05",
   "metadata": {},
   "source": [
    "#### 1.18"
   ]
  },
  {
   "cell_type": "markdown",
   "id": "a12343b5-eb22-4f35-b78d-ead9e725bf4f",
   "metadata": {},
   "source": [
    "#### 1.19"
   ]
  },
  {
   "cell_type": "markdown",
   "id": "efe75e42-33f0-4cf9-ac2c-405d172b1c7c",
   "metadata": {},
   "source": [
    "#### 1.20"
   ]
  },
  {
   "cell_type": "markdown",
   "id": "22b7c0bb-d230-4e27-b264-a52ae8726de2",
   "metadata": {},
   "source": [
    "#### 1.21"
   ]
  },
  {
   "cell_type": "markdown",
   "id": "4870a787-bf1a-4dfd-b90a-6a55becb5dc3",
   "metadata": {},
   "source": [
    "#### 1.22"
   ]
  },
  {
   "cell_type": "markdown",
   "id": "a233650a-d450-4341-8597-1975d90ad8e4",
   "metadata": {},
   "source": [
    "#### 1.23"
   ]
  },
  {
   "cell_type": "markdown",
   "id": "9e54e124-6c46-4e93-815e-bb0579e3f6c0",
   "metadata": {},
   "source": [
    "#### 1.24"
   ]
  },
  {
   "cell_type": "markdown",
   "id": "f46c025e-ec3d-41c9-ab1f-89497d4282ec",
   "metadata": {},
   "source": [
    "#### 1.25"
   ]
  },
  {
   "cell_type": "markdown",
   "id": "5776de72-9993-4029-8c96-01f94dbe795c",
   "metadata": {},
   "source": [
    "#### 1.26"
   ]
  },
  {
   "cell_type": "markdown",
   "id": "e07c2667-2708-4670-a740-a3155967371e",
   "metadata": {},
   "source": [
    "#### 1.27"
   ]
  },
  {
   "cell_type": "markdown",
   "id": "ce1ad11d-8aa6-4ca5-b644-02f6c407db80",
   "metadata": {},
   "source": [
    "#### 1.28"
   ]
  },
  {
   "cell_type": "markdown",
   "id": "42633ffd-6f40-44be-bca8-8614803ea211",
   "metadata": {},
   "source": [
    "#### 1.29"
   ]
  },
  {
   "cell_type": "markdown",
   "id": "6afdd263-46e1-4d36-bfee-f4a933b2d4db",
   "metadata": {},
   "source": [
    "#### 1.30 If $n>1$ prove $\\sum_{k=1}^{n}{\\frac{1}{k}}$ is not an integer. \n",
    "\n",
    "\n",
    "This sum is called the [nth Harmonic number](https://en.wikipedia.org/wiki/Harmonic_number).\n",
    "\n",
    "\n",
    "There are two proofs easily found on the web: The *Bertrand Conjecture proof* \n",
    "and the *2-adic proof*.\n",
    "\n",
    "\n",
    "Bertrand's Postulate aka Chebyshev's Theorem I remember using:\n",
    "\n",
    "\n",
    "> *Chebyshev said it*<br>\n",
    "> *I'll say it again*<br>\n",
    "> *There's always a prime*<br>\n",
    "> *Between $n$ and $2n$.*\n",
    "\n",
    "\n",
    "The following is a rewrite of Anton Geraschenko's 'Bertrand' proof mentioned in passing in an online post dated to 2010.\n",
    "\n",
    "Take $p>n/2$ to be the largest prime less than $n>3$. Then $\\sum_{i=1}^{n}\\frac{1}{i}=\\frac{1}{p} + \\frac{a}{b}$,\n",
    "using $\\frac{a}{b}$ as a collective 'sum of everything else'.\n",
    "The key idea is that the factors of the common denominator $b$ are all primes less than $p$. \n",
    "Suppose $\\frac{1}{p} + \\frac{a}{b}$ is an integer; \n",
    "then this number multiplied by $b$ is likewise an integer; but *that* number would be $\\frac{b}{p} + a$ and\n",
    "as $(b,p)=1$ the fraction $\\frac{b}{p}$ is not an integer, a contradiction. $\\Box$\n",
    "\n",
    "\n",
    "The 2-adic proof was given by [JÓZSEF KÜRSCHÁK](https://en.wikipedia.org/wiki/J%C3%B3zsef_K%C3%BCrsch%C3%A1k)\n",
    "in a Hungarian Math/Physics journal; see ***A Harmonikus Sorról, Mat. és Fiz. Lapok, 27 (1918), 299--300***.\n",
    "One approach to stating this (mentioned by Anton Geraschenko) is to substitute the largest possible\n",
    "$2^s < n$ for $p$\n",
    "in the above argument. "
   ]
  },
  {
   "cell_type": "markdown",
   "id": "7d084ece-1235-46d2-81d5-aca105a3365a",
   "metadata": {},
   "source": [
    "## Chapter 2\n",
    "\n",
    "Here it is assumed unless stated otherwise that $k$ is the number of unique prime factors of $n$."
   ]
  },
  {
   "cell_type": "markdown",
   "id": "bb775b69-4231-49fb-8ede-ab44466a3a53",
   "metadata": {},
   "source": [
    "### 2.1\n",
    "\n",
    "Find $n$ for which (a) $\\varphi(n) = \\frac{n}{2}$; (b) $\\varphi(n) = \\varphi(2n)$; (c) $\\varphi(n) = 12$.\n",
    "\n",
    "\n",
    "(a) (Greg) For $n>2$ we know $\\varphi(n)$ is even so $\\varphi(n)=2^s\\cdot d$ \n",
    "for some $s \\ge 1$ with $d$ odd. As $(2^s, d) = 1$:\n",
    "$\\varphi(n)=\\varphi(2^s)\\cdot\\varphi(d)=2^{s-1}\\cdot\\varphi(d)=n/2.$\n",
    "Hence $n=2^s \\cdot d = 2^s \\varphi(d)$. This means $d = \\varphi(d)$; and this is\n",
    "the case only when $d=1$.\n",
    "So $n$ is $\\{ 2, 4, 8, \\dots \\}$.\n",
    "\n",
    "(b) Useful observation: $\\varphi(2^s)=\\varphi(2^{s+1})$ only for $s=0$. Now: (Greg) as above, taking $n=2^s\\cdot d$ we want $n$ for which $\\varphi(n) = \\varphi(2n)$.\n",
    "This becomes $\\varphi(2^s)\\cdot\\varphi(d)=\\varphi(2^{s+1})\\cdot\\varphi(d)$. Hence $d$ is any odd number and $s=0$; so 'n is odd'.\n",
    "\n",
    "(c) (Greg) 12 is the totient of no less than six numbers. This is the first example of a somewhat\n",
    "mechanical proof; but that is really the nature of the problem. in process."
   ]
  },
  {
   "cell_type": "markdown",
   "id": "6c1dc056-e646-4b43-af82-d5b6d5f09a1e",
   "metadata": {},
   "source": [
    "### 2.2 Prove or find counterexamples $\\otimes$ for...\n",
    "\n",
    "(a) $(m,n) = 1 \\implies (\\varphi(m), \\varphi(n))=1$: $m=3,\\;n=4\\;\\otimes$\n",
    "\n",
    "(b) $n \\; composite \\; \\implies (n, \\varphi(n)) > 1$: $n=15\\;\\otimes$\n",
    "\n",
    "(c) If the same primes divide $m$ and $n$ then $n\\cdot\\varphi(m) = m\\cdot\\varphi(n)$.\n",
    "\n",
    "$\\frac{\\varphi(m)}{m}=\\prod_{p|m}{1-p^{-1}}$. Since all $p$ that divide $m$ also divide $n$\n",
    "the product on the right is also equal to $\\frac{\\varphi(n)}{n}. \\; \\Box$"
   ]
  },
  {
   "cell_type": "markdown",
   "id": "8af96a51-ea97-4b7d-9e1a-73412cf5c063",
   "metadata": {},
   "source": [
    "### 2.3"
   ]
  },
  {
   "cell_type": "markdown",
   "id": "43913ba4-9d73-4d1c-8f96-9362a2b3a452",
   "metadata": {},
   "source": [
    "### 2.4 \n",
    "\n",
    "Prove $\\varphi(n) > \\frac{n}{6} \\; \\forall \\; n $ with $k \\le 8$.\n",
    "\n",
    "\n",
    "This is a second example of a mechanical proof (where Greg and Sean agree). \n",
    "\n",
    "Taking $\\varphi(n) = n \\cdot \\prod_{p|n}\\frac{p-1}{p}$ simply multiply out this\n",
    "product (each term less than $1$) for the first 8 primes $\\{\\frac{1}{2} \\cdot \\frac{2}{3} \\cdot \\cdots \\cdot \\frac{18}{19}\\}$ \n",
    "to arrive at a number greater than $1/6$. *Larger* primes will produce terms\n",
    "*closer* to 1 so this version of the product is a lower bound. *Fewer* primes\n",
    "will mean *fewer* factors less than one so again this product is a lower\n",
    "bound."
   ]
  },
  {
   "cell_type": "markdown",
   "id": "aae405e1-3e27-437c-9eae-f2fc6ec1b42c",
   "metadata": {},
   "source": [
    "### 2.5\n",
    "\n",
    "Show the Dirichlet product $f = \\mu * \\nu$ is 0 or 1 where $\\nu(n)$ is the number of distinct prime factors of \n",
    "$n \\; (\\nu(1)=0)$. \n",
    "\n",
    "\n",
    "Useful observation:\n",
    "Define an alternating-sign weighted sum of binomial coefficients as \n",
    "$A_a(k) = \\sum_{i = 0}^{k} {-1}^i \\cdot \\binom k i \\cdot i^a$. \n",
    "Then\n",
    "\n",
    "\\begin{equation}\n",
    "A_0(k) = \\sum_{i=0}^{k} {-1}^i \\cdot \\binom k i\n",
    "\\end{equation}\n",
    "\n",
    "\\begin{equation}\n",
    "A_1(k) = \\sum_{i=0}^{k} {-1}^i \\cdot \\binom k i \\cdot i\n",
    "\\end{equation}\n",
    "\n",
    "\n",
    "Evaluating: $A_1(1) = 1$ and $A_0(k \\ge 1) = A_1(k > 1) = 0$.\n",
    "\n",
    "\n",
    "To the problem then: After noting $f(1) = 0$ we consider $n > 1$ with $n = \\prod_{i=1}^{k \\ge 1} {p_i}^{a_i}$.\n",
    "\n",
    "\n",
    "\n",
    "Define $m$ to be the number of prime factors of $n$ that have $a_i \\ge 2$.\n",
    "For example $360 = 2^3 \\cdot 3^2 \\cdot 5^1$ has $m=2$. \n",
    "This parameter is motivated by terms in the Dirichlet convolution sum where \n",
    "the divisor $d$ includes a\n",
    "prime factor ${p_i}^1$ that has $a_i \\ge 2$ so that $p_i$ is also present in\n",
    "the complementary divisor $\\frac{n}{d}$.\n",
    "These $m$ primes be factors of both $d$ and $n/d$; so affecting both \n",
    "$\\mu(d)$ and $\\nu(n/d)$. We proceed by considering all square-free \n",
    "divisors $d$, grouped by number of prime factors to give a fixed\n",
    "value of $\\mu(d)$. The subsequent task is, for each group, to tot up\n",
    "the total number of prime factors in $\\nu(n/d)$.\n",
    "\n",
    "\\begin{equation}\n",
    "\\prod_{i=1}^{k}(1+p_i)=1 + p_1 + p_2 + \\dots + p_k + p_1 \\cdot p_2 + \\dots + p_{k-1} \\cdot p_{k} + \\dots + p_1 \\cdot p_2 \\cdot p_3 \\cdots p_k.\n",
    "\\end{equation}\n",
    "\n",
    "\n",
    "Grouping by number of prime factors in $d$ we have: Group 0: $\\{ 1 \\}$, one element; group 1, individual primes: $\\{ p_1, p_2, \\dots, p_k \\}$, $k$ elements; group 2, prime pairs $\\{ p_1 \\cdot p_2, p_1\\cdot p_3, \\dots, p_{k-1} \\cdot p_{k}\\}$\n",
    "$\\dots$ group $g$, $\\binom{k}{g}$ elements; $\\dots$; group $k$: $\\{ p_1\\cdot p_2 \\cdot \\cdots \\cdot p_k \\}$, \n",
    "one element. \n",
    "\n",
    "We can write the Dirichlet convolution as follows with the outer sum being a sum over these $k+1$ groups:\n",
    "\n",
    "\n",
    "\\begin{equation}\n",
    "f = \\mu * \\nu = \\sum_{g=0}^{k} \\sum_{i=1}^{\\binom k g} \\mu(d_{gi}) \\cdot \\nu(\\frac{n}{d_{gi}}) \n",
    "\\end{equation}\n",
    "\n",
    "\n",
    "When $m = 0$ the number $n$ is the product of a set of distinct primes. In this case the value\n",
    "of $\\nu(n/d)$ will be a constant $(k - g)$ for group $g$. The above sum becomes\n",
    "\n",
    "\n",
    "\\begin{equation}\n",
    "f = \\mu * \\nu = \\sum_{g=0}^{k} {\\binom k g} \\cdot ({-1}^g) \\cdot (k - g) \n",
    "\\end{equation}\n"
   ]
  },
  {
   "cell_type": "markdown",
   "id": "59acccb9-5200-441d-994e-5ec8c64ec743",
   "metadata": {},
   "source": [
    "With $k = 1$: $n$ is prime and $f(p) = (1 \\cdot 1 \\cdot 1) + (1 \\cdot -1 \\cdot 0) = A_1(1) = 1$. \n",
    "\n",
    "\n",
    "With $k > 1$ still keeping $m=0$ we have equivalence by symmetry to $A_1$ give or take a factor of $-1$ so \n",
    "the sum is $0$.\n",
    "\n",
    "$$\n",
    "f = \\mu * \\nu = \\sum_{g=0}^{k} {\\binom k g} \\cdot ({-1}^g) \\cdot (k - g) = 0.\n",
    "$$\n",
    "\n",
    "\n",
    "When $m$ is greater than $0$ the value of $\\nu(\\frac{n}{d})$ varies from one group term to another depending on ..."
   ]
  },
  {
   "cell_type": "code",
   "execution_count": 10,
   "id": "810ad333-c9c4-410c-b4a9-1494e04be5ce",
   "metadata": {},
   "outputs": [
    {
     "name": "stdout",
     "output_type": "stream",
     "text": [
      "21\n"
     ]
    }
   ],
   "source": [
    "def f(n): return n if n < 2 else (f(n-2) + f(n-1))\n",
    "\n",
    "print(f(8))"
   ]
  }
 ],
 "metadata": {
  "kernelspec": {
   "display_name": "Python 3 (ipykernel)",
   "language": "python",
   "name": "python3"
  },
  "language_info": {
   "codemirror_mode": {
    "name": "ipython",
    "version": 3
   },
   "file_extension": ".py",
   "mimetype": "text/x-python",
   "name": "python",
   "nbconvert_exporter": "python",
   "pygments_lexer": "ipython3",
   "version": "3.9.12"
  }
 },
 "nbformat": 4,
 "nbformat_minor": 5
}
