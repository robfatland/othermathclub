{
 "cells": [
  {
   "cell_type": "markdown",
   "id": "7d57e0d5-ab8d-4626-9628-ea99551ea555",
   "metadata": {},
   "source": [
    "# Supercomputing\n",
    "\n",
    "Comments on HPC and cloud use."
   ]
  },
  {
   "cell_type": "markdown",
   "id": "f723e8d4-ea4f-44c8-abb2-77aa4932b0cb",
   "metadata": {},
   "source": [
    "## Goal\n",
    "\n",
    "Create reproducible narratives that illuminate the path for researchers new (and leaning in) to the AI/ML/cloud/HPC/data science/technology space. "
   ]
  },
  {
   "cell_type": "markdown",
   "id": "e366f7cb-0fa5-4664-9956-3035aa8b58ec",
   "metadata": {},
   "source": [
    "## Hyak \n",
    "\n",
    "* Oorjit, Naomi, Rob are Hyak Power Users In Training\n",
    "* [RCC get started](https://depts.washington.edu/uwrcc/getting-started-2/getting-started/)\n",
    "* [Hyak Start Here](https://hyak.uw.edu/docs/)\n",
    "* [Hyak Wiki](https://wiki.cac.washington.edu/display/hyakusers/WIKI+for+Hyak+users)\n",
    "* [Training Document](https://github.com/UW-HPC/HyakTraining_F19/blob/master/TrainingSession_F19.pdf)\n",
    "* [ssh and login node usage](https://hyak.uw.edu/docs/setup/ssh)\n",
    "* At UW IT **My Groups**: No `u_hyak` group found...\n",
    "* Kristen points out:\n",
    "    * Use klone, not mox: `ssh netid@klone.hyak.uw.edu`\n",
    "    * Run a job on 1 A40 with 80GB + 1 CPU, 2 hours\n",
    "        * `salloc -A escience --partition=gpu-a40 -c 1 --time=2:00:00 --gpus=1 --mem=80G`"
   ]
  },
  {
   "cell_type": "markdown",
   "id": "ceff4820-5031-4ecb-829e-a5611e622ecc",
   "metadata": {},
   "source": [
    "## [SSEC RAG](https://uw-ssec-tutorials.readthedocs.io/en/latest/SciPy2024/README.html)\n",
    "\n",
    "\n",
    "\n",
    "\n",
    "\n",
    "## [DMTCP](https://hyak.uw.edu/docs/tools/dmtcp#dmtcp-usage)\n",
    "\n",
    "\n",
    "Distributed multi-threaded checkpointing..."
   ]
  },
  {
   "cell_type": "markdown",
   "id": "6facb74f-239c-483b-b095-a1f84e2b2e03",
   "metadata": {},
   "source": [
    "## Checkpointing\n",
    "\n",
    "\n",
    "Following Oorjit's tutorial [here](https://github.com/oorjitchowdhary/ml-training-preemptible-vms).\n",
    "\n",
    "\n",
    "* Signed on to a GCP Project through UW NetID authentication\n",
    "* Created a bucket `rob-checkpointing-test-1` with defaults in the US\n",
    "    * Kept `enforce public access prevention on this bucket` enabled\n",
    "* Staying with the simpler CIFAR-10 task\n",
    "    * Jump to a [Training tutorial](https://pytorch.org/tutorials/beginner/blitz/cifar10_tutorial.html)\n",
    "* Run locally and save `.pth` files to `/checkpoint`; then copy these to the GCP bucket\n",
    "    * Using the bucket requires...\n",
    "        * ...create a new ***or*** using the existing default service account\n",
    "        * ...download the JSON key file\n",
    "        * ...set the service_account_json variable in checkpointing.py = path of the JSON key file\n",
    "        * ...replace the bucket_name variable with the name of the bucket\n",
    "    * In principle any cloud storage will work\n",
    "\n",
    "\n",
    "Useful Linux commands to get ready to go in the mode of \"I better download the data.\" \n",
    "***However*** notice that the code in the tutorial can download and unpack the data\n",
    "for us; so this step is not strictly necessary. It might be wise to go with the \n",
    "manual route to keep the 150MB of data from being bundled in a repository like this \n",
    "one, however. So for the record: \n",
    "\n",
    "\n",
    "```\n",
    "wget http://www.cs.toronto.edu/~kriz/cifar-10-python.tar.gz\n",
    "gunzip cifar*\n",
    "tar -xvf cifar*tar\n",
    "rm cifar*tar\n",
    "```\n",
    "\n",
    "\n",
    "And now below I made modfications to the loading code: `download=False` and so forth. \n",
    "Possibly we want to relocate the data directory to some \n",
    "location: `mkdir ~/cifar10; mv cifar-10-batches-py cifar10`. Then \n",
    "direct the code to this location using `root='~/cifar10'`. \n",
    "\n",
    "\n",
    "Need `pytorch` etcetera? \n",
    "\n",
    "\n",
    "```\n",
    "conda install torch\n",
    "conda install torchvision\n",
    "```\n",
    "\n",
    "\n",
    "The data directory consists of five 31MB files, another 31MB test file, an `html` README file, and \n",
    "a tiny mysterious file called `batches.meta`. \n",
    "\n",
    "\n",
    "From the readme: \"The CIFAR-10 dataset consists of 60000 32x32 colour images in 10 classes, with 6000 images per class. There are 50000 training images and 10000 test images.\"\n",
    "\n",
    "\n",
    "Thanks to Alex Krizhevsky, citing `Learning Multiple Layers of Features from Tiny Images, Alex Krizhevsky, 2009`.\n",
    "\n",
    "\n",
    "The following code cells are slightly modified as noted and run without a grumble, very impressive."
   ]
  },
  {
   "cell_type": "code",
   "execution_count": 3,
   "id": "7d44fae5-5069-49d8-8c68-5a14bf0bd282",
   "metadata": {},
   "outputs": [],
   "source": [
    "import torch\n",
    "import torchvision\n",
    "import torchvision.transforms as transforms"
   ]
  },
  {
   "cell_type": "code",
   "execution_count": 6,
   "id": "68334fbd-4e67-441e-a3d5-8725b202eb94",
   "metadata": {},
   "outputs": [
    {
     "name": "stdout",
     "output_type": "stream",
     "text": [
      "Files already downloaded and verified\n"
     ]
    }
   ],
   "source": [
    "transform = transforms.Compose([transforms.ToTensor(), transforms.Normalize((0.5, 0.5, 0.5), (0.5, 0.5, 0.5))])\n",
    "\n",
    "batch_size = 4\n",
    "\n",
    "trainset = torchvision.datasets.CIFAR10(root='~/cifar10', train=True, download=False, transform=transform)\n",
    "trainloader = torch.utils.data.DataLoader(trainset, batch_size=batch_size, shuffle=True, num_workers=2)\n",
    "testset = torchvision.datasets.CIFAR10(root='~/cifar10', train=False, download=True, transform=transform)\n",
    "testloader = torch.utils.data.DataLoader(testset, batch_size=batch_size, shuffle=False, num_workers=2)\n",
    "\n",
    "classes = ('plane', 'car', 'bird', 'cat', 'deer', 'dog', 'frog', 'horse', 'ship', 'truck')"
   ]
  },
  {
   "cell_type": "code",
   "execution_count": 12,
   "id": "a064be9d-33f3-4782-8ab8-7baa579807a5",
   "metadata": {},
   "outputs": [
    {
     "data": {
      "image/png": "[encoded data removed]",
      "text/plain": [
       "<Figure size 640x480 with 1 Axes>"
      ]
     },
     "metadata": {},
     "output_type": "display_data"
    },
    {
     "name": "stdout",
     "output_type": "stream",
     "text": [
      "deer  truck cat   bird \n"
     ]
    }
   ],
   "source": [
    "import matplotlib.pyplot as plt\n",
    "import numpy as np\n",
    "\n",
    "# functions to show an image\n",
    "\n",
    "\n",
    "def imshow(img):\n",
    "    img = img / 2 + 0.5     # unnormalize\n",
    "    npimg = img.numpy()\n",
    "    plt.imshow(np.transpose(npimg, (1, 2, 0)))\n",
    "    plt.show()\n",
    "\n",
    "\n",
    "# get some random training images\n",
    "dataiter = iter(trainloader)\n",
    "images, labels = next(dataiter)\n",
    "\n",
    "# show images\n",
    "imshow(torchvision.utils.make_grid(images))\n",
    "# print labels\n",
    "print(' '.join(f'{classes[labels[j]]:5s}' for j in range(batch_size)))"
   ]
  },
  {
   "cell_type": "code",
   "execution_count": 14,
   "id": "033ee234-9253-4541-8aa4-4c5db5f991b8",
   "metadata": {},
   "outputs": [],
   "source": [
    "import torch.nn as nn\n",
    "import torch.nn.functional as F\n",
    "\n",
    "\n",
    "class Net(nn.Module):\n",
    "    def __init__(self):\n",
    "        super().__init__()\n",
    "        self.conv1 = nn.Conv2d(3, 6, 5)\n",
    "        self.pool = nn.MaxPool2d(2, 2)\n",
    "        self.conv2 = nn.Conv2d(6, 16, 5)\n",
    "        self.fc1 = nn.Linear(16 * 5 * 5, 120)\n",
    "        self.fc2 = nn.Linear(120, 84)\n",
    "        self.fc3 = nn.Linear(84, 10)\n",
    "\n",
    "    def forward(self, x):\n",
    "        x = self.pool(F.relu(self.conv1(x)))\n",
    "        x = self.pool(F.relu(self.conv2(x)))\n",
    "        x = torch.flatten(x, 1) # flatten all dimensions except batch\n",
    "        x = F.relu(self.fc1(x))\n",
    "        x = F.relu(self.fc2(x))\n",
    "        x = self.fc3(x)\n",
    "        return x\n",
    "\n",
    "\n",
    "net = Net()"
   ]
  },
  {
   "cell_type": "code",
   "execution_count": 15,
   "id": "5cc73f31-7cec-42d5-84a8-8d66d6c649ed",
   "metadata": {},
   "outputs": [],
   "source": [
    "import torch.optim as optim\n",
    "\n",
    "criterion = nn.CrossEntropyLoss()\n",
    "optimizer = optim.SGD(net.parameters(), lr=0.001, momentum=0.9)"
   ]
  },
  {
   "cell_type": "code",
   "execution_count": 16,
   "id": "3b7a1f0f-18f8-4cb3-be87-d9fa17705f26",
   "metadata": {},
   "outputs": [
    {
     "name": "stdout",
     "output_type": "stream",
     "text": [
      "[1,  2000] loss: 2.216\n",
      "[1,  4000] loss: 1.891\n",
      "[1,  6000] loss: 1.694\n",
      "[1,  8000] loss: 1.582\n",
      "[1, 10000] loss: 1.506\n",
      "[1, 12000] loss: 1.488\n",
      "[2,  2000] loss: 1.414\n",
      "[2,  4000] loss: 1.381\n",
      "[2,  6000] loss: 1.369\n",
      "[2,  8000] loss: 1.343\n",
      "[2, 10000] loss: 1.311\n",
      "[2, 12000] loss: 1.302\n",
      "Finished Training\n"
     ]
    }
   ],
   "source": [
    "for epoch in range(2):  # loop over the dataset multiple times\n",
    "\n",
    "    running_loss = 0.0\n",
    "    for i, data in enumerate(trainloader, 0):\n",
    "        # get the inputs; data is a list of [inputs, labels]\n",
    "        inputs, labels = data\n",
    "\n",
    "        # zero the parameter gradients\n",
    "        optimizer.zero_grad()\n",
    "\n",
    "        # forward + backward + optimize\n",
    "        outputs = net(inputs)\n",
    "        loss = criterion(outputs, labels)\n",
    "        loss.backward()\n",
    "        optimizer.step()\n",
    "\n",
    "        # print statistics\n",
    "        running_loss += loss.item()\n",
    "        if i % 2000 == 1999:    # print every 2000 mini-batches\n",
    "            print(f'[{epoch + 1}, {i + 1:5d}] loss: {running_loss / 2000:.3f}')\n",
    "            running_loss = 0.0\n",
    "\n",
    "print('Finished Training')"
   ]
  },
  {
   "cell_type": "code",
   "execution_count": 17,
   "id": "eeb58e42-72c9-4153-9bec-7cdba8b046cb",
   "metadata": {},
   "outputs": [],
   "source": [
    "PATH = './cifar_net.pth'\n",
    "torch.save(net.state_dict(), PATH)"
   ]
  },
  {
   "cell_type": "markdown",
   "id": "e3c2e3d7-ad1c-4d85-ac8e-8f580ef65c36",
   "metadata": {},
   "source": [
    "This creates a 251kb results file `cifar_net.pth`."
   ]
  },
  {
   "cell_type": "code",
   "execution_count": 18,
   "id": "6c4abc1c-a831-4d42-b71c-79241b73c07b",
   "metadata": {},
   "outputs": [
    {
     "data": {
      "image/png": "[encoded data removed]",
      "text/plain": [
       "<Figure size 640x480 with 1 Axes>"
      ]
     },
     "metadata": {},
     "output_type": "display_data"
    },
    {
     "name": "stdout",
     "output_type": "stream",
     "text": [
      "GroundTruth:  cat   ship  ship  plane\n"
     ]
    }
   ],
   "source": [
    "dataiter = iter(testloader)\n",
    "images, labels = next(dataiter)\n",
    "\n",
    "# print images\n",
    "imshow(torchvision.utils.make_grid(images))\n",
    "print('GroundTruth: ', ' '.join(f'{classes[labels[j]]:5s}' for j in range(4)))"
   ]
  },
  {
   "cell_type": "code",
   "execution_count": 19,
   "id": "8b8340e1-1585-49b3-a098-d6760e6cc0f5",
   "metadata": {},
   "outputs": [
    {
     "data": {
      "text/plain": [
       "<All keys matched successfully>"
      ]
     },
     "execution_count": 19,
     "metadata": {},
     "output_type": "execute_result"
    }
   ],
   "source": [
    "net = Net()\n",
    "net.load_state_dict(torch.load(PATH, weights_only=True))"
   ]
  },
  {
   "cell_type": "code",
   "execution_count": 20,
   "id": "c2bbcbfe-d9e1-4725-8a62-22ed234ead85",
   "metadata": {},
   "outputs": [],
   "source": [
    "outputs = net(images)"
   ]
  },
  {
   "cell_type": "code",
   "execution_count": 21,
   "id": "eb00d2c2-c227-47a2-92ea-bf97b005432d",
   "metadata": {},
   "outputs": [
    {
     "name": "stdout",
     "output_type": "stream",
     "text": [
      "Predicted:  cat   car   car   plane\n"
     ]
    }
   ],
   "source": [
    "_, predicted = torch.max(outputs, 1)\n",
    "\n",
    "print('Predicted: ', ' '.join(f'{classes[predicted[j]]:5s}'\n",
    "                              for j in range(4)))"
   ]
  },
  {
   "cell_type": "code",
   "execution_count": 22,
   "id": "1c36a55f-23bd-49d4-8277-c157d776c6e9",
   "metadata": {},
   "outputs": [
    {
     "name": "stdout",
     "output_type": "stream",
     "text": [
      "Accuracy of the network on the 10000 test images: 55 %\n"
     ]
    }
   ],
   "source": [
    "correct = 0\n",
    "total = 0\n",
    "# since we're not training, we don't need to calculate the gradients for our outputs\n",
    "with torch.no_grad():\n",
    "    for data in testloader:\n",
    "        images, labels = data\n",
    "        # calculate outputs by running images through the network\n",
    "        outputs = net(images)\n",
    "        # the class with the highest energy is what we choose as prediction\n",
    "        _, predicted = torch.max(outputs.data, 1)\n",
    "        total += labels.size(0)\n",
    "        correct += (predicted == labels).sum().item()\n",
    "\n",
    "print(f'Accuracy of the network on the 10000 test images: {100 * correct // total} %')"
   ]
  },
  {
   "cell_type": "code",
   "execution_count": 23,
   "id": "2d3ee650-605f-43ba-88be-55a1fe586792",
   "metadata": {},
   "outputs": [
    {
     "name": "stdout",
     "output_type": "stream",
     "text": [
      "Accuracy for class: plane is 55.8 %\n",
      "Accuracy for class: car   is 66.0 %\n",
      "Accuracy for class: bird  is 35.8 %\n",
      "Accuracy for class: cat   is 37.7 %\n",
      "Accuracy for class: deer  is 50.3 %\n",
      "Accuracy for class: dog   is 56.4 %\n",
      "Accuracy for class: frog  is 47.6 %\n",
      "Accuracy for class: horse is 68.2 %\n",
      "Accuracy for class: ship  is 64.3 %\n",
      "Accuracy for class: truck is 70.9 %\n"
     ]
    }
   ],
   "source": [
    "# prepare to count predictions for each class\n",
    "correct_pred = {classname: 0 for classname in classes}\n",
    "total_pred = {classname: 0 for classname in classes}\n",
    "\n",
    "# again no gradients needed\n",
    "with torch.no_grad():\n",
    "    for data in testloader:\n",
    "        images, labels = data\n",
    "        outputs = net(images)\n",
    "        _, predictions = torch.max(outputs, 1)\n",
    "        # collect the correct predictions for each class\n",
    "        for label, prediction in zip(labels, predictions):\n",
    "            if label == prediction:\n",
    "                correct_pred[classes[label]] += 1\n",
    "            total_pred[classes[label]] += 1\n",
    "\n",
    "\n",
    "# print accuracy for each class\n",
    "for classname, correct_count in correct_pred.items():\n",
    "    accuracy = 100 * float(correct_count) / total_pred[classname]\n",
    "    print(f'Accuracy for class: {classname:5s} is {accuracy:.1f} %')"
   ]
  },
  {
   "cell_type": "code",
   "execution_count": 24,
   "id": "895aa085-3b4b-4dde-b494-1566a182b719",
   "metadata": {},
   "outputs": [
    {
     "name": "stdout",
     "output_type": "stream",
     "text": [
      "cpu\n"
     ]
    }
   ],
   "source": [
    "device = torch.device('cuda:0' if torch.cuda.is_available() else 'cpu')\n",
    "\n",
    "# Assuming that we are on a CUDA machine, this should print a CUDA device:\n",
    "\n",
    "print(device)"
   ]
  },
  {
   "cell_type": "code",
   "execution_count": 25,
   "id": "dcdeed80-ceb2-48bd-a73f-e60471860a99",
   "metadata": {},
   "outputs": [
    {
     "data": {
      "text/plain": [
       "Net(\n",
       "  (conv1): Conv2d(3, 6, kernel_size=(5, 5), stride=(1, 1))\n",
       "  (pool): MaxPool2d(kernel_size=2, stride=2, padding=0, dilation=1, ceil_mode=False)\n",
       "  (conv2): Conv2d(6, 16, kernel_size=(5, 5), stride=(1, 1))\n",
       "  (fc1): Linear(in_features=400, out_features=120, bias=True)\n",
       "  (fc2): Linear(in_features=120, out_features=84, bias=True)\n",
       "  (fc3): Linear(in_features=84, out_features=10, bias=True)\n",
       ")"
      ]
     },
     "execution_count": 25,
     "metadata": {},
     "output_type": "execute_result"
    }
   ],
   "source": [
    "net.to(device)"
   ]
  },
  {
   "cell_type": "code",
   "execution_count": 26,
   "id": "c3f18c84-5713-4145-a4ab-236060311774",
   "metadata": {},
   "outputs": [],
   "source": [
    "inputs, labels = data[0].to(device), data[1].to(device)"
   ]
  },
  {
   "cell_type": "markdown",
   "id": "344ede56-18a4-4da0-a1cf-4a230913fc37",
   "metadata": {},
   "source": [
    "To do some clean-up: `del dataiter`"
   ]
  },
  {
   "cell_type": "code",
   "execution_count": 27,
   "id": "5ce7734e-f97b-4b85-94cb-e45edf01e040",
   "metadata": {},
   "outputs": [],
   "source": [
    "del dataiter"
   ]
  },
  {
   "cell_type": "code",
   "execution_count": null,
   "id": "31da6977-ce56-4352-b414-51f5d2bdda55",
   "metadata": {},
   "outputs": [],
   "source": []
  },
  {
   "cell_type": "code",
   "execution_count": null,
   "id": "39de8dfd-d802-424c-99a5-b6eb9bd9a026",
   "metadata": {},
   "outputs": [],
   "source": []
  },
  {
   "cell_type": "code",
   "execution_count": null,
   "id": "5118ca4e-1fe3-440d-bcec-228dfd021f75",
   "metadata": {},
   "outputs": [],
   "source": []
  }
 ],
 "metadata": {
  "kernelspec": {
   "display_name": "Python 3 (ipykernel)",
   "language": "python",
   "name": "python3"
  },
  "language_info": {
   "codemirror_mode": {
    "name": "ipython",
    "version": 3
   },
   "file_extension": ".py",
   "mimetype": "text/x-python",
   "name": "python",
   "nbconvert_exporter": "python",
   "pygments_lexer": "ipython3",
   "version": "3.12.3"
  }
 },
 "nbformat": 4,
 "nbformat_minor": 5
}
