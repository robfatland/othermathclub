{
 "cells": [
  {
   "cell_type": "markdown",
   "id": "af81ff0a-6934-4914-9d00-4b7ccea22544",
   "metadata": {},
   "source": [
    "### Matrices\n",
    "\n",
    "\n",
    "$\n",
    "A=\\left[{\\begin{array}{cc}\n",
    "   a & b \\\\\n",
    "   c & d \\\\\n",
    "  \\end{array}}\\right]\n",
    "\\; \\; \\; $\n",
    "has an inverse\n",
    "$\\; \\; \\; A^{-1} = \\frac{1}{det A} \\cdot \\left[{\\begin{array}{cc}\n",
    "   d & -b \\\\\n",
    "   -c & a \\\\\n",
    "  \\end{array} }\\right]$. \n",
    "  \n",
    "  \n",
    "  Writing $x$ and $y$ as a column vector\n",
    "$\\tilde{v}=\\left[{\\begin{array}{c}x\\\\y\\end{array}}\\right]$\n",
    "and the result of the transform as\n",
    "$\\tilde{k}=\\left[{\\begin{array}{c}m\\\\n\\end{array}}\\right]$\n",
    "we have $A \\tilde{v} = \\tilde{k}$ and $\\tilde{v}=A^{-1}\\tilde{k}$."
   ]
  }
 ],
 "metadata": {
  "kernelspec": {
   "display_name": "Python 3 (ipykernel)",
   "language": "python",
   "name": "python3"
  },
  "language_info": {
   "codemirror_mode": {
    "name": "ipython",
    "version": 3
   },
   "file_extension": ".py",
   "mimetype": "text/x-python",
   "name": "python",
   "nbconvert_exporter": "python",
   "pygments_lexer": "ipython3",
   "version": "3.8.5"
  }
 },
 "nbformat": 4,
 "nbformat_minor": 5
}
